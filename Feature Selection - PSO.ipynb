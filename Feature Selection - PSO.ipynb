{
 "cells": [
  {
   "cell_type": "code",
   "execution_count": 1,
   "metadata": {},
   "outputs": [],
   "source": [
    "import pandas as pd \n",
    "import numpy as np\n",
    "import pickle \n",
    "from sklearn.linear_model import LinearRegression\n",
    "from sklearn.model_selection import train_test_split\n",
    "from sklearn.metrics import mean_squared_error\n",
    "import random"
   ]
  },
  {
   "cell_type": "code",
   "execution_count": 2,
   "metadata": {},
   "outputs": [],
   "source": [
    "# Load Data Train csv\n",
    "X_train = pd.read_csv(r'data_TA/train.csv')\n",
    "n_descriptor = 6 #kombinasi terbaik"
   ]
  },
  {
   "cell_type": "code",
   "execution_count": 3,
   "metadata": {},
   "outputs": [],
   "source": [
    "# Load Pickle \n",
    "label = pickle.load(open(\"data_TA/Label.p\", \"rb\"))\n",
    "X_train = X_train[label]"
   ]
  },
  {
   "cell_type": "code",
   "execution_count": 4,
   "metadata": {},
   "outputs": [],
   "source": [
    "X_train.head()\n",
    "train, val = train_test_split(X_train, test_size = 0.2, random_state = 10)"
   ]
  },
  {
   "cell_type": "code",
   "execution_count": 5,
   "metadata": {},
   "outputs": [],
   "source": [
    "X_train = train.iloc[:,:-1]\n",
    "X_val = val.iloc[:,:-1]\n",
    "y_train = train.iloc[:, [-1]]\n",
    "y_val = val.iloc[:,[-1]]"
   ]
  },
  {
   "cell_type": "code",
   "execution_count": 6,
   "metadata": {},
   "outputs": [
    {
     "data": {
      "text/plain": [
       "[13, 17, 23, 36, 38, 39]"
      ]
     },
     "execution_count": 6,
     "metadata": {},
     "output_type": "execute_result"
    }
   ],
   "source": [
    "list_index = np.random.choice(X_train.shape[1], n_descriptor, replace=False)\n",
    "list_index = list(list_index)\n",
    "list_index.sort()\n",
    "list_index"
   ]
  },
  {
   "cell_type": "code",
   "execution_count": 7,
   "metadata": {},
   "outputs": [],
   "source": [
    "X_train_slice = X_train.iloc[:,list_index]\n",
    "X_val_slice = X_val.iloc[:,list_index]"
   ]
  },
  {
   "cell_type": "code",
   "execution_count": 8,
   "metadata": {},
   "outputs": [
    {
     "data": {
      "text/plain": [
       "LinearRegression(copy_X=True, fit_intercept=True, n_jobs=None, normalize=False)"
      ]
     },
     "execution_count": 8,
     "metadata": {},
     "output_type": "execute_result"
    }
   ],
   "source": [
    "model = LinearRegression()\n",
    "model.fit(X_train_slice, y_train)"
   ]
  },
  {
   "cell_type": "code",
   "execution_count": 9,
   "metadata": {},
   "outputs": [
    {
     "data": {
      "text/plain": [
       "0.019761268147580075"
      ]
     },
     "execution_count": 9,
     "metadata": {},
     "output_type": "execute_result"
    }
   ],
   "source": [
    "y_pred = model.predict(X_val_slice)\n",
    "mse = mean_squared_error(y_val, y_pred)\n",
    "mse"
   ]
  },
  {
   "cell_type": "code",
   "execution_count": 12,
   "metadata": {},
   "outputs": [
    {
     "data": {
      "text/plain": [
       "[[27.231492535812187,\n",
       "  6.878689098294444,\n",
       "  69.64524930193325,\n",
       "  84.67251184602036,\n",
       "  48.355247594235976,\n",
       "  41.02886935865931],\n",
       " [33.4700876686439,\n",
       "  32.0300545291492,\n",
       "  47.08842559961964,\n",
       "  64.74870452931543,\n",
       "  63.614471578709086,\n",
       "  14.744525772790663],\n",
       " [92.14189558855611,\n",
       "  2.0276029347370383,\n",
       "  75.28631382103485,\n",
       "  66.9843623999315,\n",
       "  31.131147216916066,\n",
       "  65.9758318579014],\n",
       " [14.534855297079375,\n",
       "  42.65708997821493,\n",
       "  72.857355236966,\n",
       "  73.27711917867357,\n",
       "  57.9245926858008,\n",
       "  93.09958163586995],\n",
       " [9.482757971368738,\n",
       "  32.94267867447621,\n",
       "  42.04638074546496,\n",
       "  12.05360855683384,\n",
       "  49.18990738957475,\n",
       "  19.05727401530164],\n",
       " [31.85662201059629,\n",
       "  25.21826719431235,\n",
       "  56.32802870958123,\n",
       "  28.35692132347434,\n",
       "  53.11665869800501,\n",
       "  5.538166304577952],\n",
       " [20.1442919230143,\n",
       "  34.34589845892315,\n",
       "  73.37625302008126,\n",
       "  83.2232438582475,\n",
       "  90.35745563013926,\n",
       "  58.45668898114835],\n",
       " [68.49487861907069,\n",
       "  8.232250964402187,\n",
       "  84.96748488080725,\n",
       "  32.16112985194683,\n",
       "  17.96253421289532,\n",
       "  4.618056023741635],\n",
       " [34.35278537946272,\n",
       "  47.60332818577396,\n",
       "  87.25229000593711,\n",
       "  75.10329897321378,\n",
       "  78.22240347831686,\n",
       "  27.158066166529547],\n",
       " [99.45598288826557,\n",
       "  9.874837901368815,\n",
       "  50.37445272030949,\n",
       "  96.14597473195114,\n",
       "  24.505907451789454,\n",
       "  5.447607693987855]]"
      ]
     },
     "execution_count": 12,
     "metadata": {},
     "output_type": "execute_result"
    }
   ],
   "source": [
    "#initialization\n",
    "population = 10\n",
    "n_feature = 6\n",
    "list_population = list()\n",
    "v = list()\n",
    "\n",
    "for i in range(0,population):\n",
    "    list_feature = list()\n",
    "    list_v = list()\n",
    "    for i in range(0,n_feature):\n",
    "        list_feature.append(random.uniform(0,100))\n",
    "        list_v.append(0)\n",
    "    v.append(list_v)\n",
    "    list_population.append(list_feature)\n",
    "    del list_v\n",
    "    del list_feature\n",
    "    \n",
    "list_population"
   ]
  },
  {
   "cell_type": "code",
   "execution_count": 14,
   "metadata": {},
   "outputs": [
    {
     "data": {
      "text/plain": [
       "[[0, 0, 0, 0, 0, 0],\n",
       " [0, 0, 0, 0, 0, 0],\n",
       " [0, 0, 0, 0, 0, 0],\n",
       " [0, 0, 0, 0, 0, 0],\n",
       " [0, 0, 0, 0, 0, 0],\n",
       " [0, 0, 0, 0, 0, 0],\n",
       " [0, 0, 0, 0, 0, 0],\n",
       " [0, 0, 0, 0, 0, 0],\n",
       " [0, 0, 0, 0, 0, 0],\n",
       " [0, 0, 0, 0, 0, 0]]"
      ]
     },
     "execution_count": 14,
     "metadata": {},
     "output_type": "execute_result"
    }
   ],
   "source": [
    "mseewe = list()\n",
    "for i in range(0,len(list_population)):\n",
    "    mseewe.append(mean_squared_error(y_val, list_population[i]))\n",
    "\n",
    "p_best = mseewe\n",
    "g_best = min(p_best)\n",
    "v"
   ]
  },
  {
   "cell_type": "code",
   "execution_count": null,
   "metadata": {},
   "outputs": [],
   "source": [
    "for i in range()"
   ]
  }
 ],
 "metadata": {
  "kernelspec": {
   "display_name": "Python 3",
   "language": "python",
   "name": "python3"
  },
  "language_info": {
   "codemirror_mode": {
    "name": "ipython",
    "version": 3
   },
   "file_extension": ".py",
   "mimetype": "text/x-python",
   "name": "python",
   "nbconvert_exporter": "python",
   "pygments_lexer": "ipython3",
   "version": "3.7.4"
  }
 },
 "nbformat": 4,
 "nbformat_minor": 2
}
