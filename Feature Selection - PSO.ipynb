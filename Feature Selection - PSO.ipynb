{
 "cells": [
  {
   "cell_type": "code",
   "execution_count": 32,
   "metadata": {},
   "outputs": [],
   "source": [
    "import pandas as pd \n",
    "import numpy as np\n",
    "import pickle \n",
    "from sklearn.linear_model import LinearRegression\n",
    "from sklearn.model_selection import train_test_split\n",
    "from sklearn.metrics import mean_squared_error\n",
    "import random"
   ]
  },
  {
   "cell_type": "code",
   "execution_count": 33,
   "metadata": {},
   "outputs": [],
   "source": [
    "# Load Data Train csv\n",
    "X_train = pd.read_csv(r'data_TA/train.csv')\n",
    "n_descriptor = 6 #kombinasi terbaik"
   ]
  },
  {
   "cell_type": "code",
   "execution_count": 34,
   "metadata": {},
   "outputs": [],
   "source": [
    "# Load Pickle \n",
    "label = pickle.load(open(\"data_TA/Label.p\", \"rb\"))\n",
    "X_train = X_train[label]"
   ]
  },
  {
   "cell_type": "code",
   "execution_count": 35,
   "metadata": {},
   "outputs": [],
   "source": [
    "X_train.head()\n",
    "train, val = train_test_split(X_train, test_size = 0.2, random_state = 10)"
   ]
  },
  {
   "cell_type": "code",
   "execution_count": 36,
   "metadata": {},
   "outputs": [],
   "source": [
    "X_train = train.iloc[:,:-1]\n",
    "X_val = val.iloc[:,:-1]\n",
    "y_train = train.iloc[:, [-1]]\n",
    "y_val = val.iloc[:,[-1]]"
   ]
  },
  {
   "cell_type": "code",
   "execution_count": 37,
   "metadata": {},
   "outputs": [
    {
     "data": {
      "text/plain": [
       "[14, 16, 27, 44, 79, 95]"
      ]
     },
     "execution_count": 37,
     "metadata": {},
     "output_type": "execute_result"
    }
   ],
   "source": [
    "list_index = np.random.choice(X_train.shape[1], n_descriptor, replace=False)\n",
    "list_index = list(list_index)\n",
    "list_index.sort()\n",
    "list_index"
   ]
  },
  {
   "cell_type": "code",
   "execution_count": 38,
   "metadata": {},
   "outputs": [],
   "source": [
    "X_train_slice = X_train.iloc[:,list_index]\n",
    "X_val_slice = X_val.iloc[:,list_index]"
   ]
  },
  {
   "cell_type": "code",
   "execution_count": 39,
   "metadata": {},
   "outputs": [
    {
     "data": {
      "text/plain": [
       "LinearRegression(copy_X=True, fit_intercept=True, n_jobs=None, normalize=False)"
      ]
     },
     "execution_count": 39,
     "metadata": {},
     "output_type": "execute_result"
    }
   ],
   "source": [
    "model = LinearRegression()\n",
    "model.fit(X_train_slice, y_train)"
   ]
  },
  {
   "cell_type": "code",
   "execution_count": 40,
   "metadata": {},
   "outputs": [
    {
     "data": {
      "text/plain": [
       "0.017573751325667786"
      ]
     },
     "execution_count": 40,
     "metadata": {},
     "output_type": "execute_result"
    }
   ],
   "source": [
    "y_pred = model.predict(X_val_slice)\n",
    "mse = mean_squared_error(y_val, y_pred)\n",
    "mse"
   ]
  },
  {
   "cell_type": "code",
   "execution_count": 55,
   "metadata": {},
   "outputs": [
    {
     "data": {
      "text/plain": [
       "[[65.26387818343579,\n",
       "  2.167678867095124,\n",
       "  97.33580039718956,\n",
       "  54.96086698148832,\n",
       "  60.35228014975236,\n",
       "  3.1885248070751326],\n",
       " [86.67070943265249,\n",
       "  57.843306276852616,\n",
       "  55.80646394619054,\n",
       "  88.64899168343577,\n",
       "  32.56032984659214,\n",
       "  77.33754908686825],\n",
       " [36.613176220670326,\n",
       "  98.47370301486036,\n",
       "  54.08074976753148,\n",
       "  93.23737541810509,\n",
       "  88.64765317000698,\n",
       "  28.247230266033107],\n",
       " [54.187076527563974,\n",
       "  46.036829208019604,\n",
       "  31.10328806276038,\n",
       "  98.6726592883472,\n",
       "  67.43305899386472,\n",
       "  47.1889686100592],\n",
       " [58.591744707166924,\n",
       "  23.626824989770046,\n",
       "  54.15268515609273,\n",
       "  78.34767314390952,\n",
       "  1.593383747233934,\n",
       "  43.53800066047998],\n",
       " [95.05091464755532,\n",
       "  29.489573054872942,\n",
       "  76.06363015693321,\n",
       "  43.82350410189735,\n",
       "  94.64091199527545,\n",
       "  18.106303305234782],\n",
       " [19.117176356807153,\n",
       "  16.222873494767597,\n",
       "  40.676938030778466,\n",
       "  1.9681616486398656,\n",
       "  11.830634081443293,\n",
       "  62.13570343146109],\n",
       " [40.13610638608761,\n",
       "  5.188027349362256,\n",
       "  98.23030206874557,\n",
       "  27.802722813998628,\n",
       "  40.569147365931435,\n",
       "  24.25823036534631],\n",
       " [6.271522356140702,\n",
       "  66.10916343137121,\n",
       "  76.34405537411602,\n",
       "  72.14922462772152,\n",
       "  64.37267502620074,\n",
       "  37.7400379543484],\n",
       " [59.95853183109795,\n",
       "  50.49550917176805,\n",
       "  86.26385801891391,\n",
       "  13.782249137482061,\n",
       "  14.517557037824558,\n",
       "  58.27123228814012]]"
      ]
     },
     "execution_count": 55,
     "metadata": {},
     "output_type": "execute_result"
    }
   ],
   "source": [
    "#initialization\n",
    "population = 10\n",
    "n_feature = 6\n",
    "list_population = list()\n",
    "\n",
    "for i in range(0,population):\n",
    "    list_feature = list()\n",
    "    for i in range(0,n_feature):\n",
    "       list_feature.append(random.uniform(0,100))\n",
    "    list_population.append(list_feature)\n",
    "    del list_feature\n",
    "    \n",
    "list_population"
   ]
  },
  {
   "cell_type": "code",
   "execution_count": 56,
   "metadata": {},
   "outputs": [
    {
     "ename": "TypeError",
     "evalue": "'builtin_function_or_method' object is not subscriptable",
     "output_type": "error",
     "traceback": [
      "\u001b[1;31m---------------------------------------------------------------------------\u001b[0m",
      "\u001b[1;31mTypeError\u001b[0m                                 Traceback (most recent call last)",
      "\u001b[1;32m<ipython-input-56-76fc28cdd1ae>\u001b[0m in \u001b[0;36m<module>\u001b[1;34m\u001b[0m\n\u001b[0;32m      1\u001b[0m \u001b[0mmse\u001b[0m \u001b[1;33m=\u001b[0m \u001b[0mlist_population\u001b[0m\u001b[1;33m\u001b[0m\u001b[1;33m\u001b[0m\u001b[0m\n\u001b[0;32m      2\u001b[0m \u001b[0mp_best\u001b[0m \u001b[1;33m=\u001b[0m \u001b[0mmse\u001b[0m\u001b[1;33m\u001b[0m\u001b[1;33m\u001b[0m\u001b[0m\n\u001b[1;32m----> 3\u001b[1;33m \u001b[0mg_best\u001b[0m \u001b[1;33m=\u001b[0m \u001b[0mmin\u001b[0m\u001b[1;33m[\u001b[0m\u001b[0mp_best\u001b[0m\u001b[1;33m]\u001b[0m\u001b[1;33m\u001b[0m\u001b[1;33m\u001b[0m\u001b[0m\n\u001b[0m",
      "\u001b[1;31mTypeError\u001b[0m: 'builtin_function_or_method' object is not subscriptable"
     ]
    }
   ],
   "source": [
    "mse = list_population\n",
    "p_best = mse\n",
    "g_best = min[]"
   ]
  }
 ],
 "metadata": {
  "kernelspec": {
   "display_name": "Python 3",
   "language": "python",
   "name": "python3"
  },
  "language_info": {
   "codemirror_mode": {
    "name": "ipython",
    "version": 3
   },
   "file_extension": ".py",
   "mimetype": "text/x-python",
   "name": "python",
   "nbconvert_exporter": "python",
   "pygments_lexer": "ipython3",
   "version": "3.7.4"
  }
 },
 "nbformat": 4,
 "nbformat_minor": 2
}
