{
 "cells": [
  {
   "cell_type": "code",
   "execution_count": 339,
   "metadata": {},
   "outputs": [],
   "source": [
    "import pandas as pd \n",
    "import numpy as np\n",
    "import pickle \n",
    "from sklearn.linear_model import LinearRegression\n",
    "from sklearn.model_selection import train_test_split\n",
    "from sklearn.metrics import mean_squared_error\n",
    "import random"
   ]
  },
  {
   "cell_type": "code",
   "execution_count": 340,
   "metadata": {},
   "outputs": [],
   "source": [
    "# Load Data Train csv\n",
    "X_train = pd.read_csv(r'data_TA/train.csv')\n",
    "n_descriptor = 6 #kombinasi terbaik"
   ]
  },
  {
   "cell_type": "code",
   "execution_count": 341,
   "metadata": {},
   "outputs": [],
   "source": [
    "# Load Pickle \n",
    "label = pickle.load(open(\"data_TA/Label.p\", \"rb\"))\n",
    "X_train = X_train[label]"
   ]
  },
  {
   "cell_type": "code",
   "execution_count": 342,
   "metadata": {},
   "outputs": [
    {
     "data": {
      "text/html": [
       "<div>\n",
       "<style scoped>\n",
       "    .dataframe tbody tr th:only-of-type {\n",
       "        vertical-align: middle;\n",
       "    }\n",
       "\n",
       "    .dataframe tbody tr th {\n",
       "        vertical-align: top;\n",
       "    }\n",
       "\n",
       "    .dataframe thead th {\n",
       "        text-align: right;\n",
       "    }\n",
       "</style>\n",
       "<table border=\"1\" class=\"dataframe\">\n",
       "  <thead>\n",
       "    <tr style=\"text-align: right;\">\n",
       "      <th></th>\n",
       "      <th>BCUTw-1l</th>\n",
       "      <th>PPSA-1</th>\n",
       "      <th>DPSA-1</th>\n",
       "      <th>FNSA-3</th>\n",
       "      <th>Wnu1.unity</th>\n",
       "      <th>ATSc2</th>\n",
       "      <th>C3SP2</th>\n",
       "      <th>C2SP3</th>\n",
       "      <th>nAtomP</th>\n",
       "      <th>LOBMIN</th>\n",
       "      <th>...</th>\n",
       "      <th>RDF30s</th>\n",
       "      <th>RDF55s</th>\n",
       "      <th>E2m</th>\n",
       "      <th>E3m</th>\n",
       "      <th>Dm</th>\n",
       "      <th>E2v</th>\n",
       "      <th>E3e</th>\n",
       "      <th>E1i</th>\n",
       "      <th>E2s</th>\n",
       "      <th>Ds</th>\n",
       "    </tr>\n",
       "  </thead>\n",
       "  <tbody>\n",
       "    <tr>\n",
       "      <th>0</th>\n",
       "      <td>11.890000</td>\n",
       "      <td>643.791922</td>\n",
       "      <td>301.719818</td>\n",
       "      <td>-0.063670</td>\n",
       "      <td>0.062266</td>\n",
       "      <td>-0.398364</td>\n",
       "      <td>1</td>\n",
       "      <td>6</td>\n",
       "      <td>10</td>\n",
       "      <td>1.585312</td>\n",
       "      <td>...</td>\n",
       "      <td>34.456394</td>\n",
       "      <td>52.466500</td>\n",
       "      <td>0.473393</td>\n",
       "      <td>0.132460</td>\n",
       "      <td>1.120826</td>\n",
       "      <td>0.380684</td>\n",
       "      <td>0.347266</td>\n",
       "      <td>0.660599</td>\n",
       "      <td>0.396740</td>\n",
       "      <td>1.387634</td>\n",
       "    </tr>\n",
       "    <tr>\n",
       "      <th>1</th>\n",
       "      <td>11.850000</td>\n",
       "      <td>510.472089</td>\n",
       "      <td>205.112228</td>\n",
       "      <td>-0.082128</td>\n",
       "      <td>0.069926</td>\n",
       "      <td>-0.363981</td>\n",
       "      <td>2</td>\n",
       "      <td>3</td>\n",
       "      <td>12</td>\n",
       "      <td>2.489848</td>\n",
       "      <td>...</td>\n",
       "      <td>26.424820</td>\n",
       "      <td>48.587312</td>\n",
       "      <td>0.503970</td>\n",
       "      <td>0.188323</td>\n",
       "      <td>1.400413</td>\n",
       "      <td>0.462005</td>\n",
       "      <td>0.469026</td>\n",
       "      <td>0.598154</td>\n",
       "      <td>0.550971</td>\n",
       "      <td>1.640487</td>\n",
       "    </tr>\n",
       "    <tr>\n",
       "      <th>2</th>\n",
       "      <td>11.952907</td>\n",
       "      <td>472.684325</td>\n",
       "      <td>140.164455</td>\n",
       "      <td>-0.082241</td>\n",
       "      <td>0.076085</td>\n",
       "      <td>-0.253156</td>\n",
       "      <td>2</td>\n",
       "      <td>6</td>\n",
       "      <td>9</td>\n",
       "      <td>1.980182</td>\n",
       "      <td>...</td>\n",
       "      <td>19.495309</td>\n",
       "      <td>42.249355</td>\n",
       "      <td>0.280397</td>\n",
       "      <td>0.342064</td>\n",
       "      <td>1.263871</td>\n",
       "      <td>0.289770</td>\n",
       "      <td>0.476044</td>\n",
       "      <td>0.506754</td>\n",
       "      <td>0.438612</td>\n",
       "      <td>1.444453</td>\n",
       "    </tr>\n",
       "    <tr>\n",
       "      <th>3</th>\n",
       "      <td>11.850000</td>\n",
       "      <td>471.553057</td>\n",
       "      <td>208.972002</td>\n",
       "      <td>-0.067373</td>\n",
       "      <td>0.091300</td>\n",
       "      <td>-0.300425</td>\n",
       "      <td>1</td>\n",
       "      <td>4</td>\n",
       "      <td>10</td>\n",
       "      <td>1.420491</td>\n",
       "      <td>...</td>\n",
       "      <td>36.954653</td>\n",
       "      <td>50.750483</td>\n",
       "      <td>0.474428</td>\n",
       "      <td>0.182617</td>\n",
       "      <td>1.362322</td>\n",
       "      <td>0.491151</td>\n",
       "      <td>0.433207</td>\n",
       "      <td>0.579187</td>\n",
       "      <td>0.562255</td>\n",
       "      <td>1.598808</td>\n",
       "    </tr>\n",
       "    <tr>\n",
       "      <th>4</th>\n",
       "      <td>11.988405</td>\n",
       "      <td>429.104643</td>\n",
       "      <td>85.484405</td>\n",
       "      <td>-0.093212</td>\n",
       "      <td>0.059148</td>\n",
       "      <td>-0.276260</td>\n",
       "      <td>2</td>\n",
       "      <td>5</td>\n",
       "      <td>12</td>\n",
       "      <td>1.239638</td>\n",
       "      <td>...</td>\n",
       "      <td>28.450342</td>\n",
       "      <td>34.534826</td>\n",
       "      <td>0.576562</td>\n",
       "      <td>0.250018</td>\n",
       "      <td>1.330679</td>\n",
       "      <td>0.450662</td>\n",
       "      <td>0.422864</td>\n",
       "      <td>0.503079</td>\n",
       "      <td>0.501737</td>\n",
       "      <td>1.442745</td>\n",
       "    </tr>\n",
       "  </tbody>\n",
       "</table>\n",
       "<p>5 rows × 100 columns</p>\n",
       "</div>"
      ],
      "text/plain": [
       "    BCUTw-1l      PPSA-1      DPSA-1    FNSA-3  Wnu1.unity     ATSc2  C3SP2  \\\n",
       "0  11.890000  643.791922  301.719818 -0.063670    0.062266 -0.398364      1   \n",
       "1  11.850000  510.472089  205.112228 -0.082128    0.069926 -0.363981      2   \n",
       "2  11.952907  472.684325  140.164455 -0.082241    0.076085 -0.253156      2   \n",
       "3  11.850000  471.553057  208.972002 -0.067373    0.091300 -0.300425      1   \n",
       "4  11.988405  429.104643   85.484405 -0.093212    0.059148 -0.276260      2   \n",
       "\n",
       "   C2SP3  nAtomP    LOBMIN  ...     RDF30s     RDF55s       E2m       E3m  \\\n",
       "0      6      10  1.585312  ...  34.456394  52.466500  0.473393  0.132460   \n",
       "1      3      12  2.489848  ...  26.424820  48.587312  0.503970  0.188323   \n",
       "2      6       9  1.980182  ...  19.495309  42.249355  0.280397  0.342064   \n",
       "3      4      10  1.420491  ...  36.954653  50.750483  0.474428  0.182617   \n",
       "4      5      12  1.239638  ...  28.450342  34.534826  0.576562  0.250018   \n",
       "\n",
       "         Dm       E2v       E3e       E1i       E2s        Ds  \n",
       "0  1.120826  0.380684  0.347266  0.660599  0.396740  1.387634  \n",
       "1  1.400413  0.462005  0.469026  0.598154  0.550971  1.640487  \n",
       "2  1.263871  0.289770  0.476044  0.506754  0.438612  1.444453  \n",
       "3  1.362322  0.491151  0.433207  0.579187  0.562255  1.598808  \n",
       "4  1.330679  0.450662  0.422864  0.503079  0.501737  1.442745  \n",
       "\n",
       "[5 rows x 100 columns]"
      ]
     },
     "execution_count": 342,
     "metadata": {},
     "output_type": "execute_result"
    }
   ],
   "source": [
    "X_train.head()"
   ]
  },
  {
   "cell_type": "code",
   "execution_count": 343,
   "metadata": {},
   "outputs": [],
   "source": [
    "train, val = train_test_split(X_train, test_size = 0.2, random_state = 10)"
   ]
  },
  {
   "cell_type": "code",
   "execution_count": 344,
   "metadata": {},
   "outputs": [],
   "source": [
    "X_train = train.iloc[:,:-1]\n",
    "X_val = val.iloc[:,:-1]\n",
    "y_train = train.iloc[:, [-1]]\n",
    "y_val = val.iloc[:,[-1]]"
   ]
  },
  {
   "cell_type": "code",
   "execution_count": 345,
   "metadata": {},
   "outputs": [
    {
     "data": {
      "text/html": [
       "<div>\n",
       "<style scoped>\n",
       "    .dataframe tbody tr th:only-of-type {\n",
       "        vertical-align: middle;\n",
       "    }\n",
       "\n",
       "    .dataframe tbody tr th {\n",
       "        vertical-align: top;\n",
       "    }\n",
       "\n",
       "    .dataframe thead th {\n",
       "        text-align: right;\n",
       "    }\n",
       "</style>\n",
       "<table border=\"1\" class=\"dataframe\">\n",
       "  <thead>\n",
       "    <tr style=\"text-align: right;\">\n",
       "      <th></th>\n",
       "      <th>Ds</th>\n",
       "    </tr>\n",
       "  </thead>\n",
       "  <tbody>\n",
       "    <tr>\n",
       "      <th>7</th>\n",
       "      <td>1.723927</td>\n",
       "    </tr>\n",
       "    <tr>\n",
       "      <th>5</th>\n",
       "      <td>1.656430</td>\n",
       "    </tr>\n",
       "    <tr>\n",
       "      <th>18</th>\n",
       "      <td>1.345749</td>\n",
       "    </tr>\n",
       "    <tr>\n",
       "      <th>21</th>\n",
       "      <td>1.607029</td>\n",
       "    </tr>\n",
       "    <tr>\n",
       "      <th>11</th>\n",
       "      <td>1.453048</td>\n",
       "    </tr>\n",
       "    <tr>\n",
       "      <th>1</th>\n",
       "      <td>1.640487</td>\n",
       "    </tr>\n",
       "  </tbody>\n",
       "</table>\n",
       "</div>"
      ],
      "text/plain": [
       "          Ds\n",
       "7   1.723927\n",
       "5   1.656430\n",
       "18  1.345749\n",
       "21  1.607029\n",
       "11  1.453048\n",
       "1   1.640487"
      ]
     },
     "execution_count": 345,
     "metadata": {},
     "output_type": "execute_result"
    }
   ],
   "source": [
    "y_val"
   ]
  },
  {
   "cell_type": "code",
   "execution_count": 346,
   "metadata": {},
   "outputs": [],
   "source": [
    "#initialization\n",
    "c1 = 1.49 #acceleration coefficient\n",
    "c2 = 1.49 #acceleration coefficient\n",
    "w = 0.73 #inertia weight\n",
    "vel_limit = 0.6 #limit of velocity\n",
    "n_part = 20 #number of particle\n",
    "iter = 100 #number of iteration\n",
    "n_desc = 50 #total number of descriptor\n",
    "sel_desc = 6 #number of selected descriptor\n",
    "\n",
    "part = []\n",
    "pbest_part = []\n",
    "pbest_mse = []\n",
    "\n",
    "for i in range(n_desc):\n",
    "    pbestMse = np.inf\n",
    "    pbest_mse.append(pbestMse)\n",
    "#print(pbest_mse)\n",
    "gbest_mse = np.inf\n",
    "vel = []\n"
   ]
  },
  {
   "cell_type": "code",
   "execution_count": 347,
   "metadata": {},
   "outputs": [],
   "source": [
    "for i in range(n_part):\n",
    "    list_index = np.random.choice(X_train.shape[1], sel_desc, replace=False)\n",
    "    list_index = list(list_index)\n",
    "    list_index.sort()\n",
    "    list_index\n",
    "    part.append(list_index)"
   ]
  },
  {
   "cell_type": "code",
   "execution_count": 348,
   "metadata": {},
   "outputs": [
    {
     "data": {
      "text/plain": [
       "[[8, 14, 47, 60, 83, 87],\n",
       " [0, 1, 6, 33, 50, 68],\n",
       " [0, 3, 7, 29, 32, 49],\n",
       " [3, 22, 33, 43, 91, 93],\n",
       " [1, 34, 44, 63, 74, 80],\n",
       " [1, 28, 47, 67, 71, 91],\n",
       " [32, 43, 50, 75, 78, 79],\n",
       " [9, 30, 33, 63, 96, 98],\n",
       " [13, 17, 24, 43, 61, 94],\n",
       " [13, 25, 39, 40, 43, 97],\n",
       " [45, 58, 61, 64, 91, 97],\n",
       " [6, 10, 36, 52, 60, 79],\n",
       " [3, 20, 29, 56, 62, 79],\n",
       " [0, 4, 20, 31, 35, 38],\n",
       " [0, 26, 39, 41, 48, 56],\n",
       " [0, 3, 30, 32, 76, 97],\n",
       " [14, 22, 28, 58, 82, 97],\n",
       " [16, 46, 51, 54, 55, 83],\n",
       " [8, 20, 26, 42, 51, 83],\n",
       " [20, 41, 43, 58, 83, 87]]"
      ]
     },
     "execution_count": 348,
     "metadata": {},
     "output_type": "execute_result"
    }
   ],
   "source": [
    "part"
   ]
  },
  {
   "cell_type": "code",
   "execution_count": 349,
   "metadata": {},
   "outputs": [],
   "source": [
    "for i in range(n_part):\n",
    "    list_vel = list(np.zeros(sel_desc))\n",
    "    vel.append(list_vel)\n"
   ]
  },
  {
   "cell_type": "code",
   "execution_count": 350,
   "metadata": {},
   "outputs": [
    {
     "data": {
      "text/plain": [
       "[[0.0, 0.0, 0.0, 0.0, 0.0, 0.0],\n",
       " [0.0, 0.0, 0.0, 0.0, 0.0, 0.0],\n",
       " [0.0, 0.0, 0.0, 0.0, 0.0, 0.0],\n",
       " [0.0, 0.0, 0.0, 0.0, 0.0, 0.0],\n",
       " [0.0, 0.0, 0.0, 0.0, 0.0, 0.0],\n",
       " [0.0, 0.0, 0.0, 0.0, 0.0, 0.0],\n",
       " [0.0, 0.0, 0.0, 0.0, 0.0, 0.0],\n",
       " [0.0, 0.0, 0.0, 0.0, 0.0, 0.0],\n",
       " [0.0, 0.0, 0.0, 0.0, 0.0, 0.0],\n",
       " [0.0, 0.0, 0.0, 0.0, 0.0, 0.0],\n",
       " [0.0, 0.0, 0.0, 0.0, 0.0, 0.0],\n",
       " [0.0, 0.0, 0.0, 0.0, 0.0, 0.0],\n",
       " [0.0, 0.0, 0.0, 0.0, 0.0, 0.0],\n",
       " [0.0, 0.0, 0.0, 0.0, 0.0, 0.0],\n",
       " [0.0, 0.0, 0.0, 0.0, 0.0, 0.0],\n",
       " [0.0, 0.0, 0.0, 0.0, 0.0, 0.0],\n",
       " [0.0, 0.0, 0.0, 0.0, 0.0, 0.0],\n",
       " [0.0, 0.0, 0.0, 0.0, 0.0, 0.0],\n",
       " [0.0, 0.0, 0.0, 0.0, 0.0, 0.0],\n",
       " [0.0, 0.0, 0.0, 0.0, 0.0, 0.0]]"
      ]
     },
     "execution_count": 350,
     "metadata": {},
     "output_type": "execute_result"
    }
   ],
   "source": [
    "#part\n",
    "vel"
   ]
  },
  {
   "cell_type": "code",
   "execution_count": 351,
   "metadata": {},
   "outputs": [],
   "source": [
    "X_train_slice = X_train.iloc[:,list_index]\n",
    "X_val_slice = X_val.iloc[:,list_index]"
   ]
  },
  {
   "cell_type": "code",
   "execution_count": 352,
   "metadata": {},
   "outputs": [
    {
     "data": {
      "text/plain": [
       "LinearRegression(copy_X=True, fit_intercept=True, n_jobs=None, normalize=False)"
      ]
     },
     "execution_count": 352,
     "metadata": {},
     "output_type": "execute_result"
    }
   ],
   "source": [
    "model = LinearRegression()\n",
    "model.fit(X_train_slice, y_train)"
   ]
  },
  {
   "cell_type": "code",
   "execution_count": 353,
   "metadata": {},
   "outputs": [],
   "source": [
    "mse_list = list()\n",
    "for l in range(iter):\n",
    "    for j in range(n_part):\n",
    "        mse_value = mean_squared_error(y_val, part[j])\n",
    "        mse_list.append(mse_value)\n",
    "        pbest_mse = mse_list.copy()\n",
    "        pbest_part = part[j].copy()\n",
    "    gbest_part = min(pbest_mse)\n",
    "    for j in range(n_part):\n",
    "        for i in range(sel_desc):\n",
    "            vel[j][i] = w * vel[j][i] + c1 * random.uniform(0,100) * (pbest_part[i]-part[j][i])+c2 * random.uniform(0,100) * (gbest_part - part[j][i])\n",
    "            if vel[j][i] > vel_limit:\n",
    "                vel[j][i] = vel_limit\n",
    "            if vel[j][i] < -vel_limit:\n",
    "                vel[j][i] < -vel_limit\n",
    "            part[j][i] = round(part[j][i]+vel[j][i])"
   ]
  },
  {
   "cell_type": "code",
   "execution_count": 354,
   "metadata": {},
   "outputs": [
    {
     "data": {
      "text/plain": [
       "[[0.6, 0.6, 0.6, 0.6, 0.6, 0.6],\n",
       " [0.6, 0.6, 0.6, 0.6, 0.6, 0.6],\n",
       " [0.6, 0.6, 0.6, 0.6, 0.6, 0.6],\n",
       " [0.6, 0.6, 0.6, 0.6, 0.6, 0.6],\n",
       " [0.6, 0.6, 0.6, 0.6, 0.6, 0.6],\n",
       " [0.6, 0.6, 0.6, 0.6, 0.6, 0.6],\n",
       " [0.6, 0.6, 0.6, 0.6, 0.6, 0.6],\n",
       " [0.6, 0.6, 0.6, 0.6, 0.6, 0.6],\n",
       " [0.6, 0.6, 0.6, 0.6, 0.6, 0.6],\n",
       " [0.6, 0.6, 0.6, 0.6, 0.6, 0.6],\n",
       " [0.6, 0.6, 0.6, 0.6, 0.6, 0.6],\n",
       " [0.6, 0.6, 0.6, 0.6, 0.6, 0.6],\n",
       " [0.6, 0.6, 0.6, 0.6, 0.6, 0.6],\n",
       " [0.6, 0.6, 0.6, 0.6, 0.6, 0.6],\n",
       " [0.6, 0.6, 0.6, 0.6, 0.6, 0.6],\n",
       " [0.6, 0.6, 0.6, 0.6, 0.6, 0.6],\n",
       " [0.6, 0.6, 0.6, 0.6, 0.6, 0.6],\n",
       " [0.6, 0.6, 0.6, 0.6, 0.6, 0.6],\n",
       " [0.6, 0.6, 0.6, 0.6, 0.6, 0.6],\n",
       " [0.6, 0.6, 0.6, 0.6, 0.6, 0.6]]"
      ]
     },
     "execution_count": 354,
     "metadata": {},
     "output_type": "execute_result"
    }
   ],
   "source": [
    "vel"
   ]
  },
  {
   "cell_type": "code",
   "execution_count": 355,
   "metadata": {},
   "outputs": [
    {
     "data": {
      "text/plain": [
       "0.02304754044598875"
      ]
     },
     "execution_count": 355,
     "metadata": {},
     "output_type": "execute_result"
    }
   ],
   "source": [
    "y_pred = model.predict(X_val_slice)\n",
    "mse = mean_squared_error(y_val, y_pred)\n",
    "mse"
   ]
  },
  {
   "cell_type": "code",
   "execution_count": 356,
   "metadata": {},
   "outputs": [],
   "source": [
    "#initialization\n",
    "#population = 10\n",
    "#n_feature = 6\n",
    "#list_population = list()\n",
    "#v = list()\n",
    "\n",
    "#for i in range(0,population):\n",
    "#    list_feature = list()\n",
    "#    list_v = list()\n",
    "#    for i in range(0,n_feature):\n",
    "#        list_feature.append(random.uniform(0,100)) #random nol sampai 100\n",
    "#        list_v.append(0)\n",
    "#    v.append(list_v)\n",
    "#    list_population.append(list_feature)\n",
    "#    del list_v\n",
    "#    del list_feature\n",
    "    \n",
    "#list_population"
   ]
  },
  {
   "cell_type": "code",
   "execution_count": 357,
   "metadata": {},
   "outputs": [],
   "source": [
    "#mse = list()\n",
    "#for i in range(0,len(list_population)):\n",
    "#    mse.append(mean_squared_error(y_val, list_population[i]))\n",
    "\n",
    "#p_best = mse\n",
    "#g_best = min(p_best)\n",
    "#v \n",
    "\n",
    "#p_best #dari mse\n",
    "#g_best #nilai minimun dari p_best"
   ]
  },
  {
   "cell_type": "code",
   "execution_count": 358,
   "metadata": {},
   "outputs": [],
   "source": [
    "#for i in range()"
   ]
  }
 ],
 "metadata": {
  "kernelspec": {
   "display_name": "Python 3",
   "language": "python",
   "name": "python3"
  },
  "language_info": {
   "codemirror_mode": {
    "name": "ipython",
    "version": 3
   },
   "file_extension": ".py",
   "mimetype": "text/x-python",
   "name": "python",
   "nbconvert_exporter": "python",
   "pygments_lexer": "ipython3",
   "version": "3.7.6"
  }
 },
 "nbformat": 4,
 "nbformat_minor": 2
}
