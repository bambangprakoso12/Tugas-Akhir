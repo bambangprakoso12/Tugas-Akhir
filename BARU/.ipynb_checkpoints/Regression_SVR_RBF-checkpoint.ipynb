{
 "cells": [
  {
   "cell_type": "code",
   "execution_count": 93,
   "metadata": {},
   "outputs": [],
   "source": [
    "import numpy as np\n",
    "import pandas as pd\n",
    "from sklearn.model_selection import train_test_split\n",
    "from sklearn.model_selection import GridSearchCV\n",
    "from sklearn.preprocessing import MinMaxScaler\n",
    "from sklearn.svm import SVR\n",
    "from sklearn.metrics import r2_score,mean_squared_error\n",
    "import seaborn as sns\n",
    "import matplotlib.pyplot as plt\n",
    "import pickle"
   ]
  },
  {
   "cell_type": "code",
   "execution_count": 94,
   "metadata": {},
   "outputs": [],
   "source": [
    "# Load Data Train csv\n",
    "train = pickle.load(open('Train_Test/train_bams.p','rb'))\n",
    "test = pickle.load(open('Train_Test/test_bams.p','rb'))"
   ]
  },
  {
   "cell_type": "code",
   "execution_count": 95,
   "metadata": {},
   "outputs": [
    {
     "data": {
      "text/html": [
       "<div>\n",
       "<style scoped>\n",
       "    .dataframe tbody tr th:only-of-type {\n",
       "        vertical-align: middle;\n",
       "    }\n",
       "\n",
       "    .dataframe tbody tr th {\n",
       "        vertical-align: top;\n",
       "    }\n",
       "\n",
       "    .dataframe thead th {\n",
       "        text-align: right;\n",
       "    }\n",
       "</style>\n",
       "<table border=\"1\" class=\"dataframe\">\n",
       "  <thead>\n",
       "    <tr style=\"text-align: right;\">\n",
       "      <th></th>\n",
       "      <th>nAcid</th>\n",
       "      <th>ALogP</th>\n",
       "      <th>ALogp2</th>\n",
       "      <th>AMR</th>\n",
       "      <th>apol</th>\n",
       "      <th>naAromAtom</th>\n",
       "      <th>nAromBond</th>\n",
       "      <th>nAtom</th>\n",
       "      <th>nHeavyAtom</th>\n",
       "      <th>nH</th>\n",
       "      <th>...</th>\n",
       "      <th>P2s</th>\n",
       "      <th>E1s</th>\n",
       "      <th>E2s</th>\n",
       "      <th>E3s</th>\n",
       "      <th>Ts</th>\n",
       "      <th>As</th>\n",
       "      <th>Vs</th>\n",
       "      <th>Ks</th>\n",
       "      <th>Ds</th>\n",
       "      <th>pIC50</th>\n",
       "    </tr>\n",
       "  </thead>\n",
       "  <tbody>\n",
       "    <tr>\n",
       "      <th>125</th>\n",
       "      <td>0</td>\n",
       "      <td>0.0382</td>\n",
       "      <td>0.001459</td>\n",
       "      <td>138.1194</td>\n",
       "      <td>72.933239</td>\n",
       "      <td>17</td>\n",
       "      <td>18</td>\n",
       "      <td>59</td>\n",
       "      <td>36</td>\n",
       "      <td>23</td>\n",
       "      <td>...</td>\n",
       "      <td>0.174261</td>\n",
       "      <td>0.530126</td>\n",
       "      <td>0.512059</td>\n",
       "      <td>0.408730</td>\n",
       "      <td>31.318280</td>\n",
       "      <td>174.085678</td>\n",
       "      <td>385.225921</td>\n",
       "      <td>0.674239</td>\n",
       "      <td>1.450915</td>\n",
       "      <td>5.958</td>\n",
       "    </tr>\n",
       "    <tr>\n",
       "      <th>74</th>\n",
       "      <td>1</td>\n",
       "      <td>-0.7970</td>\n",
       "      <td>0.635209</td>\n",
       "      <td>77.2375</td>\n",
       "      <td>41.352102</td>\n",
       "      <td>6</td>\n",
       "      <td>6</td>\n",
       "      <td>37</td>\n",
       "      <td>23</td>\n",
       "      <td>14</td>\n",
       "      <td>...</td>\n",
       "      <td>0.101150</td>\n",
       "      <td>0.592622</td>\n",
       "      <td>0.550249</td>\n",
       "      <td>0.332241</td>\n",
       "      <td>18.177672</td>\n",
       "      <td>43.726934</td>\n",
       "      <td>87.066620</td>\n",
       "      <td>0.775200</td>\n",
       "      <td>1.475112</td>\n",
       "      <td>5.854</td>\n",
       "    </tr>\n",
       "    <tr>\n",
       "      <th>1</th>\n",
       "      <td>0</td>\n",
       "      <td>-0.0693</td>\n",
       "      <td>0.004802</td>\n",
       "      <td>113.5328</td>\n",
       "      <td>61.298032</td>\n",
       "      <td>0</td>\n",
       "      <td>0</td>\n",
       "      <td>54</td>\n",
       "      <td>30</td>\n",
       "      <td>24</td>\n",
       "      <td>...</td>\n",
       "      <td>0.124809</td>\n",
       "      <td>0.554310</td>\n",
       "      <td>0.365546</td>\n",
       "      <td>0.392117</td>\n",
       "      <td>25.097284</td>\n",
       "      <td>103.740040</td>\n",
       "      <td>238.275628</td>\n",
       "      <td>0.709610</td>\n",
       "      <td>1.311973</td>\n",
       "      <td>6.292</td>\n",
       "    </tr>\n",
       "    <tr>\n",
       "      <th>110</th>\n",
       "      <td>0</td>\n",
       "      <td>-2.5774</td>\n",
       "      <td>6.642991</td>\n",
       "      <td>128.7353</td>\n",
       "      <td>70.286825</td>\n",
       "      <td>17</td>\n",
       "      <td>18</td>\n",
       "      <td>60</td>\n",
       "      <td>35</td>\n",
       "      <td>25</td>\n",
       "      <td>...</td>\n",
       "      <td>0.245975</td>\n",
       "      <td>0.488948</td>\n",
       "      <td>0.408430</td>\n",
       "      <td>0.497519</td>\n",
       "      <td>24.554292</td>\n",
       "      <td>143.408571</td>\n",
       "      <td>358.730867</td>\n",
       "      <td>0.514894</td>\n",
       "      <td>1.394896</td>\n",
       "      <td>7.921</td>\n",
       "    </tr>\n",
       "    <tr>\n",
       "      <th>99</th>\n",
       "      <td>1</td>\n",
       "      <td>-0.4080</td>\n",
       "      <td>0.166464</td>\n",
       "      <td>117.9068</td>\n",
       "      <td>62.001653</td>\n",
       "      <td>12</td>\n",
       "      <td>12</td>\n",
       "      <td>54</td>\n",
       "      <td>33</td>\n",
       "      <td>21</td>\n",
       "      <td>...</td>\n",
       "      <td>0.325881</td>\n",
       "      <td>0.553109</td>\n",
       "      <td>0.498577</td>\n",
       "      <td>0.513381</td>\n",
       "      <td>21.955191</td>\n",
       "      <td>131.000413</td>\n",
       "      <td>332.588534</td>\n",
       "      <td>0.377649</td>\n",
       "      <td>1.565066</td>\n",
       "      <td>5.854</td>\n",
       "    </tr>\n",
       "    <tr>\n",
       "      <th>...</th>\n",
       "      <td>...</td>\n",
       "      <td>...</td>\n",
       "      <td>...</td>\n",
       "      <td>...</td>\n",
       "      <td>...</td>\n",
       "      <td>...</td>\n",
       "      <td>...</td>\n",
       "      <td>...</td>\n",
       "      <td>...</td>\n",
       "      <td>...</td>\n",
       "      <td>...</td>\n",
       "      <td>...</td>\n",
       "      <td>...</td>\n",
       "      <td>...</td>\n",
       "      <td>...</td>\n",
       "      <td>...</td>\n",
       "      <td>...</td>\n",
       "      <td>...</td>\n",
       "      <td>...</td>\n",
       "      <td>...</td>\n",
       "      <td>...</td>\n",
       "    </tr>\n",
       "    <tr>\n",
       "      <th>68</th>\n",
       "      <td>0</td>\n",
       "      <td>-2.0910</td>\n",
       "      <td>4.372281</td>\n",
       "      <td>119.9176</td>\n",
       "      <td>64.300032</td>\n",
       "      <td>12</td>\n",
       "      <td>12</td>\n",
       "      <td>57</td>\n",
       "      <td>33</td>\n",
       "      <td>24</td>\n",
       "      <td>...</td>\n",
       "      <td>0.119319</td>\n",
       "      <td>0.611371</td>\n",
       "      <td>0.550971</td>\n",
       "      <td>0.478145</td>\n",
       "      <td>25.754579</td>\n",
       "      <td>105.897604</td>\n",
       "      <td>242.885706</td>\n",
       "      <td>0.720412</td>\n",
       "      <td>1.640487</td>\n",
       "      <td>6.180</td>\n",
       "    </tr>\n",
       "    <tr>\n",
       "      <th>95</th>\n",
       "      <td>0</td>\n",
       "      <td>-0.1589</td>\n",
       "      <td>0.025249</td>\n",
       "      <td>142.5628</td>\n",
       "      <td>78.271583</td>\n",
       "      <td>12</td>\n",
       "      <td>12</td>\n",
       "      <td>70</td>\n",
       "      <td>39</td>\n",
       "      <td>31</td>\n",
       "      <td>...</td>\n",
       "      <td>0.153062</td>\n",
       "      <td>0.639028</td>\n",
       "      <td>0.396740</td>\n",
       "      <td>0.351866</td>\n",
       "      <td>39.688457</td>\n",
       "      <td>278.796848</td>\n",
       "      <td>771.668789</td>\n",
       "      <td>0.680110</td>\n",
       "      <td>1.387634</td>\n",
       "      <td>5.585</td>\n",
       "    </tr>\n",
       "    <tr>\n",
       "      <th>32</th>\n",
       "      <td>0</td>\n",
       "      <td>-0.4082</td>\n",
       "      <td>0.166627</td>\n",
       "      <td>106.0673</td>\n",
       "      <td>58.637653</td>\n",
       "      <td>12</td>\n",
       "      <td>12</td>\n",
       "      <td>51</td>\n",
       "      <td>30</td>\n",
       "      <td>21</td>\n",
       "      <td>...</td>\n",
       "      <td>0.344943</td>\n",
       "      <td>0.576989</td>\n",
       "      <td>0.426777</td>\n",
       "      <td>0.404989</td>\n",
       "      <td>17.907066</td>\n",
       "      <td>96.524233</td>\n",
       "      <td>263.097835</td>\n",
       "      <td>0.277946</td>\n",
       "      <td>1.408755</td>\n",
       "      <td>8.699</td>\n",
       "    </tr>\n",
       "    <tr>\n",
       "      <th>124</th>\n",
       "      <td>0</td>\n",
       "      <td>-0.8291</td>\n",
       "      <td>0.687407</td>\n",
       "      <td>140.0467</td>\n",
       "      <td>75.315618</td>\n",
       "      <td>17</td>\n",
       "      <td>18</td>\n",
       "      <td>63</td>\n",
       "      <td>37</td>\n",
       "      <td>26</td>\n",
       "      <td>...</td>\n",
       "      <td>0.166500</td>\n",
       "      <td>0.557440</td>\n",
       "      <td>0.485636</td>\n",
       "      <td>0.409972</td>\n",
       "      <td>31.807655</td>\n",
       "      <td>174.995325</td>\n",
       "      <td>389.991476</td>\n",
       "      <td>0.685353</td>\n",
       "      <td>1.453048</td>\n",
       "      <td>7.229</td>\n",
       "    </tr>\n",
       "    <tr>\n",
       "      <th>131</th>\n",
       "      <td>0</td>\n",
       "      <td>-0.4442</td>\n",
       "      <td>0.197314</td>\n",
       "      <td>124.3983</td>\n",
       "      <td>67.885446</td>\n",
       "      <td>17</td>\n",
       "      <td>18</td>\n",
       "      <td>58</td>\n",
       "      <td>36</td>\n",
       "      <td>22</td>\n",
       "      <td>...</td>\n",
       "      <td>0.368969</td>\n",
       "      <td>0.550420</td>\n",
       "      <td>0.363275</td>\n",
       "      <td>0.480499</td>\n",
       "      <td>24.939796</td>\n",
       "      <td>166.299510</td>\n",
       "      <td>388.900703</td>\n",
       "      <td>0.409199</td>\n",
       "      <td>1.394195</td>\n",
       "      <td>7.259</td>\n",
       "    </tr>\n",
       "  </tbody>\n",
       "</table>\n",
       "<p>107 rows × 1876 columns</p>\n",
       "</div>"
      ],
      "text/plain": [
       "     nAcid   ALogP    ALogp2       AMR       apol  naAromAtom  nAromBond  \\\n",
       "125      0  0.0382  0.001459  138.1194  72.933239          17         18   \n",
       "74       1 -0.7970  0.635209   77.2375  41.352102           6          6   \n",
       "1        0 -0.0693  0.004802  113.5328  61.298032           0          0   \n",
       "110      0 -2.5774  6.642991  128.7353  70.286825          17         18   \n",
       "99       1 -0.4080  0.166464  117.9068  62.001653          12         12   \n",
       "..     ...     ...       ...       ...        ...         ...        ...   \n",
       "68       0 -2.0910  4.372281  119.9176  64.300032          12         12   \n",
       "95       0 -0.1589  0.025249  142.5628  78.271583          12         12   \n",
       "32       0 -0.4082  0.166627  106.0673  58.637653          12         12   \n",
       "124      0 -0.8291  0.687407  140.0467  75.315618          17         18   \n",
       "131      0 -0.4442  0.197314  124.3983  67.885446          17         18   \n",
       "\n",
       "     nAtom  nHeavyAtom  nH  ...       P2s       E1s       E2s       E3s  \\\n",
       "125     59          36  23  ...  0.174261  0.530126  0.512059  0.408730   \n",
       "74      37          23  14  ...  0.101150  0.592622  0.550249  0.332241   \n",
       "1       54          30  24  ...  0.124809  0.554310  0.365546  0.392117   \n",
       "110     60          35  25  ...  0.245975  0.488948  0.408430  0.497519   \n",
       "99      54          33  21  ...  0.325881  0.553109  0.498577  0.513381   \n",
       "..     ...         ...  ..  ...       ...       ...       ...       ...   \n",
       "68      57          33  24  ...  0.119319  0.611371  0.550971  0.478145   \n",
       "95      70          39  31  ...  0.153062  0.639028  0.396740  0.351866   \n",
       "32      51          30  21  ...  0.344943  0.576989  0.426777  0.404989   \n",
       "124     63          37  26  ...  0.166500  0.557440  0.485636  0.409972   \n",
       "131     58          36  22  ...  0.368969  0.550420  0.363275  0.480499   \n",
       "\n",
       "            Ts          As          Vs        Ks        Ds  pIC50  \n",
       "125  31.318280  174.085678  385.225921  0.674239  1.450915  5.958  \n",
       "74   18.177672   43.726934   87.066620  0.775200  1.475112  5.854  \n",
       "1    25.097284  103.740040  238.275628  0.709610  1.311973  6.292  \n",
       "110  24.554292  143.408571  358.730867  0.514894  1.394896  7.921  \n",
       "99   21.955191  131.000413  332.588534  0.377649  1.565066  5.854  \n",
       "..         ...         ...         ...       ...       ...    ...  \n",
       "68   25.754579  105.897604  242.885706  0.720412  1.640487  6.180  \n",
       "95   39.688457  278.796848  771.668789  0.680110  1.387634  5.585  \n",
       "32   17.907066   96.524233  263.097835  0.277946  1.408755  8.699  \n",
       "124  31.807655  174.995325  389.991476  0.685353  1.453048  7.229  \n",
       "131  24.939796  166.299510  388.900703  0.409199  1.394195  7.259  \n",
       "\n",
       "[107 rows x 1876 columns]"
      ]
     },
     "execution_count": 95,
     "metadata": {},
     "output_type": "execute_result"
    }
   ],
   "source": [
    "train"
   ]
  },
  {
   "cell_type": "code",
   "execution_count": 96,
   "metadata": {},
   "outputs": [
    {
     "data": {
      "text/plain": [
       "['SHCsatu',\n",
       " 'minHdsCH',\n",
       " 'mindsN',\n",
       " 'maxHdsCH',\n",
       " 'maxssCH2',\n",
       " 'RDF30i',\n",
       " 'RDF30i',\n",
       " 'SdsN',\n",
       " 'GATS4i',\n",
       " 'AATSC8i',\n",
       " 'GATS2s',\n",
       " 'GATS2s',\n",
       " 'VCH-7',\n",
       " 'AATSC6s',\n",
       " 'GATS2e',\n",
       " 'WTPT-4',\n",
       " 'MATS3p',\n",
       " 'GATS4p',\n",
       " 'SRW5',\n",
       " 'ATSC2s',\n",
       " 'n3Ring',\n",
       " 'VCH-3',\n",
       " 'VCH-3',\n",
       " 'AATS8v',\n",
       " 'AATS8v']"
      ]
     },
     "execution_count": 96,
     "metadata": {},
     "output_type": "execute_result"
    }
   ],
   "source": [
    "# Load Pickle \n",
    "label_25 = pickle.load(open(\"desc/desc25.pkl\", \"rb\"))\n",
    "label_25"
   ]
  },
  {
   "cell_type": "code",
   "execution_count": 97,
   "metadata": {},
   "outputs": [],
   "source": [
    "x_train = train.loc[:,label_25]\n",
    "x_test = test.loc[:,label_25]\n",
    "y_train = train.iloc[:,[-1]]\n",
    "y_test = test.iloc[:,[-1]]"
   ]
  },
  {
   "cell_type": "code",
   "execution_count": 98,
   "metadata": {},
   "outputs": [
    {
     "data": {
      "text/plain": [
       "(27, 25)"
      ]
     },
     "execution_count": 98,
     "metadata": {},
     "output_type": "execute_result"
    }
   ],
   "source": [
    "x_test.shape"
   ]
  },
  {
   "cell_type": "code",
   "execution_count": 99,
   "metadata": {},
   "outputs": [
    {
     "data": {
      "text/plain": [
       "((107, 25),\n",
       " (27, 25),\n",
       "      pIC50\n",
       " 125  5.958\n",
       " 74   5.854\n",
       " 1    6.292\n",
       " 110  7.921\n",
       " 99   5.854\n",
       " ..     ...\n",
       " 68   6.180\n",
       " 95   5.585\n",
       " 32   8.699\n",
       " 124  7.229\n",
       " 131  7.259\n",
       " \n",
       " [107 rows x 1 columns],\n",
       "      pIC50\n",
       " 80   5.252\n",
       " 104  5.367\n",
       " 94   5.319\n",
       " 71   6.666\n",
       " 51   8.569\n",
       " 3    6.310\n",
       " 28   7.824\n",
       " 84   6.114\n",
       " 126  6.958\n",
       " 103  6.292\n",
       " 85   5.886\n",
       " 25   8.398\n",
       " 48   7.921\n",
       " 10   6.393\n",
       " 0    5.842\n",
       " 52   5.009\n",
       " 35   8.000\n",
       " 98   5.444\n",
       " 108  6.244\n",
       " 114  8.108\n",
       " 13   6.224\n",
       " 40   8.432\n",
       " 112  6.409\n",
       " 109  7.081\n",
       " 26   8.495\n",
       " 43   8.456\n",
       " 93   5.721)"
      ]
     },
     "execution_count": 99,
     "metadata": {},
     "output_type": "execute_result"
    }
   ],
   "source": [
    "x_train.shape, x_test.shape, y_train, y_test"
   ]
  },
  {
   "cell_type": "code",
   "execution_count": 100,
   "metadata": {},
   "outputs": [],
   "source": [
    "mmscaler = MinMaxScaler()\n",
    "mmscaler.fit(x_train)\n",
    "sc_x_train = mmscaler.transform(x_train)\n",
    "sc_x_test = mmscaler.transform(x_test)"
   ]
  },
  {
   "cell_type": "code",
   "execution_count": 101,
   "metadata": {},
   "outputs": [],
   "source": [
    "paramgrid = {\n",
    "    'C' : [0.1,1,10,100,1000],\n",
    "    'gamma' : ['auto','scale'],\n",
    "    'epsilon' : [0.1,1,10,100,1000]\n",
    "}"
   ]
  },
  {
   "cell_type": "code",
   "execution_count": 102,
   "metadata": {},
   "outputs": [
    {
     "name": "stderr",
     "output_type": "stream",
     "text": [
      "C:\\Users\\Bams\\anaconda3\\lib\\site-packages\\sklearn\\utils\\validation.py:760: DataConversionWarning: A column-vector y was passed when a 1d array was expected. Please change the shape of y to (n_samples, ), for example using ravel().\n",
      "  y = column_or_1d(y, warn=True)\n"
     ]
    },
    {
     "data": {
      "text/plain": [
       "GridSearchCV(cv=5, error_score=nan,\n",
       "             estimator=SVR(C=1.0, cache_size=200, coef0=0.0, degree=3,\n",
       "                           epsilon=0.1, gamma='scale', kernel='rbf',\n",
       "                           max_iter=-1, shrinking=True, tol=0.001,\n",
       "                           verbose=False),\n",
       "             iid='deprecated', n_jobs=-1,\n",
       "             param_grid={'C': [0.1, 1, 10, 100, 1000],\n",
       "                         'epsilon': [0.1, 1, 10, 100, 1000],\n",
       "                         'gamma': ['auto', 'scale']},\n",
       "             pre_dispatch='2*n_jobs', refit=True, return_train_score=False,\n",
       "             scoring='neg_mean_squared_error', verbose=0)"
      ]
     },
     "execution_count": 102,
     "metadata": {},
     "output_type": "execute_result"
    }
   ],
   "source": [
    "grid = GridSearchCV(\n",
    "        estimator = SVR(kernel = 'rbf'),\n",
    "        param_grid = paramgrid,\n",
    "        cv = 5,\n",
    "        scoring = 'neg_mean_squared_error',\n",
    "        n_jobs = -1\n",
    ")\n",
    "grid.fit(sc_x_train, y_train)"
   ]
  },
  {
   "cell_type": "code",
   "execution_count": 103,
   "metadata": {},
   "outputs": [
    {
     "data": {
      "text/plain": [
       "{'C': 1, 'epsilon': 0.1, 'gamma': 'scale'}"
      ]
     },
     "execution_count": 103,
     "metadata": {},
     "output_type": "execute_result"
    }
   ],
   "source": [
    "grid.best_params_"
   ]
  },
  {
   "cell_type": "code",
   "execution_count": 104,
   "metadata": {},
   "outputs": [],
   "source": [
    "pickle.dump(grid.best_params_, open( \"data_RBF/params_rbf_25.p\", \"wb\" ))"
   ]
  },
  {
   "cell_type": "code",
   "execution_count": 105,
   "metadata": {},
   "outputs": [
    {
     "name": "stderr",
     "output_type": "stream",
     "text": [
      "C:\\Users\\Bams\\anaconda3\\lib\\site-packages\\sklearn\\utils\\validation.py:760: DataConversionWarning: A column-vector y was passed when a 1d array was expected. Please change the shape of y to (n_samples, ), for example using ravel().\n",
      "  y = column_or_1d(y, warn=True)\n"
     ]
    },
    {
     "data": {
      "text/plain": [
       "SVR(C=1, cache_size=200, coef0=0.0, degree=3, epsilon=0.1, gamma='scale',\n",
       "    kernel='rbf', max_iter=-1, shrinking=True, tol=0.001, verbose=False)"
      ]
     },
     "execution_count": 105,
     "metadata": {},
     "output_type": "execute_result"
    }
   ],
   "source": [
    "# model\n",
    "model = SVR(kernel = 'rbf', C = grid.best_params_['C'],\n",
    "           gamma = grid.best_params_['gamma'],\n",
    "           epsilon = grid.best_params_['epsilon'])\n",
    "model.fit(sc_x_train, y_train)"
   ]
  },
  {
   "cell_type": "code",
   "execution_count": 106,
   "metadata": {},
   "outputs": [],
   "source": [
    "y_train_pred = model.predict(sc_x_train)\n",
    "y_test_pred = model.predict(sc_x_test)"
   ]
  },
  {
   "cell_type": "code",
   "execution_count": 107,
   "metadata": {},
   "outputs": [
    {
     "data": {
      "text/plain": [
       "array([7.55505621, 5.77217673, 6.39212176, 7.68163821, 5.5503005 ,\n",
       "       7.45808246, 6.68416638, 8.15696439, 5.6008752 , 7.09882019,\n",
       "       7.669083  , 6.69798307, 7.84406605, 6.35968585, 8.19697472,\n",
       "       5.79160677, 7.41022776, 5.96571892, 5.60089852, 8.41921723,\n",
       "       8.10090446, 8.73467536, 7.16476828, 6.93918425, 8.78629956,\n",
       "       6.42759976, 5.58608581, 6.6013382 , 8.26500293, 5.89591711,\n",
       "       6.3120298 , 5.67376481, 5.77079943, 5.48785731, 6.49733322,\n",
       "       6.18978074, 6.67664329, 6.16904489, 6.43666672, 5.70342442,\n",
       "       5.50179332, 5.59169636, 6.65678391, 5.80855363, 6.55128078,\n",
       "       6.16571376, 5.78233622, 5.69574519, 5.56295612, 6.26075878,\n",
       "       5.7987472 , 5.81542806, 6.26744086, 5.44317166, 7.16624801,\n",
       "       7.62064232, 8.10095511, 6.8964274 , 5.41595059, 7.1588487 ,\n",
       "       6.60701205, 6.25824263, 5.65521126, 6.69935389, 5.60868351,\n",
       "       5.61241263, 8.15220453, 7.04961784, 6.51190465, 8.12222395,\n",
       "       6.19359998, 6.40870122, 5.62138419, 6.25465391, 6.72038515,\n",
       "       5.46884505, 5.45169929, 8.21269984, 8.46880382, 6.91428381,\n",
       "       5.78894439, 8.1130368 , 7.24212024, 5.49560444, 6.4421882 ,\n",
       "       6.98441603, 8.10218395, 8.11495823, 6.0627709 , 6.74162524,\n",
       "       6.31603455, 8.01764613, 5.77790704, 6.30944241, 6.70178401,\n",
       "       5.60026956, 6.16571376, 5.98121071, 5.81533631, 6.63457849,\n",
       "       7.06986636, 7.60451934, 5.95207107, 5.76024794, 7.66927518,\n",
       "       7.12888809, 7.15912044])"
      ]
     },
     "execution_count": 107,
     "metadata": {},
     "output_type": "execute_result"
    }
   ],
   "source": [
    "y_train_pred"
   ]
  },
  {
   "cell_type": "code",
   "execution_count": 108,
   "metadata": {},
   "outputs": [],
   "source": [
    "train_r2 = r2_score(y_train, y_train_pred)\n",
    "test_r2 = r2_score(y_test, y_test_pred)"
   ]
  },
  {
   "cell_type": "code",
   "execution_count": 109,
   "metadata": {},
   "outputs": [
    {
     "data": {
      "text/plain": [
       "0.8676682048080948"
      ]
     },
     "execution_count": 109,
     "metadata": {},
     "output_type": "execute_result"
    }
   ],
   "source": [
    "train_r2"
   ]
  },
  {
   "cell_type": "code",
   "execution_count": 110,
   "metadata": {},
   "outputs": [],
   "source": [
    "pickle.dump(train_r2, open( \"data_RBF/train_rbf_25.p\", \"wb\" ))"
   ]
  },
  {
   "cell_type": "code",
   "execution_count": 111,
   "metadata": {},
   "outputs": [
    {
     "data": {
      "text/plain": [
       "0.8467642846113039"
      ]
     },
     "execution_count": 111,
     "metadata": {},
     "output_type": "execute_result"
    }
   ],
   "source": [
    "test_r2"
   ]
  },
  {
   "cell_type": "code",
   "execution_count": 112,
   "metadata": {},
   "outputs": [],
   "source": [
    "pickle.dump(test_r2, open( \"data_RBF/test_rbf_25.p\", \"wb\" ))"
   ]
  },
  {
   "cell_type": "code",
   "execution_count": 113,
   "metadata": {},
   "outputs": [],
   "source": [
    "# # Load Pickle \n",
    "params5 = pickle.load(open(\"data_RBF/params_rbf_5.p\", \"rb\"))\n",
    "train_rbf5 = pickle.load(open(\"data_RBF/train_rbf_5.p\", \"rb\"))\n",
    "test_rbf5 = pickle.load(open(\"data_RBF/test_rbf_5.p\", \"rb\"))\n",
    "\n",
    "params10 = pickle.load(open(\"data_RBF/params_rbf_10.p\", \"rb\"))\n",
    "train_rbf10 = pickle.load(open(\"data_RBF/train_rbf_10.p\", \"rb\"))\n",
    "test_rbf10 = pickle.load(open(\"data_RBF/test_rbf_10.p\", \"rb\"))\n",
    "\n",
    "params15 = pickle.load(open(\"data_RBF/params_rbf_15.p\", \"rb\"))\n",
    "train_rbf15 = pickle.load(open(\"data_RBF/train_rbf_15.p\", \"rb\"))\n",
    "test_rbf15 = pickle.load(open(\"data_RBF/test_rbf_15.p\", \"rb\"))\n",
    "\n",
    "params20 = pickle.load(open(\"data_RBF/params_rbf_20.p\", \"rb\"))\n",
    "train_rbf20 = pickle.load(open(\"data_RBF/train_rbf_20.p\", \"rb\"))\n",
    "test_rbf20 = pickle.load(open(\"data_RBF/test_rbf_20.p\", \"rb\"))\n",
    "\n",
    "params25 = pickle.load(open(\"data_RBF/params_rbf_25.p\", \"rb\"))\n",
    "train_rbf25 = pickle.load(open(\"data_RBF/train_rbf_25.p\", \"rb\"))\n",
    "test_rbf25 = pickle.load(open(\"data_RBF/test_rbf_25.p\", \"rb\"))"
   ]
  },
  {
   "cell_type": "code",
   "execution_count": 114,
   "metadata": {},
   "outputs": [
    {
     "data": {
      "text/plain": [
       "({'C': 10, 'epsilon': 0.1, 'gamma': 'scale'},\n",
       " 0.7799339861160035,\n",
       " 0.6697137439404747)"
      ]
     },
     "execution_count": 114,
     "metadata": {},
     "output_type": "execute_result"
    }
   ],
   "source": [
    "params5, train_rbf5, test_rbf5"
   ]
  },
  {
   "cell_type": "code",
   "execution_count": 115,
   "metadata": {},
   "outputs": [
    {
     "data": {
      "text/plain": [
       "({'C': 10, 'epsilon': 0.1, 'gamma': 'scale'},\n",
       " 0.9052609140849989,\n",
       " 0.8460099870927168)"
      ]
     },
     "execution_count": 115,
     "metadata": {},
     "output_type": "execute_result"
    }
   ],
   "source": [
    "params10, train_rbf10, test_rbf10"
   ]
  },
  {
   "cell_type": "code",
   "execution_count": 116,
   "metadata": {},
   "outputs": [
    {
     "data": {
      "text/plain": [
       "({'C': 100, 'epsilon': 0.1, 'gamma': 'auto'},\n",
       " 0.8230523943168582,\n",
       " 0.5125433233192791)"
      ]
     },
     "execution_count": 116,
     "metadata": {},
     "output_type": "execute_result"
    }
   ],
   "source": [
    "params15, train_rbf15, test_rbf15"
   ]
  },
  {
   "cell_type": "code",
   "execution_count": 117,
   "metadata": {},
   "outputs": [
    {
     "data": {
      "text/plain": [
       "({'C': 1, 'epsilon': 0.1, 'gamma': 'scale'},\n",
       " 0.8880086835302345,\n",
       " 0.761701287751266)"
      ]
     },
     "execution_count": 117,
     "metadata": {},
     "output_type": "execute_result"
    }
   ],
   "source": [
    "params20, train_rbf20, test_rbf20"
   ]
  },
  {
   "cell_type": "code",
   "execution_count": 118,
   "metadata": {},
   "outputs": [
    {
     "data": {
      "text/plain": [
       "({'C': 1, 'epsilon': 0.1, 'gamma': 'scale'},\n",
       " 0.8676682048080948,\n",
       " 0.8467642846113039)"
      ]
     },
     "execution_count": 118,
     "metadata": {},
     "output_type": "execute_result"
    }
   ],
   "source": [
    "params25, train_rbf25, test_rbf25"
   ]
  },
  {
   "cell_type": "code",
   "execution_count": null,
   "metadata": {},
   "outputs": [],
   "source": []
  }
 ],
 "metadata": {
  "kernelspec": {
   "display_name": "Python 3",
   "language": "python",
   "name": "python3"
  },
  "language_info": {
   "codemirror_mode": {
    "name": "ipython",
    "version": 3
   },
   "file_extension": ".py",
   "mimetype": "text/x-python",
   "name": "python",
   "nbconvert_exporter": "python",
   "pygments_lexer": "ipython3",
   "version": "3.7.6"
  }
 },
 "nbformat": 4,
 "nbformat_minor": 4
}
