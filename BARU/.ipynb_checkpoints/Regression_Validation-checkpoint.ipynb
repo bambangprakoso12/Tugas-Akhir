{
 "cells": [
  {
   "cell_type": "code",
   "execution_count": 1,
   "metadata": {},
   "outputs": [],
   "source": [
    "import copy\n",
    "import numpy as np\n",
    "import pickle\n",
    "import matplotlib.pyplot as plt\n",
    "from sklearn.model_selection import GridSearchCV\n",
    "from sklearn.preprocessing import MinMaxScaler\n",
    "from sklearn.svm import SVR\n",
    "from sklearn.metrics import r2_score,mean_squared_error\n",
    "import seaborn as sns\n",
    "from sklearn.model_selection import LeaveOneOut\n",
    "from sklearn.model_selection import train_test_split\n",
    "from sklearn.model_selection import GridSearchCV\n",
    "from sklearn.preprocessing import MinMaxScaler\n",
    "import pandas as pd\n",
    "\n",
    "import warnings\n",
    "warnings.filterwarnings('ignore')"
   ]
  },
  {
   "cell_type": "code",
   "execution_count": 2,
   "metadata": {},
   "outputs": [],
   "source": [
    "def r2_score(y, y_pred, y_train=None):\n",
    "    sse = 0; sst = 0\n",
    "    if y_train is None:        \n",
    "        y_mean = np.mean(y)\n",
    "    else:\n",
    "        y_mean = np.mean(y_train)\n",
    "    for i in range(len(y)):\n",
    "        sse += (y[i] - y_pred[i]) ** 2\n",
    "        sst += (y[i] - y_mean) ** 2\n",
    "    r2_score = 1 - (sse / sst)\n",
    "    return r2_score"
   ]
  },
  {
   "cell_type": "code",
   "execution_count": 3,
   "metadata": {},
   "outputs": [],
   "source": [
    "def normalize(X):\n",
    "    max_ = np.max(X, axis=0)\n",
    "    min_ = np.min(X, axis=0)\n",
    "    X_norm = (X - min_) / (max_ - min_)\n",
    "    return max_, min_, X_norm"
   ]
  },
  {
   "cell_type": "code",
   "execution_count": 4,
   "metadata": {},
   "outputs": [],
   "source": [
    "def standardize(X):\n",
    "    mean_ = np.mean(X, axis=0)\n",
    "    std_ = np.std(X, axis=0)\n",
    "    X_norm = (X - mean_) / std_\n",
    "    return X_norm, mean_, std_"
   ]
  },
  {
   "cell_type": "code",
   "execution_count": 5,
   "metadata": {},
   "outputs": [],
   "source": [
    "def q2_loo(model, X, y):\n",
    "    loo = LeaveOneOut()\n",
    "    y_pred = []\n",
    "    for train_index, test_index in loo.split(X):\n",
    "        X_train, X_test = X[train_index], X[test_index]\n",
    "        y_train, y_test = y[train_index], y[test_index]\n",
    "        model.fit(X_train, y_train)\n",
    "        tmp = model.predict(X_test)\n",
    "        #tmp = scaler_y.inverse_transform(tmp)\n",
    "        y_pred.append(list(tmp)[0])\n",
    "    r2 = r2_score(y, y_pred)\n",
    "    return r2, y_pred"
   ]
  },
  {
   "cell_type": "code",
   "execution_count": 6,
   "metadata": {},
   "outputs": [],
   "source": [
    "def qsar_param(y, y_pred, d_r2m=True):\n",
    "    results = []\n",
    "    _, _, y = normalize(y)\n",
    "    _, _, y_pred = normalize(y_pred)\n",
    "    y_mean = np.mean(y); y_pred_mean = np.mean(y_pred)\n",
    "    # calculate r2\n",
    "    num = 0; den_1 = 0; den_2 = 0\n",
    "    for i in range(len(y)):\n",
    "        num += (y[i] - y_mean) * (y_pred[i] - y_pred_mean)\n",
    "        den_1 += (y_pred[i] - y_pred_mean) ** 2\n",
    "        den_2 += (y[i] - y_mean) ** 2\n",
    "    r2 = num ** 2 / (den_1 * den_2)\n",
    "    results = {\"r2\": r2}\n",
    "    # calculate k and k_dash\n",
    "    n_data = len(y)\n",
    "    dot_ = 0; y_pred2 = 0; y2 = 0\n",
    "    for i in range(n_data):\n",
    "        dot_ += (y[i] * y_pred[i])\n",
    "        y_pred2 += y_pred[i] ** 2\n",
    "        y2 += y[i] ** 2\n",
    "    k = np.sum(dot_) / np.sum(y_pred2)\n",
    "    k_dash = np.sum(dot_) / np.sum(y2)\n",
    "    results[\"k\"] = k\n",
    "    results[\"k_dash\"] = k_dash\n",
    "    # calculate r2_0 and r2_0_dash\n",
    "    num = 0; num_dash = 0; den = 0; den_dash = 0\n",
    "    for i in range(n_data):\n",
    "        num += (y[i] - (k * y_pred[i])) ** 2\n",
    "        num_dash += (y_pred[i] - (k_dash * y[i])) ** 2\n",
    "        den += (y[i] - y_mean) ** 2\n",
    "        den_dash += (y_pred[i] - y_pred_mean) ** 2\n",
    "    r2_0 = 1 - (num / den)\n",
    "    r2_0_dash = 1 - (num_dash / den_dash)\n",
    "    #results.append(r2_0)\n",
    "    #results.append(r2_0_dash)\n",
    "    r2r0 = (r2 - r2_0)/r2\n",
    "    r2r0_dash = (r2 - r2_0_dash)/r2\n",
    "    results[\"r2r0\"] = r2r0\n",
    "    results[\"r2r0_dash\"] = r2r0_dash\n",
    "    r0r0_dash = np.abs(r2_0 - r2_0_dash)\n",
    "    results[\"r0r0_dash\"] = r0r0_dash\n",
    "    # calculate rm2 and rm2_dash\n",
    "    rm2 = r2 * (1 - np.sqrt(r2 - r2_0))\n",
    "    rm2_dash = r2 * (1 - np.sqrt(r2 - r2_0_dash))\n",
    "    #results.append(rm2)\n",
    "    #results.append(rm2_dash)\n",
    "    # calculate rm2_bar and d_rm2\n",
    "    rm2_bar = (rm2 + rm2_dash) / 2\n",
    "    d_rm2 = np.abs(rm2 - rm2_dash)\n",
    "    results[\"rm2_bar\"] = rm2_bar\n",
    "    results[\"d_rm2\"] = d_rm2\n",
    "    return results"
   ]
  },
  {
   "cell_type": "code",
   "execution_count": 7,
   "metadata": {},
   "outputs": [],
   "source": [
    "def y_random(estimator, X, y, n=10):\n",
    "    # non-random\n",
    "    estimator.fit(X, y)\n",
    "    y_pred = estimator.predict(X)    \n",
    "    r2_nr = r2_score(y, y_pred)\n",
    "    r_nr = np.sqrt(r2_nr)\n",
    "    n_data = X.shape[0]\n",
    "    # random\n",
    "    r2_rand = []\n",
    "    range_ = list(range(n_data))\n",
    "    for i in range(n):\n",
    "        new_range_ = copy.deepcopy(range_)\n",
    "        np.random.shuffle(new_range_)\n",
    "        y_new = []\n",
    "        for i in new_range_:\n",
    "            y_new.append(y[i])\n",
    "        y_new = np.array(y_new)\n",
    "        estimator.fit(X, y_new)\n",
    "        y_pred = estimator.predict(X)\n",
    "        r2_rand.append(r2_score(y_new, y_pred))\n",
    "    r2_rand_avg = np.average(r2_rand)\n",
    "    rp = r_nr * np.sqrt(r2_nr - r2_rand_avg)\n",
    "    return rp"
   ]
  },
  {
   "cell_type": "code",
   "execution_count": 8,
   "metadata": {},
   "outputs": [],
   "source": [
    "def leverage(XtX, X):\n",
    "    levs = []\n",
    "    for i in range(X.shape[0]):\n",
    "        x = X[i,:]\n",
    "        lev = x.dot(XtX).dot(x.T)\n",
    "        levs.append(lev)\n",
    "    return levs"
   ]
  },
  {
   "cell_type": "code",
   "execution_count": 54,
   "metadata": {},
   "outputs": [],
   "source": [
    "def applicability_domain(X_train, X_test, y_train_act, \n",
    "                         y_train_pred, y_test_act, y_test_pred):\n",
    "    # using wilson map\n",
    "    X_train, _, _ = standardize(X_train)\n",
    "    X_test, _, _ = standardize(X_test)\n",
    "    n, p = X_train.shape\n",
    "    # calculate standardized residuals\n",
    "    err_train = []; res_train = []\n",
    "    for i in range(len(y_train_pred)):\n",
    "        err_train.append(y_train_act[i] - y_train_pred[i])\n",
    "    rmse_train = np.sqrt(r2_score(y_train_act, y_train_pred))\n",
    "    for i in range(len(y_train_pred)):\n",
    "        tmp = err_train[i]/rmse_train\n",
    "        res_train.append(tmp)\n",
    "    err_test = []; res_test = []\n",
    "    for i in range(len(y_test_pred)):\n",
    "        err_test.append(y_test_act[i] - y_test_pred[i])\n",
    "    rmse_test = np.sqrt(r2_score(y_test_act, y_test_pred))\n",
    "    for i in range(len(y_test_pred)):\n",
    "        tmp = err_test[i]/rmse_test\n",
    "        res_test.append(tmp)    \n",
    "    #res_test = [a/rmse_test for a in err_test]\n",
    "    # calculate leverage\n",
    "    XtX = X_train.T.dot(X_train)\n",
    "    XtX = np.linalg.pinv(XtX)\n",
    "    lev_train = leverage(XtX, X_train)\n",
    "    lev_test = leverage(XtX, X_test)\n",
    "    h_star = (3 * (p + 1)) / n\n",
    "    print(h_star)\n",
    "    #return (lev_train, res_train, lev_test, res_test, h_star)\n",
    "    #plotting\n",
    "    plt.scatter(lev_train, res_train, c='b',marker='o', label='training data')\n",
    "    plt.scatter(lev_test, res_test, c='r',marker='^', label='test data')\n",
    "    plt.axhline(y=3, c='k', linewidth=0.8)\n",
    "    plt.axhline(y=-3, c='k', linewidth=0.8)\n",
    "    plt.axvline(x=h_star, c='k', linewidth=0.8)\n",
    "    #plt.xticks([0,0.1,0.2,0.3,0.4,0.5,h_star,0.6],[0,0.1,0.2,0.3,0.4,0.5,\"h$^*$\",0.6])\n",
    "    plt.text(h_star+0.001, 0, \"h$^*$\")\n",
    "    plt.xlim(0, h_star + 0.1)\n",
    "    plt.ylim(-4, 4)\n",
    "    plt.xlabel('leverage')\n",
    "    plt.ylabel('standardized residual')\n",
    "    plt.legend(loc='upper right')\n",
    "    plt.savefig('./Linear_AD.png', format='png', dpi=1000, bbox_inches=\"tight\")    \n",
    "    plt.show()"
   ]
  },
  {
   "cell_type": "code",
   "execution_count": 55,
   "metadata": {},
   "outputs": [
    {
     "data": {
      "text/plain": [
       "((107, 1876), (27, 1876))"
      ]
     },
     "execution_count": 55,
     "metadata": {},
     "output_type": "execute_result"
    }
   ],
   "source": [
    "# Load Data Train csv\n",
    "train = pickle.load(open('Train_Test/train_bams.p','rb'))\n",
    "test = pickle.load(open('Train_Test/test_bams.p','rb'))\n",
    "train.shape, test.shape"
   ]
  },
  {
   "cell_type": "markdown",
   "metadata": {},
   "source": [
    "# SVR_RBF"
   ]
  },
  {
   "cell_type": "code",
   "execution_count": 11,
   "metadata": {},
   "outputs": [
    {
     "data": {
      "text/plain": [
       "SVR(C=10, cache_size=200, coef0=0.0, degree=3, epsilon=0.1, gamma='scale',\n",
       "    kernel='rbf', max_iter=-1, shrinking=True, tol=0.001, verbose=False)"
      ]
     },
     "execution_count": 11,
     "metadata": {},
     "output_type": "execute_result"
    }
   ],
   "source": [
    "# Load Pickle rbf\n",
    "params = pickle.load(open(\"data_RBF/params_rbf_5.p\", \"rb\"))\n",
    "\n",
    "label_5 = pickle.load(open(\"desc/desc5.pkl\", \"rb\"))\n",
    "x_train = train.loc[:,label_5].to_numpy()\n",
    "x_test = test.loc[:,label_5].to_numpy()\n",
    "y_train = train.iloc[:,[-1]].to_numpy()\n",
    "y_test = test.iloc[:,[-1]].to_numpy()\n",
    "\n",
    "# minmax rbf\n",
    "mmscaler = MinMaxScaler()\n",
    "mmscaler.fit(x_train)\n",
    "sc_x_train = mmscaler.transform(x_train)\n",
    "sc_x_test = mmscaler.transform(x_test)\n",
    "\n",
    "# model\n",
    "model = SVR(kernel = 'rbf', C = params['C'],\n",
    "           gamma = params['gamma'],\n",
    "           epsilon = params['epsilon'])\n",
    "model.fit(sc_x_train, y_train)"
   ]
  },
  {
   "cell_type": "code",
   "execution_count": 12,
   "metadata": {},
   "outputs": [
    {
     "data": {
      "text/plain": [
       "(array([0.61178755]),\n",
       " [6.823003464782159,\n",
       "  5.766423788149169,\n",
       "  6.403746640008736,\n",
       "  6.974521759741431,\n",
       "  5.682232910047658,\n",
       "  7.960552044100694,\n",
       "  6.6270216725339885,\n",
       "  8.178186289798932,\n",
       "  5.482914814794611,\n",
       "  6.600922059497857,\n",
       "  8.331088876914574,\n",
       "  6.770317281728689,\n",
       "  7.536189287299495,\n",
       "  7.670519653700551,\n",
       "  7.667862712431935,\n",
       "  5.703446696893144,\n",
       "  6.583578567942511,\n",
       "  5.15981233357956,\n",
       "  5.381021254880782,\n",
       "  8.42421375678748,\n",
       "  7.714898909376267,\n",
       "  9.057222084858356,\n",
       "  7.193143698926139,\n",
       "  6.856719676976261,\n",
       "  8.02350768983063,\n",
       "  6.772996318926622,\n",
       "  5.57617315907835,\n",
       "  8.029127166016615,\n",
       "  6.8879850791208295,\n",
       "  5.7698239471504635,\n",
       "  6.516277894701137,\n",
       "  5.855878774887893,\n",
       "  5.776219170584163,\n",
       "  5.6116934425225296,\n",
       "  6.174619140200376,\n",
       "  6.368254221820511,\n",
       "  6.586087601572769,\n",
       "  6.566213077995358,\n",
       "  6.507607808609067,\n",
       "  5.997251075830473,\n",
       "  5.3297689525792675,\n",
       "  5.436743710598863,\n",
       "  6.388590013033414,\n",
       "  6.235842974903979,\n",
       "  6.6719971217198015,\n",
       "  6.166035646177614,\n",
       "  5.429570394261302,\n",
       "  5.736686429813125,\n",
       "  5.376177584319143,\n",
       "  5.900436748039487,\n",
       "  5.828435995738025,\n",
       "  6.235672848392027,\n",
       "  5.513261505953805,\n",
       "  5.567632900678934,\n",
       "  6.491058207099613,\n",
       "  7.192950243732444,\n",
       "  7.322323743381838,\n",
       "  6.494661593076862,\n",
       "  5.543952160765301,\n",
       "  6.564678794877115,\n",
       "  6.822071041415901,\n",
       "  6.556532840977724,\n",
       "  5.94911419990408,\n",
       "  6.9904701754950676,\n",
       "  5.87652928775058,\n",
       "  5.292322709171247,\n",
       "  8.504483917308276,\n",
       "  6.779671953642101,\n",
       "  7.067441160343432,\n",
       "  7.25210512770335,\n",
       "  6.6006405947152285,\n",
       "  6.5714850917611,\n",
       "  5.2996518701941815,\n",
       "  8.136415806379759,\n",
       "  6.7032594945885995,\n",
       "  5.577445991266313,\n",
       "  5.608461078868694,\n",
       "  7.063843488706559,\n",
       "  8.614245477149176,\n",
       "  7.129856367282801,\n",
       "  6.421852169732334,\n",
       "  7.495642214382883,\n",
       "  6.683410169745663,\n",
       "  5.787528305653624,\n",
       "  6.77412426064882,\n",
       "  6.634381092303154,\n",
       "  6.892410163709486,\n",
       "  6.8610945737269535,\n",
       "  5.724697819356275,\n",
       "  6.739138307755146,\n",
       "  6.991644506509279,\n",
       "  7.617949451473251,\n",
       "  5.450117409466131,\n",
       "  7.266311723888169,\n",
       "  7.336093677857518,\n",
       "  6.200209570634108,\n",
       "  6.0661675350634,\n",
       "  6.4835390339471015,\n",
       "  5.73865109575587,\n",
       "  6.783328855946719,\n",
       "  6.611369832580114,\n",
       "  6.545825164620678,\n",
       "  6.7015425987087065,\n",
       "  5.753032185354577,\n",
       "  7.393747447514475,\n",
       "  6.645964462600533,\n",
       "  6.683207174472338])"
      ]
     },
     "execution_count": 12,
     "metadata": {},
     "output_type": "execute_result"
    }
   ],
   "source": [
    "train_rbf = q2_loo(model, sc_x_train, y_train)\n",
    "train_rbf"
   ]
  },
  {
   "cell_type": "code",
   "execution_count": 13,
   "metadata": {},
   "outputs": [
    {
     "data": {
      "text/plain": [
       "array([0.61178755])"
      ]
     },
     "execution_count": 13,
     "metadata": {},
     "output_type": "execute_result"
    }
   ],
   "source": [
    "train_rbf_r2 = r2_score(y_train, train_rbf[1])\n",
    "train_rbf_r2"
   ]
  },
  {
   "cell_type": "code",
   "execution_count": 14,
   "metadata": {},
   "outputs": [
    {
     "data": {
      "text/plain": [
       "((27, 1), 27)"
      ]
     },
     "execution_count": 14,
     "metadata": {},
     "output_type": "execute_result"
    }
   ],
   "source": [
    "y_test.shape, len(model.predict(x_test))"
   ]
  },
  {
   "cell_type": "code",
   "execution_count": 15,
   "metadata": {},
   "outputs": [
    {
     "data": {
      "text/plain": [
       "array([5.45882878, 5.83905425, 5.62277371, 6.15874828, 7.82256147,\n",
       "       6.68324237, 6.8244921 , 5.4525474 , 6.58012585, 5.45853249,\n",
       "       5.61646173, 6.86217486, 7.85010723, 6.73801964, 5.3864816 ,\n",
       "       4.8338211 , 8.10729127, 5.70848824, 6.11166131, 6.58645399,\n",
       "       6.33212186, 8.8666608 , 6.61932682, 6.75713528, 6.82092426,\n",
       "       8.70510523, 5.49197087])"
      ]
     },
     "execution_count": 15,
     "metadata": {},
     "output_type": "execute_result"
    }
   ],
   "source": [
    "test_pred = model.predict(sc_x_test)\n",
    "test_pred"
   ]
  },
  {
   "cell_type": "code",
   "execution_count": 16,
   "metadata": {},
   "outputs": [
    {
     "data": {
      "text/plain": [
       "{'r2': array([0.61379343]),\n",
       " 'k': 1.0715733543070443,\n",
       " 'k_dash': 0.8196642231681232,\n",
       " 'r2r0': array([0.01489382]),\n",
       " 'r2r0_dash': array([0.12591776]),\n",
       " 'r0r0_dash': array([0.06814577]),\n",
       " 'rm2_bar': array([0.49913109]),\n",
       " 'd_rm2': array([0.11195218])}"
      ]
     },
     "execution_count": 16,
     "metadata": {},
     "output_type": "execute_result"
    }
   ],
   "source": [
    "rbf_qsar = qsar_param(y_train, train_rbf[1], d_r2m=True)\n",
    "rbf_qsar"
   ]
  },
  {
   "cell_type": "code",
   "execution_count": 17,
   "metadata": {},
   "outputs": [
    {
     "data": {
      "text/plain": [
       "{'r2': array([0.72359676]),\n",
       " 'k': 1.1696592208298409,\n",
       " 'k_dash': 0.7822102339024127,\n",
       " 'r2r0': array([0.00806718]),\n",
       " 'r2r0_dash': array([0.04366462]),\n",
       " 'r0r0_dash': array([0.02575819]),\n",
       " 'rm2_bar': array([0.63164417]),\n",
       " 'd_rm2': array([0.07333558])}"
      ]
     },
     "execution_count": 17,
     "metadata": {},
     "output_type": "execute_result"
    }
   ],
   "source": [
    "rbf_qsar = qsar_param(y_test, test_pred, d_r2m=True)\n",
    "rbf_qsar"
   ]
  },
  {
   "cell_type": "code",
   "execution_count": 18,
   "metadata": {},
   "outputs": [
    {
     "data": {
      "text/plain": [
       "array([0.66239613])"
      ]
     },
     "execution_count": 18,
     "metadata": {},
     "output_type": "execute_result"
    }
   ],
   "source": [
    "rbf_y = y_random(model, sc_x_train, y_train, n=10)\n",
    "rbf_y"
   ]
  },
  {
   "cell_type": "code",
   "execution_count": 50,
   "metadata": {},
   "outputs": [
    {
     "name": "stdout",
     "output_type": "stream",
     "text": [
      "0.16822429906542055\n"
     ]
    },
    {
     "data": {
      "image/png": "[encoded data removed]",
      "text/plain": [
       "<Figure size 432x288 with 1 Axes>"
      ]
     },
     "metadata": {
      "needs_background": "light"
     },
     "output_type": "display_data"
    }
   ],
   "source": [
    "plt.title('RBF-Applicability domain')\n",
    "rbf_AD = applicability_domain(sc_x_train, sc_x_test, y_train, train_rbf[1], y_test, test_pred)\n",
    "rbf_AD"
   ]
  },
  {
   "cell_type": "code",
   "execution_count": 20,
   "metadata": {},
   "outputs": [
    {
     "data": {
      "image/png": "[encoded data removed]",
      "text/plain": [
       "<Figure size 432x288 with 1 Axes>"
      ]
     },
     "metadata": {
      "needs_background": "light"
     },
     "output_type": "display_data"
    }
   ],
   "source": [
    "fig, ax = plt.subplots()\n",
    "ax.scatter(y_train, train_rbf[1], c='b',marker='o', label='training data')\n",
    "ax.scatter(y_test, test_pred, c='r',marker='^', label='test data')\n",
    "ax.plot([0, 1], [0, 1], color=\"black\",transform=ax.transAxes)\n",
    "plt.title('RBF-Actual vs Predict')\n",
    "ax.set_xlabel('Predicted pIC50')\n",
    "ax.set_ylabel('Experimental pIC50')\n",
    "plt.savefig('./rbf_Actual vs Predict.png', format='png', dpi=1000, bbox_inches=\"tight\")\n",
    "plt.show()"
   ]
  },
  {
   "cell_type": "code",
   "execution_count": 21,
   "metadata": {},
   "outputs": [
    {
     "data": {
      "image/png": "[encoded data removed]",
      "text/plain": [
       "<Figure size 432x288 with 1 Axes>"
      ]
     },
     "metadata": {
      "needs_background": "light"
     },
     "output_type": "display_data"
    }
   ],
   "source": [
    "#dataframe to list\n",
    "r_train = pd.DataFrame(y_train).to_numpy()\n",
    "r_train_pred = pd.DataFrame(train_rbf[1]).to_numpy()\n",
    "r_test = pd.DataFrame(y_test).to_numpy()\n",
    "r_test_pred = pd.DataFrame(test_pred).to_numpy()\n",
    "\n",
    "train = r_train-r_train_pred\n",
    "test = r_test-r_test_pred\n",
    "plt.axhline(y=0, c='k', linewidth=0.8, linestyle='--')\n",
    "plt.scatter(r_train, train, c='b',marker='o', label='training data')\n",
    "plt.scatter(r_test, test, c='r',marker='^', label='test data')\n",
    "plt.title(\"RBF-Actual vs Residual\")\n",
    "plt.xlabel(\"Predict Values\")\n",
    "plt.ylabel(\"Residual\")\n",
    "plt.savefig('./rbf_Actual vs Residual.png', format='png', dpi=1000, bbox_inches=\"tight\")"
   ]
  },
  {
   "cell_type": "markdown",
   "metadata": {},
   "source": [
    "# SVR_Poly"
   ]
  },
  {
   "cell_type": "code",
   "execution_count": 25,
   "metadata": {},
   "outputs": [
    {
     "data": {
      "text/plain": [
       "SVR(C=1, cache_size=200, coef0=0.0, degree=2, epsilon=1, gamma='scale',\n",
       "    kernel='poly', max_iter=-1, shrinking=True, tol=0.001, verbose=False)"
      ]
     },
     "execution_count": 25,
     "metadata": {},
     "output_type": "execute_result"
    }
   ],
   "source": [
    "# Load Pickle poly\n",
    "params = pickle.load(open(\"data_Poly/params_poly_5.p\", \"rb\"))\n",
    "\n",
    "poly_desc5 = pickle.load(open(\"desc/desc5.pkl\", \"rb\"))\n",
    "x_train = train.loc[:,poly_desc5].to_numpy()\n",
    "x_test = test.loc[:,poly_desc5].to_numpy()\n",
    "y_train = train.iloc[:,[-1]].to_numpy()\n",
    "y_test = test.iloc[:,[-1]].to_numpy()\n",
    "\n",
    "# minmax poly\n",
    "mmscaler = MinMaxScaler()\n",
    "mmscaler.fit(x_train)\n",
    "sc_x_train = mmscaler.transform(x_train)\n",
    "sc_x_test = mmscaler.transform(x_test)\n",
    "\n",
    "# model\n",
    "model = SVR(kernel = 'poly', C = params['C'],\n",
    "           degree = params['degree'],\n",
    "           epsilon = params['epsilon'])\n",
    "model.fit(sc_x_train, y_train)\n"
   ]
  },
  {
   "cell_type": "code",
   "execution_count": 26,
   "metadata": {},
   "outputs": [
    {
     "data": {
      "text/plain": [
       "(array([0.38486385]),\n",
       " [6.633437244778444,\n",
       "  4.194183061461689,\n",
       "  6.7655864056367285,\n",
       "  7.22886675823505,\n",
       "  5.82786580495711,\n",
       "  7.101289841971062,\n",
       "  7.006059818012972,\n",
       "  7.300938387147781,\n",
       "  5.625926263805565,\n",
       "  7.145644900600121,\n",
       "  7.123711945392722,\n",
       "  6.761042346909762,\n",
       "  7.352905555155641,\n",
       "  7.423675346779683,\n",
       "  7.944035356922889,\n",
       "  5.852049282093183,\n",
       "  6.62231859377645,\n",
       "  6.550803756692004,\n",
       "  5.668890404092359,\n",
       "  8.267550462693912,\n",
       "  7.183277854130904,\n",
       "  7.906613921730189,\n",
       "  6.950471475106545,\n",
       "  7.20470878167862,\n",
       "  6.823938143439002,\n",
       "  6.926140050591162,\n",
       "  5.482709673605462,\n",
       "  8.084671763586938,\n",
       "  7.008312877114788,\n",
       "  5.738679104943772,\n",
       "  5.920128705306765,\n",
       "  6.0310537042940675,\n",
       "  6.514700701497362,\n",
       "  5.6103890598202195,\n",
       "  7.0848571991074545,\n",
       "  6.631200234023681,\n",
       "  6.9243412177172186,\n",
       "  6.862399747412172,\n",
       "  6.706407675131667,\n",
       "  6.122265707309904,\n",
       "  5.758657751049072,\n",
       "  5.606230127245341,\n",
       "  5.718447801619267,\n",
       "  6.645503334535781,\n",
       "  6.935603458646693,\n",
       "  6.652001261830293,\n",
       "  6.101604926466752,\n",
       "  5.870341122512118,\n",
       "  5.767556969261207,\n",
       "  6.509941194834182,\n",
       "  5.636119088830778,\n",
       "  6.941041361746689,\n",
       "  5.994538854205135,\n",
       "  5.489776722781425,\n",
       "  6.691610737166953,\n",
       "  7.362078977800548,\n",
       "  7.159243279921839,\n",
       "  7.0288287549422686,\n",
       "  5.5534162148074495,\n",
       "  6.692031960320028,\n",
       "  7.02682520117421,\n",
       "  7.37561186326904,\n",
       "  6.592617187083341,\n",
       "  7.669561847757137,\n",
       "  6.125018770587173,\n",
       "  6.002121173753088,\n",
       "  7.137691376760893,\n",
       "  6.491383084777255,\n",
       "  7.121191359906949,\n",
       "  7.200789866705643,\n",
       "  6.980363546813153,\n",
       "  6.892045537814341,\n",
       "  5.5113316066712175,\n",
       "  7.545133634969326,\n",
       "  6.610700787047054,\n",
       "  5.808608193539784,\n",
       "  5.4387836516650045,\n",
       "  7.157851305841306,\n",
       "  7.708628815134177,\n",
       "  6.942175250335562,\n",
       "  6.493000037272271,\n",
       "  7.255118217032653,\n",
       "  7.120862949013401,\n",
       "  5.935393607949995,\n",
       "  6.924441563035887,\n",
       "  6.980265952698116,\n",
       "  7.2593957673571055,\n",
       "  7.034715071252775,\n",
       "  6.686128797752214,\n",
       "  6.806947382973711,\n",
       "  7.047000231394496,\n",
       "  7.960268955290244,\n",
       "  6.271662245712257,\n",
       "  7.291553178995322,\n",
       "  7.024294251756846,\n",
       "  6.61374544550977,\n",
       "  6.652001261830209,\n",
       "  6.755518894955386,\n",
       "  6.989745078859649,\n",
       "  6.985158670227254,\n",
       "  6.7096618229514915,\n",
       "  6.867191425836528,\n",
       "  7.158109739919697,\n",
       "  5.865620334358919,\n",
       "  7.113670376934569,\n",
       "  6.916343604298353,\n",
       "  6.84499081092067])"
      ]
     },
     "execution_count": 26,
     "metadata": {},
     "output_type": "execute_result"
    }
   ],
   "source": [
    "train_q2_poly = q2_loo(model, sc_x_train, y_train)\n",
    "train_q2_poly"
   ]
  },
  {
   "cell_type": "code",
   "execution_count": 27,
   "metadata": {},
   "outputs": [
    {
     "data": {
      "text/plain": [
       "array([0.38486385])"
      ]
     },
     "execution_count": 27,
     "metadata": {},
     "output_type": "execute_result"
    }
   ],
   "source": [
    "poly = r2_score(y_train, train_q2_poly[1])\n",
    "poly"
   ]
  },
  {
   "cell_type": "code",
   "execution_count": 28,
   "metadata": {},
   "outputs": [
    {
     "data": {
      "text/plain": [
       "array([5.1719075 , 6.19845911, 6.00257448, 6.31087289, 7.37450063,\n",
       "       6.95645508, 6.99623613, 5.78146832, 6.15471003, 5.52007184,\n",
       "       5.86695011, 7.52218772, 6.9984066 , 7.00790814, 6.96915543,\n",
       "       6.76609502, 7.29984837, 6.11928493, 6.62412941, 7.05158648,\n",
       "       6.63775403, 7.50659398, 6.73480039, 6.89416656, 7.04625861,\n",
       "       6.94901073, 5.79011786])"
      ]
     },
     "execution_count": 28,
     "metadata": {},
     "output_type": "execute_result"
    }
   ],
   "source": [
    "poly_test_pred = model.predict(sc_x_test)\n",
    "poly_test_pred"
   ]
  },
  {
   "cell_type": "code",
   "execution_count": 29,
   "metadata": {},
   "outputs": [
    {
     "data": {
      "text/plain": [
       "{'r2': array([0.38938789]),\n",
       " 'k': 0.6826250740490041,\n",
       " 'k_dash': 1.170872621491547,\n",
       " 'r2r0': array([0.10694031]),\n",
       " 'r2r0_dash': array([5.76622684]),\n",
       " 'r0r0_dash': array([2.20365765]),\n",
       " 'rm2_bar': array([0.05792261]),\n",
       " 'd_rm2': array([0.5040121])}"
      ]
     },
     "execution_count": 29,
     "metadata": {},
     "output_type": "execute_result"
    }
   ],
   "source": [
    "poly_qsar = qsar_param(y_train, train_q2_poly[1], d_r2m=True)\n",
    "poly_qsar"
   ]
  },
  {
   "cell_type": "code",
   "execution_count": 30,
   "metadata": {},
   "outputs": [
    {
     "data": {
      "text/plain": [
       "{'r2': array([0.52134407]),\n",
       " 'k': 0.824772655963764,\n",
       " 'k_dash': 1.0361842564604624,\n",
       " 'r2r0': array([0.00696224]),\n",
       " 'r2r0_dash': array([0.86042946]),\n",
       " 'r0r0_dash': array([0.44495007]),\n",
       " 'rm2_bar': array([0.33105135]),\n",
       " 'd_rm2': array([0.31776641])}"
      ]
     },
     "execution_count": 30,
     "metadata": {},
     "output_type": "execute_result"
    }
   ],
   "source": [
    "poly_qsar = qsar_param(y_test, poly_test_pred, d_r2m=True)\n",
    "poly_qsar"
   ]
  },
  {
   "cell_type": "code",
   "execution_count": 31,
   "metadata": {},
   "outputs": [
    {
     "data": {
      "text/plain": [
       "array([0.41437312])"
      ]
     },
     "execution_count": 31,
     "metadata": {},
     "output_type": "execute_result"
    }
   ],
   "source": [
    "poly_y = y_random(model, sc_x_train, y_train, n=10)\n",
    "poly_y"
   ]
  },
  {
   "cell_type": "code",
   "execution_count": 53,
   "metadata": {},
   "outputs": [
    {
     "name": "stdout",
     "output_type": "stream",
     "text": [
      "0.16822429906542055\n"
     ]
    },
    {
     "data": {
      "image/png": "[encoded data removed]",
      "text/plain": [
       "<Figure size 432x288 with 1 Axes>"
      ]
     },
     "metadata": {
      "needs_background": "light"
     },
     "output_type": "display_data"
    }
   ],
   "source": [
    "plt.title('Poly-Applicability domain')\n",
    "poly_AD = applicability_domain(sc_x_train, sc_x_test, y_train, train_q2_poly[1], y_test, poly_test_pred)\n",
    "poly_AD"
   ]
  },
  {
   "cell_type": "code",
   "execution_count": 33,
   "metadata": {},
   "outputs": [
    {
     "data": {
      "image/png": "[encoded data removed]",
      "text/plain": [
       "<Figure size 432x288 with 1 Axes>"
      ]
     },
     "metadata": {
      "needs_background": "light"
     },
     "output_type": "display_data"
    }
   ],
   "source": [
    "fig, ax = plt.subplots()\n",
    "ax.scatter(y_train, train_q2_poly[1], c='b',marker='o', label='training data')\n",
    "ax.scatter(y_test, poly_test_pred, c='r',marker='^', label='test data')\n",
    "ax.plot([0, 1], [0, 1], color=\"black\",transform=ax.transAxes)\n",
    "plt.title('Poly-Actual vs Predict')\n",
    "ax.set_xlabel('Predicted pIC50')\n",
    "ax.set_ylabel('Experimental pIC50')\n",
    "plt.savefig('./poly_Actual vs Predict.png', format='png', dpi=1000, bbox_inches=\"tight\")\n",
    "plt.show()"
   ]
  },
  {
   "cell_type": "code",
   "execution_count": 34,
   "metadata": {},
   "outputs": [
    {
     "data": {
      "image/png": "[encoded data removed]",
      "text/plain": [
       "<Figure size 432x288 with 1 Axes>"
      ]
     },
     "metadata": {
      "needs_background": "light"
     },
     "output_type": "display_data"
    }
   ],
   "source": [
    "#dataframe to list\n",
    "r_train = pd.DataFrame(y_train).to_numpy()\n",
    "r_train_pred = pd.DataFrame(train_q2_poly[1]).to_numpy()\n",
    "r_test = pd.DataFrame(y_test).to_numpy()\n",
    "r_test_pred = pd.DataFrame(poly_test_pred).to_numpy()\n",
    "\n",
    "p_train = r_train-r_train_pred\n",
    "p_test = r_test-r_test_pred\n",
    "\n",
    "plt.axhline(y=0, c='k', linewidth=0.8, linestyle='--')\n",
    "plt.scatter(r_train, p_train, c='b',marker='o', label='training data')\n",
    "plt.scatter(r_test, p_test, c='r',marker='^', label='test data')\n",
    "plt.title(\"Poly-Actual vs Residual\")\n",
    "plt.xlabel(\"Predict Values\")\n",
    "plt.ylabel(\"Residual\")\n",
    "plt.savefig('./poly_Actual vs Residual.png', format='png', dpi=1000, bbox_inches=\"tight\")"
   ]
  },
  {
   "cell_type": "markdown",
   "metadata": {},
   "source": [
    "# SVR_Linear"
   ]
  },
  {
   "cell_type": "code",
   "execution_count": 38,
   "metadata": {},
   "outputs": [
    {
     "data": {
      "text/plain": [
       "SVR(C=100, cache_size=200, coef0=0.0, degree=1, epsilon=1, gamma='scale',\n",
       "    kernel='linear', max_iter=-1, shrinking=True, tol=0.001, verbose=False)"
      ]
     },
     "execution_count": 38,
     "metadata": {},
     "output_type": "execute_result"
    }
   ],
   "source": [
    "# Load Pickle linear\n",
    "params = pickle.load(open(\"data_Linear/params_linear_5.p\", \"rb\"))\n",
    "\n",
    "linear_desc5 = pickle.load(open(\"desc/desc5.pkl\", \"rb\"))\n",
    "x_train = train.loc[:,linear_desc5].to_numpy()\n",
    "x_test = test.loc[:,linear_desc5].to_numpy()\n",
    "y_train = train.iloc[:,[-1]].to_numpy()\n",
    "y_test = test.iloc[:,[-1]].to_numpy()\n",
    "\n",
    "# minmax linear\n",
    "mmscaler = MinMaxScaler()\n",
    "mmscaler.fit(x_train)\n",
    "sc_x_train = mmscaler.transform(x_train)\n",
    "sc_x_test = mmscaler.transform(x_test)\n",
    "\n",
    "# model\n",
    "model = SVR(kernel = 'linear', C = params['C'],\n",
    "           degree = params['degree'],\n",
    "           epsilon = params['epsilon'])\n",
    "model.fit(sc_x_train, y_train)\n"
   ]
  },
  {
   "cell_type": "code",
   "execution_count": 39,
   "metadata": {},
   "outputs": [
    {
     "data": {
      "text/plain": [
       "(array([0.32362676]),\n",
       " [6.791746222803219,\n",
       "  4.627210657226088,\n",
       "  6.918520915514783,\n",
       "  7.155976467907401,\n",
       "  5.809417969668566,\n",
       "  6.620344965940959,\n",
       "  7.0626184906207286,\n",
       "  7.164572368747248,\n",
       "  6.025239200736614,\n",
       "  7.315919296579487,\n",
       "  7.086501412130552,\n",
       "  6.9926979087963375,\n",
       "  7.13458460748319,\n",
       "  7.132546213303151,\n",
       "  7.971432712112637,\n",
       "  5.8930812667124925,\n",
       "  6.916649398193776,\n",
       "  6.725171628334517,\n",
       "  5.7358421716478105,\n",
       "  7.646453925970653,\n",
       "  7.305566160074811,\n",
       "  7.599963787902033,\n",
       "  6.733781288416644,\n",
       "  7.315782032718026,\n",
       "  6.970959366299108,\n",
       "  6.953791315648196,\n",
       "  5.882929956193429,\n",
       "  7.8281867542388115,\n",
       "  7.088899604053246,\n",
       "  6.00197557713323,\n",
       "  5.888188222968374,\n",
       "  5.8730887089994255,\n",
       "  6.68757537012274,\n",
       "  5.574756033653095,\n",
       "  7.075746390654636,\n",
       "  6.89212338015448,\n",
       "  7.014445772611417,\n",
       "  7.106747199598517,\n",
       "  6.915162767024462,\n",
       "  5.932333202517604,\n",
       "  6.061206056632976,\n",
       "  5.674566211325235,\n",
       "  5.6621921444455126,\n",
       "  6.881816629456693,\n",
       "  7.058712642936364,\n",
       "  6.505345827417749,\n",
       "  6.280192942441921,\n",
       "  5.861689867497567,\n",
       "  5.7175938339364265,\n",
       "  6.400661444800072,\n",
       "  5.588461928431364,\n",
       "  7.063486448466773,\n",
       "  6.149469858376726,\n",
       "  5.73428657284844,\n",
       "  6.891265933023071,\n",
       "  7.212633472458883,\n",
       "  7.054952952121803,\n",
       "  7.156601456428625,\n",
       "  5.78676590639369,\n",
       "  6.927201164271558,\n",
       "  7.125567125519545,\n",
       "  7.384305375024282,\n",
       "  5.498698651756506,\n",
       "  7.481615110035715,\n",
       "  5.815789190930239,\n",
       "  5.41095861316483,\n",
       "  7.442364653211854,\n",
       "  6.804700521979818,\n",
       "  7.17310765979709,\n",
       "  7.298712250632995,\n",
       "  7.13334579360714,\n",
       "  7.0208820328101,\n",
       "  5.582559918059296,\n",
       "  7.576868921662203,\n",
       "  6.961495216802454,\n",
       "  5.990804581765862,\n",
       "  5.60070166805891,\n",
       "  7.102322793492425,\n",
       "  7.346710000622678,\n",
       "  6.699947271144929,\n",
       "  6.206012232834063,\n",
       "  7.012695608008883,\n",
       "  7.310467472490124,\n",
       "  6.146207857211458,\n",
       "  6.957191094278862,\n",
       "  7.186366043971269,\n",
       "  7.244085379223395,\n",
       "  6.9611963716815035,\n",
       "  6.961671788961467,\n",
       "  6.990045401074916,\n",
       "  7.083797609220888,\n",
       "  7.660266594918831,\n",
       "  6.768075815907969,\n",
       "  7.142836261769496,\n",
       "  6.2137561716794565,\n",
       "  6.350546906199342,\n",
       "  6.505345827417749,\n",
       "  6.624412877497626,\n",
       "  7.089258460337263,\n",
       "  7.048436932985815,\n",
       "  6.93464694869234,\n",
       "  6.944264088118949,\n",
       "  7.2924208109475215,\n",
       "  6.1888535338142034,\n",
       "  6.649402064173697,\n",
       "  6.970466338233216,\n",
       "  6.800735026516882])"
      ]
     },
     "execution_count": 39,
     "metadata": {},
     "output_type": "execute_result"
    }
   ],
   "source": [
    "train_q2_linear = q2_loo(model, sc_x_train, y_train)\n",
    "train_q2_linear"
   ]
  },
  {
   "cell_type": "code",
   "execution_count": 40,
   "metadata": {},
   "outputs": [
    {
     "data": {
      "text/plain": [
       "array([0.32362676])"
      ]
     },
     "execution_count": 40,
     "metadata": {},
     "output_type": "execute_result"
    }
   ],
   "source": [
    "linear = r2_score(y_train, train_q2_linear[1])\n",
    "linear"
   ]
  },
  {
   "cell_type": "code",
   "execution_count": 41,
   "metadata": {},
   "outputs": [
    {
     "data": {
      "text/plain": [
       "array([4.9934541 , 5.70035701, 6.31560665, 6.37462835, 7.28970961,\n",
       "       7.08676104, 7.16855749, 5.96822773, 5.94873256, 5.77671204,\n",
       "       5.65256162, 7.49373014, 7.03651254, 7.0955346 , 7.10082774,\n",
       "       6.47514236, 7.36692841, 6.39937274, 6.7672679 , 7.1385876 ,\n",
       "       6.5532181 , 7.52712553, 6.97544303, 6.94261024, 7.0965232 ,\n",
       "       7.20049491, 5.98549223])"
      ]
     },
     "execution_count": 41,
     "metadata": {},
     "output_type": "execute_result"
    }
   ],
   "source": [
    "linear_test_pred = model.predict(sc_x_test)\n",
    "linear_test_pred"
   ]
  },
  {
   "cell_type": "code",
   "execution_count": 42,
   "metadata": {},
   "outputs": [
    {
     "data": {
      "text/plain": [
       "{'r2': array([0.33042854]),\n",
       " 'k': 0.6638339551233166,\n",
       " 'k_dash': 1.1906221040611535,\n",
       " 'r2r0': array([0.03502723]),\n",
       " 'r2r0_dash': array([5.2863079]),\n",
       " 'r0r0_dash': array([1.735173]),\n",
       " 'rm2_bar': array([0.09429967]),\n",
       " 'd_rm2': array([0.40116108])}"
      ]
     },
     "execution_count": 42,
     "metadata": {},
     "output_type": "execute_result"
    }
   ],
   "source": [
    "linear_qsar = qsar_param(y_train, train_q2_linear[1], d_r2m=True)\n",
    "linear_qsar"
   ]
  },
  {
   "cell_type": "code",
   "execution_count": 43,
   "metadata": {},
   "outputs": [
    {
     "data": {
      "text/plain": [
       "{'r2': array([0.5232266]),\n",
       " 'k': 0.7786497328985011,\n",
       " 'k_dash': 1.09460836318302,\n",
       " 'r2r0': array([0.02511701]),\n",
       " 'r2r0_dash': array([1.18720204]),\n",
       " 'r0r0_dash': array([0.6080338]),\n",
       " 'rm2_bar': array([0.28704602]),\n",
       " 'd_rm2': array([0.35239778])}"
      ]
     },
     "execution_count": 43,
     "metadata": {},
     "output_type": "execute_result"
    }
   ],
   "source": [
    "linear_qsar = qsar_param(y_test, linear_test_pred, d_r2m=True)\n",
    "linear_qsar"
   ]
  },
  {
   "cell_type": "code",
   "execution_count": 44,
   "metadata": {},
   "outputs": [
    {
     "data": {
      "text/plain": [
       "array([0.36676967])"
      ]
     },
     "execution_count": 44,
     "metadata": {},
     "output_type": "execute_result"
    }
   ],
   "source": [
    "linear_y = y_random(model, sc_x_train, y_train, n=10)\n",
    "linear_y"
   ]
  },
  {
   "cell_type": "code",
   "execution_count": 56,
   "metadata": {},
   "outputs": [
    {
     "name": "stdout",
     "output_type": "stream",
     "text": [
      "0.16822429906542055\n"
     ]
    },
    {
     "data": {
      "image/png": "[encoded data removed]",
      "text/plain": [
       "<Figure size 432x288 with 1 Axes>"
      ]
     },
     "metadata": {
      "needs_background": "light"
     },
     "output_type": "display_data"
    }
   ],
   "source": [
    "plt.title('Linear-Applicability domain')\n",
    "linear_AD = applicability_domain(sc_x_train, sc_x_test, y_train, train_q2_linear[1], y_test, linear_test_pred)\n",
    "linear_AD"
   ]
  },
  {
   "cell_type": "code",
   "execution_count": 46,
   "metadata": {},
   "outputs": [
    {
     "data": {
      "image/png": "[encoded data removed]",
      "text/plain": [
       "<Figure size 432x288 with 1 Axes>"
      ]
     },
     "metadata": {
      "needs_background": "light"
     },
     "output_type": "display_data"
    }
   ],
   "source": [
    "fig, ax = plt.subplots()\n",
    "ax.scatter(y_train, train_q2_linear[1], c='b',marker='o', label='training data')\n",
    "ax.scatter(y_test, linear_test_pred, c='r',marker='^', label='test data')\n",
    "ax.plot([0, 1], [0, 1], color=\"black\",transform=ax.transAxes)\n",
    "plt.title('Linear-Actual vs Predict')\n",
    "ax.set_xlabel('Predicted pIC50')\n",
    "ax.set_ylabel('Experimental pIC50')\n",
    "plt.savefig('./linear_Actual vs Predict.png', format='png', dpi=1000, bbox_inches=\"tight\")\n",
    "plt.show()"
   ]
  },
  {
   "cell_type": "code",
   "execution_count": 47,
   "metadata": {},
   "outputs": [
    {
     "data": {
      "image/png": "[encoded data removed]",
      "text/plain": [
       "<Figure size 432x288 with 1 Axes>"
      ]
     },
     "metadata": {
      "needs_background": "light"
     },
     "output_type": "display_data"
    }
   ],
   "source": [
    "#dataframe to list\n",
    "r_train = pd.DataFrame(y_train).to_numpy()\n",
    "r_train_pred = pd.DataFrame(train_q2_linear[1]).to_numpy()\n",
    "r_test = pd.DataFrame(y_test).to_numpy()\n",
    "r_test_pred = pd.DataFrame(linear_test_pred).to_numpy()\n",
    "\n",
    "l_train = r_train-r_train_pred\n",
    "l_test = r_test-r_test_pred\n",
    "\n",
    "plt.axhline(y=0, c='k', linewidth=0.8, linestyle='--')\n",
    "plt.scatter(r_train, l_train, c='b',marker='o', label='training data')\n",
    "plt.scatter(r_test, l_test, c='r',marker='^', label='test data')\n",
    "plt.title(\"Linear-Actual vs Residual\")\n",
    "plt.xlabel(\"Predict Values\")\n",
    "plt.ylabel(\"Residual\")\n",
    "plt.savefig('./linear_Actual vs Residual.png', format='png', dpi=1000, bbox_inches=\"tight\")"
   ]
  },
  {
   "cell_type": "code",
   "execution_count": null,
   "metadata": {},
   "outputs": [],
   "source": []
  }
 ],
 "metadata": {
  "kernelspec": {
   "display_name": "Python 3",
   "language": "python",
   "name": "python3"
  },
  "language_info": {
   "codemirror_mode": {
    "name": "ipython",
    "version": 3
   },
   "file_extension": ".py",
   "mimetype": "text/x-python",
   "name": "python",
   "nbconvert_exporter": "python",
   "pygments_lexer": "ipython3",
   "version": "3.7.6"
  }
 },
 "nbformat": 4,
 "nbformat_minor": 4
}
