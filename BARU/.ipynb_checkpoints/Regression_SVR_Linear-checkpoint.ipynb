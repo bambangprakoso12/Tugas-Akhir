{
 "cells": [
  {
   "cell_type": "code",
   "execution_count": 69,
   "metadata": {},
   "outputs": [],
   "source": [
    "import numpy as np\n",
    "import pandas as pd\n",
    "from sklearn.model_selection import train_test_split\n",
    "from sklearn.model_selection import GridSearchCV\n",
    "from sklearn.preprocessing import MinMaxScaler\n",
    "from sklearn.svm import SVR\n",
    "from sklearn.metrics import r2_score,mean_squared_error\n",
    "import seaborn as sns\n",
    "import matplotlib.pyplot as plt\n",
    "import pickle\n",
    "from joblib import dump, load"
   ]
  },
  {
   "cell_type": "code",
   "execution_count": 70,
   "metadata": {},
   "outputs": [],
   "source": [
    "# Load Data Train csv\n",
    "train = pickle.load(open('Train_Test/train_bams.p','rb'))\n",
    "test = pickle.load(open('Train_Test/test_bams.p','rb'))"
   ]
  },
  {
   "cell_type": "code",
   "execution_count": 71,
   "metadata": {},
   "outputs": [
    {
     "data": {
      "text/plain": [
       "['SHCsatu',\n",
       " 'minHdsCH',\n",
       " 'mindsN',\n",
       " 'maxHdsCH',\n",
       " 'maxssCH2',\n",
       " 'RDF30i',\n",
       " 'RDF30i',\n",
       " 'SdsN',\n",
       " 'GATS4i',\n",
       " 'AATSC8i',\n",
       " 'GATS2s',\n",
       " 'GATS2s',\n",
       " 'VCH-7',\n",
       " 'AATSC6s',\n",
       " 'GATS2e',\n",
       " 'WTPT-4',\n",
       " 'MATS3p',\n",
       " 'GATS4p',\n",
       " 'SRW5',\n",
       " 'ATSC2s',\n",
       " 'n3Ring',\n",
       " 'VCH-3',\n",
       " 'VCH-3',\n",
       " 'AATS8v',\n",
       " 'AATS8v']"
      ]
     },
     "execution_count": 71,
     "metadata": {},
     "output_type": "execute_result"
    }
   ],
   "source": [
    "# Load Pickle POLY\n",
    "label_25 = pickle.load(open(\"desc/desc25.pkl\", \"rb\"))\n",
    "label_25"
   ]
  },
  {
   "cell_type": "code",
   "execution_count": 72,
   "metadata": {},
   "outputs": [],
   "source": [
    "x_train = train.loc[:,label_25]\n",
    "x_test = test.loc[:,label_25]\n",
    "y_train = train.iloc[:,[-1]]\n",
    "y_test = test.iloc[:,[-1]]"
   ]
  },
  {
   "cell_type": "code",
   "execution_count": 73,
   "metadata": {},
   "outputs": [
    {
     "data": {
      "text/plain": [
       "((107, 25),\n",
       " (27, 25),\n",
       "      pIC50\n",
       " 125  5.958\n",
       " 74   5.854\n",
       " 1    6.292\n",
       " 110  7.921\n",
       " 99   5.854\n",
       " ..     ...\n",
       " 68   6.180\n",
       " 95   5.585\n",
       " 32   8.699\n",
       " 124  7.229\n",
       " 131  7.259\n",
       " \n",
       " [107 rows x 1 columns],\n",
       "      pIC50\n",
       " 80   5.252\n",
       " 104  5.367\n",
       " 94   5.319\n",
       " 71   6.666\n",
       " 51   8.569\n",
       " 3    6.310\n",
       " 28   7.824\n",
       " 84   6.114\n",
       " 126  6.958\n",
       " 103  6.292\n",
       " 85   5.886\n",
       " 25   8.398\n",
       " 48   7.921\n",
       " 10   6.393\n",
       " 0    5.842\n",
       " 52   5.009\n",
       " 35   8.000\n",
       " 98   5.444\n",
       " 108  6.244\n",
       " 114  8.108\n",
       " 13   6.224\n",
       " 40   8.432\n",
       " 112  6.409\n",
       " 109  7.081\n",
       " 26   8.495\n",
       " 43   8.456\n",
       " 93   5.721)"
      ]
     },
     "execution_count": 73,
     "metadata": {},
     "output_type": "execute_result"
    }
   ],
   "source": [
    "x_train.shape, x_test.shape, y_train, y_test"
   ]
  },
  {
   "cell_type": "code",
   "execution_count": 74,
   "metadata": {},
   "outputs": [],
   "source": [
    "mmscaler = MinMaxScaler()\n",
    "mmscaler.fit(x_train)\n",
    "sc_x_train = mmscaler.transform(x_train)\n",
    "sc_x_test = mmscaler.transform(x_test)"
   ]
  },
  {
   "cell_type": "code",
   "execution_count": 75,
   "metadata": {},
   "outputs": [],
   "source": [
    "paramgrid = {\n",
    "    'C' : [0.1,1,10,100,1000],\n",
    "    'degree' : [1],\n",
    "    'epsilon' : [0.1,1,10,100,1000]\n",
    "}"
   ]
  },
  {
   "cell_type": "code",
   "execution_count": 76,
   "metadata": {},
   "outputs": [
    {
     "name": "stderr",
     "output_type": "stream",
     "text": [
      "C:\\Users\\Bams\\anaconda3\\lib\\site-packages\\sklearn\\utils\\validation.py:760: DataConversionWarning: A column-vector y was passed when a 1d array was expected. Please change the shape of y to (n_samples, ), for example using ravel().\n",
      "  y = column_or_1d(y, warn=True)\n"
     ]
    },
    {
     "data": {
      "text/plain": [
       "GridSearchCV(cv=5, error_score=nan,\n",
       "             estimator=SVR(C=1.0, cache_size=200, coef0=0.0, degree=3,\n",
       "                           epsilon=0.1, gamma='scale', kernel='linear',\n",
       "                           max_iter=-1, shrinking=True, tol=0.001,\n",
       "                           verbose=False),\n",
       "             iid='deprecated', n_jobs=-1,\n",
       "             param_grid={'C': [0.1, 1, 10, 100, 1000], 'degree': [1],\n",
       "                         'epsilon': [0.1, 1, 10, 100, 1000]},\n",
       "             pre_dispatch='2*n_jobs', refit=True, return_train_score=False,\n",
       "             scoring='neg_mean_squared_error', verbose=0)"
      ]
     },
     "execution_count": 76,
     "metadata": {},
     "output_type": "execute_result"
    }
   ],
   "source": [
    "grid = GridSearchCV(\n",
    "        estimator = SVR(kernel = 'linear'),\n",
    "        param_grid = paramgrid,\n",
    "        cv = 5,\n",
    "        scoring = 'neg_mean_squared_error',\n",
    "        n_jobs = -1\n",
    ")\n",
    "grid.fit(sc_x_train, y_train)"
   ]
  },
  {
   "cell_type": "code",
   "execution_count": 77,
   "metadata": {},
   "outputs": [
    {
     "data": {
      "text/plain": [
       "{'C': 1, 'degree': 1, 'epsilon': 0.1}"
      ]
     },
     "execution_count": 77,
     "metadata": {},
     "output_type": "execute_result"
    }
   ],
   "source": [
    "grid.best_params_"
   ]
  },
  {
   "cell_type": "code",
   "execution_count": 78,
   "metadata": {},
   "outputs": [],
   "source": [
    "pickle.dump(grid.best_params_, open( \"data_Linear/params_linear_25.p\", \"wb\" ))"
   ]
  },
  {
   "cell_type": "code",
   "execution_count": 79,
   "metadata": {},
   "outputs": [
    {
     "name": "stderr",
     "output_type": "stream",
     "text": [
      "C:\\Users\\Bams\\anaconda3\\lib\\site-packages\\sklearn\\utils\\validation.py:760: DataConversionWarning: A column-vector y was passed when a 1d array was expected. Please change the shape of y to (n_samples, ), for example using ravel().\n",
      "  y = column_or_1d(y, warn=True)\n"
     ]
    },
    {
     "data": {
      "text/plain": [
       "SVR(C=1, cache_size=200, coef0=0.0, degree=1, epsilon=0.1, gamma='scale',\n",
       "    kernel='linear', max_iter=-1, shrinking=True, tol=0.001, verbose=False)"
      ]
     },
     "execution_count": 79,
     "metadata": {},
     "output_type": "execute_result"
    }
   ],
   "source": [
    "# model\n",
    "model = SVR(kernel = 'linear', C = grid.best_params_['C'],\n",
    "           degree = grid.best_params_['degree'],\n",
    "           epsilon = grid.best_params_['epsilon'])\n",
    "model.fit(sc_x_train, y_train)"
   ]
  },
  {
   "cell_type": "code",
   "execution_count": 80,
   "metadata": {},
   "outputs": [],
   "source": [
    "y_train_pred = model.predict(sc_x_train)\n",
    "y_test_pred = model.predict(sc_x_test)"
   ]
  },
  {
   "cell_type": "code",
   "execution_count": 81,
   "metadata": {},
   "outputs": [],
   "source": [
    "train_r2 = r2_score(y_train, y_train_pred)\n",
    "test_r2 = r2_score(y_test, y_test_pred)"
   ]
  },
  {
   "cell_type": "code",
   "execution_count": 82,
   "metadata": {},
   "outputs": [
    {
     "data": {
      "text/plain": [
       "0.7620530500771677"
      ]
     },
     "execution_count": 82,
     "metadata": {},
     "output_type": "execute_result"
    }
   ],
   "source": [
    "train_r2"
   ]
  },
  {
   "cell_type": "code",
   "execution_count": 83,
   "metadata": {},
   "outputs": [],
   "source": [
    "pickle.dump(train_r2, open( \"data_Linear/train_linear_25.p\", \"wb\" ))"
   ]
  },
  {
   "cell_type": "code",
   "execution_count": 84,
   "metadata": {},
   "outputs": [
    {
     "data": {
      "text/plain": [
       "0.7475349096694942"
      ]
     },
     "execution_count": 84,
     "metadata": {},
     "output_type": "execute_result"
    }
   ],
   "source": [
    "test_r2"
   ]
  },
  {
   "cell_type": "code",
   "execution_count": 85,
   "metadata": {},
   "outputs": [],
   "source": [
    "pickle.dump(test_r2, open( \"data_Linear/test_linear_25.p\", \"wb\" ))"
   ]
  },
  {
   "cell_type": "code",
   "execution_count": 86,
   "metadata": {},
   "outputs": [],
   "source": [
    "# Load Pickle \n",
    "params5 = pickle.load(open(\"data_Linear/params_linear_5.p\", \"rb\"))\n",
    "train_linear5 = pickle.load(open(\"data_Linear/train_linear_5.p\", \"rb\"))\n",
    "test_linear5 = pickle.load(open(\"data_Linear/test_linear_5.p\", \"rb\"))\n",
    "\n",
    "params10 = pickle.load(open(\"data_Linear/params_linear_10.p\", \"rb\"))\n",
    "train_linear10 = pickle.load(open(\"data_Linear/train_linear_10.p\", \"rb\"))\n",
    "test_linear10 = pickle.load(open(\"data_Linear/test_linear_10.p\", \"rb\"))\n",
    "\n",
    "params15 = pickle.load(open(\"data_Linear/params_linear_15.p\", \"rb\"))\n",
    "train_linear15 = pickle.load(open(\"data_Linear/train_linear_15.p\", \"rb\"))\n",
    "test_linear15 = pickle.load(open(\"data_Linear/test_linear_15.p\", \"rb\"))\n",
    "\n",
    "params20 = pickle.load(open(\"data_Linear/params_linear_20.p\", \"rb\"))\n",
    "train_linear20 = pickle.load(open(\"data_Linear/train_linear_20.p\", \"rb\"))\n",
    "test_linear20 = pickle.load(open(\"data_Linear/test_linear_20.p\", \"rb\"))\n",
    "\n",
    "params25 = pickle.load(open(\"data_Linear/params_linear_25.p\", \"rb\"))\n",
    "train_linear25 = pickle.load(open(\"data_Linear/train_linear_25.p\", \"rb\"))\n",
    "test_linear25 = pickle.load(open(\"data_Linear/test_linear_25.p\", \"rb\"))"
   ]
  },
  {
   "cell_type": "code",
   "execution_count": 87,
   "metadata": {},
   "outputs": [
    {
     "data": {
      "text/plain": [
       "({'C': 100, 'degree': 1, 'epsilon': 1},\n",
       " 0.3851801385807617,\n",
       " 0.48651668516336166)"
      ]
     },
     "execution_count": 87,
     "metadata": {},
     "output_type": "execute_result"
    }
   ],
   "source": [
    "params5, train_linear5, test_linear5"
   ]
  },
  {
   "cell_type": "code",
   "execution_count": 88,
   "metadata": {},
   "outputs": [
    {
     "data": {
      "text/plain": [
       "({'C': 1, 'degree': 1, 'epsilon': 0.1}, 0.6749101987359583, 0.7405215786165336)"
      ]
     },
     "execution_count": 88,
     "metadata": {},
     "output_type": "execute_result"
    }
   ],
   "source": [
    "params10, train_linear10, test_linear10"
   ]
  },
  {
   "cell_type": "code",
   "execution_count": 89,
   "metadata": {},
   "outputs": [
    {
     "data": {
      "text/plain": [
       "({'C': 10, 'degree': 1, 'epsilon': 1}, 0.6230245035031439, 0.5823987848236698)"
      ]
     },
     "execution_count": 89,
     "metadata": {},
     "output_type": "execute_result"
    }
   ],
   "source": [
    "params15, train_linear15, test_linear15"
   ]
  },
  {
   "cell_type": "code",
   "execution_count": 90,
   "metadata": {},
   "outputs": [
    {
     "data": {
      "text/plain": [
       "({'C': 1, 'degree': 1, 'epsilon': 0.1}, 0.7609616472480392, 0.6895075494156417)"
      ]
     },
     "execution_count": 90,
     "metadata": {},
     "output_type": "execute_result"
    }
   ],
   "source": [
    "params20, train_linear20, test_linear20"
   ]
  },
  {
   "cell_type": "code",
   "execution_count": 91,
   "metadata": {},
   "outputs": [
    {
     "data": {
      "text/plain": [
       "({'C': 1, 'degree': 1, 'epsilon': 0.1}, 0.7620530500771677, 0.7475349096694942)"
      ]
     },
     "execution_count": 91,
     "metadata": {},
     "output_type": "execute_result"
    }
   ],
   "source": [
    "params25, train_linear25, test_linear25"
   ]
  },
  {
   "cell_type": "code",
   "execution_count": null,
   "metadata": {},
   "outputs": [],
   "source": []
  }
 ],
 "metadata": {
  "kernelspec": {
   "display_name": "Python 3",
   "language": "python",
   "name": "python3"
  },
  "language_info": {
   "codemirror_mode": {
    "name": "ipython",
    "version": 3
   },
   "file_extension": ".py",
   "mimetype": "text/x-python",
   "name": "python",
   "nbconvert_exporter": "python",
   "pygments_lexer": "ipython3",
   "version": "3.7.6"
  }
 },
 "nbformat": 4,
 "nbformat_minor": 4
}
