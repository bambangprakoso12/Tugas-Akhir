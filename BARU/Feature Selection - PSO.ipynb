{
 "cells": [
  {
   "cell_type": "code",
   "execution_count": 1,
   "metadata": {},
   "outputs": [],
   "source": [
    "import pandas as pd \n",
    "import numpy as np\n",
    "import pickle \n",
    "from sklearn.linear_model import LinearRegression\n",
    "from sklearn.model_selection import train_test_split\n",
    "from sklearn.metrics import mean_squared_error\n",
    "from sklearn.preprocessing import MinMaxScaler\n",
    "import matplotlib.pyplot as plt\n",
    "from tqdm import tqdm\n",
    "import random\n",
    "import joblib\n",
    "import pickle"
   ]
  },
  {
   "cell_type": "code",
   "execution_count": 169,
   "metadata": {},
   "outputs": [],
   "source": [
    "# Load Data Train csv\n",
    "df_train = pickle.load(open('Train_Test/train_bams.p','rb'))\n",
    "n_descriptor = 25 #kombinasi terbaik"
   ]
  },
  {
   "cell_type": "code",
   "execution_count": 170,
   "metadata": {},
   "outputs": [],
   "source": [
    "# Load Pickle corr_desc 100\n",
    "label = pickle.load(open(\"corr/corr_desc100.p\", \"rb\"))\n",
    "train = df_train.loc[:,label]\n",
    "train[\"pIC50\"]= df_train.iloc[:,-1]"
   ]
  },
  {
   "cell_type": "code",
   "execution_count": 171,
   "metadata": {},
   "outputs": [
    {
     "data": {
      "text/html": [
       "<div>\n",
       "<style scoped>\n",
       "    .dataframe tbody tr th:only-of-type {\n",
       "        vertical-align: middle;\n",
       "    }\n",
       "\n",
       "    .dataframe tbody tr th {\n",
       "        vertical-align: top;\n",
       "    }\n",
       "\n",
       "    .dataframe thead th {\n",
       "        text-align: right;\n",
       "    }\n",
       "</style>\n",
       "<table border=\"1\" class=\"dataframe\">\n",
       "  <thead>\n",
       "    <tr style=\"text-align: right;\">\n",
       "      <th></th>\n",
       "      <th>VCH-5</th>\n",
       "      <th>C2SP3</th>\n",
       "      <th>SHCsatu</th>\n",
       "      <th>MATS6s</th>\n",
       "      <th>VCH-6</th>\n",
       "      <th>nHCsatu</th>\n",
       "      <th>MATS6e</th>\n",
       "      <th>minHdsCH</th>\n",
       "      <th>mindsCH</th>\n",
       "      <th>minHCsats</th>\n",
       "      <th>...</th>\n",
       "      <th>LipinskiFailures</th>\n",
       "      <th>MATS4p</th>\n",
       "      <th>maxHBint8</th>\n",
       "      <th>nssCH2</th>\n",
       "      <th>AATS8v</th>\n",
       "      <th>ASP-1</th>\n",
       "      <th>SRW7</th>\n",
       "      <th>SHCsats</th>\n",
       "      <th>ATSC2e</th>\n",
       "      <th>pIC50</th>\n",
       "    </tr>\n",
       "  </thead>\n",
       "  <tbody>\n",
       "    <tr>\n",
       "      <th>125</th>\n",
       "      <td>0.079057</td>\n",
       "      <td>5</td>\n",
       "      <td>0.748232</td>\n",
       "      <td>-0.073039</td>\n",
       "      <td>0.204167</td>\n",
       "      <td>1.0</td>\n",
       "      <td>-0.020915</td>\n",
       "      <td>0.000000</td>\n",
       "      <td>0.000000</td>\n",
       "      <td>0.589585</td>\n",
       "      <td>...</td>\n",
       "      <td>0</td>\n",
       "      <td>0.034490</td>\n",
       "      <td>3.059484</td>\n",
       "      <td>6.0</td>\n",
       "      <td>169.903090</td>\n",
       "      <td>0.434891</td>\n",
       "      <td>4.595120</td>\n",
       "      <td>4.651469</td>\n",
       "      <td>0.844981</td>\n",
       "      <td>5.958</td>\n",
       "    </tr>\n",
       "    <tr>\n",
       "      <th>74</th>\n",
       "      <td>0.047140</td>\n",
       "      <td>5</td>\n",
       "      <td>2.428692</td>\n",
       "      <td>-0.157112</td>\n",
       "      <td>0.067974</td>\n",
       "      <td>3.0</td>\n",
       "      <td>-0.171494</td>\n",
       "      <td>0.637067</td>\n",
       "      <td>1.302805</td>\n",
       "      <td>0.700579</td>\n",
       "      <td>...</td>\n",
       "      <td>0</td>\n",
       "      <td>-0.046244</td>\n",
       "      <td>0.000000</td>\n",
       "      <td>3.0</td>\n",
       "      <td>162.197115</td>\n",
       "      <td>0.449608</td>\n",
       "      <td>4.595120</td>\n",
       "      <td>3.961000</td>\n",
       "      <td>0.591889</td>\n",
       "      <td>5.854</td>\n",
       "    </tr>\n",
       "    <tr>\n",
       "      <th>1</th>\n",
       "      <td>0.000000</td>\n",
       "      <td>4</td>\n",
       "      <td>1.449385</td>\n",
       "      <td>-0.075440</td>\n",
       "      <td>0.052908</td>\n",
       "      <td>2.0</td>\n",
       "      <td>-0.081837</td>\n",
       "      <td>0.484234</td>\n",
       "      <td>0.478514</td>\n",
       "      <td>0.545523</td>\n",
       "      <td>...</td>\n",
       "      <td>0</td>\n",
       "      <td>-0.085377</td>\n",
       "      <td>0.000000</td>\n",
       "      <td>7.0</td>\n",
       "      <td>147.616939</td>\n",
       "      <td>0.448320</td>\n",
       "      <td>2.708050</td>\n",
       "      <td>5.293406</td>\n",
       "      <td>0.140318</td>\n",
       "      <td>6.292</td>\n",
       "    </tr>\n",
       "    <tr>\n",
       "      <th>110</th>\n",
       "      <td>0.038490</td>\n",
       "      <td>5</td>\n",
       "      <td>0.756321</td>\n",
       "      <td>-0.060055</td>\n",
       "      <td>0.144355</td>\n",
       "      <td>1.0</td>\n",
       "      <td>-0.076918</td>\n",
       "      <td>0.000000</td>\n",
       "      <td>0.000000</td>\n",
       "      <td>0.599592</td>\n",
       "      <td>...</td>\n",
       "      <td>0</td>\n",
       "      <td>0.001763</td>\n",
       "      <td>3.187050</td>\n",
       "      <td>6.0</td>\n",
       "      <td>155.342091</td>\n",
       "      <td>0.435972</td>\n",
       "      <td>4.442651</td>\n",
       "      <td>4.716727</td>\n",
       "      <td>0.677952</td>\n",
       "      <td>7.921</td>\n",
       "    </tr>\n",
       "    <tr>\n",
       "      <th>99</th>\n",
       "      <td>0.047140</td>\n",
       "      <td>5</td>\n",
       "      <td>2.472921</td>\n",
       "      <td>-0.100758</td>\n",
       "      <td>0.095752</td>\n",
       "      <td>3.0</td>\n",
       "      <td>-0.122192</td>\n",
       "      <td>0.622275</td>\n",
       "      <td>1.407085</td>\n",
       "      <td>0.718472</td>\n",
       "      <td>...</td>\n",
       "      <td>0</td>\n",
       "      <td>-0.076616</td>\n",
       "      <td>0.000000</td>\n",
       "      <td>4.0</td>\n",
       "      <td>171.431645</td>\n",
       "      <td>0.447165</td>\n",
       "      <td>4.595120</td>\n",
       "      <td>4.036985</td>\n",
       "      <td>0.912688</td>\n",
       "      <td>5.854</td>\n",
       "    </tr>\n",
       "  </tbody>\n",
       "</table>\n",
       "<p>5 rows × 101 columns</p>\n",
       "</div>"
      ],
      "text/plain": [
       "        VCH-5  C2SP3   SHCsatu    MATS6s     VCH-6  nHCsatu    MATS6e  \\\n",
       "125  0.079057      5  0.748232 -0.073039  0.204167      1.0 -0.020915   \n",
       "74   0.047140      5  2.428692 -0.157112  0.067974      3.0 -0.171494   \n",
       "1    0.000000      4  1.449385 -0.075440  0.052908      2.0 -0.081837   \n",
       "110  0.038490      5  0.756321 -0.060055  0.144355      1.0 -0.076918   \n",
       "99   0.047140      5  2.472921 -0.100758  0.095752      3.0 -0.122192   \n",
       "\n",
       "     minHdsCH   mindsCH  minHCsats  ...  LipinskiFailures    MATS4p  \\\n",
       "125  0.000000  0.000000   0.589585  ...                 0  0.034490   \n",
       "74   0.637067  1.302805   0.700579  ...                 0 -0.046244   \n",
       "1    0.484234  0.478514   0.545523  ...                 0 -0.085377   \n",
       "110  0.000000  0.000000   0.599592  ...                 0  0.001763   \n",
       "99   0.622275  1.407085   0.718472  ...                 0 -0.076616   \n",
       "\n",
       "     maxHBint8  nssCH2      AATS8v     ASP-1      SRW7   SHCsats    ATSC2e  \\\n",
       "125   3.059484     6.0  169.903090  0.434891  4.595120  4.651469  0.844981   \n",
       "74    0.000000     3.0  162.197115  0.449608  4.595120  3.961000  0.591889   \n",
       "1     0.000000     7.0  147.616939  0.448320  2.708050  5.293406  0.140318   \n",
       "110   3.187050     6.0  155.342091  0.435972  4.442651  4.716727  0.677952   \n",
       "99    0.000000     4.0  171.431645  0.447165  4.595120  4.036985  0.912688   \n",
       "\n",
       "     pIC50  \n",
       "125  5.958  \n",
       "74   5.854  \n",
       "1    6.292  \n",
       "110  7.921  \n",
       "99   5.854  \n",
       "\n",
       "[5 rows x 101 columns]"
      ]
     },
     "execution_count": 171,
     "metadata": {},
     "output_type": "execute_result"
    }
   ],
   "source": [
    "train.head()"
   ]
  },
  {
   "cell_type": "code",
   "execution_count": 172,
   "metadata": {},
   "outputs": [
    {
     "data": {
      "text/plain": [
       "((85, 101), (22, 101))"
      ]
     },
     "execution_count": 172,
     "metadata": {},
     "output_type": "execute_result"
    }
   ],
   "source": [
    "# Data train dan validasi(test)\n",
    "train, test = train_test_split(train, test_size = 0.2, random_state = 10)\n",
    "train.shape, test.shape "
   ]
  },
  {
   "cell_type": "code",
   "execution_count": 173,
   "metadata": {},
   "outputs": [],
   "source": [
    "X_train = train.iloc[:,:-1]\n",
    "X_test = test.iloc[:,:-1]\n",
    "y_train = train.iloc[:, [-1]]\n",
    "y_test = test.iloc[:,[-1]]"
   ]
  },
  {
   "cell_type": "code",
   "execution_count": 174,
   "metadata": {},
   "outputs": [
    {
     "data": {
      "text/html": [
       "<div>\n",
       "<style scoped>\n",
       "    .dataframe tbody tr th:only-of-type {\n",
       "        vertical-align: middle;\n",
       "    }\n",
       "\n",
       "    .dataframe tbody tr th {\n",
       "        vertical-align: top;\n",
       "    }\n",
       "\n",
       "    .dataframe thead th {\n",
       "        text-align: right;\n",
       "    }\n",
       "</style>\n",
       "<table border=\"1\" class=\"dataframe\">\n",
       "  <thead>\n",
       "    <tr style=\"text-align: right;\">\n",
       "      <th></th>\n",
       "      <th>VCH-5</th>\n",
       "      <th>C2SP3</th>\n",
       "      <th>SHCsatu</th>\n",
       "      <th>MATS6s</th>\n",
       "      <th>VCH-6</th>\n",
       "      <th>nHCsatu</th>\n",
       "      <th>MATS6e</th>\n",
       "      <th>minHdsCH</th>\n",
       "      <th>mindsCH</th>\n",
       "      <th>minHCsats</th>\n",
       "      <th>...</th>\n",
       "      <th>LipinskiFailures</th>\n",
       "      <th>MATS4p</th>\n",
       "      <th>maxHBint8</th>\n",
       "      <th>nssCH2</th>\n",
       "      <th>AATS8v</th>\n",
       "      <th>ASP-1</th>\n",
       "      <th>SRW7</th>\n",
       "      <th>SHCsats</th>\n",
       "      <th>ATSC2e</th>\n",
       "      <th>pIC50</th>\n",
       "    </tr>\n",
       "  </thead>\n",
       "  <tbody>\n",
       "    <tr>\n",
       "      <th>65</th>\n",
       "      <td>0.000000</td>\n",
       "      <td>3</td>\n",
       "      <td>0.690610</td>\n",
       "      <td>-0.103790</td>\n",
       "      <td>0.020833</td>\n",
       "      <td>1.0</td>\n",
       "      <td>-0.125246</td>\n",
       "      <td>0.000000</td>\n",
       "      <td>0.000000</td>\n",
       "      <td>0.566899</td>\n",
       "      <td>...</td>\n",
       "      <td>0</td>\n",
       "      <td>-0.126003</td>\n",
       "      <td>0.000000</td>\n",
       "      <td>6.0</td>\n",
       "      <td>143.422792</td>\n",
       "      <td>0.455184</td>\n",
       "      <td>2.70805</td>\n",
       "      <td>4.434947</td>\n",
       "      <td>-0.567806</td>\n",
       "      <td>5.347</td>\n",
       "    </tr>\n",
       "    <tr>\n",
       "      <th>86</th>\n",
       "      <td>0.047140</td>\n",
       "      <td>5</td>\n",
       "      <td>4.016277</td>\n",
       "      <td>-0.085220</td>\n",
       "      <td>0.095752</td>\n",
       "      <td>5.0</td>\n",
       "      <td>-0.113502</td>\n",
       "      <td>0.541295</td>\n",
       "      <td>0.411607</td>\n",
       "      <td>0.718466</td>\n",
       "      <td>...</td>\n",
       "      <td>0</td>\n",
       "      <td>-0.082442</td>\n",
       "      <td>0.000000</td>\n",
       "      <td>4.0</td>\n",
       "      <td>170.016127</td>\n",
       "      <td>0.443095</td>\n",
       "      <td>4.59512</td>\n",
       "      <td>4.037274</td>\n",
       "      <td>1.375711</td>\n",
       "      <td>5.509</td>\n",
       "    </tr>\n",
       "    <tr>\n",
       "      <th>111</th>\n",
       "      <td>0.000000</td>\n",
       "      <td>5</td>\n",
       "      <td>0.699563</td>\n",
       "      <td>-0.072084</td>\n",
       "      <td>0.156900</td>\n",
       "      <td>1.0</td>\n",
       "      <td>-0.076780</td>\n",
       "      <td>0.000000</td>\n",
       "      <td>0.000000</td>\n",
       "      <td>0.576525</td>\n",
       "      <td>...</td>\n",
       "      <td>0</td>\n",
       "      <td>-0.003772</td>\n",
       "      <td>0.000000</td>\n",
       "      <td>6.0</td>\n",
       "      <td>156.815454</td>\n",
       "      <td>0.439524</td>\n",
       "      <td>0.00000</td>\n",
       "      <td>4.379723</td>\n",
       "      <td>0.990923</td>\n",
       "      <td>6.309</td>\n",
       "    </tr>\n",
       "    <tr>\n",
       "      <th>27</th>\n",
       "      <td>0.091287</td>\n",
       "      <td>6</td>\n",
       "      <td>0.718518</td>\n",
       "      <td>-0.040410</td>\n",
       "      <td>0.152543</td>\n",
       "      <td>1.0</td>\n",
       "      <td>-0.054141</td>\n",
       "      <td>0.000000</td>\n",
       "      <td>0.000000</td>\n",
       "      <td>0.459595</td>\n",
       "      <td>...</td>\n",
       "      <td>0</td>\n",
       "      <td>-0.062571</td>\n",
       "      <td>0.000000</td>\n",
       "      <td>6.0</td>\n",
       "      <td>152.371724</td>\n",
       "      <td>0.446110</td>\n",
       "      <td>4.59512</td>\n",
       "      <td>5.032628</td>\n",
       "      <td>-0.040316</td>\n",
       "      <td>8.201</td>\n",
       "    </tr>\n",
       "    <tr>\n",
       "      <th>132</th>\n",
       "      <td>0.020412</td>\n",
       "      <td>5</td>\n",
       "      <td>0.798765</td>\n",
       "      <td>-0.060641</td>\n",
       "      <td>0.145522</td>\n",
       "      <td>1.0</td>\n",
       "      <td>-0.017984</td>\n",
       "      <td>0.000000</td>\n",
       "      <td>0.000000</td>\n",
       "      <td>0.659604</td>\n",
       "      <td>...</td>\n",
       "      <td>0</td>\n",
       "      <td>0.013722</td>\n",
       "      <td>4.383304</td>\n",
       "      <td>6.0</td>\n",
       "      <td>169.242993</td>\n",
       "      <td>0.437469</td>\n",
       "      <td>4.59512</td>\n",
       "      <td>5.119233</td>\n",
       "      <td>0.793022</td>\n",
       "      <td>7.301</td>\n",
       "    </tr>\n",
       "    <tr>\n",
       "      <th>...</th>\n",
       "      <td>...</td>\n",
       "      <td>...</td>\n",
       "      <td>...</td>\n",
       "      <td>...</td>\n",
       "      <td>...</td>\n",
       "      <td>...</td>\n",
       "      <td>...</td>\n",
       "      <td>...</td>\n",
       "      <td>...</td>\n",
       "      <td>...</td>\n",
       "      <td>...</td>\n",
       "      <td>...</td>\n",
       "      <td>...</td>\n",
       "      <td>...</td>\n",
       "      <td>...</td>\n",
       "      <td>...</td>\n",
       "      <td>...</td>\n",
       "      <td>...</td>\n",
       "      <td>...</td>\n",
       "      <td>...</td>\n",
       "      <td>...</td>\n",
       "    </tr>\n",
       "    <tr>\n",
       "      <th>50</th>\n",
       "      <td>0.091287</td>\n",
       "      <td>6</td>\n",
       "      <td>0.763781</td>\n",
       "      <td>-0.063933</td>\n",
       "      <td>0.131027</td>\n",
       "      <td>1.0</td>\n",
       "      <td>-0.026642</td>\n",
       "      <td>0.000000</td>\n",
       "      <td>0.000000</td>\n",
       "      <td>0.517388</td>\n",
       "      <td>...</td>\n",
       "      <td>0</td>\n",
       "      <td>-0.066795</td>\n",
       "      <td>0.000000</td>\n",
       "      <td>6.0</td>\n",
       "      <td>146.906775</td>\n",
       "      <td>0.443067</td>\n",
       "      <td>4.59512</td>\n",
       "      <td>5.586728</td>\n",
       "      <td>5.345481</td>\n",
       "      <td>8.824</td>\n",
       "    </tr>\n",
       "    <tr>\n",
       "      <th>75</th>\n",
       "      <td>0.047140</td>\n",
       "      <td>5</td>\n",
       "      <td>2.511884</td>\n",
       "      <td>-0.131194</td>\n",
       "      <td>0.100049</td>\n",
       "      <td>3.0</td>\n",
       "      <td>-0.164723</td>\n",
       "      <td>0.630122</td>\n",
       "      <td>1.423497</td>\n",
       "      <td>0.728627</td>\n",
       "      <td>...</td>\n",
       "      <td>0</td>\n",
       "      <td>-0.033696</td>\n",
       "      <td>0.000000</td>\n",
       "      <td>4.0</td>\n",
       "      <td>171.385336</td>\n",
       "      <td>0.448320</td>\n",
       "      <td>4.59512</td>\n",
       "      <td>4.069730</td>\n",
       "      <td>0.353513</td>\n",
       "      <td>6.149</td>\n",
       "    </tr>\n",
       "    <tr>\n",
       "      <th>92</th>\n",
       "      <td>0.047140</td>\n",
       "      <td>5</td>\n",
       "      <td>3.454298</td>\n",
       "      <td>-0.126872</td>\n",
       "      <td>0.095752</td>\n",
       "      <td>4.0</td>\n",
       "      <td>-0.179701</td>\n",
       "      <td>0.630469</td>\n",
       "      <td>1.411716</td>\n",
       "      <td>0.466828</td>\n",
       "      <td>...</td>\n",
       "      <td>1</td>\n",
       "      <td>-0.089278</td>\n",
       "      <td>5.303527</td>\n",
       "      <td>5.0</td>\n",
       "      <td>168.375982</td>\n",
       "      <td>0.451893</td>\n",
       "      <td>4.59512</td>\n",
       "      <td>5.246979</td>\n",
       "      <td>0.204558</td>\n",
       "      <td>6.161</td>\n",
       "    </tr>\n",
       "    <tr>\n",
       "      <th>120</th>\n",
       "      <td>0.079057</td>\n",
       "      <td>5</td>\n",
       "      <td>0.694354</td>\n",
       "      <td>-0.087945</td>\n",
       "      <td>0.215408</td>\n",
       "      <td>1.0</td>\n",
       "      <td>-0.020591</td>\n",
       "      <td>0.000000</td>\n",
       "      <td>0.000000</td>\n",
       "      <td>0.570497</td>\n",
       "      <td>...</td>\n",
       "      <td>0</td>\n",
       "      <td>0.047113</td>\n",
       "      <td>0.000000</td>\n",
       "      <td>6.0</td>\n",
       "      <td>164.124288</td>\n",
       "      <td>0.437844</td>\n",
       "      <td>4.59512</td>\n",
       "      <td>4.340607</td>\n",
       "      <td>1.142244</td>\n",
       "      <td>7.221</td>\n",
       "    </tr>\n",
       "    <tr>\n",
       "      <th>116</th>\n",
       "      <td>0.033333</td>\n",
       "      <td>5</td>\n",
       "      <td>0.701451</td>\n",
       "      <td>-0.067171</td>\n",
       "      <td>0.182054</td>\n",
       "      <td>1.0</td>\n",
       "      <td>-0.056498</td>\n",
       "      <td>0.000000</td>\n",
       "      <td>0.000000</td>\n",
       "      <td>0.579104</td>\n",
       "      <td>...</td>\n",
       "      <td>0</td>\n",
       "      <td>0.003080</td>\n",
       "      <td>0.000000</td>\n",
       "      <td>6.0</td>\n",
       "      <td>154.536202</td>\n",
       "      <td>0.437110</td>\n",
       "      <td>4.59512</td>\n",
       "      <td>4.396604</td>\n",
       "      <td>0.928346</td>\n",
       "      <td>7.075</td>\n",
       "    </tr>\n",
       "  </tbody>\n",
       "</table>\n",
       "<p>85 rows × 101 columns</p>\n",
       "</div>"
      ],
      "text/plain": [
       "        VCH-5  C2SP3   SHCsatu    MATS6s     VCH-6  nHCsatu    MATS6e  \\\n",
       "65   0.000000      3  0.690610 -0.103790  0.020833      1.0 -0.125246   \n",
       "86   0.047140      5  4.016277 -0.085220  0.095752      5.0 -0.113502   \n",
       "111  0.000000      5  0.699563 -0.072084  0.156900      1.0 -0.076780   \n",
       "27   0.091287      6  0.718518 -0.040410  0.152543      1.0 -0.054141   \n",
       "132  0.020412      5  0.798765 -0.060641  0.145522      1.0 -0.017984   \n",
       "..        ...    ...       ...       ...       ...      ...       ...   \n",
       "50   0.091287      6  0.763781 -0.063933  0.131027      1.0 -0.026642   \n",
       "75   0.047140      5  2.511884 -0.131194  0.100049      3.0 -0.164723   \n",
       "92   0.047140      5  3.454298 -0.126872  0.095752      4.0 -0.179701   \n",
       "120  0.079057      5  0.694354 -0.087945  0.215408      1.0 -0.020591   \n",
       "116  0.033333      5  0.701451 -0.067171  0.182054      1.0 -0.056498   \n",
       "\n",
       "     minHdsCH   mindsCH  minHCsats  ...  LipinskiFailures    MATS4p  \\\n",
       "65   0.000000  0.000000   0.566899  ...                 0 -0.126003   \n",
       "86   0.541295  0.411607   0.718466  ...                 0 -0.082442   \n",
       "111  0.000000  0.000000   0.576525  ...                 0 -0.003772   \n",
       "27   0.000000  0.000000   0.459595  ...                 0 -0.062571   \n",
       "132  0.000000  0.000000   0.659604  ...                 0  0.013722   \n",
       "..        ...       ...        ...  ...               ...       ...   \n",
       "50   0.000000  0.000000   0.517388  ...                 0 -0.066795   \n",
       "75   0.630122  1.423497   0.728627  ...                 0 -0.033696   \n",
       "92   0.630469  1.411716   0.466828  ...                 1 -0.089278   \n",
       "120  0.000000  0.000000   0.570497  ...                 0  0.047113   \n",
       "116  0.000000  0.000000   0.579104  ...                 0  0.003080   \n",
       "\n",
       "     maxHBint8  nssCH2      AATS8v     ASP-1     SRW7   SHCsats    ATSC2e  \\\n",
       "65    0.000000     6.0  143.422792  0.455184  2.70805  4.434947 -0.567806   \n",
       "86    0.000000     4.0  170.016127  0.443095  4.59512  4.037274  1.375711   \n",
       "111   0.000000     6.0  156.815454  0.439524  0.00000  4.379723  0.990923   \n",
       "27    0.000000     6.0  152.371724  0.446110  4.59512  5.032628 -0.040316   \n",
       "132   4.383304     6.0  169.242993  0.437469  4.59512  5.119233  0.793022   \n",
       "..         ...     ...         ...       ...      ...       ...       ...   \n",
       "50    0.000000     6.0  146.906775  0.443067  4.59512  5.586728  5.345481   \n",
       "75    0.000000     4.0  171.385336  0.448320  4.59512  4.069730  0.353513   \n",
       "92    5.303527     5.0  168.375982  0.451893  4.59512  5.246979  0.204558   \n",
       "120   0.000000     6.0  164.124288  0.437844  4.59512  4.340607  1.142244   \n",
       "116   0.000000     6.0  154.536202  0.437110  4.59512  4.396604  0.928346   \n",
       "\n",
       "     pIC50  \n",
       "65   5.347  \n",
       "86   5.509  \n",
       "111  6.309  \n",
       "27   8.201  \n",
       "132  7.301  \n",
       "..     ...  \n",
       "50   8.824  \n",
       "75   6.149  \n",
       "92   6.161  \n",
       "120  7.221  \n",
       "116  7.075  \n",
       "\n",
       "[85 rows x 101 columns]"
      ]
     },
     "execution_count": 174,
     "metadata": {},
     "output_type": "execute_result"
    }
   ],
   "source": [
    "train"
   ]
  },
  {
   "cell_type": "code",
   "execution_count": 175,
   "metadata": {},
   "outputs": [
    {
     "data": {
      "text/plain": [
       "(85, 100)"
      ]
     },
     "execution_count": 175,
     "metadata": {},
     "output_type": "execute_result"
    }
   ],
   "source": [
    "X_train.shape"
   ]
  },
  {
   "cell_type": "code",
   "execution_count": 176,
   "metadata": {},
   "outputs": [],
   "source": [
    "#initialization\n",
    "c1 = 1.49 #acceleration coefficient\n",
    "c2 = 1.49 #acceleration coefficient\n",
    "w = 0.73 #inertia weight\n",
    "vel_limit = 0.6 #limit of velocity\n",
    "n_part = 20 #number of particle\n",
    "n_iter = 100 #number of iteration\n",
    "n_desc = X_train.shape[1] #total number of descriptor\n",
    "sel_desc = 25 #number of selected descriptor"
   ]
  },
  {
   "cell_type": "code",
   "execution_count": 177,
   "metadata": {},
   "outputs": [
    {
     "data": {
      "text/plain": [
       "100"
      ]
     },
     "execution_count": 177,
     "metadata": {},
     "output_type": "execute_result"
    }
   ],
   "source": [
    "# part\n",
    "n_desc"
   ]
  },
  {
   "cell_type": "code",
   "execution_count": 178,
   "metadata": {},
   "outputs": [],
   "source": [
    "model = LinearRegression()"
   ]
  },
  {
   "cell_type": "code",
   "execution_count": 179,
   "metadata": {},
   "outputs": [
    {
     "name": "stderr",
     "output_type": "stream",
     "text": [
      "100%|██████████████████████████████████████████████████████████████████████████████████| 20/20 [03:29<00:00, 10.46s/it]\n"
     ]
    }
   ],
   "source": [
    "# method PSO\n",
    "# mse_list = list()\n",
    "\n",
    "n_list = list()\n",
    "for i in tqdm(range(20)):\n",
    "    \n",
    "    ### Initiate particles\n",
    "    part = []\n",
    "    for i in range(n_part):\n",
    "        list_index = np.random.choice(X_train.shape[1], sel_desc, replace=False)\n",
    "        list_index = list(list_index)\n",
    "        list_index.sort()\n",
    "        list_index\n",
    "        part.append(list_index)\n",
    "\n",
    "    ### Initiate Velocity\n",
    "    vel = []\n",
    "    for i in range(n_part):\n",
    "        list_vel = list(np.zeros(sel_desc))\n",
    "        vel.append(list_vel)\n",
    "\n",
    "    pbest_part = []\n",
    "    pbest_mse = []\n",
    "\n",
    "    for i in range(n_part):\n",
    "        pbestMse = np.inf\n",
    "        pbest_mse.append(pbestMse)\n",
    "        pbest_part.append(0)\n",
    "    #print(pbest_mse)\n",
    "    gbest_mse = np.inf\n",
    "\n",
    "    for l in range(n_iter):\n",
    "        for j in range(n_part):\n",
    "            list_index = part[j]\n",
    "            X_train_slice = X_train.iloc[:,list_index]\n",
    "            X_test_slice = X_test.iloc[:,list_index]\n",
    "            \n",
    "            mmscaler = MinMaxScaler()\n",
    "            mmscaler.fit(X_train_slice)\n",
    "            sc_x_train = mmscaler.transform(X_train_slice)\n",
    "            sc_x_test = mmscaler.transform(X_test_slice)\n",
    "                    \n",
    "            model.fit(X_train_slice, y_train)\n",
    "            pred = model.predict(sc_x_test)\n",
    "            mse_value = mean_squared_error(y_test, pred)\n",
    "            if mse_value < pbest_mse[j]:\n",
    "                pbest_mse[j] = mse_value\n",
    "                pbest_part[j] = list_index[:]\n",
    "        gbest_mse = min(pbest_mse)\n",
    "        gbest_part = pbest_part[np.argmin(pbest_mse)]\n",
    "        for j in range(n_part):\n",
    "            for i in range(sel_desc):\n",
    "                vel[j][i] = (w * vel[j][i]) + (c1 * np.random.rand() * (pbest_part[j][i]-part[j][i]))+(c2 * np.random.rand() * (gbest_part[i] - part[j][i]))\n",
    "                if vel[j][i] > vel_limit:\n",
    "                    vel[j][i] = vel_limit\n",
    "                if vel[j][i] < -vel_limit:\n",
    "                    vel[j][i] = -vel_limit\n",
    "                part[j][i] = int(round(part[j][i]+vel[j][i]))\n",
    "            \n",
    "    n_list.append([gbest_part,gbest_mse])"
   ]
  },
  {
   "cell_type": "code",
   "execution_count": 180,
   "metadata": {},
   "outputs": [],
   "source": [
    "n_list\n",
    "df = pd.DataFrame(n_list, columns=['Particles','MSE'])"
   ]
  },
  {
   "cell_type": "code",
   "execution_count": 181,
   "metadata": {},
   "outputs": [
    {
     "data": {
      "text/html": [
       "<div>\n",
       "<style scoped>\n",
       "    .dataframe tbody tr th:only-of-type {\n",
       "        vertical-align: middle;\n",
       "    }\n",
       "\n",
       "    .dataframe tbody tr th {\n",
       "        vertical-align: top;\n",
       "    }\n",
       "\n",
       "    .dataframe thead th {\n",
       "        text-align: right;\n",
       "    }\n",
       "</style>\n",
       "<table border=\"1\" class=\"dataframe\">\n",
       "  <thead>\n",
       "    <tr style=\"text-align: right;\">\n",
       "      <th></th>\n",
       "      <th>Particles</th>\n",
       "      <th>MSE</th>\n",
       "    </tr>\n",
       "  </thead>\n",
       "  <tbody>\n",
       "    <tr>\n",
       "      <th>7</th>\n",
       "      <td>[1, 5, 10, 15, 19, 21, 21, 30, 31, 34, 37, 40,...</td>\n",
       "      <td>0.256274</td>\n",
       "    </tr>\n",
       "    <tr>\n",
       "      <th>4</th>\n",
       "      <td>[5, 8, 10, 15, 17, 25, 32, 35, 40, 42, 49, 49,...</td>\n",
       "      <td>0.273232</td>\n",
       "    </tr>\n",
       "    <tr>\n",
       "      <th>3</th>\n",
       "      <td>[1, 5, 10, 12, 15, 17, 22, 26, 30, 34, 38, 42,...</td>\n",
       "      <td>0.283180</td>\n",
       "    </tr>\n",
       "    <tr>\n",
       "      <th>18</th>\n",
       "      <td>[5, 7, 9, 15, 17, 19, 21, 24, 32, 34, 40, 52, ...</td>\n",
       "      <td>0.379051</td>\n",
       "    </tr>\n",
       "    <tr>\n",
       "      <th>9</th>\n",
       "      <td>[6, 7, 10, 11, 16, 21, 24, 26, 31, 34, 36, 38,...</td>\n",
       "      <td>0.430999</td>\n",
       "    </tr>\n",
       "    <tr>\n",
       "      <th>19</th>\n",
       "      <td>[1, 5, 7, 18, 22, 26, 28, 32, 38, 39, 43, 45, ...</td>\n",
       "      <td>0.447592</td>\n",
       "    </tr>\n",
       "    <tr>\n",
       "      <th>2</th>\n",
       "      <td>[1, 6, 10, 12, 15, 19, 24, 35, 40, 45, 47, 51,...</td>\n",
       "      <td>0.458616</td>\n",
       "    </tr>\n",
       "    <tr>\n",
       "      <th>6</th>\n",
       "      <td>[1, 5, 9, 15, 18, 20, 25, 26, 32, 32, 37, 39, ...</td>\n",
       "      <td>0.482238</td>\n",
       "    </tr>\n",
       "    <tr>\n",
       "      <th>16</th>\n",
       "      <td>[1, 6, 11, 12, 16, 21, 26, 34, 35, 39, 42, 45,...</td>\n",
       "      <td>0.514643</td>\n",
       "    </tr>\n",
       "    <tr>\n",
       "      <th>12</th>\n",
       "      <td>[5, 7, 11, 15, 17, 23, 24, 28, 36, 39, 43, 45,...</td>\n",
       "      <td>0.593424</td>\n",
       "    </tr>\n",
       "    <tr>\n",
       "      <th>1</th>\n",
       "      <td>[5, 8, 10, 15, 17, 18, 21, 24, 25, 30, 35, 36,...</td>\n",
       "      <td>0.599212</td>\n",
       "    </tr>\n",
       "    <tr>\n",
       "      <th>17</th>\n",
       "      <td>[1, 8, 10, 14, 17, 22, 29, 29, 32, 37, 42, 45,...</td>\n",
       "      <td>0.621719</td>\n",
       "    </tr>\n",
       "    <tr>\n",
       "      <th>8</th>\n",
       "      <td>[1, 5, 9, 14, 15, 20, 26, 28, 34, 38, 39, 43, ...</td>\n",
       "      <td>0.678163</td>\n",
       "    </tr>\n",
       "    <tr>\n",
       "      <th>11</th>\n",
       "      <td>[1, 6, 8, 12, 19, 22, 28, 30, 35, 37, 38, 42, ...</td>\n",
       "      <td>0.708657</td>\n",
       "    </tr>\n",
       "    <tr>\n",
       "      <th>5</th>\n",
       "      <td>[1, 3, 9, 9, 11, 16, 19, 20, 25, 31, 32, 37, 3...</td>\n",
       "      <td>0.744126</td>\n",
       "    </tr>\n",
       "    <tr>\n",
       "      <th>0</th>\n",
       "      <td>[2, 7, 11, 14, 15, 19, 19, 26, 35, 37, 43, 43,...</td>\n",
       "      <td>0.770672</td>\n",
       "    </tr>\n",
       "    <tr>\n",
       "      <th>13</th>\n",
       "      <td>[5, 8, 10, 12, 15, 21, 22, 23, 26, 34, 39, 43,...</td>\n",
       "      <td>1.157028</td>\n",
       "    </tr>\n",
       "    <tr>\n",
       "      <th>10</th>\n",
       "      <td>[4, 8, 10, 12, 17, 20, 26, 28, 33, 37, 43, 47,...</td>\n",
       "      <td>1.176509</td>\n",
       "    </tr>\n",
       "    <tr>\n",
       "      <th>15</th>\n",
       "      <td>[1, 7, 10, 12, 17, 21, 25, 29, 34, 36, 38, 42,...</td>\n",
       "      <td>1.411541</td>\n",
       "    </tr>\n",
       "    <tr>\n",
       "      <th>14</th>\n",
       "      <td>[5, 9, 15, 16, 16, 21, 28, 31, 34, 36, 40, 41,...</td>\n",
       "      <td>1.444276</td>\n",
       "    </tr>\n",
       "  </tbody>\n",
       "</table>\n",
       "</div>"
      ],
      "text/plain": [
       "                                            Particles       MSE\n",
       "7   [1, 5, 10, 15, 19, 21, 21, 30, 31, 34, 37, 40,...  0.256274\n",
       "4   [5, 8, 10, 15, 17, 25, 32, 35, 40, 42, 49, 49,...  0.273232\n",
       "3   [1, 5, 10, 12, 15, 17, 22, 26, 30, 34, 38, 42,...  0.283180\n",
       "18  [5, 7, 9, 15, 17, 19, 21, 24, 32, 34, 40, 52, ...  0.379051\n",
       "9   [6, 7, 10, 11, 16, 21, 24, 26, 31, 34, 36, 38,...  0.430999\n",
       "19  [1, 5, 7, 18, 22, 26, 28, 32, 38, 39, 43, 45, ...  0.447592\n",
       "2   [1, 6, 10, 12, 15, 19, 24, 35, 40, 45, 47, 51,...  0.458616\n",
       "6   [1, 5, 9, 15, 18, 20, 25, 26, 32, 32, 37, 39, ...  0.482238\n",
       "16  [1, 6, 11, 12, 16, 21, 26, 34, 35, 39, 42, 45,...  0.514643\n",
       "12  [5, 7, 11, 15, 17, 23, 24, 28, 36, 39, 43, 45,...  0.593424\n",
       "1   [5, 8, 10, 15, 17, 18, 21, 24, 25, 30, 35, 36,...  0.599212\n",
       "17  [1, 8, 10, 14, 17, 22, 29, 29, 32, 37, 42, 45,...  0.621719\n",
       "8   [1, 5, 9, 14, 15, 20, 26, 28, 34, 38, 39, 43, ...  0.678163\n",
       "11  [1, 6, 8, 12, 19, 22, 28, 30, 35, 37, 38, 42, ...  0.708657\n",
       "5   [1, 3, 9, 9, 11, 16, 19, 20, 25, 31, 32, 37, 3...  0.744126\n",
       "0   [2, 7, 11, 14, 15, 19, 19, 26, 35, 37, 43, 43,...  0.770672\n",
       "13  [5, 8, 10, 12, 15, 21, 22, 23, 26, 34, 39, 43,...  1.157028\n",
       "10  [4, 8, 10, 12, 17, 20, 26, 28, 33, 37, 43, 47,...  1.176509\n",
       "15  [1, 7, 10, 12, 17, 21, 25, 29, 34, 36, 38, 42,...  1.411541\n",
       "14  [5, 9, 15, 16, 16, 21, 28, 31, 34, 36, 40, 41,...  1.444276"
      ]
     },
     "execution_count": 181,
     "metadata": {},
     "output_type": "execute_result"
    }
   ],
   "source": [
    "df_sort = df.copy()\n",
    "df_sort.sort_values('MSE', inplace=True)\n",
    "df_sort"
   ]
  },
  {
   "cell_type": "code",
   "execution_count": 182,
   "metadata": {},
   "outputs": [
    {
     "data": {
      "text/plain": [
       "7     0.256274\n",
       "4     0.273232\n",
       "3     0.283180\n",
       "18    0.379051\n",
       "9     0.430999\n",
       "19    0.447592\n",
       "2     0.458616\n",
       "6     0.482238\n",
       "16    0.514643\n",
       "12    0.593424\n",
       "1     0.599212\n",
       "17    0.621719\n",
       "8     0.678163\n",
       "11    0.708657\n",
       "5     0.744126\n",
       "0     0.770672\n",
       "13    1.157028\n",
       "10    1.176509\n",
       "15    1.411541\n",
       "14    1.444276\n",
       "Name: MSE, dtype: float64"
      ]
     },
     "execution_count": 182,
     "metadata": {},
     "output_type": "execute_result"
    }
   ],
   "source": [
    "var = df.sort_values(by=['MSE'], inplace=True)\n",
    "var = df['MSE']\n",
    "var"
   ]
  },
  {
   "cell_type": "code",
   "execution_count": 183,
   "metadata": {},
   "outputs": [
    {
     "data": {
      "text/plain": [
       "['./mse/mse25.pkl']"
      ]
     },
     "execution_count": 183,
     "metadata": {},
     "output_type": "execute_result"
    }
   ],
   "source": [
    "# joblib.dump(var,'./mse/mse25.pkl')"
   ]
  },
  {
   "cell_type": "code",
   "execution_count": 184,
   "metadata": {},
   "outputs": [
    {
     "data": {
      "text/plain": [
       "7     0.256274\n",
       "4     0.273232\n",
       "3     0.283180\n",
       "18    0.379051\n",
       "9     0.430999\n",
       "19    0.447592\n",
       "2     0.458616\n",
       "6     0.482238\n",
       "16    0.514643\n",
       "12    0.593424\n",
       "1     0.599212\n",
       "17    0.621719\n",
       "8     0.678163\n",
       "11    0.708657\n",
       "5     0.744126\n",
       "0     0.770672\n",
       "13    1.157028\n",
       "10    1.176509\n",
       "15    1.411541\n",
       "14    1.444276\n",
       "Name: MSE, dtype: float64"
      ]
     },
     "execution_count": 184,
     "metadata": {},
     "output_type": "execute_result"
    }
   ],
   "source": [
    "# joblib.load('./mse/mse25.pkl')"
   ]
  },
  {
   "cell_type": "code",
   "execution_count": 185,
   "metadata": {},
   "outputs": [
    {
     "name": "stdout",
     "output_type": "stream",
     "text": [
      "['VCH-5' 'C2SP3' 'SHCsatu' 'MATS6s' 'VCH-6' 'nHCsatu' 'MATS6e' 'minHdsCH'\n",
      " 'mindsCH' 'minHCsats' 'GATS6e' 'mindsN' 'maxdsN' 'maxHCsatu' 'maxHdsCH'\n",
      " 'maxssCH2' 'ndsN' 'nHCsats' 'maxdsCH' 'RDF30i' 'MATS6m' 'minssssC'\n",
      " 'MATS8i' 'SssssC' 'nHBAcc' 'MDEN-23' 'SdsN' 'AATSC6e' 'nssssC'\n",
      " 'SpMax2_Bhs' 'RDF30u' 'MATS2i' 'ATSC6e' 'SpMax1_Bhs' 'nHBAcc_Lipinski'\n",
      " 'GATS4i' 'AATSC6m' 'AATSC8i' 'GATS2i' 'RDF30e' 'HybRatio' 'ETA_EtaP_F_L'\n",
      " 'AATSC2i' 'GATS2s' 'ETA_EtaP_L' 'maxHCsats' 'ATSC6m' 'GATS6s' 'AVP-7'\n",
      " 'VCH-7' 'AVP-4' 'GATS6m' 'SpMax3_Bhs' 'ATSC2i' 'AATSC6s' 'ATSC6s'\n",
      " 'AATS3v' 'GATS2e' 'VCH-4' 'TDB9v' 'ATSC8i' 'AVP-6' 'nO' 'SHBint7'\n",
      " 'WTPT-4' 'SCH-5' 'minHsNH2' 'AATSC3p' 'MATS3p' 'AVP-5' 'SCH-4' 'GATS4p'\n",
      " 'TDB9m' 'maxHBint4' 'SRW5' 'MDEC-34' 'ATSC3p' 'RDF30s' 'LOBMIN' 'ATSC2s'\n",
      " 'MATS2s' 'SpMax7_Bhs' 'minHBint4' 'maxHBint5' 'n3Ring' 'SRW3' 'TDB9r'\n",
      " 'nHBint4' 'VCH-3' 'SCH-3' 'TDB4i' 'LipinskiFailures' 'MATS4p' 'maxHBint8'\n",
      " 'nssCH2' 'AATS8v' 'ASP-1' 'SRW7' 'SHCsats' 'ATSC2e']\n"
     ]
    }
   ],
   "source": [
    "desc_name = X_train.columns.tolist()\n",
    "desc_name = np.array(desc_name)\n",
    "print(desc_name)"
   ]
  },
  {
   "cell_type": "code",
   "execution_count": 186,
   "metadata": {},
   "outputs": [
    {
     "name": "stdout",
     "output_type": "stream",
     "text": [
      "['SHCsatu', 'minHdsCH', 'mindsN', 'maxHdsCH', 'maxssCH2', 'RDF30i', 'RDF30i', 'SdsN', 'GATS4i', 'AATSC8i', 'GATS2s', 'GATS2s', 'VCH-7', 'AATSC6s', 'GATS2e', 'WTPT-4', 'MATS3p', 'GATS4p', 'SRW5', 'ATSC2s', 'n3Ring', 'VCH-3', 'VCH-3', 'AATS8v', 'AATS8v']\n"
     ]
    }
   ],
   "source": [
    "best_desc = desc_name[df.loc[0,'Particles']]\n",
    "best_desc = list(best_desc)\n",
    "print(best_desc)"
   ]
  },
  {
   "cell_type": "code",
   "execution_count": 187,
   "metadata": {},
   "outputs": [
    {
     "data": {
      "text/plain": [
       "['./desc/desc25.pkl']"
      ]
     },
     "execution_count": 187,
     "metadata": {},
     "output_type": "execute_result"
    }
   ],
   "source": [
    "# joblib.dump(best_desc,'./desc/desc25.pkl')"
   ]
  },
  {
   "cell_type": "code",
   "execution_count": 188,
   "metadata": {},
   "outputs": [
    {
     "data": {
      "text/plain": [
       "['SHCsatu',\n",
       " 'minHdsCH',\n",
       " 'mindsN',\n",
       " 'maxHdsCH',\n",
       " 'maxssCH2',\n",
       " 'RDF30i',\n",
       " 'RDF30i',\n",
       " 'SdsN',\n",
       " 'GATS4i',\n",
       " 'AATSC8i',\n",
       " 'GATS2s',\n",
       " 'GATS2s',\n",
       " 'VCH-7',\n",
       " 'AATSC6s',\n",
       " 'GATS2e',\n",
       " 'WTPT-4',\n",
       " 'MATS3p',\n",
       " 'GATS4p',\n",
       " 'SRW5',\n",
       " 'ATSC2s',\n",
       " 'n3Ring',\n",
       " 'VCH-3',\n",
       " 'VCH-3',\n",
       " 'AATS8v',\n",
       " 'AATS8v']"
      ]
     },
     "execution_count": 188,
     "metadata": {},
     "output_type": "execute_result"
    }
   ],
   "source": [
    "# joblib.load('./desc/desc25.pkl')"
   ]
  },
  {
   "cell_type": "code",
   "execution_count": 189,
   "metadata": {},
   "outputs": [],
   "source": [
    "# n_list = columns=['Particles','MSE']\n",
    "# pickle.dump(n_list, open('data/5_list.p','wb'))"
   ]
  },
  {
   "cell_type": "code",
   "execution_count": 190,
   "metadata": {},
   "outputs": [
    {
     "data": {
      "text/plain": [
       "0.447592340231126"
      ]
     },
     "execution_count": 190,
     "metadata": {},
     "output_type": "execute_result"
    }
   ],
   "source": [
    "gbest_mse"
   ]
  },
  {
   "cell_type": "code",
   "execution_count": 191,
   "metadata": {},
   "outputs": [
    {
     "data": {
      "text/plain": [
       "0.49612060667112884"
      ]
     },
     "execution_count": 191,
     "metadata": {},
     "output_type": "execute_result"
    }
   ],
   "source": [
    "y_pred = model.predict(X_test_slice)\n",
    "mse = mean_squared_error(y_test, y_pred)\n",
    "mse"
   ]
  },
  {
   "cell_type": "code",
   "execution_count": 10,
   "metadata": {},
   "outputs": [
    {
     "data": {
      "image/png": "[encoded data removed]",
      "text/plain": [
       "<Figure size 432x288 with 1 Axes>"
      ]
     },
     "metadata": {
      "needs_background": "light"
     },
     "output_type": "display_data"
    }
   ],
   "source": [
    "fig = plt.figure()\n",
    "ax = fig.add_axes([0.5,0.5,1,1])\n",
    "numb = ['1', '2', '3', '4', '5', '6', '7', '8', '9', '10', '11', '12', '13', '14', '15', '16', '17', '18', '19','20']\n",
    "mse = joblib.load('./mse/mse25.pkl')\n",
    "mse = mse.sort_values(ascending=False)\n",
    "ax.bar(numb,mse)\n",
    "plt.title('25 Descriptor')\n",
    "plt.xlabel('Iteration')\n",
    "plt.ylabel('MSE')\n",
    "# plt.savefig('./10 Deskriptor.png', format='png', dpi=1000, bbox_inches=\"tight\")\n",
    "plt.show()"
   ]
  },
  {
   "cell_type": "code",
   "execution_count": 11,
   "metadata": {},
   "outputs": [
    {
     "data": {
      "image/png": "[encoded data removed]",
      "text/plain": [
       "<Figure size 480x320 with 1 Axes>"
      ]
     },
     "metadata": {
      "needs_background": "light"
     },
     "output_type": "display_data"
    }
   ],
   "source": [
    "fig, ax = plt.subplots(figsize=(6, 4), dpi=80)\n",
    "\n",
    "x = ['1', '2', '3', '4', '5', '6', '7', '8', '9', '10', '11', '12', '13', '14', '15', '16', '17', '18', '19','20']\n",
    "y = joblib.load('./mse/mse25.pkl')\n",
    "y = mse.sort_values(ascending=False)\n",
    "plt.title('25 Deskriptor')\n",
    "ax.set_xlabel('Iteration')\n",
    "ax.set_ylabel('MSE')\n",
    "ax.plot(x, y, marker='.',markersize=10, lw=2, color='b')\n",
    "# plt.savefig('./line plot 10 Deskriptor.png', format='png', dpi=1000, bbox_inches=\"tight\")\n",
    "plt.show()"
   ]
  },
  {
   "cell_type": "code",
   "execution_count": 6,
   "metadata": {},
   "outputs": [
    {
     "data": {
      "image/png": "[encoded data removed]",
      "text/plain": [
       "<Figure size 432x288 with 1 Axes>"
      ]
     },
     "metadata": {
      "needs_background": "light"
     },
     "output_type": "display_data"
    }
   ],
   "source": [
    "import matplotlib.pyplot as plt\n",
    "fig = plt.figure()\n",
    "ax = fig.add_axes([0.5,0.5,1,1]) \n",
    "mse = joblib.load('./mse/mse25.pkl')\n",
    "mse = mse.sort_values(ascending=False)\n",
    "\n",
    "y, binEdges = np.histogram(mse, bins=10, density= True)\n",
    "bincenters = 0.5*(binEdges[1:]+binEdges[:-1])\n",
    "\n",
    "plt.hist(mse, density= True, bins=10)\n",
    "plt.plot(bincenters,y,'--', lw=2, marker='s', markersize='10')\n",
    "plt.title('MSE Distribution 25 Descriptor')\n",
    "plt.ylabel('Frequency')\n",
    "plt.xlabel('MSE')\n",
    "# plt.savefig('./MSE Distribution 10 Deskriptor.png', format='png', dpi=1000, bbox_inches=\"tight\")\n",
    "plt.show()"
   ]
  },
  {
   "cell_type": "code",
   "execution_count": null,
   "metadata": {},
   "outputs": [],
   "source": []
  }
 ],
 "metadata": {
  "kernelspec": {
   "display_name": "Python 3",
   "language": "python",
   "name": "python3"
  },
  "language_info": {
   "codemirror_mode": {
    "name": "ipython",
    "version": 3
   },
   "file_extension": ".py",
   "mimetype": "text/x-python",
   "name": "python",
   "nbconvert_exporter": "python",
   "pygments_lexer": "ipython3",
   "version": "3.7.6"
  }
 },
 "nbformat": 4,
 "nbformat_minor": 4
}
