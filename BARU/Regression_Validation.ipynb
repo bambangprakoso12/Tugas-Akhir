{
 "cells": [
  {
   "cell_type": "code",
   "execution_count": 1,
   "metadata": {},
   "outputs": [],
   "source": [
    "import copy\n",
    "import numpy as np\n",
    "import pickle\n",
    "import matplotlib.pyplot as plt\n",
    "from sklearn.model_selection import GridSearchCV\n",
    "from sklearn.preprocessing import MinMaxScaler\n",
    "from sklearn.svm import SVR\n",
    "from sklearn.metrics import r2_score,mean_squared_error\n",
    "import seaborn as sns\n",
    "from sklearn.model_selection import LeaveOneOut\n",
    "from sklearn.model_selection import train_test_split\n",
    "from sklearn.model_selection import GridSearchCV\n",
    "from sklearn.preprocessing import MinMaxScaler\n",
    "import pandas as pd\n",
    "\n",
    "import warnings\n",
    "warnings.filterwarnings('ignore')"
   ]
  },
  {
   "cell_type": "code",
   "execution_count": 2,
   "metadata": {},
   "outputs": [],
   "source": [
    "def r2_score(y, y_pred, y_train=None):\n",
    "    sse = 0; sst = 0\n",
    "    if y_train is None:        \n",
    "        y_mean = np.mean(y)\n",
    "    else:\n",
    "        y_mean = np.mean(y_train)\n",
    "    for i in range(len(y)):\n",
    "        sse += (y[i] - y_pred[i]) ** 2\n",
    "        sst += (y[i] - y_mean) ** 2\n",
    "    r2_score = 1 - (sse / sst)\n",
    "    return r2_score"
   ]
  },
  {
   "cell_type": "code",
   "execution_count": 3,
   "metadata": {},
   "outputs": [],
   "source": [
    "def normalize(X):\n",
    "    max_ = np.max(X, axis=0)\n",
    "    min_ = np.min(X, axis=0)\n",
    "    X_norm = (X - min_) / (max_ - min_)\n",
    "    return max_, min_, X_norm"
   ]
  },
  {
   "cell_type": "code",
   "execution_count": 4,
   "metadata": {},
   "outputs": [],
   "source": [
    "def standardize(X):\n",
    "    mean_ = np.mean(X, axis=0)\n",
    "    std_ = np.std(X, axis=0)\n",
    "    X_norm = (X - mean_) / std_\n",
    "    return X_norm, mean_, std_"
   ]
  },
  {
   "cell_type": "code",
   "execution_count": 5,
   "metadata": {},
   "outputs": [],
   "source": [
    "def q2_loo(model, X, y):\n",
    "    loo = LeaveOneOut()\n",
    "    y_pred = []\n",
    "    for train_index, test_index in loo.split(X):\n",
    "        X_train, X_test = X[train_index], X[test_index]\n",
    "        y_train, y_test = y[train_index], y[test_index]\n",
    "        model.fit(X_train, y_train)\n",
    "        tmp = model.predict(X_test)\n",
    "        #tmp = scaler_y.inverse_transform(tmp)\n",
    "        y_pred.append(list(tmp)[0])\n",
    "    r2 = r2_score(y, y_pred)\n",
    "    return r2, y_pred"
   ]
  },
  {
   "cell_type": "code",
   "execution_count": 6,
   "metadata": {},
   "outputs": [],
   "source": [
    "def qsar_param(y, y_pred, d_r2m=True):\n",
    "    results = []\n",
    "    _, _, y = normalize(y)\n",
    "    _, _, y_pred = normalize(y_pred)\n",
    "    y_mean = np.mean(y); y_pred_mean = np.mean(y_pred)\n",
    "    # calculate r2\n",
    "    num = 0; den_1 = 0; den_2 = 0\n",
    "    for i in range(len(y)):\n",
    "        num += (y[i] - y_mean) * (y_pred[i] - y_pred_mean)\n",
    "        den_1 += (y_pred[i] - y_pred_mean) ** 2\n",
    "        den_2 += (y[i] - y_mean) ** 2\n",
    "    r2 = num ** 2 / (den_1 * den_2)\n",
    "    results = {\"r2\": r2}\n",
    "    # calculate k and k_dash\n",
    "    n_data = len(y)\n",
    "    dot_ = 0; y_pred2 = 0; y2 = 0\n",
    "    for i in range(n_data):\n",
    "        dot_ += (y[i] * y_pred[i])\n",
    "        y_pred2 += y_pred[i] ** 2\n",
    "        y2 += y[i] ** 2\n",
    "    k = np.sum(dot_) / np.sum(y_pred2)\n",
    "    k_dash = np.sum(dot_) / np.sum(y2)\n",
    "    results[\"k\"] = k\n",
    "    results[\"k_dash\"] = k_dash\n",
    "    # calculate r2_0 and r2_0_dash\n",
    "    num = 0; num_dash = 0; den = 0; den_dash = 0\n",
    "    for i in range(n_data):\n",
    "        num += (y[i] - (k * y_pred[i])) ** 2\n",
    "        num_dash += (y_pred[i] - (k_dash * y[i])) ** 2\n",
    "        den += (y[i] - y_mean) ** 2\n",
    "        den_dash += (y_pred[i] - y_pred_mean) ** 2\n",
    "    r2_0 = 1 - (num / den)\n",
    "    r2_0_dash = 1 - (num_dash / den_dash)\n",
    "    #results.append(r2_0)\n",
    "    #results.append(r2_0_dash)\n",
    "    r2r0 = (r2 - r2_0)/r2\n",
    "    r2r0_dash = (r2 - r2_0_dash)/r2\n",
    "    results[\"r2r0\"] = r2r0\n",
    "    results[\"r2r0_dash\"] = r2r0_dash\n",
    "    r0r0_dash = np.abs(r2_0 - r2_0_dash)\n",
    "    results[\"r0r0_dash\"] = r0r0_dash\n",
    "    # calculate rm2 and rm2_dash\n",
    "    rm2 = r2 * (1 - np.sqrt(r2 - r2_0))\n",
    "    rm2_dash = r2 * (1 - np.sqrt(r2 - r2_0_dash))\n",
    "    #results.append(rm2)\n",
    "    #results.append(rm2_dash)\n",
    "    # calculate rm2_bar and d_rm2\n",
    "    rm2_bar = (rm2 + rm2_dash) / 2\n",
    "    d_rm2 = np.abs(rm2 - rm2_dash)\n",
    "    results[\"rm2_bar\"] = rm2_bar\n",
    "    results[\"d_rm2\"] = d_rm2\n",
    "    return results"
   ]
  },
  {
   "cell_type": "code",
   "execution_count": 7,
   "metadata": {},
   "outputs": [],
   "source": [
    "def y_random(estimator, X, y, n=10):\n",
    "    # non-random\n",
    "    estimator.fit(X, y)\n",
    "    y_pred = estimator.predict(X)    \n",
    "    r2_nr = r2_score(y, y_pred)\n",
    "    r_nr = np.sqrt(r2_nr)\n",
    "    n_data = X.shape[0]\n",
    "    # random\n",
    "    r2_rand = []\n",
    "    range_ = list(range(n_data))\n",
    "    for i in range(n):\n",
    "        new_range_ = copy.deepcopy(range_)\n",
    "        np.random.shuffle(new_range_)\n",
    "        y_new = []\n",
    "        for i in new_range_:\n",
    "            y_new.append(y[i])\n",
    "        y_new = np.array(y_new)\n",
    "        estimator.fit(X, y_new)\n",
    "        y_pred = estimator.predict(X)\n",
    "        r2_rand.append(r2_score(y_new, y_pred))\n",
    "    r2_rand_avg = np.average(r2_rand)\n",
    "    rp = r_nr * np.sqrt(r2_nr - r2_rand_avg)\n",
    "    return rp"
   ]
  },
  {
   "cell_type": "code",
   "execution_count": 8,
   "metadata": {},
   "outputs": [],
   "source": [
    "def leverage(XtX, X):\n",
    "    levs = []\n",
    "    for i in range(X.shape[0]):\n",
    "        x = X[i,:]\n",
    "        lev = x.dot(XtX).dot(x.T)\n",
    "        levs.append(lev)\n",
    "    return levs"
   ]
  },
  {
   "cell_type": "code",
   "execution_count": 80,
   "metadata": {},
   "outputs": [],
   "source": [
    "def applicability_domain(X_train, X_test, y_train_act, \n",
    "                         y_train_pred, y_test_act, y_test_pred):\n",
    "    # using wilson map\n",
    "    X_train, _, _ = standardize(X_train)\n",
    "    X_test, _, _ = standardize(X_test)\n",
    "    n, p = X_train.shape\n",
    "    # calculate standardized residuals\n",
    "    err_train = []; res_train = []\n",
    "    for i in range(len(y_train_pred)):\n",
    "        err_train.append(y_train_act[i] - y_train_pred[i])\n",
    "    rmse_train = np.sqrt(r2_score(y_train_act, y_train_pred))\n",
    "    for i in range(len(y_train_pred)):\n",
    "        tmp = err_train[i]/rmse_train\n",
    "        res_train.append(tmp)\n",
    "    err_test = []; res_test = []\n",
    "    for i in range(len(y_test_pred)):\n",
    "        err_test.append(y_test_act[i] - y_test_pred[i])\n",
    "    rmse_test = np.sqrt(r2_score(y_test_act, y_test_pred))\n",
    "    for i in range(len(y_test_pred)):\n",
    "        tmp = err_test[i]/rmse_test\n",
    "        res_test.append(tmp)    \n",
    "    #res_test = [a/rmse_test for a in err_test]\n",
    "    # calculate leverage\n",
    "    XtX = X_train.T.dot(X_train)\n",
    "    XtX = np.linalg.pinv(XtX)\n",
    "    lev_train = leverage(XtX, X_train)\n",
    "    lev_test = leverage(XtX, X_test)\n",
    "    h_star = (3 * (p + 1)) / n\n",
    "    print(h_star)\n",
    "    #return (lev_train, res_train, lev_test, res_test, h_star)\n",
    "    #plotting\n",
    "    plt.scatter(lev_train, res_train, c='b',marker='o', label='training data')\n",
    "    plt.scatter(lev_test, res_test, c='r',marker='^', label='test data')\n",
    "    plt.axhline(y=3, c='k', linewidth=0.8)\n",
    "    plt.axhline(y=-3, c='k', linewidth=0.8)\n",
    "    plt.axvline(x=h_star, c='k', linewidth=0.8)\n",
    "    #plt.xticks([0,0.1,0.2,0.3,0.4,0.5,h_star,0.6],[0,0.1,0.2,0.3,0.4,0.5,\"h$^*$\",0.6])\n",
    "    plt.text(h_star+0.001, 0, \"h$^*$\")\n",
    "    plt.xlim(0, h_star + 0.1)\n",
    "    plt.ylim(-4, 4)\n",
    "    plt.xlabel('leverage')\n",
    "    plt.ylabel('standardized residual')\n",
    "    plt.legend(loc='upper right')\n",
    "    plt.savefig('./v2-linear_AD.png', format='png', dpi=1000, bbox_inches=\"tight\")    \n",
    "    plt.show()"
   ]
  },
  {
   "cell_type": "code",
   "execution_count": 81,
   "metadata": {},
   "outputs": [
    {
     "data": {
      "text/plain": [
       "((107, 1876), (27, 1876))"
      ]
     },
     "execution_count": 81,
     "metadata": {},
     "output_type": "execute_result"
    }
   ],
   "source": [
    "# Load Data Train csv\n",
    "train = pickle.load(open('Train_Test/train_bams.p','rb'))\n",
    "test = pickle.load(open('Train_Test/test_bams.p','rb'))\n",
    "train.shape, test.shape"
   ]
  },
  {
   "cell_type": "markdown",
   "metadata": {},
   "source": [
    "# SVR_RBF"
   ]
  },
  {
   "cell_type": "code",
   "execution_count": 59,
   "metadata": {},
   "outputs": [
    {
     "data": {
      "text/plain": [
       "SVR(C=10, cache_size=200, coef0=0.0, degree=3, epsilon=0.1, gamma='scale',\n",
       "    kernel='rbf', max_iter=-1, shrinking=True, tol=0.001, verbose=False)"
      ]
     },
     "execution_count": 59,
     "metadata": {},
     "output_type": "execute_result"
    }
   ],
   "source": [
    "# Load Pickle rbf\n",
    "params = pickle.load(open(\"data_RBF/params_rbf_10.p\", \"rb\"))\n",
    "\n",
    "label = pickle.load(open(\"desc/desc10.pkl\", \"rb\"))\n",
    "x_train = train.loc[:,label].to_numpy()\n",
    "x_test = test.loc[:,label].to_numpy()\n",
    "y_train = train.iloc[:,[-1]].to_numpy()\n",
    "y_test = test.iloc[:,[-1]].to_numpy()\n",
    "\n",
    "# minmax rbf\n",
    "mmscaler = MinMaxScaler()\n",
    "mmscaler.fit(x_train)\n",
    "sc_x_train = mmscaler.transform(x_train)\n",
    "sc_x_test = mmscaler.transform(x_test)\n",
    "\n",
    "# model\n",
    "model = SVR(kernel = 'rbf', C = params['C'],\n",
    "           gamma = params['gamma'],\n",
    "           epsilon = params['epsilon'])\n",
    "model.fit(sc_x_train, y_train)"
   ]
  },
  {
   "cell_type": "code",
   "execution_count": 60,
   "metadata": {},
   "outputs": [
    {
     "data": {
      "text/plain": [
       "(array([0.76731539]),\n",
       " [7.343677152347025,\n",
       "  5.640048603037845,\n",
       "  6.181186090466073,\n",
       "  7.051972476526224,\n",
       "  5.450322919005324,\n",
       "  8.168021447888385,\n",
       "  6.89144795547227,\n",
       "  8.778571178037375,\n",
       "  5.469268886041402,\n",
       "  7.089138866913938,\n",
       "  7.410525118395231,\n",
       "  6.561494537349775,\n",
       "  8.219892509173363,\n",
       "  6.3804551624034245,\n",
       "  7.978257768803534,\n",
       "  5.666809202757842,\n",
       "  7.21737949887984,\n",
       "  6.082587518498821,\n",
       "  5.890940138573753,\n",
       "  8.503789567966626,\n",
       "  7.888393242384313,\n",
       "  8.513364391512045,\n",
       "  7.262132378486734,\n",
       "  6.8326733770692885,\n",
       "  8.164960759290356,\n",
       "  6.222513906498762,\n",
       "  5.557861866931262,\n",
       "  6.7094088883801,\n",
       "  8.184557846407008,\n",
       "  5.689074319596674,\n",
       "  4.331791075386531,\n",
       "  5.518657932666818,\n",
       "  5.713408715675013,\n",
       "  5.469394542697656,\n",
       "  6.379550183069816,\n",
       "  6.0587031194887855,\n",
       "  6.526263745662071,\n",
       "  7.289565794666472,\n",
       "  6.568587065383721,\n",
       "  5.846568285154806,\n",
       "  5.561806864715694,\n",
       "  5.388680350041076,\n",
       "  7.80623166629082,\n",
       "  5.768354144394647,\n",
       "  5.939680210574378,\n",
       "  5.6340493583606985,\n",
       "  5.514397662358275,\n",
       "  5.7625974607498875,\n",
       "  5.53803038189903,\n",
       "  6.477501063361293,\n",
       "  5.761798669007262,\n",
       "  6.041375448297455,\n",
       "  6.84780550650915,\n",
       "  5.193112672372104,\n",
       "  7.314602794515463,\n",
       "  7.472308511274536,\n",
       "  8.225738318433239,\n",
       "  6.985399550425849,\n",
       "  5.2166162215904945,\n",
       "  7.020526873462533,\n",
       "  6.521224921406719,\n",
       "  6.139620731626296,\n",
       "  5.748761026491261,\n",
       "  6.197575008157309,\n",
       "  5.756359815012131,\n",
       "  5.894926638071669,\n",
       "  7.6401162461323855,\n",
       "  7.1782317936779485,\n",
       "  5.86053684622201,\n",
       "  8.407646981109417,\n",
       "  6.132469981454301,\n",
       "  6.806194644100601,\n",
       "  6.3966360390601915,\n",
       "  6.737711124550516,\n",
       "  7.090779453268862,\n",
       "  5.610779632894352,\n",
       "  5.291003177488145,\n",
       "  8.311364091440247,\n",
       "  8.554075034317925,\n",
       "  7.062321895288946,\n",
       "  6.099023255081488,\n",
       "  8.155756986598261,\n",
       "  7.120995401126934,\n",
       "  5.69575222617019,\n",
       "  6.573002894760437,\n",
       "  7.2348837006818325,\n",
       "  8.169508627764849,\n",
       "  8.490611982794608,\n",
       "  6.141815747181266,\n",
       "  7.280025227268633,\n",
       "  5.944230809575321,\n",
       "  8.194431181046824,\n",
       "  5.631333237393744,\n",
       "  6.560285213629146,\n",
       "  6.14745635455251,\n",
       "  6.096822527093935,\n",
       "  5.633889530609543,\n",
       "  6.377215531004265,\n",
       "  5.563048226839037,\n",
       "  6.472968399412243,\n",
       "  7.153331261811601,\n",
       "  7.063970194874339,\n",
       "  6.074578964070571,\n",
       "  5.662637205132517,\n",
       "  8.193375136570916,\n",
       "  7.15260101598652,\n",
       "  7.046082267614018])"
      ]
     },
     "execution_count": 60,
     "metadata": {},
     "output_type": "execute_result"
    }
   ],
   "source": [
    "train_rbf = q2_loo(model, sc_x_train, y_train)\n",
    "train_rbf"
   ]
  },
  {
   "cell_type": "code",
   "execution_count": 61,
   "metadata": {},
   "outputs": [
    {
     "data": {
      "text/plain": [
       "array([0.76731539])"
      ]
     },
     "execution_count": 61,
     "metadata": {},
     "output_type": "execute_result"
    }
   ],
   "source": [
    "train_rbf_r2 = r2_score(y_train, train_rbf[1])\n",
    "train_rbf_r2"
   ]
  },
  {
   "cell_type": "code",
   "execution_count": 62,
   "metadata": {},
   "outputs": [
    {
     "data": {
      "text/plain": [
       "((27, 1), 27)"
      ]
     },
     "execution_count": 62,
     "metadata": {},
     "output_type": "execute_result"
    }
   ],
   "source": [
    "y_test.shape, len(model.predict(x_test))"
   ]
  },
  {
   "cell_type": "code",
   "execution_count": 63,
   "metadata": {},
   "outputs": [
    {
     "data": {
      "text/plain": [
       "array([5.76103213, 5.53728859, 5.56881797, 6.22508554, 8.43848571,\n",
       "       7.03475966, 7.90860554, 5.76331892, 6.86089258, 5.73644217,\n",
       "       5.62371234, 8.23068631, 8.57367611, 6.95750598, 5.84488571,\n",
       "       5.51886324, 8.87361443, 5.66357674, 6.45670905, 7.17741268,\n",
       "       6.40903392, 7.9816622 , 7.16517555, 6.61240168, 8.17589869,\n",
       "       8.24551434, 5.57905115])"
      ]
     },
     "execution_count": 63,
     "metadata": {},
     "output_type": "execute_result"
    }
   ],
   "source": [
    "test_pred = model.predict(sc_x_test)\n",
    "test_pred"
   ]
  },
  {
   "cell_type": "code",
   "execution_count": 64,
   "metadata": {},
   "outputs": [
    {
     "data": {
      "text/html": [
       "<div>\n",
       "<style scoped>\n",
       "    .dataframe tbody tr th:only-of-type {\n",
       "        vertical-align: middle;\n",
       "    }\n",
       "\n",
       "    .dataframe tbody tr th {\n",
       "        vertical-align: top;\n",
       "    }\n",
       "\n",
       "    .dataframe thead th {\n",
       "        text-align: right;\n",
       "    }\n",
       "</style>\n",
       "<table border=\"1\" class=\"dataframe\">\n",
       "  <thead>\n",
       "    <tr style=\"text-align: right;\">\n",
       "      <th></th>\n",
       "      <th>r2</th>\n",
       "      <th>k</th>\n",
       "      <th>k_dash</th>\n",
       "      <th>r2r0</th>\n",
       "      <th>r2r0_dash</th>\n",
       "      <th>r0r0_dash</th>\n",
       "      <th>rm2_bar</th>\n",
       "      <th>d_rm2</th>\n",
       "    </tr>\n",
       "  </thead>\n",
       "  <tbody>\n",
       "    <tr>\n",
       "      <th>0</th>\n",
       "      <td>0.77069</td>\n",
       "      <td>0.823326</td>\n",
       "      <td>1.111236</td>\n",
       "      <td>0.061217</td>\n",
       "      <td>0.416093</td>\n",
       "      <td>0.273499</td>\n",
       "      <td>0.468775</td>\n",
       "      <td>0.26903</td>\n",
       "    </tr>\n",
       "  </tbody>\n",
       "</table>\n",
       "</div>"
      ],
      "text/plain": [
       "        r2         k    k_dash      r2r0  r2r0_dash  r0r0_dash   rm2_bar  \\\n",
       "0  0.77069  0.823326  1.111236  0.061217   0.416093   0.273499  0.468775   \n",
       "\n",
       "     d_rm2  \n",
       "0  0.26903  "
      ]
     },
     "execution_count": 64,
     "metadata": {},
     "output_type": "execute_result"
    }
   ],
   "source": [
    "rbf_qsar = qsar_param(y_train, train_rbf[1], d_r2m=True)\n",
    "pd.DataFrame(rbf_qsar)"
   ]
  },
  {
   "cell_type": "code",
   "execution_count": 65,
   "metadata": {},
   "outputs": [
    {
     "data": {
      "text/html": [
       "<div>\n",
       "<style scoped>\n",
       "    .dataframe tbody tr th:only-of-type {\n",
       "        vertical-align: middle;\n",
       "    }\n",
       "\n",
       "    .dataframe tbody tr th {\n",
       "        vertical-align: top;\n",
       "    }\n",
       "\n",
       "    .dataframe thead th {\n",
       "        text-align: right;\n",
       "    }\n",
       "</style>\n",
       "<table border=\"1\" class=\"dataframe\">\n",
       "  <thead>\n",
       "    <tr style=\"text-align: right;\">\n",
       "      <th></th>\n",
       "      <th>r2</th>\n",
       "      <th>k</th>\n",
       "      <th>k_dash</th>\n",
       "      <th>r2r0</th>\n",
       "      <th>r2r0_dash</th>\n",
       "      <th>r0r0_dash</th>\n",
       "      <th>rm2_bar</th>\n",
       "      <th>d_rm2</th>\n",
       "    </tr>\n",
       "  </thead>\n",
       "  <tbody>\n",
       "    <tr>\n",
       "      <th>0</th>\n",
       "      <td>0.848534</td>\n",
       "      <td>1.124548</td>\n",
       "      <td>0.826468</td>\n",
       "      <td>0.097496</td>\n",
       "      <td>0.0189</td>\n",
       "      <td>0.066691</td>\n",
       "      <td>0.672775</td>\n",
       "      <td>0.136603</td>\n",
       "    </tr>\n",
       "  </tbody>\n",
       "</table>\n",
       "</div>"
      ],
      "text/plain": [
       "         r2         k    k_dash      r2r0  r2r0_dash  r0r0_dash   rm2_bar  \\\n",
       "0  0.848534  1.124548  0.826468  0.097496     0.0189   0.066691  0.672775   \n",
       "\n",
       "      d_rm2  \n",
       "0  0.136603  "
      ]
     },
     "execution_count": 65,
     "metadata": {},
     "output_type": "execute_result"
    }
   ],
   "source": [
    "rbf_qsar = qsar_param(y_test, test_pred, d_r2m=True)\n",
    "pd.DataFrame(rbf_qsar)"
   ]
  },
  {
   "cell_type": "code",
   "execution_count": 66,
   "metadata": {},
   "outputs": [
    {
     "data": {
      "text/plain": [
       "array([0.7858796])"
      ]
     },
     "execution_count": 66,
     "metadata": {},
     "output_type": "execute_result"
    }
   ],
   "source": [
    "rbf_y = y_random(model, sc_x_train, y_train, n=10)\n",
    "rbf_y"
   ]
  },
  {
   "cell_type": "code",
   "execution_count": 67,
   "metadata": {},
   "outputs": [
    {
     "name": "stdout",
     "output_type": "stream",
     "text": [
      "0.308411214953271\n"
     ]
    },
    {
     "data": {
      "image/png": "[encoded data removed]",
      "text/plain": [
       "<Figure size 432x288 with 1 Axes>"
      ]
     },
     "metadata": {
      "needs_background": "light"
     },
     "output_type": "display_data"
    }
   ],
   "source": [
    "plt.title('RBF-Applicability domain')\n",
    "rbf_AD = applicability_domain(sc_x_train, sc_x_test, y_train, train_rbf[1], y_test, test_pred)\n",
    "rbf_AD"
   ]
  },
  {
   "cell_type": "code",
   "execution_count": 24,
   "metadata": {},
   "outputs": [
    {
     "data": {
      "image/png": "[encoded data removed]",
      "text/plain": [
       "<Figure size 432x288 with 1 Axes>"
      ]
     },
     "metadata": {
      "needs_background": "light"
     },
     "output_type": "display_data"
    }
   ],
   "source": [
    "fig, ax = plt.subplots()\n",
    "ax.scatter(y_train, train_rbf[1], c='b',marker='o', label='training data')\n",
    "ax.scatter(y_test, test_pred, c='r',marker='^', label='test data')\n",
    "ax.plot([0, 1], [0, 1], color=\"black\",transform=ax.transAxes)\n",
    "plt.title('RBF-Actual vs Predict')\n",
    "plt.xlim(3,10)\n",
    "plt.ylim(3,10)\n",
    "ax.set_xlabel('Predicted pIC50')\n",
    "ax.set_ylabel('Experimental pIC50')\n",
    "plt.savefig('./rbf_Actual vs Predict.png', format='png', dpi=1000, bbox_inches=\"tight\")\n",
    "plt.show()"
   ]
  },
  {
   "cell_type": "code",
   "execution_count": 36,
   "metadata": {},
   "outputs": [
    {
     "data": {
      "image/png": "[encoded data removed]",
      "text/plain": [
       "<Figure size 432x288 with 1 Axes>"
      ]
     },
     "metadata": {
      "needs_background": "light"
     },
     "output_type": "display_data"
    }
   ],
   "source": [
    "#dataframe to list\n",
    "r_train = pd.DataFrame(y_train).to_numpy()\n",
    "r_train_pred = pd.DataFrame(train_rbf[1]).to_numpy()\n",
    "r_test = pd.DataFrame(y_test).to_numpy()\n",
    "r_test_pred = pd.DataFrame(test_pred).to_numpy()\n",
    "\n",
    "train = r_train-r_train_pred\n",
    "test = r_test-r_test_pred\n",
    "plt.axhline(y=0, c='k', linewidth=0.8, linestyle='--')\n",
    "plt.scatter(r_train, train, c='b',marker='o', label='training data')\n",
    "plt.scatter(r_test, test, c='r',marker='^', label='test data')\n",
    "plt.title(\"RBF-Actual vs Residual\")\n",
    "plt.xlabel(\"Predict Values\")\n",
    "plt.ylabel(\"Residual\")\n",
    "plt.savefig('./rbf_Actual vs Residual.png', format='png', dpi=1000, bbox_inches=\"tight\")"
   ]
  },
  {
   "cell_type": "markdown",
   "metadata": {},
   "source": [
    "# SVR_Poly"
   ]
  },
  {
   "cell_type": "code",
   "execution_count": 72,
   "metadata": {},
   "outputs": [
    {
     "data": {
      "text/plain": [
       "SVR(C=1, cache_size=200, coef0=0.0, degree=2, epsilon=0.1, gamma='scale',\n",
       "    kernel='poly', max_iter=-1, shrinking=True, tol=0.001, verbose=False)"
      ]
     },
     "execution_count": 72,
     "metadata": {},
     "output_type": "execute_result"
    }
   ],
   "source": [
    "# Load Pickle poly\n",
    "params = pickle.load(open(\"data_Poly/params_poly_10.p\", \"rb\"))\n",
    "\n",
    "poly = pickle.load(open(\"desc/desc10.pkl\", \"rb\"))\n",
    "x_train = train.loc[:,poly].to_numpy()\n",
    "x_test = test.loc[:,poly].to_numpy()\n",
    "y_train = train.iloc[:,[-1]].to_numpy()\n",
    "y_test = test.iloc[:,[-1]].to_numpy()\n",
    "\n",
    "# minmax poly\n",
    "mmscaler = MinMaxScaler()\n",
    "mmscaler.fit(x_train)\n",
    "sc_x_train = mmscaler.transform(x_train)\n",
    "sc_x_test = mmscaler.transform(x_test)\n",
    "\n",
    "# model\n",
    "model = SVR(kernel = 'poly', C = params['C'],\n",
    "           degree = params['degree'],\n",
    "           epsilon = params['epsilon'])\n",
    "model.fit(sc_x_train, y_train)\n"
   ]
  },
  {
   "cell_type": "code",
   "execution_count": 73,
   "metadata": {},
   "outputs": [
    {
     "data": {
      "text/plain": [
       "(array([0.56756704]),\n",
       " [7.325880050912455,\n",
       "  5.779464615440679,\n",
       "  6.346790852031727,\n",
       "  7.010483196944323,\n",
       "  5.647791725586215,\n",
       "  7.142783986820669,\n",
       "  6.6189424535392,\n",
       "  8.4734134060312,\n",
       "  5.669330524446697,\n",
       "  6.982790087532175,\n",
       "  7.1013826787230965,\n",
       "  6.581168966844398,\n",
       "  7.1245065411752355,\n",
       "  6.081755261090656,\n",
       "  7.464203526753231,\n",
       "  5.549641115808132,\n",
       "  7.449429582943647,\n",
       "  6.360058788001786,\n",
       "  5.840155148307092,\n",
       "  9.384360085451755,\n",
       "  7.500581580117928,\n",
       "  8.713488623801467,\n",
       "  7.23534593881192,\n",
       "  6.998524662277223,\n",
       "  8.424890261819183,\n",
       "  6.296174704749809,\n",
       "  5.749356855430571,\n",
       "  6.4414542333725935,\n",
       "  8.150511723377395,\n",
       "  5.589239316886034,\n",
       "  2.740285952580652,\n",
       "  5.62853407101081,\n",
       "  6.138023428301112,\n",
       "  5.705918437291625,\n",
       "  6.13831655672835,\n",
       "  6.382098973454646,\n",
       "  6.390493427982529,\n",
       "  6.639205993612643,\n",
       "  6.4282292126070555,\n",
       "  5.760661252911765,\n",
       "  5.5457013519629115,\n",
       "  5.428062111766569,\n",
       "  7.712905924214326,\n",
       "  6.094186706748419,\n",
       "  6.1911809139281555,\n",
       "  6.025190778415018,\n",
       "  6.0085080566546285,\n",
       "  5.766599335201956,\n",
       "  5.658614664069132,\n",
       "  6.20408967711374,\n",
       "  5.5611830913665745,\n",
       "  6.144194024446978,\n",
       "  7.13247656552025,\n",
       "  5.842705075690967,\n",
       "  7.413901189327417,\n",
       "  7.491179778067929,\n",
       "  7.214529903218273,\n",
       "  6.551845526164103,\n",
       "  5.777007119088372,\n",
       "  6.955953152157842,\n",
       "  6.548328777148318,\n",
       "  6.080018538312143,\n",
       "  5.732691030619492,\n",
       "  6.340205682131359,\n",
       "  5.722567509188121,\n",
       "  5.79239934610497,\n",
       "  7.3558520185548915,\n",
       "  6.972297303035191,\n",
       "  6.443536446909658,\n",
       "  8.04428683207812,\n",
       "  6.2216743199912745,\n",
       "  6.7660282983810305,\n",
       "  5.769539524731847,\n",
       "  6.139237910940695,\n",
       "  7.10828030508841,\n",
       "  5.599773226110118,\n",
       "  5.705731600868876,\n",
       "  8.025508617199844,\n",
       "  8.683529311030227,\n",
       "  7.291086049972151,\n",
       "  6.12312608478047,\n",
       "  7.139841445596974,\n",
       "  7.073636779750118,\n",
       "  5.559471068869366,\n",
       "  6.427920448017765,\n",
       "  7.002391255069952,\n",
       "  7.211844116247976,\n",
       "  7.958274403128618,\n",
       "  6.459474999846542,\n",
       "  7.474320337066496,\n",
       "  6.299732243265309,\n",
       "  8.534846880961611,\n",
       "  5.549277473301716,\n",
       "  6.171459343368433,\n",
       "  6.492950988982148,\n",
       "  6.097686852592267,\n",
       "  6.021077636397425,\n",
       "  6.348272025556836,\n",
       "  6.0704514921042065,\n",
       "  6.439306041722999,\n",
       "  7.148840604893987,\n",
       "  7.124134231317376,\n",
       "  6.1061183756311,\n",
       "  5.748332222846871,\n",
       "  7.204888168749571,\n",
       "  7.183526908717492,\n",
       "  7.247734089611752])"
      ]
     },
     "execution_count": 73,
     "metadata": {},
     "output_type": "execute_result"
    }
   ],
   "source": [
    "train_q2_poly = q2_loo(model, sc_x_train, y_train)\n",
    "train_q2_poly"
   ]
  },
  {
   "cell_type": "code",
   "execution_count": 74,
   "metadata": {},
   "outputs": [
    {
     "data": {
      "text/plain": [
       "array([0.56756704])"
      ]
     },
     "execution_count": 74,
     "metadata": {},
     "output_type": "execute_result"
    }
   ],
   "source": [
    "poly = r2_score(y_train, train_q2_poly[1])\n",
    "poly"
   ]
  },
  {
   "cell_type": "code",
   "execution_count": 75,
   "metadata": {},
   "outputs": [
    {
     "data": {
      "text/plain": [
       "array([5.77444406, 5.54995789, 5.57554693, 6.20330858, 9.4883697 ,\n",
       "       6.75358467, 8.71325867, 5.76467868, 6.79257895, 5.57409754,\n",
       "       5.70243685, 7.40835586, 8.20730729, 6.71929485, 6.24516612,\n",
       "       5.97995105, 8.74582095, 5.69241668, 6.744702  , 7.13125848,\n",
       "       6.36997859, 7.33017921, 7.03491248, 6.8705054 , 7.12051971,\n",
       "       8.02520372, 5.57327256])"
      ]
     },
     "execution_count": 75,
     "metadata": {},
     "output_type": "execute_result"
    }
   ],
   "source": [
    "poly_test_pred = model.predict(sc_x_test)\n",
    "poly_test_pred"
   ]
  },
  {
   "cell_type": "code",
   "execution_count": 76,
   "metadata": {},
   "outputs": [
    {
     "data": {
      "text/html": [
       "<div>\n",
       "<style scoped>\n",
       "    .dataframe tbody tr th:only-of-type {\n",
       "        vertical-align: middle;\n",
       "    }\n",
       "\n",
       "    .dataframe tbody tr th {\n",
       "        vertical-align: top;\n",
       "    }\n",
       "\n",
       "    .dataframe thead th {\n",
       "        text-align: right;\n",
       "    }\n",
       "</style>\n",
       "<table border=\"1\" class=\"dataframe\">\n",
       "  <thead>\n",
       "    <tr style=\"text-align: right;\">\n",
       "      <th></th>\n",
       "      <th>r2</th>\n",
       "      <th>k</th>\n",
       "      <th>k_dash</th>\n",
       "      <th>r2r0</th>\n",
       "      <th>r2r0_dash</th>\n",
       "      <th>r0r0_dash</th>\n",
       "      <th>rm2_bar</th>\n",
       "      <th>d_rm2</th>\n",
       "    </tr>\n",
       "  </thead>\n",
       "  <tbody>\n",
       "    <tr>\n",
       "      <th>0</th>\n",
       "      <td>0.58145</td>\n",
       "      <td>0.738768</td>\n",
       "      <td>1.115208</td>\n",
       "      <td>0.264387</td>\n",
       "      <td>4.859243</td>\n",
       "      <td>2.67168</td>\n",
       "      <td>-0.021216</td>\n",
       "      <td>0.749381</td>\n",
       "    </tr>\n",
       "  </tbody>\n",
       "</table>\n",
       "</div>"
      ],
      "text/plain": [
       "        r2         k    k_dash      r2r0  r2r0_dash  r0r0_dash   rm2_bar  \\\n",
       "0  0.58145  0.738768  1.115208  0.264387   4.859243    2.67168 -0.021216   \n",
       "\n",
       "      d_rm2  \n",
       "0  0.749381  "
      ]
     },
     "execution_count": 76,
     "metadata": {},
     "output_type": "execute_result"
    }
   ],
   "source": [
    "poly_qsar = qsar_param(y_train, train_q2_poly[1], d_r2m=True)\n",
    "pd.DataFrame(poly_qsar)"
   ]
  },
  {
   "cell_type": "code",
   "execution_count": 77,
   "metadata": {},
   "outputs": [
    {
     "data": {
      "text/html": [
       "<div>\n",
       "<style scoped>\n",
       "    .dataframe tbody tr th:only-of-type {\n",
       "        vertical-align: middle;\n",
       "    }\n",
       "\n",
       "    .dataframe tbody tr th {\n",
       "        vertical-align: top;\n",
       "    }\n",
       "\n",
       "    .dataframe thead th {\n",
       "        text-align: right;\n",
       "    }\n",
       "</style>\n",
       "<table border=\"1\" class=\"dataframe\">\n",
       "  <thead>\n",
       "    <tr style=\"text-align: right;\">\n",
       "      <th></th>\n",
       "      <th>r2</th>\n",
       "      <th>k</th>\n",
       "      <th>k_dash</th>\n",
       "      <th>r2r0</th>\n",
       "      <th>r2r0_dash</th>\n",
       "      <th>r0r0_dash</th>\n",
       "      <th>rm2_bar</th>\n",
       "      <th>d_rm2</th>\n",
       "    </tr>\n",
       "  </thead>\n",
       "  <tbody>\n",
       "    <tr>\n",
       "      <th>0</th>\n",
       "      <td>0.703911</td>\n",
       "      <td>1.328065</td>\n",
       "      <td>0.654766</td>\n",
       "      <td>0.194036</td>\n",
       "      <td>0.007502</td>\n",
       "      <td>0.131303</td>\n",
       "      <td>0.548261</td>\n",
       "      <td>0.208993</td>\n",
       "    </tr>\n",
       "  </tbody>\n",
       "</table>\n",
       "</div>"
      ],
      "text/plain": [
       "         r2         k    k_dash      r2r0  r2r0_dash  r0r0_dash   rm2_bar  \\\n",
       "0  0.703911  1.328065  0.654766  0.194036   0.007502   0.131303  0.548261   \n",
       "\n",
       "      d_rm2  \n",
       "0  0.208993  "
      ]
     },
     "execution_count": 77,
     "metadata": {},
     "output_type": "execute_result"
    }
   ],
   "source": [
    "poly_qsar = qsar_param(y_test, poly_test_pred, d_r2m=True)\n",
    "pd.DataFrame(poly_qsar)"
   ]
  },
  {
   "cell_type": "code",
   "execution_count": 78,
   "metadata": {},
   "outputs": [
    {
     "data": {
      "text/plain": [
       "array([0.64328687])"
      ]
     },
     "execution_count": 78,
     "metadata": {},
     "output_type": "execute_result"
    }
   ],
   "source": [
    "poly_y = y_random(model, sc_x_train, y_train, n=10)\n",
    "poly_y"
   ]
  },
  {
   "cell_type": "code",
   "execution_count": 79,
   "metadata": {},
   "outputs": [
    {
     "name": "stdout",
     "output_type": "stream",
     "text": [
      "0.308411214953271\n"
     ]
    },
    {
     "data": {
      "image/png": "[encoded data removed]",
      "text/plain": [
       "<Figure size 432x288 with 1 Axes>"
      ]
     },
     "metadata": {
      "needs_background": "light"
     },
     "output_type": "display_data"
    }
   ],
   "source": [
    "plt.title('Poly-Applicability domain')\n",
    "poly_AD = applicability_domain(sc_x_train, sc_x_test, y_train, train_q2_poly[1], y_test, poly_test_pred)\n",
    "poly_AD"
   ]
  },
  {
   "cell_type": "code",
   "execution_count": 36,
   "metadata": {},
   "outputs": [
    {
     "data": {
      "image/png": "[encoded data removed]",
      "text/plain": [
       "<Figure size 432x288 with 1 Axes>"
      ]
     },
     "metadata": {
      "needs_background": "light"
     },
     "output_type": "display_data"
    }
   ],
   "source": [
    "fig, ax = plt.subplots()\n",
    "ax.scatter(y_train, train_q2_poly[1], c='b',marker='o', label='training data')\n",
    "ax.scatter(y_test, poly_test_pred, c='r',marker='^', label='test data')\n",
    "ax.plot([0, 1], [0, 1], color=\"black\",transform=ax.transAxes)\n",
    "plt.title('Poly-Actual vs Predict')\n",
    "plt.xlim(3,10)\n",
    "plt.ylim(3,10)\n",
    "ax.set_xlabel('Predicted pIC50')\n",
    "ax.set_ylabel('Experimental pIC50')\n",
    "plt.savefig('./poly_Actual vs Predict.png', format='png', dpi=1000, bbox_inches=\"tight\")\n",
    "plt.show()"
   ]
  },
  {
   "cell_type": "code",
   "execution_count": 37,
   "metadata": {},
   "outputs": [
    {
     "data": {
      "image/png": "[encoded data removed]",
      "text/plain": [
       "<Figure size 432x288 with 1 Axes>"
      ]
     },
     "metadata": {
      "needs_background": "light"
     },
     "output_type": "display_data"
    }
   ],
   "source": [
    "#dataframe to list\n",
    "r_train = pd.DataFrame(y_train).to_numpy()\n",
    "r_train_pred = pd.DataFrame(train_q2_poly[1]).to_numpy()\n",
    "r_test = pd.DataFrame(y_test).to_numpy()\n",
    "r_test_pred = pd.DataFrame(poly_test_pred).to_numpy()\n",
    "\n",
    "p_train = r_train-r_train_pred\n",
    "p_test = r_test-r_test_pred\n",
    "\n",
    "plt.axhline(y=0, c='k', linewidth=0.8, linestyle='--')\n",
    "plt.scatter(r_train, p_train, c='b',marker='o', label='training data')\n",
    "plt.scatter(r_test, p_test, c='r',marker='^', label='test data')\n",
    "plt.title(\"Poly-Actual vs Residual\")\n",
    "plt.xlabel(\"Predict Values\")\n",
    "plt.ylabel(\"Residual\")\n",
    "plt.savefig('./poly_Actual vs Residual.png', format='png', dpi=1000, bbox_inches=\"tight\")"
   ]
  },
  {
   "cell_type": "markdown",
   "metadata": {},
   "source": [
    "# SVR_Linear"
   ]
  },
  {
   "cell_type": "code",
   "execution_count": 82,
   "metadata": {},
   "outputs": [
    {
     "data": {
      "text/plain": [
       "SVR(C=1, cache_size=200, coef0=0.0, degree=1, epsilon=0.1, gamma='scale',\n",
       "    kernel='linear', max_iter=-1, shrinking=True, tol=0.001, verbose=False)"
      ]
     },
     "execution_count": 82,
     "metadata": {},
     "output_type": "execute_result"
    }
   ],
   "source": [
    "# Load Pickle linear\n",
    "params = pickle.load(open(\"data_Linear/params_linear_10.p\", \"rb\"))\n",
    "\n",
    "linear = pickle.load(open(\"desc/desc10.pkl\", \"rb\"))\n",
    "x_train = train.loc[:,linear].to_numpy()\n",
    "x_test = test.loc[:,linear].to_numpy()\n",
    "y_train = train.iloc[:,[-1]].to_numpy()\n",
    "y_test = test.iloc[:,[-1]].to_numpy()\n",
    "\n",
    "# minmax linear\n",
    "mmscaler = MinMaxScaler()\n",
    "mmscaler.fit(x_train)\n",
    "sc_x_train = mmscaler.transform(x_train)\n",
    "sc_x_test = mmscaler.transform(x_test)\n",
    "\n",
    "# model\n",
    "model = SVR(kernel = 'linear', C = params['C'],\n",
    "           degree = params['degree'],\n",
    "           epsilon = params['epsilon'])\n",
    "model.fit(sc_x_train, y_train)\n"
   ]
  },
  {
   "cell_type": "code",
   "execution_count": 83,
   "metadata": {},
   "outputs": [
    {
     "data": {
      "text/plain": [
       "(array([0.61807354]),\n",
       " [7.255032273567595,\n",
       "  5.746805923367235,\n",
       "  6.4317046179992605,\n",
       "  7.0803687819080485,\n",
       "  5.7979878037442445,\n",
       "  7.1343949858777815,\n",
       "  6.63886450029487,\n",
       "  8.130741348332272,\n",
       "  5.840654487906825,\n",
       "  7.074286938157666,\n",
       "  7.059005215412716,\n",
       "  6.552256179646117,\n",
       "  7.145611331099173,\n",
       "  6.1009954787395735,\n",
       "  7.481562447238422,\n",
       "  5.381322929539687,\n",
       "  7.385077411773606,\n",
       "  6.418179668617437,\n",
       "  6.041612825573445,\n",
       "  8.761377142333384,\n",
       "  7.546990662889742,\n",
       "  7.589089758467094,\n",
       "  7.143724686019743,\n",
       "  7.0136249758900995,\n",
       "  8.626654225260515,\n",
       "  6.311657914616825,\n",
       "  5.840445605944408,\n",
       "  6.431044289165808,\n",
       "  7.985928532990458,\n",
       "  5.786816866851767,\n",
       "  3.86201337857688,\n",
       "  5.6917486207282435,\n",
       "  6.168203831756767,\n",
       "  5.890355538008524,\n",
       "  6.32817814700492,\n",
       "  6.418473218760422,\n",
       "  6.382303099600005,\n",
       "  6.622548822580008,\n",
       "  6.451852479888831,\n",
       "  5.683119228618892,\n",
       "  5.530628188097262,\n",
       "  5.8739257869202,\n",
       "  7.160850383814266,\n",
       "  6.10246562284958,\n",
       "  6.220333944412421,\n",
       "  5.9661184495503505,\n",
       "  6.072522734441252,\n",
       "  5.737448859927209,\n",
       "  5.7112422482201035,\n",
       "  6.175340003753341,\n",
       "  5.422034568502292,\n",
       "  6.1115968826272,\n",
       "  6.970897534787857,\n",
       "  6.0108705135900315,\n",
       "  7.366413435126439,\n",
       "  7.287200399749604,\n",
       "  7.200221910024697,\n",
       "  6.536900113653405,\n",
       "  5.9595450670541865,\n",
       "  7.072621971603076,\n",
       "  6.488712100823389,\n",
       "  5.752894471042053,\n",
       "  5.779473766322901,\n",
       "  6.459500302580032,\n",
       "  5.688584120721549,\n",
       "  5.691140531830749,\n",
       "  7.583539058378774,\n",
       "  7.057526942534455,\n",
       "  6.594361019773187,\n",
       "  7.95004497711723,\n",
       "  6.248737960624427,\n",
       "  6.75480072851302,\n",
       "  5.549711629949724,\n",
       "  5.973083989691695,\n",
       "  7.171208139150798,\n",
       "  5.713146485846162,\n",
       "  5.852335008185442,\n",
       "  7.754478240407325,\n",
       "  9.369972535181148,\n",
       "  7.140025973818229,\n",
       "  6.079529816788563,\n",
       "  7.150202784728087,\n",
       "  7.108910466455757,\n",
       "  5.503106914962202,\n",
       "  6.387032221848699,\n",
       "  7.108193703072666,\n",
       "  7.209323559504238,\n",
       "  7.78085447338118,\n",
       "  6.536853757757354,\n",
       "  7.353310489010065,\n",
       "  6.382514419451715,\n",
       "  8.113857736421382,\n",
       "  5.45735481345298,\n",
       "  6.113855956714746,\n",
       "  6.948243674606087,\n",
       "  6.062947945906513,\n",
       "  5.94020074463792,\n",
       "  6.3671654969134135,\n",
       "  6.083499197927407,\n",
       "  6.468505775614237,\n",
       "  7.193020049944177,\n",
       "  7.147418937408127,\n",
       "  5.9968537809278235,\n",
       "  5.792959476849347,\n",
       "  7.207545253517902,\n",
       "  7.169239766038071,\n",
       "  7.197261693081272])"
      ]
     },
     "execution_count": 83,
     "metadata": {},
     "output_type": "execute_result"
    }
   ],
   "source": [
    "train_q2_linear = q2_loo(model, sc_x_train, y_train)\n",
    "train_q2_linear"
   ]
  },
  {
   "cell_type": "code",
   "execution_count": 84,
   "metadata": {},
   "outputs": [
    {
     "data": {
      "text/plain": [
       "array([0.61807354])"
      ]
     },
     "execution_count": 84,
     "metadata": {},
     "output_type": "execute_result"
    }
   ],
   "source": [
    "linear = r2_score(y_train, train_q2_linear[1])\n",
    "linear"
   ]
  },
  {
   "cell_type": "code",
   "execution_count": 85,
   "metadata": {},
   "outputs": [
    {
     "data": {
      "text/plain": [
       "array([5.73289313, 5.58038285, 5.63982166, 6.19849636, 8.59310824,\n",
       "       6.88669716, 8.1996084 , 5.63283298, 6.81093955, 5.45347684,\n",
       "       5.71768761, 7.33778256, 7.93916795, 6.62221518, 6.29124731,\n",
       "       5.95209697, 8.03880801, 5.77152849, 6.73732864, 7.16958474,\n",
       "       6.39175989, 7.36561942, 7.1416495 , 6.81501322, 7.16627347,\n",
       "       7.98316188, 5.53813101])"
      ]
     },
     "execution_count": 85,
     "metadata": {},
     "output_type": "execute_result"
    }
   ],
   "source": [
    "linear_test_pred = model.predict(sc_x_test)\n",
    "linear_test_pred"
   ]
  },
  {
   "cell_type": "code",
   "execution_count": 86,
   "metadata": {},
   "outputs": [
    {
     "data": {
      "text/html": [
       "<div>\n",
       "<style scoped>\n",
       "    .dataframe tbody tr th:only-of-type {\n",
       "        vertical-align: middle;\n",
       "    }\n",
       "\n",
       "    .dataframe tbody tr th {\n",
       "        vertical-align: top;\n",
       "    }\n",
       "\n",
       "    .dataframe thead th {\n",
       "        text-align: right;\n",
       "    }\n",
       "</style>\n",
       "<table border=\"1\" class=\"dataframe\">\n",
       "  <thead>\n",
       "    <tr style=\"text-align: right;\">\n",
       "      <th></th>\n",
       "      <th>r2</th>\n",
       "      <th>k</th>\n",
       "      <th>k_dash</th>\n",
       "      <th>r2r0</th>\n",
       "      <th>r2r0_dash</th>\n",
       "      <th>r0r0_dash</th>\n",
       "      <th>rm2_bar</th>\n",
       "      <th>d_rm2</th>\n",
       "    </tr>\n",
       "  </thead>\n",
       "  <tbody>\n",
       "    <tr>\n",
       "      <th>0</th>\n",
       "      <td>0.619365</td>\n",
       "      <td>0.865612</td>\n",
       "      <td>0.984851</td>\n",
       "      <td>0.159272</td>\n",
       "      <td>2.171055</td>\n",
       "      <td>1.246028</td>\n",
       "      <td>0.162991</td>\n",
       "      <td>0.523685</td>\n",
       "    </tr>\n",
       "  </tbody>\n",
       "</table>\n",
       "</div>"
      ],
      "text/plain": [
       "         r2         k    k_dash      r2r0  r2r0_dash  r0r0_dash   rm2_bar  \\\n",
       "0  0.619365  0.865612  0.984851  0.159272   2.171055   1.246028  0.162991   \n",
       "\n",
       "      d_rm2  \n",
       "0  0.523685  "
      ]
     },
     "execution_count": 86,
     "metadata": {},
     "output_type": "execute_result"
    }
   ],
   "source": [
    "linear_qsar = qsar_param(y_train, train_q2_linear[1], d_r2m=True)\n",
    "pd.DataFrame(linear_qsar)"
   ]
  },
  {
   "cell_type": "code",
   "execution_count": 87,
   "metadata": {},
   "outputs": [
    {
     "data": {
      "text/html": [
       "<div>\n",
       "<style scoped>\n",
       "    .dataframe tbody tr th:only-of-type {\n",
       "        vertical-align: middle;\n",
       "    }\n",
       "\n",
       "    .dataframe tbody tr th {\n",
       "        vertical-align: top;\n",
       "    }\n",
       "\n",
       "    .dataframe thead th {\n",
       "        text-align: right;\n",
       "    }\n",
       "</style>\n",
       "<table border=\"1\" class=\"dataframe\">\n",
       "  <thead>\n",
       "    <tr style=\"text-align: right;\">\n",
       "      <th></th>\n",
       "      <th>r2</th>\n",
       "      <th>k</th>\n",
       "      <th>k_dash</th>\n",
       "      <th>r2r0</th>\n",
       "      <th>r2r0_dash</th>\n",
       "      <th>r0r0_dash</th>\n",
       "      <th>rm2_bar</th>\n",
       "      <th>d_rm2</th>\n",
       "    </tr>\n",
       "  </thead>\n",
       "  <tbody>\n",
       "    <tr>\n",
       "      <th>0</th>\n",
       "      <td>0.75024</td>\n",
       "      <td>1.150304</td>\n",
       "      <td>0.792608</td>\n",
       "      <td>0.057353</td>\n",
       "      <td>0.000514</td>\n",
       "      <td>0.042643</td>\n",
       "      <td>0.665059</td>\n",
       "      <td>0.140888</td>\n",
       "    </tr>\n",
       "  </tbody>\n",
       "</table>\n",
       "</div>"
      ],
      "text/plain": [
       "        r2         k    k_dash      r2r0  r2r0_dash  r0r0_dash   rm2_bar  \\\n",
       "0  0.75024  1.150304  0.792608  0.057353   0.000514   0.042643  0.665059   \n",
       "\n",
       "      d_rm2  \n",
       "0  0.140888  "
      ]
     },
     "execution_count": 87,
     "metadata": {},
     "output_type": "execute_result"
    }
   ],
   "source": [
    "linear_qsar = qsar_param(y_test, linear_test_pred, d_r2m=True)\n",
    "pd.DataFrame(linear_qsar)"
   ]
  },
  {
   "cell_type": "code",
   "execution_count": 88,
   "metadata": {},
   "outputs": [
    {
     "data": {
      "text/plain": [
       "array([0.67263136])"
      ]
     },
     "execution_count": 88,
     "metadata": {},
     "output_type": "execute_result"
    }
   ],
   "source": [
    "linear_y = y_random(model, sc_x_train, y_train, n=10)\n",
    "linear_y"
   ]
  },
  {
   "cell_type": "code",
   "execution_count": 89,
   "metadata": {},
   "outputs": [
    {
     "name": "stdout",
     "output_type": "stream",
     "text": [
      "0.308411214953271\n"
     ]
    },
    {
     "data": {
      "image/png": "[encoded data removed]",
      "text/plain": [
       "<Figure size 432x288 with 1 Axes>"
      ]
     },
     "metadata": {
      "needs_background": "light"
     },
     "output_type": "display_data"
    }
   ],
   "source": [
    "plt.title('Linear-Applicability domain')\n",
    "linear_AD = applicability_domain(sc_x_train, sc_x_test, y_train, train_q2_linear[1], y_test, linear_test_pred)\n",
    "linear_AD"
   ]
  },
  {
   "cell_type": "code",
   "execution_count": 48,
   "metadata": {},
   "outputs": [
    {
     "data": {
      "image/png": "[encoded data removed]",
      "text/plain": [
       "<Figure size 432x288 with 1 Axes>"
      ]
     },
     "metadata": {
      "needs_background": "light"
     },
     "output_type": "display_data"
    }
   ],
   "source": [
    "fig, ax = plt.subplots()\n",
    "ax.scatter(y_train, train_q2_linear[1], c='b',marker='o', label='training data')\n",
    "ax.scatter(y_test, linear_test_pred, c='r',marker='^', label='test data')\n",
    "ax.plot([0, 1], [0, 1], color=\"black\",transform=ax.transAxes)\n",
    "plt.title('Linear-Actual vs Predict')\n",
    "plt.xlim(3,10)\n",
    "plt.ylim(3,10)\n",
    "ax.set_xlabel('Predicted pIC50')\n",
    "ax.set_ylabel('Experimental pIC50')\n",
    "plt.savefig('./linear_Actual vs Predict.png', format='png', dpi=1000, bbox_inches=\"tight\")\n",
    "plt.show()"
   ]
  },
  {
   "cell_type": "code",
   "execution_count": 49,
   "metadata": {},
   "outputs": [
    {
     "data": {
      "image/png": "[encoded data removed]",
      "text/plain": [
       "<Figure size 432x288 with 1 Axes>"
      ]
     },
     "metadata": {
      "needs_background": "light"
     },
     "output_type": "display_data"
    }
   ],
   "source": [
    "#dataframe to list\n",
    "r_train = pd.DataFrame(y_train).to_numpy()\n",
    "r_train_pred = pd.DataFrame(train_q2_linear[1]).to_numpy()\n",
    "r_test = pd.DataFrame(y_test).to_numpy()\n",
    "r_test_pred = pd.DataFrame(linear_test_pred).to_numpy()\n",
    "\n",
    "l_train = r_train-r_train_pred\n",
    "l_test = r_test-r_test_pred\n",
    "\n",
    "plt.axhline(y=0, c='k', linewidth=0.8, linestyle='--')\n",
    "plt.scatter(r_train, l_train, c='b',marker='o', label='training data')\n",
    "plt.scatter(r_test, l_test, c='r',marker='^', label='test data')\n",
    "plt.title(\"Linear-Actual vs Residual\")\n",
    "plt.xlabel(\"Predict Values\")\n",
    "plt.ylabel(\"Residual\")\n",
    "plt.savefig('./linear_Actual vs Residual.png', format='png', dpi=1000, bbox_inches=\"tight\")"
   ]
  },
  {
   "cell_type": "code",
   "execution_count": null,
   "metadata": {},
   "outputs": [],
   "source": []
  }
 ],
 "metadata": {
  "kernelspec": {
   "display_name": "Python 3",
   "language": "python",
   "name": "python3"
  },
  "language_info": {
   "codemirror_mode": {
    "name": "ipython",
    "version": 3
   },
   "file_extension": ".py",
   "mimetype": "text/x-python",
   "name": "python",
   "nbconvert_exporter": "python",
   "pygments_lexer": "ipython3",
   "version": "3.7.6"
  }
 },
 "nbformat": 4,
 "nbformat_minor": 4
}
