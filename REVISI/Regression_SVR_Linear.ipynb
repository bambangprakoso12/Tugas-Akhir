{
 "cells": [
  {
   "cell_type": "code",
   "execution_count": 1,
   "metadata": {},
   "outputs": [],
   "source": [
    "import numpy as np\n",
    "import pandas as pd\n",
    "from sklearn.model_selection import train_test_split\n",
    "from sklearn.model_selection import GridSearchCV\n",
    "from sklearn.preprocessing import MinMaxScaler\n",
    "from sklearn.svm import SVR\n",
    "from sklearn.metrics import r2_score,mean_squared_error\n",
    "import seaborn as sns\n",
    "import matplotlib.pyplot as plt\n",
    "import pickle\n",
    "from joblib import dump, load"
   ]
  },
  {
   "cell_type": "code",
   "execution_count": 2,
   "metadata": {},
   "outputs": [],
   "source": [
    "# Load Data Train csv\n",
    "train = pickle.load(open('Train_Test/train_bams.p','rb'))\n",
    "test = pickle.load(open('Train_Test/test_bams.p','rb'))"
   ]
  },
  {
   "cell_type": "code",
   "execution_count": 3,
   "metadata": {},
   "outputs": [
    {
     "data": {
      "text/plain": [
       "['C2SP3',\n",
       " 'maxssCH2',\n",
       " 'AATSC6e',\n",
       " 'RDF30u',\n",
       " 'MATS2i',\n",
       " 'RDF30e',\n",
       " 'ATSC6m',\n",
       " 'SpMax3_Bhs',\n",
       " 'SRW5',\n",
       " 'MDEC-34',\n",
       " 'minHBint4',\n",
       " 'TDB4i',\n",
       " 'nssCH2',\n",
       " 'SHCsats',\n",
       " 'SHBint4',\n",
       " 'SC-4',\n",
       " 'StN',\n",
       " 'ntsC',\n",
       " 'maxtsC',\n",
       " 'ATSC4p',\n",
       " 'ATSC4p',\n",
       " 'SsF',\n",
       " 'SC-6',\n",
       " 'MDEC-24',\n",
       " 'LipoaffinityIndex']"
      ]
     },
     "execution_count": 3,
     "metadata": {},
     "output_type": "execute_result"
    }
   ],
   "source": [
    "# Load Pickle POLY\n",
    "label_25 = pickle.load(open(\"desc/new_desc25.pkl\", \"rb\"))\n",
    "label_25"
   ]
  },
  {
   "cell_type": "code",
   "execution_count": 4,
   "metadata": {},
   "outputs": [],
   "source": [
    "x_train = train.loc[:,label_25]\n",
    "x_test = test.loc[:,label_25]\n",
    "y_train = train.iloc[:,[-1]]\n",
    "y_test = test.iloc[:,[-1]]"
   ]
  },
  {
   "cell_type": "code",
   "execution_count": 5,
   "metadata": {},
   "outputs": [
    {
     "data": {
      "text/plain": [
       "(27, 25)"
      ]
     },
     "execution_count": 5,
     "metadata": {},
     "output_type": "execute_result"
    }
   ],
   "source": [
    "x_test.shape"
   ]
  },
  {
   "cell_type": "code",
   "execution_count": 6,
   "metadata": {},
   "outputs": [],
   "source": [
    "mmscaler = MinMaxScaler()\n",
    "mmscaler.fit(x_train)\n",
    "sc_x_train = mmscaler.transform(x_train)\n",
    "sc_x_test = mmscaler.transform(x_test)"
   ]
  },
  {
   "cell_type": "code",
   "execution_count": 7,
   "metadata": {},
   "outputs": [],
   "source": [
    "paramgrid = {\n",
    "    'C' : [0.1,1,10,100,1000],\n",
    "    'degree' : [1],\n",
    "    'epsilon' : [0.1,1,10,100,1000]\n",
    "}"
   ]
  },
  {
   "cell_type": "code",
   "execution_count": 8,
   "metadata": {},
   "outputs": [
    {
     "name": "stderr",
     "output_type": "stream",
     "text": [
      "C:\\Users\\Bams\\anaconda3\\lib\\site-packages\\sklearn\\utils\\validation.py:760: DataConversionWarning: A column-vector y was passed when a 1d array was expected. Please change the shape of y to (n_samples, ), for example using ravel().\n",
      "  y = column_or_1d(y, warn=True)\n"
     ]
    },
    {
     "data": {
      "text/plain": [
       "GridSearchCV(cv=5, error_score=nan,\n",
       "             estimator=SVR(C=1.0, cache_size=200, coef0=0.0, degree=3,\n",
       "                           epsilon=0.1, gamma='scale', kernel='linear',\n",
       "                           max_iter=-1, shrinking=True, tol=0.001,\n",
       "                           verbose=False),\n",
       "             iid='deprecated', n_jobs=-1,\n",
       "             param_grid={'C': [0.1, 1, 10, 100, 1000], 'degree': [1],\n",
       "                         'epsilon': [0.1, 1, 10, 100, 1000]},\n",
       "             pre_dispatch='2*n_jobs', refit=True, return_train_score=False,\n",
       "             scoring='neg_mean_squared_error', verbose=0)"
      ]
     },
     "execution_count": 8,
     "metadata": {},
     "output_type": "execute_result"
    }
   ],
   "source": [
    "grid = GridSearchCV(\n",
    "        estimator = SVR(kernel = 'linear'),\n",
    "        param_grid = paramgrid,\n",
    "        cv = 5,\n",
    "        scoring = 'neg_mean_squared_error',\n",
    "        n_jobs = -1\n",
    ")\n",
    "grid.fit(sc_x_train, y_train)"
   ]
  },
  {
   "cell_type": "code",
   "execution_count": 9,
   "metadata": {},
   "outputs": [
    {
     "data": {
      "text/plain": [
       "{'C': 1, 'degree': 1, 'epsilon': 0.1}"
      ]
     },
     "execution_count": 9,
     "metadata": {},
     "output_type": "execute_result"
    }
   ],
   "source": [
    "grid.best_params_"
   ]
  },
  {
   "cell_type": "code",
   "execution_count": 10,
   "metadata": {},
   "outputs": [],
   "source": [
    "pickle.dump(grid.best_params_, open( \"data_Linear/new_params_linear_25.p\", \"wb\" ))"
   ]
  },
  {
   "cell_type": "code",
   "execution_count": 11,
   "metadata": {},
   "outputs": [
    {
     "name": "stderr",
     "output_type": "stream",
     "text": [
      "C:\\Users\\Bams\\anaconda3\\lib\\site-packages\\sklearn\\utils\\validation.py:760: DataConversionWarning: A column-vector y was passed when a 1d array was expected. Please change the shape of y to (n_samples, ), for example using ravel().\n",
      "  y = column_or_1d(y, warn=True)\n"
     ]
    },
    {
     "data": {
      "text/plain": [
       "SVR(C=1, cache_size=200, coef0=0.0, degree=1, epsilon=0.1, gamma='scale',\n",
       "    kernel='linear', max_iter=-1, shrinking=True, tol=0.001, verbose=False)"
      ]
     },
     "execution_count": 11,
     "metadata": {},
     "output_type": "execute_result"
    }
   ],
   "source": [
    "# model\n",
    "model = SVR(kernel = 'linear', C = grid.best_params_['C'],\n",
    "           degree = grid.best_params_['degree'],\n",
    "           epsilon = grid.best_params_['epsilon'])\n",
    "model.fit(sc_x_train, y_train)"
   ]
  },
  {
   "cell_type": "code",
   "execution_count": 12,
   "metadata": {},
   "outputs": [],
   "source": [
    "y_train_pred = model.predict(sc_x_train)\n",
    "y_test_pred = model.predict(sc_x_test)"
   ]
  },
  {
   "cell_type": "code",
   "execution_count": 13,
   "metadata": {},
   "outputs": [
    {
     "data": {
      "text/plain": [
       "array([7.33708704, 5.35348418, 6.31719983, 7.09837409, 5.8547953 ,\n",
       "       8.46759313, 6.46156406, 7.98487862, 5.77144886, 7.01536238,\n",
       "       6.92728941, 6.7804741 , 7.39949579, 5.58337676, 8.21655589,\n",
       "       5.63673453, 7.07221142, 6.25763072, 5.96574519, 8.41884527,\n",
       "       7.50078076, 8.17019376, 7.11565268, 6.6090477 , 8.1063342 ,\n",
       "       6.2864638 , 5.77501734, 7.13497389, 8.20698038, 6.45266386,\n",
       "       6.18253338, 5.89804969, 5.83143409, 5.67069287, 6.10141612,\n",
       "       6.40820646, 6.29972383, 6.18602118, 6.48703662, 5.60217473,\n",
       "       5.70201909, 5.89585114, 8.59081406, 5.44128094, 6.44932811,\n",
       "       5.96609151, 5.84416785, 5.895787  , 6.02454054, 6.0391037 ,\n",
       "       5.79224012, 5.64484517, 6.25011755, 5.90697662, 6.82091812,\n",
       "       7.6302005 , 7.33046413, 6.5105026 , 5.95807066, 6.67177784,\n",
       "       6.65808242, 5.70602531, 5.74360836, 6.33892118, 5.69325138,\n",
       "       5.50592354, 8.15244413, 6.57159399, 6.67595397, 7.81094099,\n",
       "       6.21773134, 6.20925371, 5.50684518, 6.25535555, 6.83883366,\n",
       "       5.64307569, 6.09688832, 8.42837225, 9.26800226, 7.2008082 ,\n",
       "       5.85197136, 7.54182812, 6.70593511, 5.60353384, 6.29181091,\n",
       "       6.58348608, 8.74251632, 8.11540535, 6.63297382, 6.88649765,\n",
       "       6.3987945 , 8.06166452, 5.89684908, 5.73373841, 7.65587437,\n",
       "       5.63791876, 5.96609151, 6.31003703, 5.95523953, 6.39847477,\n",
       "       6.63435277, 7.18010961, 5.578884  , 5.80649549, 8.59898931,\n",
       "       7.26133939, 7.38395599])"
      ]
     },
     "execution_count": 13,
     "metadata": {},
     "output_type": "execute_result"
    }
   ],
   "source": [
    "y_train_pred"
   ]
  },
  {
   "cell_type": "code",
   "execution_count": 14,
   "metadata": {},
   "outputs": [],
   "source": [
    "pickle.dump(y_train_pred, open( \"data_Linear/y_train_pred_linear25.p\", \"wb\" ))"
   ]
  },
  {
   "cell_type": "code",
   "execution_count": 15,
   "metadata": {},
   "outputs": [
    {
     "data": {
      "text/plain": [
       "array([5.58773352, 5.48352327, 5.86333804, 5.9316879 , 7.95080685,\n",
       "       7.03430436, 8.59832202, 5.59085318, 8.59521871, 5.41912921,\n",
       "       5.7754192 , 9.03694348, 8.15469262, 6.69843532, 6.33482345,\n",
       "       5.80087419, 8.11561539, 5.79646117, 6.19898703, 7.2242482 ,\n",
       "       6.65942994, 7.71013898, 6.60492875, 6.80727726, 8.74423665,\n",
       "       8.34138589, 5.68799947])"
      ]
     },
     "execution_count": 15,
     "metadata": {},
     "output_type": "execute_result"
    }
   ],
   "source": [
    "y_test_pred"
   ]
  },
  {
   "cell_type": "code",
   "execution_count": 16,
   "metadata": {},
   "outputs": [],
   "source": [
    "pickle.dump(y_test_pred, open( \"data_Linear/y_test_pred_linear25.p\", \"wb\" ))"
   ]
  },
  {
   "cell_type": "code",
   "execution_count": 17,
   "metadata": {},
   "outputs": [],
   "source": [
    "train_r2 = r2_score(y_train, y_train_pred)\n",
    "test_r2 = r2_score(y_test, y_test_pred)"
   ]
  },
  {
   "cell_type": "code",
   "execution_count": 18,
   "metadata": {},
   "outputs": [
    {
     "data": {
      "text/plain": [
       "0.719197736274034"
      ]
     },
     "execution_count": 18,
     "metadata": {},
     "output_type": "execute_result"
    }
   ],
   "source": [
    "train_r2"
   ]
  },
  {
   "cell_type": "code",
   "execution_count": 19,
   "metadata": {},
   "outputs": [],
   "source": [
    "pickle.dump(train_r2, open( \"data_Linear/new_train_r2_linear25.p\", \"wb\" ))"
   ]
  },
  {
   "cell_type": "code",
   "execution_count": 20,
   "metadata": {},
   "outputs": [
    {
     "data": {
      "text/plain": [
       "0.7380223823889662"
      ]
     },
     "execution_count": 20,
     "metadata": {},
     "output_type": "execute_result"
    }
   ],
   "source": [
    "test_r2"
   ]
  },
  {
   "cell_type": "code",
   "execution_count": 21,
   "metadata": {},
   "outputs": [],
   "source": [
    "pickle.dump(test_r2, open( \"data_Linear/new_test_r2_linear25.p\", \"wb\" ))"
   ]
  },
  {
   "cell_type": "code",
   "execution_count": 22,
   "metadata": {},
   "outputs": [],
   "source": [
    "# Load Pickle \n",
    "params5 = pickle.load(open(\"data_Linear/new_params_linear_5.p\", \"rb\"))\n",
    "train_linear5 = pickle.load(open(\"data_Linear/new_train_r2_linear5.p\", \"rb\"))\n",
    "test_linear5 = pickle.load(open(\"data_Linear/new_test_r2_linear5.p\", \"rb\"))\n",
    "train_pred_linear5 = pickle.load(open(\"data_Linear/y_train_pred_linear5.p\", \"rb\"))\n",
    "test_pred_linear5 = pickle.load(open(\"data_Linear/y_test_pred_linear5.p\", \"rb\"))\n",
    "\n",
    "params10 = pickle.load(open(\"data_Linear/new_params_linear_10.p\", \"rb\"))\n",
    "train_linear10 = pickle.load(open(\"data_Linear/new_train_r2_linear10.p\", \"rb\"))\n",
    "test_linear10 = pickle.load(open(\"data_Linear/new_test_r2_linear10.p\", \"rb\"))\n",
    "train_pred_linear10 = pickle.load(open(\"data_Linear/y_train_pred_linear10.p\", \"rb\"))\n",
    "test_pred_linear10 = pickle.load(open(\"data_Linear/y_test_pred_linear10.p\", \"rb\"))\n",
    "\n",
    "params15 = pickle.load(open(\"data_Linear/new_params_linear_15.p\", \"rb\"))\n",
    "train_linear15 = pickle.load(open(\"data_Linear/new_train_r2_linear15.p\", \"rb\"))\n",
    "test_linear15 = pickle.load(open(\"data_Linear/new_test_r2_linear15.p\", \"rb\"))\n",
    "train_pred_linear15 = pickle.load(open(\"data_Linear/y_train_pred_linear15.p\", \"rb\"))\n",
    "test_pred_linear15 = pickle.load(open(\"data_Linear/y_test_pred_linear15.p\", \"rb\"))\n",
    "\n",
    "params20 = pickle.load(open(\"data_Linear/new_params_linear_20.p\", \"rb\"))\n",
    "train_linear20 = pickle.load(open(\"data_Linear/new_train_r2_linear20.p\", \"rb\"))\n",
    "test_linear20 = pickle.load(open(\"data_Linear/new_test_r2_linear20.p\", \"rb\"))\n",
    "train_pred_linear20 = pickle.load(open(\"data_Linear/y_train_pred_linear20.p\", \"rb\"))\n",
    "test_pred_linear20 = pickle.load(open(\"data_Linear/y_test_pred_linear20.p\", \"rb\"))\n",
    "\n",
    "params25 = pickle.load(open(\"data_Linear/new_params_linear_25.p\", \"rb\"))\n",
    "train_linear25 = pickle.load(open(\"data_Linear/new_train_r2_linear25.p\", \"rb\"))\n",
    "test_linear25 = pickle.load(open(\"data_Linear/new_test_r2_linear25.p\", \"rb\"))\n",
    "train_pred_linear25 = pickle.load(open(\"data_Linear/y_train_pred_linear25.p\", \"rb\"))\n",
    "test_pred_linear25 = pickle.load(open(\"data_Linear/y_test_pred_linear25.p\", \"rb\"))"
   ]
  },
  {
   "cell_type": "code",
   "execution_count": 23,
   "metadata": {},
   "outputs": [
    {
     "data": {
      "text/plain": [
       "({'C': 1000, 'degree': 1, 'epsilon': 1},\n",
       " 0.5393448099407998,\n",
       " 0.5881345029047804,\n",
       " array([7.15191585, 5.68759174, 6.50831453, 6.44540042, 6.17973704,\n",
       "        7.27320189, 6.42384789, 8.15574757, 6.08943353, 6.87959744,\n",
       "        7.21111661, 6.40289662, 7.78764706, 5.70845877, 7.39968828,\n",
       "        6.01706426, 7.2441162 , 6.46930661, 6.47146186, 8.20930388,\n",
       "        7.11059696, 7.93393608, 6.73816118, 6.14524598, 7.7395347 ,\n",
       "        6.44158702, 6.08943353, 6.95632531, 8.56112142, 6.7080846 ,\n",
       "        6.6996401 , 5.96133987, 5.8260194 , 6.13635462, 6.27559637,\n",
       "        6.25073804, 6.41771182, 5.88344874, 6.43522757, 6.16419957,\n",
       "        5.85712019, 6.37271084, 7.7208166 , 5.62193513, 6.8598791 ,\n",
       "        6.24895125, 5.57360215, 6.27420582, 6.10045041, 5.83918371,\n",
       "        6.01601562, 5.40404251, 5.83472494, 6.22744443, 7.18894102,\n",
       "        6.57151113, 7.31264998, 6.33170255, 6.03538153, 7.09279197,\n",
       "        6.42541079, 6.14989464, 6.13123258, 6.69871787, 6.06802947,\n",
       "        6.12773708, 7.84645518, 7.3280618 , 6.81826905, 7.22851553,\n",
       "        6.75762229, 6.86554921, 6.13286418, 5.68705537, 7.15288328,\n",
       "        5.73254143, 6.09705403, 8.53456826, 8.39986606, 6.31828645,\n",
       "        6.29470597, 7.51845449, 7.75426624, 5.82671683, 6.74099642,\n",
       "        6.80780974, 7.45922114, 8.16912188, 6.8249565 , 7.16362013,\n",
       "        6.49997494, 7.10989859, 6.05109131, 5.67193769, 9.10682675,\n",
       "        5.8081822 , 6.24895125, 6.69757312, 6.00223166, 6.47124677,\n",
       "        7.47964155, 7.09573326, 5.62504064, 6.28828639, 7.29816539,\n",
       "        6.7039582 , 6.44054133]),\n",
       " array([5.87872836, 5.76237769, 5.94157529, 5.8765286 , 9.69959654,\n",
       "        6.403581  , 8.2963357 , 6.18459478, 7.78814641, 5.80169495,\n",
       "        6.17191912, 7.33346603, 8.59747685, 6.28492153, 6.68673677,\n",
       "        6.32549105, 7.81797465, 6.28828639, 6.79914709, 6.70669843,\n",
       "        6.96687226, 7.49235787, 7.11988329, 6.44851517, 7.43019833,\n",
       "        8.0617234 , 5.97341954]))"
      ]
     },
     "execution_count": 23,
     "metadata": {},
     "output_type": "execute_result"
    }
   ],
   "source": [
    "params5, train_linear5, test_linear5, train_pred_linear5, test_pred_linear5"
   ]
  },
  {
   "cell_type": "code",
   "execution_count": 24,
   "metadata": {},
   "outputs": [
    {
     "data": {
      "text/plain": [
       "({'C': 1000, 'degree': 1, 'epsilon': 1},\n",
       " 0.5945903236325225,\n",
       " 0.49919994942214574,\n",
       " array([6.95779272, 5.30805652, 6.3443045 , 6.92090299, 5.74294471,\n",
       "        7.63788569, 7.10297325, 7.5940058 , 6.56961292, 6.58078099,\n",
       "        6.85995239, 6.45881634, 6.94574021, 6.00953969, 9.09435974,\n",
       "        5.67566386, 7.23798403, 6.46901251, 5.90632737, 7.82698322,\n",
       "        8.0603233 , 7.95867181, 7.14991439, 7.07643455, 7.590811  ,\n",
       "        6.35356999, 6.56961292, 7.25650838, 7.82414563, 6.34866659,\n",
       "        5.62309595, 6.05572131, 6.49577096, 5.79583529, 5.96075828,\n",
       "        6.24825508, 6.41671552, 6.54387798, 6.36578365, 5.69854506,\n",
       "        5.67783579, 6.3792489 , 8.4831969 , 6.13083442, 6.24251066,\n",
       "        6.15208287, 6.07625686, 5.83989666, 6.09412369, 6.52996081,\n",
       "        5.76388369, 5.84296674, 5.16656933, 6.05073498, 6.68508213,\n",
       "        7.67990862, 7.13541746, 7.17125326, 6.02330922, 6.54424871,\n",
       "        5.93129356, 5.88866467, 5.88760369, 6.02010838, 5.75693442,\n",
       "        5.65465178, 7.39990775, 6.40275478, 6.76448411, 7.8197327 ,\n",
       "        6.00048711, 6.36767584, 5.27925701, 5.96098855, 6.61931571,\n",
       "        5.98771005, 5.91636695, 7.71952972, 8.29173623, 7.21919536,\n",
       "        6.23443445, 7.15551191, 6.81717819, 5.63004543, 6.06418884,\n",
       "        6.39596827, 7.89845122, 7.6295756 , 6.93730585, 6.79321466,\n",
       "        5.94574117, 8.39165661, 5.81183636, 6.22066428, 7.04754322,\n",
       "        5.98439742, 6.15208287, 6.4117904 , 6.32595196, 6.40472399,\n",
       "        6.73539668, 7.19255478, 6.00849999, 6.73039305, 7.97917279,\n",
       "        7.23090899, 7.52139744]),\n",
       " array([5.44843714, 5.75407886, 6.06284029, 6.3056753 , 6.10468244,\n",
       "        6.64794593, 8.56520716, 5.38440341, 8.43515446, 5.49740255,\n",
       "        5.74150806, 8.29951886, 7.42189533, 6.1267191 , 6.43915589,\n",
       "        6.23398828, 8.02504498, 6.73039305, 6.4782246 , 7.09943997,\n",
       "        6.69549959, 8.35409959, 6.64236804, 7.00089602, 7.61922498,\n",
       "        7.42410025, 5.92686916]))"
      ]
     },
     "execution_count": 24,
     "metadata": {},
     "output_type": "execute_result"
    }
   ],
   "source": [
    "params10, train_linear10, test_linear10, train_pred_linear10, test_pred_linear10"
   ]
  },
  {
   "cell_type": "code",
   "execution_count": 25,
   "metadata": {},
   "outputs": [
    {
     "data": {
      "text/plain": [
       "({'C': 1, 'degree': 1, 'epsilon': 1},\n",
       " 0.6331632850742906,\n",
       " 0.7479398253444045,\n",
       " array([6.94748346, 5.80138214, 6.11767193, 6.92061635, 6.1683016 ,\n",
       "        7.63774404, 6.30053128, 7.65845999, 6.55789693, 7.28204026,\n",
       "        6.69756121, 6.60743005, 7.28458548, 6.07077921, 7.9111636 ,\n",
       "        6.0970296 , 6.98694753, 6.15897879, 6.26679142, 7.90201198,\n",
       "        7.13348376, 7.95947648, 7.03936024, 6.33402714, 7.89036176,\n",
       "        6.31591114, 6.53673134, 6.82452774, 7.82451837, 6.41641231,\n",
       "        6.31371157, 6.17201253, 5.83122808, 6.05920963, 6.57936035,\n",
       "        6.48664466, 6.48921449, 6.36474883, 6.332583  , 5.89996211,\n",
       "        6.05999467, 6.12327114, 7.39074373, 5.81212527, 6.38111075,\n",
       "        5.97090816, 6.07665045, 6.03894706, 6.15729511, 5.94945615,\n",
       "        6.09984362, 6.21114214, 5.98607556, 6.30712044, 7.11945241,\n",
       "        7.17510431, 6.89940136, 6.51266191, 6.23878856, 7.08759043,\n",
       "        6.73837346, 6.11232834, 6.13061621, 6.91701647, 5.99543599,\n",
       "        5.80049412, 7.25210524, 7.05743564, 6.28828194, 7.22869975,\n",
       "        6.18581474, 6.71792326, 5.96656458, 6.45927818, 7.11701312,\n",
       "        6.0708502 , 6.26161207, 7.85947204, 8.64473002, 7.0948881 ,\n",
       "        6.06926678, 7.18562875, 7.07306662, 6.01680341, 6.30854562,\n",
       "        7.02891045, 7.88838553, 7.59120571, 6.40106908, 7.13166522,\n",
       "        6.44404604, 7.47195158, 6.32793653, 6.08494339, 7.68041751,\n",
       "        5.51695672, 5.97090816, 6.46522039, 5.60194   , 6.34298375,\n",
       "        7.01465769, 6.87217687, 6.1005396 , 6.5848543 , 7.71291718,\n",
       "        6.91437734, 7.04289149]),\n",
       " array([5.75804775, 5.86450913, 6.28886629, 5.94989731, 8.39344697,\n",
       "        6.50138255, 7.69864662, 6.01957815, 7.41112877, 5.93925397,\n",
       "        5.93207204, 8.06539525, 7.77397571, 6.68249388, 5.89634354,\n",
       "        5.41261471, 7.73597249, 6.61706802, 6.44289778, 7.02181074,\n",
       "        6.62058388, 7.58167008, 7.06552842, 6.36466586, 7.82276216,\n",
       "        7.35693703, 6.13768201]))"
      ]
     },
     "execution_count": 25,
     "metadata": {},
     "output_type": "execute_result"
    }
   ],
   "source": [
    "params15, train_linear15, test_linear15, train_pred_linear15, test_pred_linear15"
   ]
  },
  {
   "cell_type": "code",
   "execution_count": 26,
   "metadata": {},
   "outputs": [
    {
     "data": {
      "text/plain": [
       "({'C': 10, 'degree': 1, 'epsilon': 1},\n",
       " 0.6454402386109779,\n",
       " 0.5696985251382829,\n",
       " array([7.01609287, 5.92561964, 5.74786566, 6.920879  , 5.80075944,\n",
       "        7.63774745, 6.300834  , 7.38672016, 6.32673582, 6.68845233,\n",
       "        6.56874993, 6.21507399, 7.26790154, 6.00877241, 7.28713297,\n",
       "        5.93850518, 6.91734215, 6.01571805, 6.31031677, 7.71234335,\n",
       "        7.25779977, 7.95911048, 7.37940787, 6.97939306, 8.44238589,\n",
       "        6.23232175, 6.32673582, 6.82435499, 7.82411894, 6.52186306,\n",
       "        5.82081445, 5.83623039, 5.82224122, 5.86192221, 6.54648056,\n",
       "        6.09641349, 6.3708097 , 6.24935239, 5.82150265, 5.70276354,\n",
       "        5.70737843, 6.40514784, 7.32963664, 5.62363692, 5.77919009,\n",
       "        5.55157024, 5.82119172, 5.74652432, 5.86868965, 5.82282611,\n",
       "        5.96174476, 5.8198701 , 6.62005974, 5.80649244, 6.79742184,\n",
       "        7.25647852, 7.08979683, 6.58262548, 5.94885062, 6.54797152,\n",
       "        6.1854547 , 5.31838127, 6.13115006, 6.95340066, 5.69314466,\n",
       "        5.67960356, 7.35183683, 6.52440729, 6.01237055, 7.86928773,\n",
       "        5.80547723, 5.30945364, 5.54343834, 6.39615416, 6.67498528,\n",
       "        5.84285221, 5.70409006, 8.31468839, 8.63114087, 7.43921021,\n",
       "        6.37256401, 7.44023286, 6.57384762, 5.65188044, 6.00541217,\n",
       "        6.58913717, 7.70096191, 8.27109939, 6.44617782, 6.78294145,\n",
       "        5.94332859, 7.97513172, 6.02493332, 6.05607116, 6.84693596,\n",
       "        5.79971165, 5.55157024, 6.62357487, 5.85486654, 6.07473975,\n",
       "        6.66695947, 7.01731795, 5.88573595, 6.58510171, 7.70276983,\n",
       "        7.00965682, 7.59950398]),\n",
       " array([5.92955356, 5.69798169, 6.15604721, 5.63759839, 8.34952491,\n",
       "        6.7642861 , 8.42418542, 5.60566742, 7.33266731, 5.61645867,\n",
       "        5.72538333, 7.7627602 , 7.76586026, 6.42316973, 6.08467852,\n",
       "        5.78878992, 8.14496501, 6.58510171, 5.04163393, 6.93509218,\n",
       "        6.65862904, 7.14057687, 6.56749705, 5.44292537, 7.64556108,\n",
       "        7.41961531, 6.01733762]))"
      ]
     },
     "execution_count": 26,
     "metadata": {},
     "output_type": "execute_result"
    }
   ],
   "source": [
    "params20, train_linear20, test_linear20, train_pred_linear20, test_pred_linear20"
   ]
  },
  {
   "cell_type": "code",
   "execution_count": 27,
   "metadata": {},
   "outputs": [
    {
     "data": {
      "text/plain": [
       "({'C': 1, 'degree': 1, 'epsilon': 0.1},\n",
       " 0.719197736274034,\n",
       " 0.7380223823889662,\n",
       " array([7.33708704, 5.35348418, 6.31719983, 7.09837409, 5.8547953 ,\n",
       "        8.46759313, 6.46156406, 7.98487862, 5.77144886, 7.01536238,\n",
       "        6.92728941, 6.7804741 , 7.39949579, 5.58337676, 8.21655589,\n",
       "        5.63673453, 7.07221142, 6.25763072, 5.96574519, 8.41884527,\n",
       "        7.50078076, 8.17019376, 7.11565268, 6.6090477 , 8.1063342 ,\n",
       "        6.2864638 , 5.77501734, 7.13497389, 8.20698038, 6.45266386,\n",
       "        6.18253338, 5.89804969, 5.83143409, 5.67069287, 6.10141612,\n",
       "        6.40820646, 6.29972383, 6.18602118, 6.48703662, 5.60217473,\n",
       "        5.70201909, 5.89585114, 8.59081406, 5.44128094, 6.44932811,\n",
       "        5.96609151, 5.84416785, 5.895787  , 6.02454054, 6.0391037 ,\n",
       "        5.79224012, 5.64484517, 6.25011755, 5.90697662, 6.82091812,\n",
       "        7.6302005 , 7.33046413, 6.5105026 , 5.95807066, 6.67177784,\n",
       "        6.65808242, 5.70602531, 5.74360836, 6.33892118, 5.69325138,\n",
       "        5.50592354, 8.15244413, 6.57159399, 6.67595397, 7.81094099,\n",
       "        6.21773134, 6.20925371, 5.50684518, 6.25535555, 6.83883366,\n",
       "        5.64307569, 6.09688832, 8.42837225, 9.26800226, 7.2008082 ,\n",
       "        5.85197136, 7.54182812, 6.70593511, 5.60353384, 6.29181091,\n",
       "        6.58348608, 8.74251632, 8.11540535, 6.63297382, 6.88649765,\n",
       "        6.3987945 , 8.06166452, 5.89684908, 5.73373841, 7.65587437,\n",
       "        5.63791876, 5.96609151, 6.31003703, 5.95523953, 6.39847477,\n",
       "        6.63435277, 7.18010961, 5.578884  , 5.80649549, 8.59898931,\n",
       "        7.26133939, 7.38395599]),\n",
       " array([5.58773352, 5.48352327, 5.86333804, 5.9316879 , 7.95080685,\n",
       "        7.03430436, 8.59832202, 5.59085318, 8.59521871, 5.41912921,\n",
       "        5.7754192 , 9.03694348, 8.15469262, 6.69843532, 6.33482345,\n",
       "        5.80087419, 8.11561539, 5.79646117, 6.19898703, 7.2242482 ,\n",
       "        6.65942994, 7.71013898, 6.60492875, 6.80727726, 8.74423665,\n",
       "        8.34138589, 5.68799947]))"
      ]
     },
     "execution_count": 27,
     "metadata": {},
     "output_type": "execute_result"
    }
   ],
   "source": [
    "params25, train_linear25, test_linear25, train_pred_linear25, test_pred_linear25"
   ]
  },
  {
   "cell_type": "code",
   "execution_count": null,
   "metadata": {},
   "outputs": [],
   "source": []
  }
 ],
 "metadata": {
  "kernelspec": {
   "display_name": "Python 3",
   "language": "python",
   "name": "python3"
  },
  "language_info": {
   "codemirror_mode": {
    "name": "ipython",
    "version": 3
   },
   "file_extension": ".py",
   "mimetype": "text/x-python",
   "name": "python",
   "nbconvert_exporter": "python",
   "pygments_lexer": "ipython3",
   "version": "3.7.6"
  }
 },
 "nbformat": 4,
 "nbformat_minor": 4
}
