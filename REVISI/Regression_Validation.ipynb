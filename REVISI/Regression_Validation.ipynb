{
 "cells": [
  {
   "cell_type": "code",
   "execution_count": 1,
   "metadata": {},
   "outputs": [],
   "source": [
    "import copy\n",
    "import numpy as np\n",
    "import pickle\n",
    "import matplotlib.pyplot as plt\n",
    "from sklearn.model_selection import GridSearchCV\n",
    "from sklearn.preprocessing import MinMaxScaler\n",
    "from sklearn.svm import SVR\n",
    "from sklearn.metrics import r2_score,mean_squared_error\n",
    "import seaborn as sns\n",
    "from sklearn.model_selection import LeaveOneOut\n",
    "from sklearn.model_selection import train_test_split\n",
    "from sklearn.model_selection import GridSearchCV\n",
    "from sklearn.preprocessing import MinMaxScaler\n",
    "import pandas as pd\n",
    "\n",
    "import warnings\n",
    "warnings.filterwarnings('ignore')"
   ]
  },
  {
   "cell_type": "code",
   "execution_count": 2,
   "metadata": {},
   "outputs": [],
   "source": [
    "def r2_score(y, y_pred, y_train=None):\n",
    "    sse = 0; sst = 0\n",
    "    if y_train is None:        \n",
    "        y_mean = np.mean(y)\n",
    "    else:\n",
    "        y_mean = np.mean(y_train)\n",
    "    for i in range(len(y)):\n",
    "        sse += (y[i] - y_pred[i]) ** 2\n",
    "        sst += (y[i] - y_mean) ** 2\n",
    "    r2_score = 1 - (sse / sst)\n",
    "    return r2_score"
   ]
  },
  {
   "cell_type": "code",
   "execution_count": 3,
   "metadata": {},
   "outputs": [],
   "source": [
    "def normalize(X):\n",
    "    max_ = np.max(X, axis=0)\n",
    "    min_ = np.min(X, axis=0)\n",
    "    X_norm = (X - min_) / (max_ - min_)\n",
    "    return max_, min_, X_norm"
   ]
  },
  {
   "cell_type": "code",
   "execution_count": 4,
   "metadata": {},
   "outputs": [],
   "source": [
    "def standardize(X):\n",
    "    mean_ = np.mean(X, axis=0)\n",
    "    std_ = np.std(X, axis=0)\n",
    "    X_norm = (X - mean_) / std_\n",
    "    return X_norm, mean_, std_"
   ]
  },
  {
   "cell_type": "code",
   "execution_count": 5,
   "metadata": {},
   "outputs": [],
   "source": [
    "def q2_loo(model, X, y):\n",
    "    loo = LeaveOneOut()\n",
    "    y_pred = []\n",
    "    for train_index, test_index in loo.split(X):\n",
    "        X_train, X_test = X[train_index], X[test_index]\n",
    "        y_train, y_test = y[train_index], y[test_index]\n",
    "        model.fit(X_train, y_train)\n",
    "        tmp = model.predict(X_test)\n",
    "        #tmp = scaler_y.inverse_transform(tmp)\n",
    "        y_pred.append(list(tmp)[0])\n",
    "    r2 = r2_score(y, y_pred)\n",
    "    return r2, y_pred"
   ]
  },
  {
   "cell_type": "code",
   "execution_count": 6,
   "metadata": {},
   "outputs": [],
   "source": [
    "def qsar_param(y, y_pred, d_r2m=True):\n",
    "    results = []\n",
    "    _, _, y = normalize(y)\n",
    "    _, _, y_pred = normalize(y_pred)\n",
    "    y_mean = np.mean(y); y_pred_mean = np.mean(y_pred)\n",
    "    # calculate r2\n",
    "    num = 0; den_1 = 0; den_2 = 0\n",
    "    for i in range(len(y)):\n",
    "        num += (y[i] - y_mean) * (y_pred[i] - y_pred_mean)\n",
    "        den_1 += (y_pred[i] - y_pred_mean) ** 2\n",
    "        den_2 += (y[i] - y_mean) ** 2\n",
    "    r2 = num ** 2 / (den_1 * den_2)\n",
    "    results = {\"r2\": r2}\n",
    "    # calculate k and k_dash\n",
    "    n_data = len(y)\n",
    "    dot_ = 0; y_pred2 = 0; y2 = 0\n",
    "    for i in range(n_data):\n",
    "        dot_ += (y[i] * y_pred[i])\n",
    "        y_pred2 += y_pred[i] ** 2\n",
    "        y2 += y[i] ** 2\n",
    "    k = np.sum(dot_) / np.sum(y_pred2)\n",
    "    k_dash = np.sum(dot_) / np.sum(y2)\n",
    "    results[\"k\"] = k\n",
    "    results[\"k_dash\"] = k_dash\n",
    "    # calculate r2_0 and r2_0_dash\n",
    "    num = 0; num_dash = 0; den = 0; den_dash = 0\n",
    "    for i in range(n_data):\n",
    "        num += (y[i] - (k * y_pred[i])) ** 2\n",
    "        num_dash += (y_pred[i] - (k_dash * y[i])) ** 2\n",
    "        den += (y[i] - y_mean) ** 2\n",
    "        den_dash += (y_pred[i] - y_pred_mean) ** 2\n",
    "    r2_0 = 1 - (num / den)\n",
    "    r2_0_dash = 1 - (num_dash / den_dash)\n",
    "    #results.append(r2_0)\n",
    "    #results.append(r2_0_dash)\n",
    "    r2r0 = (r2 - r2_0)/r2\n",
    "    r2r0_dash = (r2 - r2_0_dash)/r2\n",
    "    results[\"r2r0\"] = r2r0\n",
    "    results[\"r2r0_dash\"] = r2r0_dash\n",
    "    r0r0_dash = np.abs(r2_0 - r2_0_dash)\n",
    "    results[\"r0r0_dash\"] = r0r0_dash\n",
    "    # calculate rm2 and rm2_dash\n",
    "    rm2 = r2 * (1 - np.sqrt(r2 - r2_0))\n",
    "    rm2_dash = r2 * (1 - np.sqrt(r2 - r2_0_dash))\n",
    "    #results.append(rm2)\n",
    "    #results.append(rm2_dash)\n",
    "    # calculate rm2_bar and d_rm2\n",
    "    rm2_bar = (rm2 + rm2_dash) / 2\n",
    "    d_rm2 = np.abs(rm2 - rm2_dash)\n",
    "    results[\"rm2_bar\"] = rm2_bar\n",
    "    results[\"d_rm2\"] = d_rm2\n",
    "    return results"
   ]
  },
  {
   "cell_type": "code",
   "execution_count": 7,
   "metadata": {},
   "outputs": [],
   "source": [
    "def y_random(estimator, X, y, n=10):\n",
    "    # non-random\n",
    "    estimator.fit(X, y)\n",
    "    y_pred = estimator.predict(X)    \n",
    "    r2_nr = r2_score(y, y_pred)\n",
    "    r_nr = np.sqrt(r2_nr)\n",
    "    n_data = X.shape[0]\n",
    "    # random\n",
    "    r2_rand = []\n",
    "    range_ = list(range(n_data))\n",
    "    for i in range(n):\n",
    "        new_range_ = copy.deepcopy(range_)\n",
    "        np.random.shuffle(new_range_)\n",
    "        y_new = []\n",
    "        for i in new_range_:\n",
    "            y_new.append(y[i])\n",
    "        y_new = np.array(y_new)\n",
    "        estimator.fit(X, y_new)\n",
    "        y_pred = estimator.predict(X)\n",
    "        r2_rand.append(r2_score(y_new, y_pred))\n",
    "    r2_rand_avg = np.average(r2_rand)\n",
    "    rp = r_nr * np.sqrt(r2_nr - r2_rand_avg)\n",
    "    return rp"
   ]
  },
  {
   "cell_type": "code",
   "execution_count": 8,
   "metadata": {},
   "outputs": [],
   "source": [
    "def leverage(XtX, X):\n",
    "    levs = []\n",
    "    for i in range(X.shape[0]):\n",
    "        x = X[i,:]\n",
    "        lev = x.dot(XtX).dot(x.T)\n",
    "        levs.append(lev)\n",
    "    return levs"
   ]
  },
  {
   "cell_type": "code",
   "execution_count": 49,
   "metadata": {},
   "outputs": [],
   "source": [
    "def applicability_domain(X_train, X_test, y_train_act, \n",
    "                         y_train_pred, y_test_act, y_test_pred):\n",
    "    # using wilson map\n",
    "    X_train, _, _ = standardize(X_train)\n",
    "    X_test, _, _ = standardize(X_test)\n",
    "    n, p = X_train.shape\n",
    "    # calculate standardized residuals\n",
    "    err_train = []; res_train = []\n",
    "    for i in range(len(y_train_pred)):\n",
    "        err_train.append(y_train_act[i] - y_train_pred[i])\n",
    "    rmse_train = np.sqrt(r2_score(y_train_act, y_train_pred))\n",
    "    for i in range(len(y_train_pred)):\n",
    "        tmp = err_train[i]/rmse_train\n",
    "        res_train.append(tmp)\n",
    "    err_test = []; res_test = []\n",
    "    for i in range(len(y_test_pred)):\n",
    "        err_test.append(y_test_act[i] - y_test_pred[i])\n",
    "    rmse_test = np.sqrt(r2_score(y_test_act, y_test_pred))\n",
    "    for i in range(len(y_test_pred)):\n",
    "        tmp = err_test[i]/rmse_test\n",
    "        res_test.append(tmp)    \n",
    "    #res_test = [a/rmse_test for a in err_test]\n",
    "    # calculate leverage\n",
    "    XtX = X_train.T.dot(X_train)\n",
    "    XtX = np.linalg.pinv(XtX)\n",
    "    lev_train = leverage(XtX, X_train)\n",
    "    lev_test = leverage(XtX, X_test)\n",
    "    h_star = (3 * (p + 1)) / n\n",
    "    print(h_star)\n",
    "    #return (lev_train, res_train, lev_test, res_test, h_star)\n",
    "    #plotting\n",
    "    plt.scatter(lev_train, res_train, c='b',marker='o', label='training data')\n",
    "    plt.scatter(lev_test, res_test, c='r',marker='^', label='test data')\n",
    "    plt.axhline(y=3, c='k', linewidth=0.8)\n",
    "    plt.axhline(y=-3, c='k', linewidth=0.8)\n",
    "    plt.axvline(x=h_star, c='k', linewidth=0.8)\n",
    "    #plt.xticks([0,0.1,0.2,0.3,0.4,0.5,h_star,0.6],[0,0.1,0.2,0.3,0.4,0.5,\"h$^*$\",0.6])\n",
    "    plt.text(h_star+0.001, 0, \"h$^*$\")\n",
    "    plt.xlim(0, h_star + 0.1)\n",
    "    plt.ylim(-4, 4)\n",
    "    plt.xlabel('leverage')\n",
    "    plt.ylabel('standardized residual')\n",
    "    plt.legend(loc='upper right')\n",
    "    plt.savefig('Model Hasil/Linear_AD.png', format='png', dpi=1000, bbox_inches=\"tight\")    \n",
    "    plt.show()"
   ]
  },
  {
   "cell_type": "code",
   "execution_count": 50,
   "metadata": {},
   "outputs": [
    {
     "data": {
      "text/plain": [
       "((107, 1876), (27, 1876))"
      ]
     },
     "execution_count": 50,
     "metadata": {},
     "output_type": "execute_result"
    }
   ],
   "source": [
    "# Load Data Train csv\n",
    "train = pickle.load(open('Train_Test/train_bams.p','rb'))\n",
    "test = pickle.load(open('Train_Test/test_bams.p','rb'))\n",
    "train.shape, test.shape"
   ]
  },
  {
   "cell_type": "markdown",
   "metadata": {},
   "source": [
    "# SVR_RBF"
   ]
  },
  {
   "cell_type": "code",
   "execution_count": 11,
   "metadata": {},
   "outputs": [
    {
     "data": {
      "text/plain": [
       "SVR(C=10, cache_size=200, coef0=0.0, degree=3, epsilon=0.1, gamma='scale',\n",
       "    kernel='rbf', max_iter=-1, shrinking=True, tol=0.001, verbose=False)"
      ]
     },
     "execution_count": 11,
     "metadata": {},
     "output_type": "execute_result"
    }
   ],
   "source": [
    "# Load Pickle rbf\n",
    "params = pickle.load(open(\"data_RBF/new_params_rbf_25.p\", \"rb\"))\n",
    "\n",
    "label = pickle.load(open(\"desc/new_desc25.pkl\", \"rb\"))\n",
    "x_train = train.loc[:,label].to_numpy()\n",
    "x_test = test.loc[:,label].to_numpy()\n",
    "y_train = train.iloc[:,[-1]].to_numpy()\n",
    "y_test = test.iloc[:,[-1]].to_numpy()\n",
    "\n",
    "# minmax rbf\n",
    "mmscaler = MinMaxScaler()\n",
    "mmscaler.fit(x_train)\n",
    "sc_x_train = mmscaler.transform(x_train)\n",
    "sc_x_test = mmscaler.transform(x_test)\n",
    "\n",
    "# model\n",
    "model = SVR(kernel = 'rbf', C = params['C'],\n",
    "           gamma = params['gamma'],\n",
    "           epsilon = params['epsilon'])\n",
    "model.fit(sc_x_train, y_train)"
   ]
  },
  {
   "cell_type": "code",
   "execution_count": 12,
   "metadata": {},
   "outputs": [
    {
     "data": {
      "text/plain": [
       "(array([0.7941842]),\n",
       " [7.398084497837602,\n",
       "  5.259968414893728,\n",
       "  6.34805292925164,\n",
       "  6.89341010025595,\n",
       "  5.475625227626438,\n",
       "  8.527715978765162,\n",
       "  6.982011001076818,\n",
       "  8.282775693050118,\n",
       "  5.618759259828908,\n",
       "  6.568486893145541,\n",
       "  6.808740703351881,\n",
       "  6.78689312002403,\n",
       "  8.048941972968302,\n",
       "  6.32748877636439,\n",
       "  8.12074636067092,\n",
       "  5.5596877404214915,\n",
       "  6.919657401563091,\n",
       "  5.555591678785804,\n",
       "  5.718691206691142,\n",
       "  8.736658759712045,\n",
       "  7.850429148930996,\n",
       "  8.289823887449252,\n",
       "  7.622717712906105,\n",
       "  7.206535077410946,\n",
       "  8.487247656484401,\n",
       "  6.381036219100004,\n",
       "  5.816396996814203,\n",
       "  6.307669316256572,\n",
       "  7.466933762599037,\n",
       "  6.851520650353572,\n",
       "  6.168704147550906,\n",
       "  5.622708096037996,\n",
       "  5.641177706326095,\n",
       "  5.233834969406077,\n",
       "  6.453266219845795,\n",
       "  5.8786332120885065,\n",
       "  6.347902896841859,\n",
       "  6.262728450241636,\n",
       "  6.478407385837004,\n",
       "  5.5156488483060295,\n",
       "  5.575985611364363,\n",
       "  5.437542760755849,\n",
       "  7.129420453254516,\n",
       "  5.764941452872211,\n",
       "  6.128796939527391,\n",
       "  6.0627274455062405,\n",
       "  5.260494313826809,\n",
       "  5.798903313532053,\n",
       "  5.698857526830748,\n",
       "  6.580014717961984,\n",
       "  5.990790504740938,\n",
       "  6.528876964699444,\n",
       "  6.8817955106161985,\n",
       "  5.164737537033083,\n",
       "  6.856381638244629,\n",
       "  7.490295462786869,\n",
       "  7.634489346921475,\n",
       "  7.259829118805061,\n",
       "  5.222119071860308,\n",
       "  6.849565432811042,\n",
       "  6.626089825476617,\n",
       "  6.399546301742532,\n",
       "  5.586336398499679,\n",
       "  6.916066817904551,\n",
       "  5.614971024883851,\n",
       "  5.6715121155271895,\n",
       "  7.923951858144619,\n",
       "  7.153606376845303,\n",
       "  6.331247153045298,\n",
       "  8.52059527102741,\n",
       "  6.2390886805330625,\n",
       "  6.536683925970733,\n",
       "  6.2205273969519554,\n",
       "  5.487690574640258,\n",
       "  6.514273680860005,\n",
       "  5.475477308001119,\n",
       "  5.567877659523277,\n",
       "  8.353641055079336,\n",
       "  7.86003200628276,\n",
       "  6.728974228472255,\n",
       "  5.786422633739915,\n",
       "  8.3491235618611,\n",
       "  7.226370712487679,\n",
       "  5.5180691329278,\n",
       "  6.518276185430283,\n",
       "  7.200644416881066,\n",
       "  8.474310176592208,\n",
       "  8.181393783214418,\n",
       "  5.823944380756418,\n",
       "  7.077167604129971,\n",
       "  6.268388955873803,\n",
       "  8.11018724007139,\n",
       "  6.277583390990094,\n",
       "  6.775268421674988,\n",
       "  7.30018441189012,\n",
       "  5.218175782605214,\n",
       "  6.020821936000415,\n",
       "  5.743783443966311,\n",
       "  5.647442271239957,\n",
       "  6.6566130243054715,\n",
       "  6.783262351962449,\n",
       "  7.2889220415312135,\n",
       "  6.370858314699719,\n",
       "  5.416537843979313,\n",
       "  8.563856871593758,\n",
       "  7.6141554811133965,\n",
       "  6.8437527110492065])"
      ]
     },
     "execution_count": 12,
     "metadata": {},
     "output_type": "execute_result"
    }
   ],
   "source": [
    "train_rbf = q2_loo(model, sc_x_train, y_train)\n",
    "train_rbf"
   ]
  },
  {
   "cell_type": "code",
   "execution_count": 13,
   "metadata": {},
   "outputs": [
    {
     "data": {
      "text/plain": [
       "array([0.7941842])"
      ]
     },
     "execution_count": 13,
     "metadata": {},
     "output_type": "execute_result"
    }
   ],
   "source": [
    "train_rbf_r2 = r2_score(y_train, train_rbf[1])\n",
    "train_rbf_r2"
   ]
  },
  {
   "cell_type": "code",
   "execution_count": 14,
   "metadata": {},
   "outputs": [
    {
     "data": {
      "text/plain": [
       "((27, 1), 27)"
      ]
     },
     "execution_count": 14,
     "metadata": {},
     "output_type": "execute_result"
    }
   ],
   "source": [
    "y_test.shape, len(model.predict(x_test))"
   ]
  },
  {
   "cell_type": "code",
   "execution_count": 15,
   "metadata": {},
   "outputs": [
    {
     "data": {
      "text/plain": [
       "array([5.67010008, 5.34031858, 5.75637307, 6.26822256, 7.64973106,\n",
       "       7.11259094, 8.23598107, 5.70858136, 6.9112195 , 5.55925543,\n",
       "       5.52045322, 8.33935275, 8.65710657, 6.78116755, 5.53524473,\n",
       "       5.46733734, 8.79118111, 5.41848235, 6.62778577, 7.65223373,\n",
       "       6.64019301, 8.51946891, 7.0406698 , 7.0566492 , 8.53438072,\n",
       "       8.34951223, 5.73940516])"
      ]
     },
     "execution_count": 15,
     "metadata": {},
     "output_type": "execute_result"
    }
   ],
   "source": [
    "test_pred = model.predict(sc_x_test)\n",
    "test_pred"
   ]
  },
  {
   "cell_type": "code",
   "execution_count": 16,
   "metadata": {},
   "outputs": [
    {
     "data": {
      "text/html": [
       "<div>\n",
       "<style scoped>\n",
       "    .dataframe tbody tr th:only-of-type {\n",
       "        vertical-align: middle;\n",
       "    }\n",
       "\n",
       "    .dataframe tbody tr th {\n",
       "        vertical-align: top;\n",
       "    }\n",
       "\n",
       "    .dataframe thead th {\n",
       "        text-align: right;\n",
       "    }\n",
       "</style>\n",
       "<table border=\"1\" class=\"dataframe\">\n",
       "  <thead>\n",
       "    <tr style=\"text-align: right;\">\n",
       "      <th></th>\n",
       "      <th>r2</th>\n",
       "      <th>k</th>\n",
       "      <th>k_dash</th>\n",
       "      <th>r2r0</th>\n",
       "      <th>r2r0_dash</th>\n",
       "      <th>r0r0_dash</th>\n",
       "      <th>rm2_bar</th>\n",
       "      <th>d_rm2</th>\n",
       "    </tr>\n",
       "  </thead>\n",
       "  <tbody>\n",
       "    <tr>\n",
       "      <th>0</th>\n",
       "      <td>0.794547</td>\n",
       "      <td>0.961154</td>\n",
       "      <td>0.972488</td>\n",
       "      <td>0.008427</td>\n",
       "      <td>0.012408</td>\n",
       "      <td>0.003164</td>\n",
       "      <td>0.722593</td>\n",
       "      <td>0.013879</td>\n",
       "    </tr>\n",
       "  </tbody>\n",
       "</table>\n",
       "</div>"
      ],
      "text/plain": [
       "         r2         k    k_dash      r2r0  r2r0_dash  r0r0_dash   rm2_bar  \\\n",
       "0  0.794547  0.961154  0.972488  0.008427   0.012408   0.003164  0.722593   \n",
       "\n",
       "      d_rm2  \n",
       "0  0.013879  "
      ]
     },
     "execution_count": 16,
     "metadata": {},
     "output_type": "execute_result"
    }
   ],
   "source": [
    "rbf_qsar = qsar_param(y_train, train_rbf[1], d_r2m=True)\n",
    "pd.DataFrame(rbf_qsar)"
   ]
  },
  {
   "cell_type": "code",
   "execution_count": 17,
   "metadata": {},
   "outputs": [
    {
     "data": {
      "text/html": [
       "<div>\n",
       "<style scoped>\n",
       "    .dataframe tbody tr th:only-of-type {\n",
       "        vertical-align: middle;\n",
       "    }\n",
       "\n",
       "    .dataframe tbody tr th {\n",
       "        vertical-align: top;\n",
       "    }\n",
       "\n",
       "    .dataframe thead th {\n",
       "        text-align: right;\n",
       "    }\n",
       "</style>\n",
       "<table border=\"1\" class=\"dataframe\">\n",
       "  <thead>\n",
       "    <tr style=\"text-align: right;\">\n",
       "      <th></th>\n",
       "      <th>r2</th>\n",
       "      <th>k</th>\n",
       "      <th>k_dash</th>\n",
       "      <th>r2r0</th>\n",
       "      <th>r2r0_dash</th>\n",
       "      <th>r0r0_dash</th>\n",
       "      <th>rm2_bar</th>\n",
       "      <th>d_rm2</th>\n",
       "    </tr>\n",
       "  </thead>\n",
       "  <tbody>\n",
       "    <tr>\n",
       "      <th>0</th>\n",
       "      <td>0.85811</td>\n",
       "      <td>1.036394</td>\n",
       "      <td>0.911114</td>\n",
       "      <td>0.050077</td>\n",
       "      <td>0.005964</td>\n",
       "      <td>0.037855</td>\n",
       "      <td>0.738475</td>\n",
       "      <td>0.116498</td>\n",
       "    </tr>\n",
       "  </tbody>\n",
       "</table>\n",
       "</div>"
      ],
      "text/plain": [
       "        r2         k    k_dash      r2r0  r2r0_dash  r0r0_dash   rm2_bar  \\\n",
       "0  0.85811  1.036394  0.911114  0.050077   0.005964   0.037855  0.738475   \n",
       "\n",
       "      d_rm2  \n",
       "0  0.116498  "
      ]
     },
     "execution_count": 17,
     "metadata": {},
     "output_type": "execute_result"
    }
   ],
   "source": [
    "rbf_qsar = qsar_param(y_test, test_pred, d_r2m=True)\n",
    "pd.DataFrame(rbf_qsar)"
   ]
  },
  {
   "cell_type": "code",
   "execution_count": 18,
   "metadata": {},
   "outputs": [
    {
     "data": {
      "text/plain": [
       "array([0.65159521])"
      ]
     },
     "execution_count": 18,
     "metadata": {},
     "output_type": "execute_result"
    }
   ],
   "source": [
    "rbf_y = y_random(model, sc_x_train, y_train, n=10)\n",
    "rbf_y"
   ]
  },
  {
   "cell_type": "code",
   "execution_count": 21,
   "metadata": {},
   "outputs": [
    {
     "name": "stdout",
     "output_type": "stream",
     "text": [
      "0.7289719626168224\n"
     ]
    },
    {
     "data": {
      "image/png": "[encoded data removed]",
      "text/plain": [
       "<Figure size 432x288 with 1 Axes>"
      ]
     },
     "metadata": {
      "needs_background": "light"
     },
     "output_type": "display_data"
    }
   ],
   "source": [
    "plt.title('RBF-Applicability domain')\n",
    "rbf_AD = applicability_domain(sc_x_train, sc_x_test, y_train, train_rbf[1], y_test, test_pred)\n",
    "rbf_AD"
   ]
  },
  {
   "cell_type": "code",
   "execution_count": 22,
   "metadata": {},
   "outputs": [
    {
     "data": {
      "image/png": "[encoded data removed]",
      "text/plain": [
       "<Figure size 432x288 with 1 Axes>"
      ]
     },
     "metadata": {
      "needs_background": "light"
     },
     "output_type": "display_data"
    }
   ],
   "source": [
    "fig, ax = plt.subplots()\n",
    "ax.scatter(y_train, train_rbf[1], c='b',marker='o', label='training data')\n",
    "ax.scatter(y_test, test_pred, c='r',marker='^', label='test data')\n",
    "ax.plot([0, 1], [0, 1], color=\"black\",transform=ax.transAxes)\n",
    "plt.title('RBF-Actual vs Predict')\n",
    "plt.xlim(3,10)\n",
    "plt.ylim(3,10)\n",
    "ax.set_xlabel('Predicted pIC50')\n",
    "ax.set_ylabel('Experimental pIC50')\n",
    "plt.savefig('Model Hasil/RBF_Actual vs Predict.png', format='png', dpi=1000, bbox_inches=\"tight\")\n",
    "plt.show()"
   ]
  },
  {
   "cell_type": "code",
   "execution_count": 23,
   "metadata": {},
   "outputs": [
    {
     "data": {
      "image/png": "[encoded data removed]",
      "text/plain": [
       "<Figure size 432x288 with 1 Axes>"
      ]
     },
     "metadata": {
      "needs_background": "light"
     },
     "output_type": "display_data"
    }
   ],
   "source": [
    "#dataframe to list\n",
    "r_train = pd.DataFrame(y_train).to_numpy()\n",
    "r_train_pred = pd.DataFrame(train_rbf[1]).to_numpy()\n",
    "r_test = pd.DataFrame(y_test).to_numpy()\n",
    "r_test_pred = pd.DataFrame(test_pred).to_numpy()\n",
    "\n",
    "train = r_train-r_train_pred\n",
    "test = r_test-r_test_pred\n",
    "plt.axhline(y=0, c='k', linewidth=0.8, linestyle='--')\n",
    "plt.scatter(r_train, train, c='b',marker='o', label='training data')\n",
    "plt.scatter(r_test, test, c='r',marker='^', label='test data')\n",
    "plt.title(\"RBF-Actual vs Residual\")\n",
    "plt.xlabel(\"Predict Values\")\n",
    "plt.ylabel(\"Residual\")\n",
    "plt.savefig('Model Hasil/RBF_Actual vs Residual.png', format='png', dpi=1000, bbox_inches=\"tight\")"
   ]
  },
  {
   "cell_type": "markdown",
   "metadata": {},
   "source": [
    "# SVR_Poly"
   ]
  },
  {
   "cell_type": "code",
   "execution_count": 26,
   "metadata": {},
   "outputs": [
    {
     "data": {
      "text/plain": [
       "SVR(C=1, cache_size=200, coef0=0.0, degree=3, epsilon=0.1, gamma='scale',\n",
       "    kernel='poly', max_iter=-1, shrinking=True, tol=0.001, verbose=False)"
      ]
     },
     "execution_count": 26,
     "metadata": {},
     "output_type": "execute_result"
    }
   ],
   "source": [
    "# Load Pickle poly\n",
    "params = pickle.load(open(\"data_Poly/new_params_poly_25.p\", \"rb\"))\n",
    "\n",
    "poly = pickle.load(open(\"desc/new_desc25.pkl\", \"rb\"))\n",
    "x_train = train.loc[:,poly].to_numpy()\n",
    "x_test = test.loc[:,poly].to_numpy()\n",
    "y_train = train.iloc[:,[-1]].to_numpy()\n",
    "y_test = test.iloc[:,[-1]].to_numpy()\n",
    "\n",
    "# minmax poly\n",
    "mmscaler = MinMaxScaler()\n",
    "mmscaler.fit(x_train)\n",
    "sc_x_train = mmscaler.transform(x_train)\n",
    "sc_x_test = mmscaler.transform(x_test)\n",
    "\n",
    "# model\n",
    "model = SVR(kernel = 'poly', C = params['C'],\n",
    "           degree = params['degree'],\n",
    "           epsilon = params['epsilon'])\n",
    "model.fit(sc_x_train, y_train)\n"
   ]
  },
  {
   "cell_type": "code",
   "execution_count": 27,
   "metadata": {},
   "outputs": [
    {
     "data": {
      "text/plain": [
       "(array([0.7291073]),\n",
       " [7.37901044947423,\n",
       "  5.473353329336453,\n",
       "  6.486413413862235,\n",
       "  6.793385201342336,\n",
       "  5.586278619733944,\n",
       "  8.291969229015672,\n",
       "  6.910556549399923,\n",
       "  7.941641055827442,\n",
       "  5.631322089172374,\n",
       "  6.64483013232414,\n",
       "  6.804629673342732,\n",
       "  6.807397411289825,\n",
       "  7.544447602214162,\n",
       "  6.149423523785559,\n",
       "  9.725022337060167,\n",
       "  5.734653362580772,\n",
       "  6.84350121250101,\n",
       "  5.928852260306954,\n",
       "  5.624312571121967,\n",
       "  9.751768951144737,\n",
       "  7.534600523481884,\n",
       "  8.204201088762513,\n",
       "  7.632437093077165,\n",
       "  7.16428227970702,\n",
       "  9.175061329816176,\n",
       "  6.379353513414175,\n",
       "  5.794425303412689,\n",
       "  6.418778334042717,\n",
       "  8.46805699069732,\n",
       "  6.786226222466804,\n",
       "  6.252390875008402,\n",
       "  5.584509111708876,\n",
       "  5.8886555366640785,\n",
       "  5.439944847641842,\n",
       "  6.241144857006485,\n",
       "  6.092601707556047,\n",
       "  6.384556529137349,\n",
       "  6.263645064168882,\n",
       "  6.5312744474505955,\n",
       "  5.537492105129013,\n",
       "  5.670083182541998,\n",
       "  5.722266871927156,\n",
       "  8.246900749549502,\n",
       "  5.805960072394923,\n",
       "  6.225309276743193,\n",
       "  5.966028944964539,\n",
       "  5.431169442849864,\n",
       "  5.7216272463335445,\n",
       "  5.709071201245554,\n",
       "  6.285058254996437,\n",
       "  5.872786646832985,\n",
       "  5.790288955948012,\n",
       "  6.0576931328612496,\n",
       "  5.252187816982096,\n",
       "  7.042188983811874,\n",
       "  7.5932810046918755,\n",
       "  7.6257868969853835,\n",
       "  6.906125236676557,\n",
       "  5.321086946135248,\n",
       "  6.909864668416048,\n",
       "  6.544685465482245,\n",
       "  6.372640238506094,\n",
       "  5.683642778228186,\n",
       "  7.091456211746205,\n",
       "  5.62519685412612,\n",
       "  5.551050734171763,\n",
       "  8.088509959880842,\n",
       "  6.8838816580953015,\n",
       "  6.323301558419538,\n",
       "  8.27338168324078,\n",
       "  6.246748389378848,\n",
       "  6.173026756010871,\n",
       "  5.629876455094502,\n",
       "  5.396593178503453,\n",
       "  6.423640341605295,\n",
       "  5.458331559570198,\n",
       "  5.469939035475848,\n",
       "  8.407233852725216,\n",
       "  9.233517730246277,\n",
       "  6.582782919851228,\n",
       "  5.945393218200697,\n",
       "  8.460298405991132,\n",
       "  7.064691028400872,\n",
       "  5.688437334405709,\n",
       "  6.370687997666183,\n",
       "  7.011621439312019,\n",
       "  9.07391666378632,\n",
       "  8.142543713981187,\n",
       "  6.122546969606768,\n",
       "  6.802898758929366,\n",
       "  6.270181286602618,\n",
       "  8.456425443534402,\n",
       "  5.6873022598702105,\n",
       "  6.320851643654903,\n",
       "  8.423037779047874,\n",
       "  5.611457646813928,\n",
       "  5.932594697677513,\n",
       "  6.010539861613813,\n",
       "  5.960797555193071,\n",
       "  6.521812664927078,\n",
       "  6.851730071761196,\n",
       "  7.600801537873258,\n",
       "  6.1366840185706995,\n",
       "  5.469906002457816,\n",
       "  8.830047190559249,\n",
       "  7.412616625654529,\n",
       "  6.833041282292844])"
      ]
     },
     "execution_count": 27,
     "metadata": {},
     "output_type": "execute_result"
    }
   ],
   "source": [
    "train_q2_poly = q2_loo(model, sc_x_train, y_train)\n",
    "train_q2_poly"
   ]
  },
  {
   "cell_type": "code",
   "execution_count": 28,
   "metadata": {},
   "outputs": [
    {
     "data": {
      "text/plain": [
       "array([0.7291073])"
      ]
     },
     "execution_count": 28,
     "metadata": {},
     "output_type": "execute_result"
    }
   ],
   "source": [
    "poly = r2_score(y_train, train_q2_poly[1])\n",
    "poly"
   ]
  },
  {
   "cell_type": "code",
   "execution_count": 29,
   "metadata": {},
   "outputs": [
    {
     "data": {
      "text/plain": [
       "array([5.87842884, 5.51424079, 5.70344571, 6.14555362, 8.88978608,\n",
       "       7.02876292, 8.66046873, 5.62200408, 6.99356956, 5.6184576 ,\n",
       "       5.69210097, 8.9192894 , 8.93879604, 6.6941391 , 5.92195199,\n",
       "       5.79322731, 9.54995768, 5.4049546 , 6.37328818, 7.61893931,\n",
       "       6.61874919, 8.05602033, 7.08879204, 6.54303394, 8.67955127,\n",
       "       7.70418352, 5.66958032])"
      ]
     },
     "execution_count": 29,
     "metadata": {},
     "output_type": "execute_result"
    }
   ],
   "source": [
    "poly_test_pred = model.predict(sc_x_test)\n",
    "poly_test_pred"
   ]
  },
  {
   "cell_type": "code",
   "execution_count": 30,
   "metadata": {},
   "outputs": [
    {
     "data": {
      "text/html": [
       "<div>\n",
       "<style scoped>\n",
       "    .dataframe tbody tr th:only-of-type {\n",
       "        vertical-align: middle;\n",
       "    }\n",
       "\n",
       "    .dataframe tbody tr th {\n",
       "        vertical-align: top;\n",
       "    }\n",
       "\n",
       "    .dataframe thead th {\n",
       "        text-align: right;\n",
       "    }\n",
       "</style>\n",
       "<table border=\"1\" class=\"dataframe\">\n",
       "  <thead>\n",
       "    <tr style=\"text-align: right;\">\n",
       "      <th></th>\n",
       "      <th>r2</th>\n",
       "      <th>k</th>\n",
       "      <th>k_dash</th>\n",
       "      <th>r2r0</th>\n",
       "      <th>r2r0_dash</th>\n",
       "      <th>r0r0_dash</th>\n",
       "      <th>rm2_bar</th>\n",
       "      <th>d_rm2</th>\n",
       "    </tr>\n",
       "  </thead>\n",
       "  <tbody>\n",
       "    <tr>\n",
       "      <th>0</th>\n",
       "      <td>0.754699</td>\n",
       "      <td>1.168911</td>\n",
       "      <td>0.778753</td>\n",
       "      <td>0.061202</td>\n",
       "      <td>0.000084</td>\n",
       "      <td>0.046126</td>\n",
       "      <td>0.670598</td>\n",
       "      <td>0.156192</td>\n",
       "    </tr>\n",
       "  </tbody>\n",
       "</table>\n",
       "</div>"
      ],
      "text/plain": [
       "         r2         k    k_dash      r2r0  r2r0_dash  r0r0_dash   rm2_bar  \\\n",
       "0  0.754699  1.168911  0.778753  0.061202   0.000084   0.046126  0.670598   \n",
       "\n",
       "      d_rm2  \n",
       "0  0.156192  "
      ]
     },
     "execution_count": 30,
     "metadata": {},
     "output_type": "execute_result"
    }
   ],
   "source": [
    "poly_qsar = qsar_param(y_train, train_q2_poly[1], d_r2m=True)\n",
    "pd.DataFrame(poly_qsar)"
   ]
  },
  {
   "cell_type": "code",
   "execution_count": 31,
   "metadata": {},
   "outputs": [
    {
     "data": {
      "text/html": [
       "<div>\n",
       "<style scoped>\n",
       "    .dataframe tbody tr th:only-of-type {\n",
       "        vertical-align: middle;\n",
       "    }\n",
       "\n",
       "    .dataframe tbody tr th {\n",
       "        vertical-align: top;\n",
       "    }\n",
       "\n",
       "    .dataframe thead th {\n",
       "        text-align: right;\n",
       "    }\n",
       "</style>\n",
       "<table border=\"1\" class=\"dataframe\">\n",
       "  <thead>\n",
       "    <tr style=\"text-align: right;\">\n",
       "      <th></th>\n",
       "      <th>r2</th>\n",
       "      <th>k</th>\n",
       "      <th>k_dash</th>\n",
       "      <th>r2r0</th>\n",
       "      <th>r2r0_dash</th>\n",
       "      <th>r0r0_dash</th>\n",
       "      <th>rm2_bar</th>\n",
       "      <th>d_rm2</th>\n",
       "    </tr>\n",
       "  </thead>\n",
       "  <tbody>\n",
       "    <tr>\n",
       "      <th>0</th>\n",
       "      <td>0.808956</td>\n",
       "      <td>1.176018</td>\n",
       "      <td>0.780596</td>\n",
       "      <td>0.100123</td>\n",
       "      <td>0.010843</td>\n",
       "      <td>0.072224</td>\n",
       "      <td>0.655962</td>\n",
       "      <td>0.154463</td>\n",
       "    </tr>\n",
       "  </tbody>\n",
       "</table>\n",
       "</div>"
      ],
      "text/plain": [
       "         r2         k    k_dash      r2r0  r2r0_dash  r0r0_dash   rm2_bar  \\\n",
       "0  0.808956  1.176018  0.780596  0.100123   0.010843   0.072224  0.655962   \n",
       "\n",
       "      d_rm2  \n",
       "0  0.154463  "
      ]
     },
     "execution_count": 31,
     "metadata": {},
     "output_type": "execute_result"
    }
   ],
   "source": [
    "poly_qsar = qsar_param(y_test, poly_test_pred, d_r2m=True)\n",
    "pd.DataFrame(poly_qsar)"
   ]
  },
  {
   "cell_type": "code",
   "execution_count": 32,
   "metadata": {},
   "outputs": [
    {
     "data": {
      "text/plain": [
       "array([0.7336643])"
      ]
     },
     "execution_count": 32,
     "metadata": {},
     "output_type": "execute_result"
    }
   ],
   "source": [
    "poly_y = y_random(model, sc_x_train, y_train, n=10)\n",
    "poly_y"
   ]
  },
  {
   "cell_type": "code",
   "execution_count": 36,
   "metadata": {},
   "outputs": [
    {
     "name": "stdout",
     "output_type": "stream",
     "text": [
      "0.7289719626168224\n"
     ]
    },
    {
     "data": {
      "image/png": "[encoded data removed]",
      "text/plain": [
       "<Figure size 432x288 with 1 Axes>"
      ]
     },
     "metadata": {
      "needs_background": "light"
     },
     "output_type": "display_data"
    }
   ],
   "source": [
    "plt.title('Poly-Applicability domain')\n",
    "poly_AD = applicability_domain(sc_x_train, sc_x_test, y_train, train_q2_poly[1], y_test, poly_test_pred)\n",
    "poly_AD"
   ]
  },
  {
   "cell_type": "code",
   "execution_count": 37,
   "metadata": {},
   "outputs": [
    {
     "data": {
      "image/png": "[encoded data removed]",
      "text/plain": [
       "<Figure size 432x288 with 1 Axes>"
      ]
     },
     "metadata": {
      "needs_background": "light"
     },
     "output_type": "display_data"
    }
   ],
   "source": [
    "fig, ax = plt.subplots()\n",
    "ax.scatter(y_train, train_q2_poly[1], c='b',marker='o', label='training data')\n",
    "ax.scatter(y_test, poly_test_pred, c='r',marker='^', label='test data')\n",
    "ax.plot([0, 1], [0, 1], color=\"black\",transform=ax.transAxes)\n",
    "plt.title('Poly-Actual vs Predict')\n",
    "plt.xlim(3,10)\n",
    "plt.ylim(3,10)\n",
    "ax.set_xlabel('Predicted pIC50')\n",
    "ax.set_ylabel('Experimental pIC50')\n",
    "plt.savefig('Model Hasil/poly_Actual vs Predict.png', format='png', dpi=1000, bbox_inches=\"tight\")\n",
    "plt.show()"
   ]
  },
  {
   "cell_type": "code",
   "execution_count": 38,
   "metadata": {},
   "outputs": [
    {
     "data": {
      "image/png": "[encoded data removed]",
      "text/plain": [
       "<Figure size 432x288 with 1 Axes>"
      ]
     },
     "metadata": {
      "needs_background": "light"
     },
     "output_type": "display_data"
    }
   ],
   "source": [
    "#dataframe to list\n",
    "r_train = pd.DataFrame(y_train).to_numpy()\n",
    "r_train_pred = pd.DataFrame(train_q2_poly[1]).to_numpy()\n",
    "r_test = pd.DataFrame(y_test).to_numpy()\n",
    "r_test_pred = pd.DataFrame(poly_test_pred).to_numpy()\n",
    "\n",
    "p_train = r_train-r_train_pred\n",
    "p_test = r_test-r_test_pred\n",
    "\n",
    "plt.axhline(y=0, c='k', linewidth=0.8, linestyle='--')\n",
    "plt.scatter(r_train, p_train, c='b',marker='o', label='training data')\n",
    "plt.scatter(r_test, p_test, c='r',marker='^', label='test data')\n",
    "plt.title(\"Poly-Actual vs Residual\")\n",
    "plt.xlabel(\"Predict Values\")\n",
    "plt.ylabel(\"Residual\")\n",
    "plt.savefig('Model Hasil/Poly_Actual vs Residual.png', format='png', dpi=1000, bbox_inches=\"tight\")"
   ]
  },
  {
   "cell_type": "markdown",
   "metadata": {},
   "source": [
    "# SVR_Linear"
   ]
  },
  {
   "cell_type": "code",
   "execution_count": 41,
   "metadata": {},
   "outputs": [
    {
     "data": {
      "text/plain": [
       "SVR(C=1, cache_size=200, coef0=0.0, degree=1, epsilon=0.1, gamma='scale',\n",
       "    kernel='linear', max_iter=-1, shrinking=True, tol=0.001, verbose=False)"
      ]
     },
     "execution_count": 41,
     "metadata": {},
     "output_type": "execute_result"
    }
   ],
   "source": [
    "# Load Pickle linear\n",
    "params = pickle.load(open(\"data_Linear/new_params_linear_25.p\", \"rb\"))\n",
    "\n",
    "linear = pickle.load(open(\"desc/new_desc25.pkl\", \"rb\"))\n",
    "x_train = train.loc[:,linear].to_numpy()\n",
    "x_test = test.loc[:,linear].to_numpy()\n",
    "y_train = train.iloc[:,[-1]].to_numpy()\n",
    "y_test = test.iloc[:,[-1]].to_numpy()\n",
    "\n",
    "# minmax linear\n",
    "mmscaler = MinMaxScaler()\n",
    "mmscaler.fit(x_train)\n",
    "sc_x_train = mmscaler.transform(x_train)\n",
    "sc_x_test = mmscaler.transform(x_test)\n",
    "\n",
    "# model\n",
    "model = SVR(kernel = 'linear', C = params['C'],\n",
    "           degree = params['degree'],\n",
    "           epsilon = params['epsilon'])\n",
    "model.fit(sc_x_train, y_train)\n"
   ]
  },
  {
   "cell_type": "code",
   "execution_count": 42,
   "metadata": {},
   "outputs": [
    {
     "data": {
      "text/plain": [
       "(array([0.61829401]),\n",
       " [7.371715297256414,\n",
       "  5.242209105035011,\n",
       "  6.3171998330204815,\n",
       "  7.044901404499375,\n",
       "  5.854795295645355,\n",
       "  8.256159455170055,\n",
       "  6.365925754289189,\n",
       "  7.80806964209766,\n",
       "  5.987508410786464,\n",
       "  7.0153623764512805,\n",
       "  6.787566682376442,\n",
       "  6.862223739943291,\n",
       "  7.364345849421651,\n",
       "  5.5322984623815366,\n",
       "  8.216555890434817,\n",
       "  5.583328144003645,\n",
       "  7.072405599534985,\n",
       "  6.341542680203716,\n",
       "  6.004300836046973,\n",
       "  8.43536273588302,\n",
       "  7.381427361556183,\n",
       "  8.043096485939413,\n",
       "  7.115652677947889,\n",
       "  6.609133136593282,\n",
       "  7.801087981521299,\n",
       "  6.253033634590622,\n",
       "  5.9734953627266165,\n",
       "  7.246293985303312,\n",
       "  7.522568854817077,\n",
       "  6.529345335534238,\n",
       "  6.169628708338442,\n",
       "  5.9240473182286895,\n",
       "  5.88598880692766,\n",
       "  5.686924866409644,\n",
       "  6.0635226755200256,\n",
       "  6.509728520152441,\n",
       "  6.271314184359649,\n",
       "  6.2727902599129,\n",
       "  6.439539238189482,\n",
       "  5.532438158340797,\n",
       "  5.744905533133158,\n",
       "  5.933586712122841,\n",
       "  8.729856134495133,\n",
       "  5.416105017754795,\n",
       "  6.456100990722364,\n",
       "  5.966091507753614,\n",
       "  5.817510559794304,\n",
       "  5.913377863998089,\n",
       "  6.040127770661167,\n",
       "  5.9634308879769975,\n",
       "  5.792071401552016,\n",
       "  5.618442223925442,\n",
       "  6.249297495204443,\n",
       "  6.022393585788667,\n",
       "  6.972849091025466,\n",
       "  7.685447271246906,\n",
       "  7.266778370377146,\n",
       "  6.4186366351398965,\n",
       "  6.095583969489773,\n",
       "  6.662783474468683,\n",
       "  6.658082422195587,\n",
       "  5.577702649700898,\n",
       "  5.77008415986017,\n",
       "  6.607142720243317,\n",
       "  5.668608409781726,\n",
       "  5.419061753100098,\n",
       "  7.36640570941731,\n",
       "  6.571593987458188,\n",
       "  6.80446717454447,\n",
       "  7.739866617932869,\n",
       "  6.279197543091853,\n",
       "  6.1681998436605525,\n",
       "  5.458701338131876,\n",
       "  6.551308453806871,\n",
       "  6.817434506829581,\n",
       "  5.674748046002511,\n",
       "  6.187373513150355,\n",
       "  8.428372245207992,\n",
       "  9.918507986183847,\n",
       "  7.177579723088449,\n",
       "  5.921028944225771,\n",
       "  7.471748618169771,\n",
       "  6.64055910202805,\n",
       "  5.603533840049007,\n",
       "  6.350274943191939,\n",
       "  6.665012090512116,\n",
       "  8.879591426698514,\n",
       "  8.080898865767972,\n",
       "  6.790057007738538,\n",
       "  6.942087078432774,\n",
       "  6.398794502158335,\n",
       "  8.061715097927852,\n",
       "  5.991835393229753,\n",
       "  5.659631701163825,\n",
       "  7.903636277427679,\n",
       "  5.764206395371199,\n",
       "  5.898647895204329,\n",
       "  6.3100370303457805,\n",
       "  6.100343275955758,\n",
       "  6.3516426739527585,\n",
       "  6.601881683835348,\n",
       "  7.141637587099188,\n",
       "  5.537204546128315,\n",
       "  6.107820931149762,\n",
       "  8.392174044941623,\n",
       "  7.261493435824322,\n",
       "  7.4099752119542845])"
      ]
     },
     "execution_count": 42,
     "metadata": {},
     "output_type": "execute_result"
    }
   ],
   "source": [
    "train_q2_linear = q2_loo(model, sc_x_train, y_train)\n",
    "train_q2_linear"
   ]
  },
  {
   "cell_type": "code",
   "execution_count": 43,
   "metadata": {},
   "outputs": [
    {
     "data": {
      "text/plain": [
       "array([0.61829401])"
      ]
     },
     "execution_count": 43,
     "metadata": {},
     "output_type": "execute_result"
    }
   ],
   "source": [
    "linear = r2_score(y_train, train_q2_linear[1])\n",
    "linear"
   ]
  },
  {
   "cell_type": "code",
   "execution_count": 44,
   "metadata": {},
   "outputs": [
    {
     "data": {
      "text/plain": [
       "array([5.57117434, 5.48168893, 5.87284414, 5.93977894, 7.89893135,\n",
       "       7.04292435, 8.63479361, 5.57689655, 8.62804526, 5.41521077,\n",
       "       5.77030343, 9.05371818, 8.13641898, 6.69843208, 6.33495609,\n",
       "       5.80211777, 8.11598814, 5.78122927, 6.19949678, 7.24402801,\n",
       "       6.65609353, 7.70635133, 6.60583014, 6.83063031, 8.75347206,\n",
       "       8.35556735, 5.69051221])"
      ]
     },
     "execution_count": 44,
     "metadata": {},
     "output_type": "execute_result"
    }
   ],
   "source": [
    "linear_test_pred = model.predict(sc_x_test)\n",
    "linear_test_pred"
   ]
  },
  {
   "cell_type": "code",
   "execution_count": 45,
   "metadata": {},
   "outputs": [
    {
     "data": {
      "text/html": [
       "<div>\n",
       "<style scoped>\n",
       "    .dataframe tbody tr th:only-of-type {\n",
       "        vertical-align: middle;\n",
       "    }\n",
       "\n",
       "    .dataframe tbody tr th {\n",
       "        vertical-align: top;\n",
       "    }\n",
       "\n",
       "    .dataframe thead th {\n",
       "        text-align: right;\n",
       "    }\n",
       "</style>\n",
       "<table border=\"1\" class=\"dataframe\">\n",
       "  <thead>\n",
       "    <tr style=\"text-align: right;\">\n",
       "      <th></th>\n",
       "      <th>r2</th>\n",
       "      <th>k</th>\n",
       "      <th>k_dash</th>\n",
       "      <th>r2r0</th>\n",
       "      <th>r2r0_dash</th>\n",
       "      <th>r0r0_dash</th>\n",
       "      <th>rm2_bar</th>\n",
       "      <th>d_rm2</th>\n",
       "    </tr>\n",
       "  </thead>\n",
       "  <tbody>\n",
       "    <tr>\n",
       "      <th>0</th>\n",
       "      <td>0.622703</td>\n",
       "      <td>1.28601</td>\n",
       "      <td>0.681312</td>\n",
       "      <td>0.040242</td>\n",
       "      <td>0.060493</td>\n",
       "      <td>0.01261</td>\n",
       "      <td>0.512987</td>\n",
       "      <td>0.022283</td>\n",
       "    </tr>\n",
       "  </tbody>\n",
       "</table>\n",
       "</div>"
      ],
      "text/plain": [
       "         r2        k    k_dash      r2r0  r2r0_dash  r0r0_dash   rm2_bar  \\\n",
       "0  0.622703  1.28601  0.681312  0.040242   0.060493    0.01261  0.512987   \n",
       "\n",
       "      d_rm2  \n",
       "0  0.022283  "
      ]
     },
     "execution_count": 45,
     "metadata": {},
     "output_type": "execute_result"
    }
   ],
   "source": [
    "linear_qsar = qsar_param(y_train, train_q2_linear[1], d_r2m=True)\n",
    "pd.DataFrame(linear_qsar)"
   ]
  },
  {
   "cell_type": "code",
   "execution_count": 46,
   "metadata": {},
   "outputs": [
    {
     "data": {
      "text/html": [
       "<div>\n",
       "<style scoped>\n",
       "    .dataframe tbody tr th:only-of-type {\n",
       "        vertical-align: middle;\n",
       "    }\n",
       "\n",
       "    .dataframe tbody tr th {\n",
       "        vertical-align: top;\n",
       "    }\n",
       "\n",
       "    .dataframe thead th {\n",
       "        text-align: right;\n",
       "    }\n",
       "</style>\n",
       "<table border=\"1\" class=\"dataframe\">\n",
       "  <thead>\n",
       "    <tr style=\"text-align: right;\">\n",
       "      <th></th>\n",
       "      <th>r2</th>\n",
       "      <th>k</th>\n",
       "      <th>k_dash</th>\n",
       "      <th>r2r0</th>\n",
       "      <th>r2r0_dash</th>\n",
       "      <th>r0r0_dash</th>\n",
       "      <th>rm2_bar</th>\n",
       "      <th>d_rm2</th>\n",
       "    </tr>\n",
       "  </thead>\n",
       "  <tbody>\n",
       "    <tr>\n",
       "      <th>0</th>\n",
       "      <td>0.760963</td>\n",
       "      <td>1.092204</td>\n",
       "      <td>0.829968</td>\n",
       "      <td>0.093503</td>\n",
       "      <td>0.002136</td>\n",
       "      <td>0.069527</td>\n",
       "      <td>0.644132</td>\n",
       "      <td>0.172303</td>\n",
       "    </tr>\n",
       "  </tbody>\n",
       "</table>\n",
       "</div>"
      ],
      "text/plain": [
       "         r2         k    k_dash      r2r0  r2r0_dash  r0r0_dash   rm2_bar  \\\n",
       "0  0.760963  1.092204  0.829968  0.093503   0.002136   0.069527  0.644132   \n",
       "\n",
       "      d_rm2  \n",
       "0  0.172303  "
      ]
     },
     "execution_count": 46,
     "metadata": {},
     "output_type": "execute_result"
    }
   ],
   "source": [
    "linear_qsar = qsar_param(y_test, linear_test_pred, d_r2m=True)\n",
    "pd.DataFrame(linear_qsar)"
   ]
  },
  {
   "cell_type": "code",
   "execution_count": 47,
   "metadata": {},
   "outputs": [
    {
     "data": {
      "text/plain": [
       "array([0.67513495])"
      ]
     },
     "execution_count": 47,
     "metadata": {},
     "output_type": "execute_result"
    }
   ],
   "source": [
    "linear_y = y_random(model, sc_x_train, y_train, n=10)\n",
    "linear_y"
   ]
  },
  {
   "cell_type": "code",
   "execution_count": 51,
   "metadata": {},
   "outputs": [
    {
     "name": "stdout",
     "output_type": "stream",
     "text": [
      "0.7289719626168224\n"
     ]
    },
    {
     "data": {
      "image/png": "[encoded data removed]",
      "text/plain": [
       "<Figure size 432x288 with 1 Axes>"
      ]
     },
     "metadata": {
      "needs_background": "light"
     },
     "output_type": "display_data"
    }
   ],
   "source": [
    "plt.title('Linear-Applicability domain')\n",
    "linear_AD = applicability_domain(sc_x_train, sc_x_test, y_train, train_q2_linear[1], y_test, linear_test_pred)\n",
    "linear_AD"
   ]
  },
  {
   "cell_type": "code",
   "execution_count": 52,
   "metadata": {},
   "outputs": [
    {
     "data": {
      "image/png": "[encoded data removed]",
      "text/plain": [
       "<Figure size 432x288 with 1 Axes>"
      ]
     },
     "metadata": {
      "needs_background": "light"
     },
     "output_type": "display_data"
    }
   ],
   "source": [
    "fig, ax = plt.subplots()\n",
    "ax.scatter(y_train, train_q2_linear[1], c='b',marker='o', label='training data')\n",
    "ax.scatter(y_test, linear_test_pred, c='r',marker='^', label='test data')\n",
    "ax.plot([0, 1], [0, 1], color=\"black\",transform=ax.transAxes)\n",
    "plt.title('Linear-Actual vs Predict')\n",
    "plt.xlim(3,10)\n",
    "plt.ylim(3,10)\n",
    "ax.set_xlabel('Predicted pIC50')\n",
    "ax.set_ylabel('Experimental pIC50')\n",
    "plt.savefig('Model Hasil/Linear_Actual vs Predict.png', format='png', dpi=1000, bbox_inches=\"tight\")\n",
    "plt.show()"
   ]
  },
  {
   "cell_type": "code",
   "execution_count": 53,
   "metadata": {},
   "outputs": [
    {
     "data": {
      "image/png": "[encoded data removed]",
      "text/plain": [
       "<Figure size 432x288 with 1 Axes>"
      ]
     },
     "metadata": {
      "needs_background": "light"
     },
     "output_type": "display_data"
    }
   ],
   "source": [
    "#dataframe to list\n",
    "r_train = pd.DataFrame(y_train).to_numpy()\n",
    "r_train_pred = pd.DataFrame(train_q2_linear[1]).to_numpy()\n",
    "r_test = pd.DataFrame(y_test).to_numpy()\n",
    "r_test_pred = pd.DataFrame(linear_test_pred).to_numpy()\n",
    "\n",
    "l_train = r_train-r_train_pred\n",
    "l_test = r_test-r_test_pred\n",
    "\n",
    "plt.axhline(y=0, c='k', linewidth=0.8, linestyle='--')\n",
    "plt.scatter(r_train, l_train, c='b',marker='o', label='training data')\n",
    "plt.scatter(r_test, l_test, c='r',marker='^', label='test data')\n",
    "plt.title(\"Linear-Actual vs Residual\")\n",
    "plt.xlabel(\"Predict Values\")\n",
    "plt.ylabel(\"Residual\")\n",
    "plt.savefig('Model Hasil/Linear_Actual vs Residual.png', format='png', dpi=1000, bbox_inches=\"tight\")"
   ]
  },
  {
   "cell_type": "code",
   "execution_count": null,
   "metadata": {},
   "outputs": [],
   "source": []
  }
 ],
 "metadata": {
  "kernelspec": {
   "display_name": "Python 3",
   "language": "python",
   "name": "python3"
  },
  "language_info": {
   "codemirror_mode": {
    "name": "ipython",
    "version": 3
   },
   "file_extension": ".py",
   "mimetype": "text/x-python",
   "name": "python",
   "nbconvert_exporter": "python",
   "pygments_lexer": "ipython3",
   "version": "3.7.6"
  }
 },
 "nbformat": 4,
 "nbformat_minor": 4
}
