{
 "cells": [
  {
   "cell_type": "code",
   "execution_count": 1,
   "metadata": {},
   "outputs": [],
   "source": [
    "import numpy as np\n",
    "import pandas as pd\n",
    "from sklearn.model_selection import train_test_split\n",
    "from sklearn.model_selection import GridSearchCV\n",
    "from sklearn.preprocessing import MinMaxScaler\n",
    "from sklearn.svm import SVR\n",
    "from sklearn.metrics import r2_score,mean_squared_error\n",
    "import seaborn as sns\n",
    "import matplotlib.pyplot as plt\n",
    "import joblib\n",
    "import pickle"
   ]
  },
  {
   "cell_type": "code",
   "execution_count": 107,
   "metadata": {},
   "outputs": [],
   "source": [
    "# Load Pickle descriptor \n",
    "desc5 = joblib.load('./desc/new_desc5.pkl')\n",
    "desc10 = joblib.load('./desc/new_desc10.pkl')\n",
    "desc15 = joblib.load('./desc/new_desc15.pkl')\n",
    "desc20 = joblib.load('./desc/new_desc20.pkl')\n",
    "desc25 = joblib.load('./desc/new_desc25.pkl')"
   ]
  },
  {
   "cell_type": "code",
   "execution_count": 108,
   "metadata": {},
   "outputs": [],
   "source": [
    "# Load Data Train csv\n",
    "dataset = pickle.load(open('Train_Test/train_bams.p','rb'))"
   ]
  },
  {
   "cell_type": "code",
   "execution_count": 109,
   "metadata": {},
   "outputs": [
    {
     "data": {
      "text/plain": [
       "((85, 1876), (22, 1876))"
      ]
     },
     "execution_count": 109,
     "metadata": {},
     "output_type": "execute_result"
    }
   ],
   "source": [
    "# Data train dan validasi(test)\n",
    "train, val = train_test_split(dataset, test_size = 0.2, random_state = 10)\n",
    "train.shape, val.shape "
   ]
  },
  {
   "cell_type": "code",
   "execution_count": 110,
   "metadata": {},
   "outputs": [],
   "source": [
    "y_train = dataset.iloc[:,[-1]].values"
   ]
  },
  {
   "cell_type": "code",
   "execution_count": 111,
   "metadata": {},
   "outputs": [],
   "source": [
    "# model\n",
    "model = SVR(kernel = 'rbf', gamma = 'scale')"
   ]
  },
  {
   "cell_type": "code",
   "execution_count": 112,
   "metadata": {},
   "outputs": [
    {
     "name": "stderr",
     "output_type": "stream",
     "text": [
      "C:\\Users\\Bams\\anaconda3\\lib\\site-packages\\sklearn\\utils\\validation.py:760: DataConversionWarning: A column-vector y was passed when a 1d array was expected. Please change the shape of y to (n_samples, ), for example using ravel().\n",
      "  y = column_or_1d(y, warn=True)\n",
      "C:\\Users\\Bams\\anaconda3\\lib\\site-packages\\sklearn\\utils\\validation.py:760: DataConversionWarning: A column-vector y was passed when a 1d array was expected. Please change the shape of y to (n_samples, ), for example using ravel().\n",
      "  y = column_or_1d(y, warn=True)\n",
      "C:\\Users\\Bams\\anaconda3\\lib\\site-packages\\sklearn\\utils\\validation.py:760: DataConversionWarning: A column-vector y was passed when a 1d array was expected. Please change the shape of y to (n_samples, ), for example using ravel().\n",
      "  y = column_or_1d(y, warn=True)\n",
      "C:\\Users\\Bams\\anaconda3\\lib\\site-packages\\sklearn\\utils\\validation.py:760: DataConversionWarning: A column-vector y was passed when a 1d array was expected. Please change the shape of y to (n_samples, ), for example using ravel().\n",
      "  y = column_or_1d(y, warn=True)\n",
      "C:\\Users\\Bams\\anaconda3\\lib\\site-packages\\sklearn\\utils\\validation.py:760: DataConversionWarning: A column-vector y was passed when a 1d array was expected. Please change the shape of y to (n_samples, ), for example using ravel().\n",
      "  y = column_or_1d(y, warn=True)\n"
     ]
    }
   ],
   "source": [
    "desc_jum = [5,10,15,20,25]\n",
    "mse_array = []\n",
    "for i in range(len(desc_jum)):\n",
    "    sel = joblib.load(f'./desc/new_desc{desc_jum[i]}.pkl')\n",
    "#     print(sel)\n",
    "    x_train = dataset.loc[:,sel].values\n",
    "    mmscaler = MinMaxScaler()\n",
    "    mmscaler.fit(x_train)\n",
    "    sc_x_train = mmscaler.transform(x_train)\n",
    "    model.fit(sc_x_train, y_train)\n",
    "    y_pred = model.predict(sc_x_train)\n",
    "    mse = mean_squared_error(y_train, y_pred)\n",
    "    mse_array.append(mse)"
   ]
  },
  {
   "cell_type": "code",
   "execution_count": 113,
   "metadata": {},
   "outputs": [
    {
     "data": {
      "text/plain": [
       "[0.21161062132565703,\n",
       " 0.22687751121303137,\n",
       " 0.20078032416054187,\n",
       " 0.23434230044852628,\n",
       " 0.11991606109634084]"
      ]
     },
     "execution_count": 113,
     "metadata": {},
     "output_type": "execute_result"
    }
   ],
   "source": [
    "mse_array"
   ]
  },
  {
   "cell_type": "code",
   "execution_count": 114,
   "metadata": {},
   "outputs": [],
   "source": [
    "# pickle.dump(mse_array, open( \"mse/MSE_RBF.p\", \"wb\" ))"
   ]
  },
  {
   "cell_type": "code",
   "execution_count": 116,
   "metadata": {},
   "outputs": [
    {
     "data": {
      "text/plain": [
       "[0.21161062132565703,\n",
       " 0.22687751121303137,\n",
       " 0.20078032416054187,\n",
       " 0.23434230044852628,\n",
       " 0.11991606109634084]"
      ]
     },
     "execution_count": 116,
     "metadata": {},
     "output_type": "execute_result"
    }
   ],
   "source": [
    "pickle.load(open( \"mse/MSE_RBF.p\", \"rb\"))"
   ]
  },
  {
   "cell_type": "code",
   "execution_count": 115,
   "metadata": {},
   "outputs": [
    {
     "data": {
      "text/plain": [
       "[0.4961397387924584,\n",
       " 0.42753564545390293,\n",
       " 0.3291043465817726,\n",
       " 0.352638397448194,\n",
       " 0.31066591170388036]"
      ]
     },
     "execution_count": 115,
     "metadata": {},
     "output_type": "execute_result"
    }
   ],
   "source": [
    "pickle.load(open( \"mse/MSE_Linear.p\", \"rb\"))"
   ]
  },
  {
   "cell_type": "code",
   "execution_count": 117,
   "metadata": {},
   "outputs": [
    {
     "data": {
      "text/plain": [
       "[0.37689530695540674,\n",
       " 0.18251218665892602,\n",
       " 0.15007599273956632,\n",
       " 0.15350797718592196,\n",
       " 0.07560654450702467]"
      ]
     },
     "execution_count": 117,
     "metadata": {},
     "output_type": "execute_result"
    }
   ],
   "source": [
    "pickle.load(open( \"mse/MSE_Poly.p\", \"rb\"))"
   ]
  },
  {
   "cell_type": "code",
   "execution_count": 2,
   "metadata": {},
   "outputs": [
    {
     "data": {
      "image/png": "[encoded data removed]",
      "text/plain": [
       "<Figure size 480x320 with 1 Axes>"
      ]
     },
     "metadata": {
      "needs_background": "light"
     },
     "output_type": "display_data"
    }
   ],
   "source": [
    "fig, ax = plt.subplots(figsize=(6, 4), dpi=80)\n",
    "\n",
    "x = [5,10,15,20,25]\n",
    "# mse_rbf\n",
    "mse_rbf = pickle.load(open( \"mse/MSE_RBF.p\", \"rb\"))\n",
    "# r2_poly\n",
    "mse_poly = pickle.load(open( \"mse/MSE_Poly.p\", \"rb\"))\n",
    "# r2_linear\n",
    "mse_linear = pickle.load(open( \"mse/MSE_Linear.p\", \"rb\"))\n",
    "\n",
    "\n",
    "ax.plot(x, mse_rbf, label='RBF',marker='.',markersize=10, lw=2, color='b')\n",
    "ax.plot(x, mse_poly, label='poly',marker='.',markersize=10, lw=2, color='r')\n",
    "ax.plot(x, mse_linear, label='linear',marker='.',markersize=10, lw=2, color='g')\n",
    "\n",
    "plt.title('Descriptor vs MSE')\n",
    "plt.ylim(0.0,0.6)\n",
    "ax.set_xlabel('Descriptor')\n",
    "ax.set_ylabel('MSE')\n",
    "ax.set_xticks(x)\n",
    "plt.legend(bbox_to_anchor=(1.05, 1), loc='upper left', borderaxespad=0.)\n",
    "plt.savefig('Model Hasil/Descriptor vs MSE.png', format='png', dpi=1000, bbox_inches=\"tight\")\n",
    "plt.show()"
   ]
  },
  {
   "cell_type": "code",
   "execution_count": null,
   "metadata": {},
   "outputs": [],
   "source": []
  }
 ],
 "metadata": {
  "kernelspec": {
   "display_name": "Python 3",
   "language": "python",
   "name": "python3"
  },
  "language_info": {
   "codemirror_mode": {
    "name": "ipython",
    "version": 3
   },
   "file_extension": ".py",
   "mimetype": "text/x-python",
   "name": "python",
   "nbconvert_exporter": "python",
   "pygments_lexer": "ipython3",
   "version": "3.7.6"
  }
 },
 "nbformat": 4,
 "nbformat_minor": 4
}
