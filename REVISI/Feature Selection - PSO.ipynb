{
 "cells": [
  {
   "cell_type": "code",
   "execution_count": 15,
   "metadata": {},
   "outputs": [],
   "source": [
    "import pandas as pd \n",
    "import numpy as np\n",
    "import pickle \n",
    "from sklearn.linear_model import LinearRegression\n",
    "from sklearn.model_selection import train_test_split\n",
    "from sklearn.metrics import mean_squared_error\n",
    "from sklearn.preprocessing import MinMaxScaler\n",
    "import matplotlib.pyplot as plt\n",
    "from tqdm import tqdm\n",
    "import random\n",
    "import joblib\n",
    "import pickle"
   ]
  },
  {
   "cell_type": "code",
   "execution_count": 2,
   "metadata": {},
   "outputs": [],
   "source": [
    "# Load Data Train csv\n",
    "df_train = pickle.load(open('Train_Test/train_bams.p','rb'))\n",
    "n_descriptor = 25 #kombinasi terbaik"
   ]
  },
  {
   "cell_type": "code",
   "execution_count": 3,
   "metadata": {},
   "outputs": [],
   "source": [
    "# Load Pickle corr_desc 100\n",
    "label = pickle.load(open(\"corr/new_corr_desc100.p\", \"rb\"))\n",
    "train = df_train.loc[:,label]\n",
    "train[\"pIC50\"]= df_train.iloc[:,-1]"
   ]
  },
  {
   "cell_type": "code",
   "execution_count": 4,
   "metadata": {},
   "outputs": [
    {
     "data": {
      "text/html": [
       "<div>\n",
       "<style scoped>\n",
       "    .dataframe tbody tr th:only-of-type {\n",
       "        vertical-align: middle;\n",
       "    }\n",
       "\n",
       "    .dataframe tbody tr th {\n",
       "        vertical-align: top;\n",
       "    }\n",
       "\n",
       "    .dataframe thead th {\n",
       "        text-align: right;\n",
       "    }\n",
       "</style>\n",
       "<table border=\"1\" class=\"dataframe\">\n",
       "  <thead>\n",
       "    <tr style=\"text-align: right;\">\n",
       "      <th></th>\n",
       "      <th>VCH-5</th>\n",
       "      <th>C2SP3</th>\n",
       "      <th>MATS6s</th>\n",
       "      <th>VCH-6</th>\n",
       "      <th>MATS6e</th>\n",
       "      <th>maxssCH2</th>\n",
       "      <th>nHCsats</th>\n",
       "      <th>RDF30i</th>\n",
       "      <th>MATS6m</th>\n",
       "      <th>AATSC6e</th>\n",
       "      <th>...</th>\n",
       "      <th>MDEC-24</th>\n",
       "      <th>TDB7i</th>\n",
       "      <th>GATS8p</th>\n",
       "      <th>LipoaffinityIndex</th>\n",
       "      <th>ATSC0i</th>\n",
       "      <th>maxaaN</th>\n",
       "      <th>AATSC4v</th>\n",
       "      <th>MATS4v</th>\n",
       "      <th>SdssC</th>\n",
       "      <th>pIC50</th>\n",
       "    </tr>\n",
       "  </thead>\n",
       "  <tbody>\n",
       "    <tr>\n",
       "      <th>125</th>\n",
       "      <td>0.079057</td>\n",
       "      <td>5</td>\n",
       "      <td>-0.073039</td>\n",
       "      <td>0.204167</td>\n",
       "      <td>-0.020915</td>\n",
       "      <td>0.308132</td>\n",
       "      <td>7.0</td>\n",
       "      <td>31.342620</td>\n",
       "      <td>0.025259</td>\n",
       "      <td>-0.002998</td>\n",
       "      <td>...</td>\n",
       "      <td>3.790840</td>\n",
       "      <td>1097.391522</td>\n",
       "      <td>0.892185</td>\n",
       "      <td>7.746921</td>\n",
       "      <td>158.580485</td>\n",
       "      <td>4.895724</td>\n",
       "      <td>0.807813</td>\n",
       "      <td>0.016043</td>\n",
       "      <td>-0.391950</td>\n",
       "      <td>5.958</td>\n",
       "    </tr>\n",
       "    <tr>\n",
       "      <th>74</th>\n",
       "      <td>0.047140</td>\n",
       "      <td>5</td>\n",
       "      <td>-0.157112</td>\n",
       "      <td>0.067974</td>\n",
       "      <td>-0.171494</td>\n",
       "      <td>0.091382</td>\n",
       "      <td>5.0</td>\n",
       "      <td>15.322729</td>\n",
       "      <td>-0.133094</td>\n",
       "      <td>-0.033627</td>\n",
       "      <td>...</td>\n",
       "      <td>0.000000</td>\n",
       "      <td>1158.865159</td>\n",
       "      <td>0.558102</td>\n",
       "      <td>4.586146</td>\n",
       "      <td>113.895976</td>\n",
       "      <td>0.000000</td>\n",
       "      <td>0.659194</td>\n",
       "      <td>0.015259</td>\n",
       "      <td>-1.835451</td>\n",
       "      <td>5.854</td>\n",
       "    </tr>\n",
       "    <tr>\n",
       "      <th>1</th>\n",
       "      <td>0.000000</td>\n",
       "      <td>4</td>\n",
       "      <td>-0.075440</td>\n",
       "      <td>0.052908</td>\n",
       "      <td>-0.081837</td>\n",
       "      <td>0.636263</td>\n",
       "      <td>8.0</td>\n",
       "      <td>30.259482</td>\n",
       "      <td>-0.148965</td>\n",
       "      <td>-0.011131</td>\n",
       "      <td>...</td>\n",
       "      <td>0.000000</td>\n",
       "      <td>1075.748653</td>\n",
       "      <td>0.851960</td>\n",
       "      <td>9.605068</td>\n",
       "      <td>141.259918</td>\n",
       "      <td>0.000000</td>\n",
       "      <td>-4.650728</td>\n",
       "      <td>-0.096101</td>\n",
       "      <td>-3.046487</td>\n",
       "      <td>6.292</td>\n",
       "    </tr>\n",
       "    <tr>\n",
       "      <th>110</th>\n",
       "      <td>0.038490</td>\n",
       "      <td>5</td>\n",
       "      <td>-0.060055</td>\n",
       "      <td>0.144355</td>\n",
       "      <td>-0.076918</td>\n",
       "      <td>0.247882</td>\n",
       "      <td>7.0</td>\n",
       "      <td>32.981299</td>\n",
       "      <td>-0.010507</td>\n",
       "      <td>-0.010605</td>\n",
       "      <td>...</td>\n",
       "      <td>4.828881</td>\n",
       "      <td>1094.892321</td>\n",
       "      <td>0.905527</td>\n",
       "      <td>8.867171</td>\n",
       "      <td>156.690297</td>\n",
       "      <td>4.043887</td>\n",
       "      <td>-0.956532</td>\n",
       "      <td>-0.019696</td>\n",
       "      <td>-0.434628</td>\n",
       "      <td>7.921</td>\n",
       "    </tr>\n",
       "    <tr>\n",
       "      <th>99</th>\n",
       "      <td>0.047140</td>\n",
       "      <td>5</td>\n",
       "      <td>-0.100758</td>\n",
       "      <td>0.095752</td>\n",
       "      <td>-0.122192</td>\n",
       "      <td>0.183100</td>\n",
       "      <td>5.0</td>\n",
       "      <td>24.816437</td>\n",
       "      <td>-0.065333</td>\n",
       "      <td>-0.019596</td>\n",
       "      <td>...</td>\n",
       "      <td>0.000000</td>\n",
       "      <td>1085.646631</td>\n",
       "      <td>0.747700</td>\n",
       "      <td>6.869454</td>\n",
       "      <td>143.458804</td>\n",
       "      <td>0.000000</td>\n",
       "      <td>-2.380910</td>\n",
       "      <td>-0.052585</td>\n",
       "      <td>-2.109316</td>\n",
       "      <td>5.854</td>\n",
       "    </tr>\n",
       "  </tbody>\n",
       "</table>\n",
       "<p>5 rows × 101 columns</p>\n",
       "</div>"
      ],
      "text/plain": [
       "        VCH-5  C2SP3    MATS6s     VCH-6    MATS6e  maxssCH2  nHCsats  \\\n",
       "125  0.079057      5 -0.073039  0.204167 -0.020915  0.308132      7.0   \n",
       "74   0.047140      5 -0.157112  0.067974 -0.171494  0.091382      5.0   \n",
       "1    0.000000      4 -0.075440  0.052908 -0.081837  0.636263      8.0   \n",
       "110  0.038490      5 -0.060055  0.144355 -0.076918  0.247882      7.0   \n",
       "99   0.047140      5 -0.100758  0.095752 -0.122192  0.183100      5.0   \n",
       "\n",
       "        RDF30i    MATS6m   AATSC6e  ...   MDEC-24        TDB7i    GATS8p  \\\n",
       "125  31.342620  0.025259 -0.002998  ...  3.790840  1097.391522  0.892185   \n",
       "74   15.322729 -0.133094 -0.033627  ...  0.000000  1158.865159  0.558102   \n",
       "1    30.259482 -0.148965 -0.011131  ...  0.000000  1075.748653  0.851960   \n",
       "110  32.981299 -0.010507 -0.010605  ...  4.828881  1094.892321  0.905527   \n",
       "99   24.816437 -0.065333 -0.019596  ...  0.000000  1085.646631  0.747700   \n",
       "\n",
       "     LipoaffinityIndex      ATSC0i    maxaaN   AATSC4v    MATS4v     SdssC  \\\n",
       "125           7.746921  158.580485  4.895724  0.807813  0.016043 -0.391950   \n",
       "74            4.586146  113.895976  0.000000  0.659194  0.015259 -1.835451   \n",
       "1             9.605068  141.259918  0.000000 -4.650728 -0.096101 -3.046487   \n",
       "110           8.867171  156.690297  4.043887 -0.956532 -0.019696 -0.434628   \n",
       "99            6.869454  143.458804  0.000000 -2.380910 -0.052585 -2.109316   \n",
       "\n",
       "     pIC50  \n",
       "125  5.958  \n",
       "74   5.854  \n",
       "1    6.292  \n",
       "110  7.921  \n",
       "99   5.854  \n",
       "\n",
       "[5 rows x 101 columns]"
      ]
     },
     "execution_count": 4,
     "metadata": {},
     "output_type": "execute_result"
    }
   ],
   "source": [
    "train.head()"
   ]
  },
  {
   "cell_type": "code",
   "execution_count": 5,
   "metadata": {},
   "outputs": [
    {
     "data": {
      "text/plain": [
       "((85, 101), (22, 101))"
      ]
     },
     "execution_count": 5,
     "metadata": {},
     "output_type": "execute_result"
    }
   ],
   "source": [
    "# Data train dan validasi(test)\n",
    "train, test = train_test_split(train, test_size = 0.2, random_state = 10)\n",
    "train.shape, test.shape "
   ]
  },
  {
   "cell_type": "code",
   "execution_count": 6,
   "metadata": {},
   "outputs": [],
   "source": [
    "X_train = train.iloc[:,:-1]\n",
    "X_test = test.iloc[:,:-1]\n",
    "y_train = train.iloc[:, [-1]]\n",
    "y_test = test.iloc[:,[-1]]"
   ]
  },
  {
   "cell_type": "code",
   "execution_count": 7,
   "metadata": {},
   "outputs": [
    {
     "data": {
      "text/html": [
       "<div>\n",
       "<style scoped>\n",
       "    .dataframe tbody tr th:only-of-type {\n",
       "        vertical-align: middle;\n",
       "    }\n",
       "\n",
       "    .dataframe tbody tr th {\n",
       "        vertical-align: top;\n",
       "    }\n",
       "\n",
       "    .dataframe thead th {\n",
       "        text-align: right;\n",
       "    }\n",
       "</style>\n",
       "<table border=\"1\" class=\"dataframe\">\n",
       "  <thead>\n",
       "    <tr style=\"text-align: right;\">\n",
       "      <th></th>\n",
       "      <th>VCH-5</th>\n",
       "      <th>C2SP3</th>\n",
       "      <th>MATS6s</th>\n",
       "      <th>VCH-6</th>\n",
       "      <th>MATS6e</th>\n",
       "      <th>maxssCH2</th>\n",
       "      <th>nHCsats</th>\n",
       "      <th>RDF30i</th>\n",
       "      <th>MATS6m</th>\n",
       "      <th>AATSC6e</th>\n",
       "      <th>...</th>\n",
       "      <th>MDEC-24</th>\n",
       "      <th>TDB7i</th>\n",
       "      <th>GATS8p</th>\n",
       "      <th>LipoaffinityIndex</th>\n",
       "      <th>ATSC0i</th>\n",
       "      <th>maxaaN</th>\n",
       "      <th>AATSC4v</th>\n",
       "      <th>MATS4v</th>\n",
       "      <th>SdssC</th>\n",
       "      <th>pIC50</th>\n",
       "    </tr>\n",
       "  </thead>\n",
       "  <tbody>\n",
       "    <tr>\n",
       "      <th>65</th>\n",
       "      <td>0.000000</td>\n",
       "      <td>3</td>\n",
       "      <td>-0.103790</td>\n",
       "      <td>0.020833</td>\n",
       "      <td>-0.125246</td>\n",
       "      <td>0.623789</td>\n",
       "      <td>7.0</td>\n",
       "      <td>25.261823</td>\n",
       "      <td>-0.150373</td>\n",
       "      <td>-0.019827</td>\n",
       "      <td>...</td>\n",
       "      <td>0.000000</td>\n",
       "      <td>1036.610333</td>\n",
       "      <td>0.799604</td>\n",
       "      <td>6.027048</td>\n",
       "      <td>116.447698</td>\n",
       "      <td>0.000000</td>\n",
       "      <td>-5.232173</td>\n",
       "      <td>-0.114706</td>\n",
       "      <td>-0.137971</td>\n",
       "      <td>5.347</td>\n",
       "    </tr>\n",
       "    <tr>\n",
       "      <th>86</th>\n",
       "      <td>0.047140</td>\n",
       "      <td>5</td>\n",
       "      <td>-0.085220</td>\n",
       "      <td>0.095752</td>\n",
       "      <td>-0.113502</td>\n",
       "      <td>0.167600</td>\n",
       "      <td>5.0</td>\n",
       "      <td>25.320616</td>\n",
       "      <td>-0.057883</td>\n",
       "      <td>-0.017918</td>\n",
       "      <td>...</td>\n",
       "      <td>0.000000</td>\n",
       "      <td>1095.797497</td>\n",
       "      <td>0.684479</td>\n",
       "      <td>7.500024</td>\n",
       "      <td>150.264489</td>\n",
       "      <td>0.000000</td>\n",
       "      <td>-3.358163</td>\n",
       "      <td>-0.072846</td>\n",
       "      <td>-4.065747</td>\n",
       "      <td>5.509</td>\n",
       "    </tr>\n",
       "    <tr>\n",
       "      <th>111</th>\n",
       "      <td>0.000000</td>\n",
       "      <td>5</td>\n",
       "      <td>-0.072084</td>\n",
       "      <td>0.156900</td>\n",
       "      <td>-0.076780</td>\n",
       "      <td>0.347018</td>\n",
       "      <td>7.0</td>\n",
       "      <td>29.694956</td>\n",
       "      <td>0.003438</td>\n",
       "      <td>-0.006604</td>\n",
       "      <td>...</td>\n",
       "      <td>4.996349</td>\n",
       "      <td>1083.476436</td>\n",
       "      <td>0.948543</td>\n",
       "      <td>9.139674</td>\n",
       "      <td>116.850145</td>\n",
       "      <td>4.060921</td>\n",
       "      <td>-2.115094</td>\n",
       "      <td>-0.041058</td>\n",
       "      <td>-0.263677</td>\n",
       "      <td>6.309</td>\n",
       "    </tr>\n",
       "    <tr>\n",
       "      <th>27</th>\n",
       "      <td>0.091287</td>\n",
       "      <td>6</td>\n",
       "      <td>-0.040410</td>\n",
       "      <td>0.152543</td>\n",
       "      <td>-0.054141</td>\n",
       "      <td>0.835290</td>\n",
       "      <td>8.0</td>\n",
       "      <td>30.719225</td>\n",
       "      <td>-0.003119</td>\n",
       "      <td>-0.008569</td>\n",
       "      <td>...</td>\n",
       "      <td>0.000000</td>\n",
       "      <td>1087.202043</td>\n",
       "      <td>0.848348</td>\n",
       "      <td>9.074517</td>\n",
       "      <td>156.294905</td>\n",
       "      <td>3.923472</td>\n",
       "      <td>-1.660102</td>\n",
       "      <td>-0.035395</td>\n",
       "      <td>-0.183466</td>\n",
       "      <td>8.201</td>\n",
       "    </tr>\n",
       "    <tr>\n",
       "      <th>132</th>\n",
       "      <td>0.020412</td>\n",
       "      <td>5</td>\n",
       "      <td>-0.060641</td>\n",
       "      <td>0.145522</td>\n",
       "      <td>-0.017984</td>\n",
       "      <td>0.059749</td>\n",
       "      <td>7.0</td>\n",
       "      <td>27.236026</td>\n",
       "      <td>-0.003581</td>\n",
       "      <td>-0.002787</td>\n",
       "      <td>...</td>\n",
       "      <td>3.416283</td>\n",
       "      <td>1098.301233</td>\n",
       "      <td>0.896360</td>\n",
       "      <td>7.315860</td>\n",
       "      <td>157.791418</td>\n",
       "      <td>4.112585</td>\n",
       "      <td>0.444162</td>\n",
       "      <td>0.009440</td>\n",
       "      <td>-0.556761</td>\n",
       "      <td>7.301</td>\n",
       "    </tr>\n",
       "    <tr>\n",
       "      <th>...</th>\n",
       "      <td>...</td>\n",
       "      <td>...</td>\n",
       "      <td>...</td>\n",
       "      <td>...</td>\n",
       "      <td>...</td>\n",
       "      <td>...</td>\n",
       "      <td>...</td>\n",
       "      <td>...</td>\n",
       "      <td>...</td>\n",
       "      <td>...</td>\n",
       "      <td>...</td>\n",
       "      <td>...</td>\n",
       "      <td>...</td>\n",
       "      <td>...</td>\n",
       "      <td>...</td>\n",
       "      <td>...</td>\n",
       "      <td>...</td>\n",
       "      <td>...</td>\n",
       "      <td>...</td>\n",
       "      <td>...</td>\n",
       "      <td>...</td>\n",
       "    </tr>\n",
       "    <tr>\n",
       "      <th>50</th>\n",
       "      <td>0.091287</td>\n",
       "      <td>6</td>\n",
       "      <td>-0.063933</td>\n",
       "      <td>0.131027</td>\n",
       "      <td>-0.026642</td>\n",
       "      <td>0.478119</td>\n",
       "      <td>8.0</td>\n",
       "      <td>35.828030</td>\n",
       "      <td>-0.055558</td>\n",
       "      <td>-0.006067</td>\n",
       "      <td>...</td>\n",
       "      <td>1.179102</td>\n",
       "      <td>1130.549321</td>\n",
       "      <td>0.666947</td>\n",
       "      <td>8.661775</td>\n",
       "      <td>188.022831</td>\n",
       "      <td>0.000000</td>\n",
       "      <td>-1.074636</td>\n",
       "      <td>-0.023886</td>\n",
       "      <td>-0.533726</td>\n",
       "      <td>8.824</td>\n",
       "    </tr>\n",
       "    <tr>\n",
       "      <th>75</th>\n",
       "      <td>0.047140</td>\n",
       "      <td>5</td>\n",
       "      <td>-0.131194</td>\n",
       "      <td>0.100049</td>\n",
       "      <td>-0.164723</td>\n",
       "      <td>0.200796</td>\n",
       "      <td>5.0</td>\n",
       "      <td>21.714492</td>\n",
       "      <td>-0.105138</td>\n",
       "      <td>-0.025750</td>\n",
       "      <td>...</td>\n",
       "      <td>0.000000</td>\n",
       "      <td>1048.209460</td>\n",
       "      <td>0.738934</td>\n",
       "      <td>7.710488</td>\n",
       "      <td>137.141674</td>\n",
       "      <td>0.000000</td>\n",
       "      <td>0.352203</td>\n",
       "      <td>0.007570</td>\n",
       "      <td>-1.161271</td>\n",
       "      <td>6.149</td>\n",
       "    </tr>\n",
       "    <tr>\n",
       "      <th>92</th>\n",
       "      <td>0.047140</td>\n",
       "      <td>5</td>\n",
       "      <td>-0.126872</td>\n",
       "      <td>0.095752</td>\n",
       "      <td>-0.179701</td>\n",
       "      <td>0.246315</td>\n",
       "      <td>7.0</td>\n",
       "      <td>25.599395</td>\n",
       "      <td>-0.078722</td>\n",
       "      <td>-0.028270</td>\n",
       "      <td>...</td>\n",
       "      <td>0.000000</td>\n",
       "      <td>1063.520659</td>\n",
       "      <td>0.885844</td>\n",
       "      <td>7.561106</td>\n",
       "      <td>151.295310</td>\n",
       "      <td>0.000000</td>\n",
       "      <td>-2.771913</td>\n",
       "      <td>-0.060505</td>\n",
       "      <td>-1.584331</td>\n",
       "      <td>6.161</td>\n",
       "    </tr>\n",
       "    <tr>\n",
       "      <th>120</th>\n",
       "      <td>0.079057</td>\n",
       "      <td>5</td>\n",
       "      <td>-0.087945</td>\n",
       "      <td>0.215408</td>\n",
       "      <td>-0.020591</td>\n",
       "      <td>0.395243</td>\n",
       "      <td>7.0</td>\n",
       "      <td>30.999266</td>\n",
       "      <td>0.020759</td>\n",
       "      <td>-0.001851</td>\n",
       "      <td>...</td>\n",
       "      <td>3.984388</td>\n",
       "      <td>1070.247577</td>\n",
       "      <td>0.939603</td>\n",
       "      <td>7.062473</td>\n",
       "      <td>116.467069</td>\n",
       "      <td>4.911941</td>\n",
       "      <td>1.061710</td>\n",
       "      <td>0.020260</td>\n",
       "      <td>-0.232800</td>\n",
       "      <td>7.221</td>\n",
       "    </tr>\n",
       "    <tr>\n",
       "      <th>116</th>\n",
       "      <td>0.033333</td>\n",
       "      <td>5</td>\n",
       "      <td>-0.067171</td>\n",
       "      <td>0.182054</td>\n",
       "      <td>-0.056498</td>\n",
       "      <td>0.342099</td>\n",
       "      <td>7.0</td>\n",
       "      <td>34.524738</td>\n",
       "      <td>0.018812</td>\n",
       "      <td>-0.004972</td>\n",
       "      <td>...</td>\n",
       "      <td>4.679968</td>\n",
       "      <td>1088.981257</td>\n",
       "      <td>0.951434</td>\n",
       "      <td>8.792052</td>\n",
       "      <td>118.889668</td>\n",
       "      <td>4.177472</td>\n",
       "      <td>-1.656363</td>\n",
       "      <td>-0.032596</td>\n",
       "      <td>-0.266804</td>\n",
       "      <td>7.075</td>\n",
       "    </tr>\n",
       "  </tbody>\n",
       "</table>\n",
       "<p>85 rows × 101 columns</p>\n",
       "</div>"
      ],
      "text/plain": [
       "        VCH-5  C2SP3    MATS6s     VCH-6    MATS6e  maxssCH2  nHCsats  \\\n",
       "65   0.000000      3 -0.103790  0.020833 -0.125246  0.623789      7.0   \n",
       "86   0.047140      5 -0.085220  0.095752 -0.113502  0.167600      5.0   \n",
       "111  0.000000      5 -0.072084  0.156900 -0.076780  0.347018      7.0   \n",
       "27   0.091287      6 -0.040410  0.152543 -0.054141  0.835290      8.0   \n",
       "132  0.020412      5 -0.060641  0.145522 -0.017984  0.059749      7.0   \n",
       "..        ...    ...       ...       ...       ...       ...      ...   \n",
       "50   0.091287      6 -0.063933  0.131027 -0.026642  0.478119      8.0   \n",
       "75   0.047140      5 -0.131194  0.100049 -0.164723  0.200796      5.0   \n",
       "92   0.047140      5 -0.126872  0.095752 -0.179701  0.246315      7.0   \n",
       "120  0.079057      5 -0.087945  0.215408 -0.020591  0.395243      7.0   \n",
       "116  0.033333      5 -0.067171  0.182054 -0.056498  0.342099      7.0   \n",
       "\n",
       "        RDF30i    MATS6m   AATSC6e  ...   MDEC-24        TDB7i    GATS8p  \\\n",
       "65   25.261823 -0.150373 -0.019827  ...  0.000000  1036.610333  0.799604   \n",
       "86   25.320616 -0.057883 -0.017918  ...  0.000000  1095.797497  0.684479   \n",
       "111  29.694956  0.003438 -0.006604  ...  4.996349  1083.476436  0.948543   \n",
       "27   30.719225 -0.003119 -0.008569  ...  0.000000  1087.202043  0.848348   \n",
       "132  27.236026 -0.003581 -0.002787  ...  3.416283  1098.301233  0.896360   \n",
       "..         ...       ...       ...  ...       ...          ...       ...   \n",
       "50   35.828030 -0.055558 -0.006067  ...  1.179102  1130.549321  0.666947   \n",
       "75   21.714492 -0.105138 -0.025750  ...  0.000000  1048.209460  0.738934   \n",
       "92   25.599395 -0.078722 -0.028270  ...  0.000000  1063.520659  0.885844   \n",
       "120  30.999266  0.020759 -0.001851  ...  3.984388  1070.247577  0.939603   \n",
       "116  34.524738  0.018812 -0.004972  ...  4.679968  1088.981257  0.951434   \n",
       "\n",
       "     LipoaffinityIndex      ATSC0i    maxaaN   AATSC4v    MATS4v     SdssC  \\\n",
       "65            6.027048  116.447698  0.000000 -5.232173 -0.114706 -0.137971   \n",
       "86            7.500024  150.264489  0.000000 -3.358163 -0.072846 -4.065747   \n",
       "111           9.139674  116.850145  4.060921 -2.115094 -0.041058 -0.263677   \n",
       "27            9.074517  156.294905  3.923472 -1.660102 -0.035395 -0.183466   \n",
       "132           7.315860  157.791418  4.112585  0.444162  0.009440 -0.556761   \n",
       "..                 ...         ...       ...       ...       ...       ...   \n",
       "50            8.661775  188.022831  0.000000 -1.074636 -0.023886 -0.533726   \n",
       "75            7.710488  137.141674  0.000000  0.352203  0.007570 -1.161271   \n",
       "92            7.561106  151.295310  0.000000 -2.771913 -0.060505 -1.584331   \n",
       "120           7.062473  116.467069  4.911941  1.061710  0.020260 -0.232800   \n",
       "116           8.792052  118.889668  4.177472 -1.656363 -0.032596 -0.266804   \n",
       "\n",
       "     pIC50  \n",
       "65   5.347  \n",
       "86   5.509  \n",
       "111  6.309  \n",
       "27   8.201  \n",
       "132  7.301  \n",
       "..     ...  \n",
       "50   8.824  \n",
       "75   6.149  \n",
       "92   6.161  \n",
       "120  7.221  \n",
       "116  7.075  \n",
       "\n",
       "[85 rows x 101 columns]"
      ]
     },
     "execution_count": 7,
     "metadata": {},
     "output_type": "execute_result"
    }
   ],
   "source": [
    "train"
   ]
  },
  {
   "cell_type": "code",
   "execution_count": 8,
   "metadata": {},
   "outputs": [
    {
     "data": {
      "text/plain": [
       "(85, 100)"
      ]
     },
     "execution_count": 8,
     "metadata": {},
     "output_type": "execute_result"
    }
   ],
   "source": [
    "X_train.shape"
   ]
  },
  {
   "cell_type": "code",
   "execution_count": 9,
   "metadata": {},
   "outputs": [],
   "source": [
    "#initialization\n",
    "c1 = 1.49 #acceleration coefficient\n",
    "c2 = 1.49 #acceleration coefficient\n",
    "w = 0.73 #inertia weight\n",
    "vel_limit = 0.6 #limit of velocity\n",
    "n_part = 20 #number of particle\n",
    "n_iter = 100 #number of iteration\n",
    "n_desc = X_train.shape[1] #total number of descriptor\n",
    "sel_desc = 25 #number of selected descriptor"
   ]
  },
  {
   "cell_type": "code",
   "execution_count": 10,
   "metadata": {},
   "outputs": [
    {
     "data": {
      "text/plain": [
       "100"
      ]
     },
     "execution_count": 10,
     "metadata": {},
     "output_type": "execute_result"
    }
   ],
   "source": [
    "n_desc"
   ]
  },
  {
   "cell_type": "code",
   "execution_count": 11,
   "metadata": {},
   "outputs": [],
   "source": [
    "model = LinearRegression()"
   ]
  },
  {
   "cell_type": "code",
   "execution_count": 12,
   "metadata": {},
   "outputs": [
    {
     "name": "stderr",
     "output_type": "stream",
     "text": [
      "100%|██████████████████████████████████████████████████████████████████████████████████| 20/20 [02:49<00:00,  8.47s/it]\n"
     ]
    }
   ],
   "source": [
    "# method PSO\n",
    "# mse_list = list()\n",
    "\n",
    "n_list = list()\n",
    "for i in tqdm(range(20)):\n",
    "    \n",
    "    ### Initiate particles\n",
    "    part = []\n",
    "    for i in range(n_part):\n",
    "        list_index = np.random.choice(X_train.shape[1], sel_desc, replace=False)\n",
    "        list_index = list(list_index)\n",
    "        list_index.sort()\n",
    "        list_index\n",
    "        part.append(list_index)\n",
    "\n",
    "    ### Initiate Velocity\n",
    "    vel = []\n",
    "    for i in range(n_part):\n",
    "        list_vel = list(np.zeros(sel_desc))\n",
    "        vel.append(list_vel)\n",
    "\n",
    "    pbest_part = []\n",
    "    pbest_mse = []\n",
    "\n",
    "    for i in range(n_part):\n",
    "        pbestMse = np.inf\n",
    "        pbest_mse.append(pbestMse)\n",
    "        pbest_part.append(0)\n",
    "    #print(pbest_mse)\n",
    "    gbest_mse = np.inf\n",
    "\n",
    "    for l in range(n_iter):\n",
    "        for j in range(n_part):\n",
    "            list_index = part[j]\n",
    "            X_train_slice = X_train.iloc[:,list_index]\n",
    "            X_test_slice = X_test.iloc[:,list_index]\n",
    "            \n",
    "            mmscaler = MinMaxScaler()\n",
    "            mmscaler.fit(X_train_slice)\n",
    "            sc_x_train = mmscaler.transform(X_train_slice)\n",
    "            sc_x_test = mmscaler.transform(X_test_slice)\n",
    "                    \n",
    "            model.fit(X_train_slice, y_train)\n",
    "            pred = model.predict(sc_x_test)\n",
    "            mse_value = mean_squared_error(y_test, pred)\n",
    "            if mse_value < pbest_mse[j]:\n",
    "                pbest_mse[j] = mse_value\n",
    "                pbest_part[j] = list_index[:]\n",
    "        gbest_mse = min(pbest_mse)\n",
    "        gbest_part = pbest_part[np.argmin(pbest_mse)]\n",
    "        for j in range(n_part):\n",
    "            for i in range(sel_desc):\n",
    "                vel[j][i] = (w * vel[j][i]) + (c1 * np.random.rand() * (pbest_part[j][i]-part[j][i]))+(c2 * np.random.rand() * (gbest_part[i] - part[j][i]))\n",
    "                if vel[j][i] > vel_limit:\n",
    "                    vel[j][i] = vel_limit\n",
    "                if vel[j][i] < -vel_limit:\n",
    "                    vel[j][i] = -vel_limit\n",
    "                part[j][i] = int(round(part[j][i]+vel[j][i]))\n",
    "            \n",
    "    n_list.append([gbest_part,gbest_mse])"
   ]
  },
  {
   "cell_type": "code",
   "execution_count": 13,
   "metadata": {},
   "outputs": [],
   "source": [
    "n_list\n",
    "df = pd.DataFrame(n_list, columns=['Particles','MSE'])"
   ]
  },
  {
   "cell_type": "code",
   "execution_count": 14,
   "metadata": {},
   "outputs": [
    {
     "data": {
      "text/html": [
       "<div>\n",
       "<style scoped>\n",
       "    .dataframe tbody tr th:only-of-type {\n",
       "        vertical-align: middle;\n",
       "    }\n",
       "\n",
       "    .dataframe tbody tr th {\n",
       "        vertical-align: top;\n",
       "    }\n",
       "\n",
       "    .dataframe thead th {\n",
       "        text-align: right;\n",
       "    }\n",
       "</style>\n",
       "<table border=\"1\" class=\"dataframe\">\n",
       "  <thead>\n",
       "    <tr style=\"text-align: right;\">\n",
       "      <th></th>\n",
       "      <th>Particles</th>\n",
       "      <th>MSE</th>\n",
       "    </tr>\n",
       "  </thead>\n",
       "  <tbody>\n",
       "    <tr>\n",
       "      <th>6</th>\n",
       "      <td>[1, 5, 7, 14, 19, 27, 31, 36, 36, 37, 41, 39, ...</td>\n",
       "      <td>0.273423</td>\n",
       "    </tr>\n",
       "    <tr>\n",
       "      <th>4</th>\n",
       "      <td>[3, 5, 6, 15, 19, 21, 27, 28, 33, 35, 39, 42, ...</td>\n",
       "      <td>0.344763</td>\n",
       "    </tr>\n",
       "    <tr>\n",
       "      <th>18</th>\n",
       "      <td>[1, 5, 13, 18, 23, 28, 36, 40, 41, 45, 48, 49,...</td>\n",
       "      <td>0.385951</td>\n",
       "    </tr>\n",
       "    <tr>\n",
       "      <th>13</th>\n",
       "      <td>[6, 7, 10, 12, 14, 18, 21, 26, 29, 36, 36, 45,...</td>\n",
       "      <td>0.393930</td>\n",
       "    </tr>\n",
       "    <tr>\n",
       "      <th>19</th>\n",
       "      <td>[4, 7, 16, 18, 21, 27, 33, 34, 39, 44, 50, 50,...</td>\n",
       "      <td>0.469219</td>\n",
       "    </tr>\n",
       "    <tr>\n",
       "      <th>7</th>\n",
       "      <td>[5, 5, 16, 19, 28, 29, 38, 38, 41, 50, 50, 59,...</td>\n",
       "      <td>0.495408</td>\n",
       "    </tr>\n",
       "    <tr>\n",
       "      <th>16</th>\n",
       "      <td>[2, 5, 15, 16, 21, 26, 28, 34, 39, 41, 50, 56,...</td>\n",
       "      <td>0.521417</td>\n",
       "    </tr>\n",
       "    <tr>\n",
       "      <th>17</th>\n",
       "      <td>[1, 5, 8, 12, 17, 17, 25, 27, 29, 40, 44, 46, ...</td>\n",
       "      <td>0.536410</td>\n",
       "    </tr>\n",
       "    <tr>\n",
       "      <th>3</th>\n",
       "      <td>[2, 6, 12, 14, 18, 21, 26, 29, 35, 36, 43, 48,...</td>\n",
       "      <td>0.556562</td>\n",
       "    </tr>\n",
       "    <tr>\n",
       "      <th>15</th>\n",
       "      <td>[10, 14, 16, 17, 21, 27, 29, 32, 37, 42, 44, 4...</td>\n",
       "      <td>0.598273</td>\n",
       "    </tr>\n",
       "    <tr>\n",
       "      <th>8</th>\n",
       "      <td>[10, 14, 17, 19, 26, 28, 31, 35, 39, 41, 45, 4...</td>\n",
       "      <td>0.658267</td>\n",
       "    </tr>\n",
       "    <tr>\n",
       "      <th>1</th>\n",
       "      <td>[6, 10, 12, 14, 18, 23, 25, 33, 37, 43, 45, 49...</td>\n",
       "      <td>0.669222</td>\n",
       "    </tr>\n",
       "    <tr>\n",
       "      <th>9</th>\n",
       "      <td>[5, 8, 11, 17, 28, 31, 33, 39, 43, 48, 51, 56,...</td>\n",
       "      <td>0.699521</td>\n",
       "    </tr>\n",
       "    <tr>\n",
       "      <th>12</th>\n",
       "      <td>[6, 10, 14, 16, 19, 21, 27, 35, 39, 42, 47, 49...</td>\n",
       "      <td>0.707524</td>\n",
       "    </tr>\n",
       "    <tr>\n",
       "      <th>11</th>\n",
       "      <td>[2, 10, 12, 16, 23, 25, 29, 35, 36, 36, 46, 46...</td>\n",
       "      <td>0.726678</td>\n",
       "    </tr>\n",
       "    <tr>\n",
       "      <th>5</th>\n",
       "      <td>[2, 5, 7, 16, 18, 23, 27, 33, 34, 39, 42, 45, ...</td>\n",
       "      <td>1.234832</td>\n",
       "    </tr>\n",
       "    <tr>\n",
       "      <th>14</th>\n",
       "      <td>[2, 5, 10, 11, 25, 29, 31, 33, 36, 39, 48, 53,...</td>\n",
       "      <td>1.410018</td>\n",
       "    </tr>\n",
       "    <tr>\n",
       "      <th>0</th>\n",
       "      <td>[1, 5, 9, 12, 13, 17, 21, 25, 34, 35, 40, 46, ...</td>\n",
       "      <td>1.654518</td>\n",
       "    </tr>\n",
       "    <tr>\n",
       "      <th>2</th>\n",
       "      <td>[2, 4, 7, 21, 23, 29, 29, 40, 41, 44, 51, 53, ...</td>\n",
       "      <td>1.719407</td>\n",
       "    </tr>\n",
       "    <tr>\n",
       "      <th>10</th>\n",
       "      <td>[5, 7, 10, 14, 19, 21, 26, 31, 39, 42, 47, 51,...</td>\n",
       "      <td>2.181987</td>\n",
       "    </tr>\n",
       "  </tbody>\n",
       "</table>\n",
       "</div>"
      ],
      "text/plain": [
       "                                            Particles       MSE\n",
       "6   [1, 5, 7, 14, 19, 27, 31, 36, 36, 37, 41, 39, ...  0.273423\n",
       "4   [3, 5, 6, 15, 19, 21, 27, 28, 33, 35, 39, 42, ...  0.344763\n",
       "18  [1, 5, 13, 18, 23, 28, 36, 40, 41, 45, 48, 49,...  0.385951\n",
       "13  [6, 7, 10, 12, 14, 18, 21, 26, 29, 36, 36, 45,...  0.393930\n",
       "19  [4, 7, 16, 18, 21, 27, 33, 34, 39, 44, 50, 50,...  0.469219\n",
       "7   [5, 5, 16, 19, 28, 29, 38, 38, 41, 50, 50, 59,...  0.495408\n",
       "16  [2, 5, 15, 16, 21, 26, 28, 34, 39, 41, 50, 56,...  0.521417\n",
       "17  [1, 5, 8, 12, 17, 17, 25, 27, 29, 40, 44, 46, ...  0.536410\n",
       "3   [2, 6, 12, 14, 18, 21, 26, 29, 35, 36, 43, 48,...  0.556562\n",
       "15  [10, 14, 16, 17, 21, 27, 29, 32, 37, 42, 44, 4...  0.598273\n",
       "8   [10, 14, 17, 19, 26, 28, 31, 35, 39, 41, 45, 4...  0.658267\n",
       "1   [6, 10, 12, 14, 18, 23, 25, 33, 37, 43, 45, 49...  0.669222\n",
       "9   [5, 8, 11, 17, 28, 31, 33, 39, 43, 48, 51, 56,...  0.699521\n",
       "12  [6, 10, 14, 16, 19, 21, 27, 35, 39, 42, 47, 49...  0.707524\n",
       "11  [2, 10, 12, 16, 23, 25, 29, 35, 36, 36, 46, 46...  0.726678\n",
       "5   [2, 5, 7, 16, 18, 23, 27, 33, 34, 39, 42, 45, ...  1.234832\n",
       "14  [2, 5, 10, 11, 25, 29, 31, 33, 36, 39, 48, 53,...  1.410018\n",
       "0   [1, 5, 9, 12, 13, 17, 21, 25, 34, 35, 40, 46, ...  1.654518\n",
       "2   [2, 4, 7, 21, 23, 29, 29, 40, 41, 44, 51, 53, ...  1.719407\n",
       "10  [5, 7, 10, 14, 19, 21, 26, 31, 39, 42, 47, 51,...  2.181987"
      ]
     },
     "execution_count": 14,
     "metadata": {},
     "output_type": "execute_result"
    }
   ],
   "source": [
    "df_sort = df.copy()\n",
    "df_sort.sort_values('MSE', inplace=True)\n",
    "df_sort"
   ]
  },
  {
   "cell_type": "code",
   "execution_count": 15,
   "metadata": {},
   "outputs": [
    {
     "data": {
      "text/plain": [
       "6     0.273423\n",
       "4     0.344763\n",
       "18    0.385951\n",
       "13    0.393930\n",
       "19    0.469219\n",
       "7     0.495408\n",
       "16    0.521417\n",
       "17    0.536410\n",
       "3     0.556562\n",
       "15    0.598273\n",
       "8     0.658267\n",
       "1     0.669222\n",
       "9     0.699521\n",
       "12    0.707524\n",
       "11    0.726678\n",
       "5     1.234832\n",
       "14    1.410018\n",
       "0     1.654518\n",
       "2     1.719407\n",
       "10    2.181987\n",
       "Name: MSE, dtype: float64"
      ]
     },
     "execution_count": 15,
     "metadata": {},
     "output_type": "execute_result"
    }
   ],
   "source": [
    "var = df.sort_values(by=['MSE'], inplace=True)\n",
    "var = df['MSE']\n",
    "var"
   ]
  },
  {
   "cell_type": "code",
   "execution_count": 16,
   "metadata": {},
   "outputs": [
    {
     "data": {
      "text/plain": [
       "['./mse/new_mse25.pkl']"
      ]
     },
     "execution_count": 16,
     "metadata": {},
     "output_type": "execute_result"
    }
   ],
   "source": [
    "joblib.dump(var,'./mse/new_mse25.pkl')"
   ]
  },
  {
   "cell_type": "code",
   "execution_count": 17,
   "metadata": {},
   "outputs": [
    {
     "data": {
      "text/plain": [
       "6     0.273423\n",
       "4     0.344763\n",
       "18    0.385951\n",
       "13    0.393930\n",
       "19    0.469219\n",
       "7     0.495408\n",
       "16    0.521417\n",
       "17    0.536410\n",
       "3     0.556562\n",
       "15    0.598273\n",
       "8     0.658267\n",
       "1     0.669222\n",
       "9     0.699521\n",
       "12    0.707524\n",
       "11    0.726678\n",
       "5     1.234832\n",
       "14    1.410018\n",
       "0     1.654518\n",
       "2     1.719407\n",
       "10    2.181987\n",
       "Name: MSE, dtype: float64"
      ]
     },
     "execution_count": 17,
     "metadata": {},
     "output_type": "execute_result"
    }
   ],
   "source": [
    "joblib.load('./mse/new_mse25.pkl')"
   ]
  },
  {
   "cell_type": "code",
   "execution_count": 18,
   "metadata": {},
   "outputs": [
    {
     "name": "stdout",
     "output_type": "stream",
     "text": [
      "['VCH-5' 'C2SP3' 'MATS6s' 'VCH-6' 'MATS6e' 'maxssCH2' 'nHCsats' 'RDF30i'\n",
      " 'MATS6m' 'AATSC6e' 'nssssC' 'SpMax2_Bhs' 'RDF30u' 'MATS2i' 'ATSC6e'\n",
      " 'SpMax1_Bhs' 'AATSC6m' 'RDF30e' 'HybRatio' 'AATSC2i' 'ETA_EtaP_L'\n",
      " 'ATSC6m' 'AVP-7' 'VCH-7' 'AVP-4' 'SpMax3_Bhs' 'ATSC2i' 'AATSC6s' 'ATSC6s'\n",
      " 'VCH-4' 'AVP-6' 'SCH-5' 'AVP-5' 'SCH-4' 'SRW5' 'MDEC-34' 'RDF30s'\n",
      " 'ATSC2s' 'MATS2s' 'SpMax7_Bhs' 'minHBint4' 'n3Ring' 'SRW3' 'nHBint4'\n",
      " 'VCH-3' 'SCH-3' 'TDB4i' 'MATS4p' 'nssCH2' 'SRW7' 'SHCsats' 'ATSC2e'\n",
      " 'AATSC2s' 'GATS3v' 'AATSC2e' 'AVP-3' 'SHBint4' 'AATSC4p' 'SC-4'\n",
      " 'ETA_EtaP' 'MATS2e' 'AVP-2' 'GATS1c' 'maxtN' 'mintN' 'StN' 'C1SP1'\n",
      " 'nBondsT' 'ntN' 'ntsC' 'mintsC' 'maxtsC' 'StsC' 'naaN' 'SCH-6' 'SssCH2'\n",
      " 'ATSC4p' 'Dv' 'SsssCH' 'MAXDN2' 'nF' 'nsF' 'JGI1' 'CrippenLogP' 'SsF'\n",
      " 'VC-5' 'SRW9' 'VC-4' 'SaaN' 'SC-6' 'nX' 'MDEC-24' 'TDB7i' 'GATS8p'\n",
      " 'LipoaffinityIndex' 'ATSC0i' 'maxaaN' 'AATSC4v' 'MATS4v' 'SdssC']\n"
     ]
    }
   ],
   "source": [
    "desc_name = X_train.columns.tolist()\n",
    "desc_name = np.array(desc_name)\n",
    "print(desc_name)"
   ]
  },
  {
   "cell_type": "code",
   "execution_count": 19,
   "metadata": {},
   "outputs": [
    {
     "name": "stdout",
     "output_type": "stream",
     "text": [
      "['C2SP3', 'maxssCH2', 'AATSC6e', 'RDF30u', 'MATS2i', 'RDF30e', 'ATSC6m', 'SpMax3_Bhs', 'SRW5', 'MDEC-34', 'minHBint4', 'TDB4i', 'nssCH2', 'SHCsats', 'SHBint4', 'SC-4', 'StN', 'ntsC', 'maxtsC', 'ATSC4p', 'ATSC4p', 'SsF', 'SC-6', 'MDEC-24', 'LipoaffinityIndex']\n"
     ]
    }
   ],
   "source": [
    "best_desc = desc_name[df.loc[0,'Particles']]\n",
    "best_desc = list(best_desc)\n",
    "print(best_desc)"
   ]
  },
  {
   "cell_type": "code",
   "execution_count": 20,
   "metadata": {},
   "outputs": [
    {
     "data": {
      "text/plain": [
       "['./desc/new_desc25.pkl']"
      ]
     },
     "execution_count": 20,
     "metadata": {},
     "output_type": "execute_result"
    }
   ],
   "source": [
    "joblib.dump(best_desc,'./desc/new_desc25.pkl')"
   ]
  },
  {
   "cell_type": "code",
   "execution_count": 21,
   "metadata": {},
   "outputs": [
    {
     "data": {
      "text/plain": [
       "['C2SP3',\n",
       " 'maxssCH2',\n",
       " 'AATSC6e',\n",
       " 'RDF30u',\n",
       " 'MATS2i',\n",
       " 'RDF30e',\n",
       " 'ATSC6m',\n",
       " 'SpMax3_Bhs',\n",
       " 'SRW5',\n",
       " 'MDEC-34',\n",
       " 'minHBint4',\n",
       " 'TDB4i',\n",
       " 'nssCH2',\n",
       " 'SHCsats',\n",
       " 'SHBint4',\n",
       " 'SC-4',\n",
       " 'StN',\n",
       " 'ntsC',\n",
       " 'maxtsC',\n",
       " 'ATSC4p',\n",
       " 'ATSC4p',\n",
       " 'SsF',\n",
       " 'SC-6',\n",
       " 'MDEC-24',\n",
       " 'LipoaffinityIndex']"
      ]
     },
     "execution_count": 21,
     "metadata": {},
     "output_type": "execute_result"
    }
   ],
   "source": [
    "joblib.load('./desc/new_desc25.pkl')"
   ]
  },
  {
   "cell_type": "code",
   "execution_count": 22,
   "metadata": {},
   "outputs": [
    {
     "data": {
      "text/plain": [
       "0.46921928890209047"
      ]
     },
     "execution_count": 22,
     "metadata": {},
     "output_type": "execute_result"
    }
   ],
   "source": [
    "gbest_mse"
   ]
  },
  {
   "cell_type": "code",
   "execution_count": 23,
   "metadata": {},
   "outputs": [
    {
     "data": {
      "text/plain": [
       "0.39479541881853386"
      ]
     },
     "execution_count": 23,
     "metadata": {},
     "output_type": "execute_result"
    }
   ],
   "source": [
    "y_pred = model.predict(X_test_slice)\n",
    "mse = mean_squared_error(y_test, y_pred)\n",
    "mse"
   ]
  },
  {
   "cell_type": "code",
   "execution_count": 2,
   "metadata": {},
   "outputs": [
    {
     "data": {
      "image/png": "[encoded data removed]",
      "text/plain": [
       "<Figure size 432x288 with 1 Axes>"
      ]
     },
     "metadata": {
      "needs_background": "light"
     },
     "output_type": "display_data"
    }
   ],
   "source": [
    "fig = plt.figure()\n",
    "ax = fig.add_axes([0.5,0.5,1,1])\n",
    "numb = ['1', '2', '3', '4', '5', '6', '7', '8', '9', '10', '11', '12', '13', '14', '15', '16', '17', '18', '19','20']\n",
    "mse = joblib.load('./mse/new_mse25.pkl')\n",
    "mse = mse.sort_values(ascending=False)\n",
    "ax.bar(numb,mse)\n",
    "plt.title('25 Descriptor')\n",
    "plt.xlabel('Iteration')\n",
    "plt.ylabel('MSE')\n",
    "plt.savefig('Model Hasil/25 Deskriptor.png', format='png', dpi=1000, bbox_inches=\"tight\")\n",
    "plt.show()"
   ]
  },
  {
   "cell_type": "code",
   "execution_count": 3,
   "metadata": {},
   "outputs": [
    {
     "data": {
      "image/png": "[encoded data removed]",
      "text/plain": [
       "<Figure size 480x320 with 1 Axes>"
      ]
     },
     "metadata": {
      "needs_background": "light"
     },
     "output_type": "display_data"
    }
   ],
   "source": [
    "fig, ax = plt.subplots(figsize=(6, 4), dpi=80)\n",
    "\n",
    "x = ['1', '2', '3', '4', '5', '6', '7', '8', '9', '10', '11', '12', '13', '14', '15', '16', '17', '18', '19','20']\n",
    "y = joblib.load('./mse/new_mse25.pkl')\n",
    "y = mse.sort_values(ascending=False)\n",
    "plt.title('25 Deskriptor')\n",
    "ax.set_xlabel('Iteration')\n",
    "ax.set_ylabel('MSE')\n",
    "ax.plot(x, y, marker='.',markersize=10, lw=2, color='b')\n",
    "plt.savefig('Model Hasil/line plot 25 Deskriptor.png', format='png', dpi=1000, bbox_inches=\"tight\")\n",
    "plt.show()"
   ]
  },
  {
   "cell_type": "code",
   "execution_count": 4,
   "metadata": {},
   "outputs": [
    {
     "data": {
      "image/png": "[encoded data removed]",
      "text/plain": [
       "<Figure size 432x288 with 1 Axes>"
      ]
     },
     "metadata": {
      "needs_background": "light"
     },
     "output_type": "display_data"
    }
   ],
   "source": [
    "import matplotlib.pyplot as plt\n",
    "fig = plt.figure()\n",
    "ax = fig.add_axes([0.5,0.5,1,1]) \n",
    "mse = joblib.load('./mse/new_mse25.pkl')\n",
    "mse = mse.sort_values(ascending=False)\n",
    "\n",
    "y, binEdges = np.histogram(mse, bins=10, density= True)\n",
    "bincenters = 0.5*(binEdges[1:]+binEdges[:-1])\n",
    "\n",
    "plt.hist(mse, density= True, bins=10)\n",
    "plt.plot(bincenters,y,'--', lw=2, marker='s', markersize='10')\n",
    "plt.title('MSE Distribution 25 Descriptor')\n",
    "plt.ylabel('Frequency')\n",
    "plt.xlabel('MSE')\n",
    "plt.savefig('Model Hasil/MSE Distribution 25 Deskriptor.png', format='png', dpi=1000, bbox_inches=\"tight\")\n",
    "plt.show()"
   ]
  },
  {
   "cell_type": "code",
   "execution_count": 21,
   "metadata": {},
   "outputs": [
    {
     "data": {
      "image/png": "[encoded data removed]",
      "text/plain": [
       "<Figure size 432x288 with 1 Axes>"
      ]
     },
     "metadata": {
      "needs_background": "light"
     },
     "output_type": "display_data"
    }
   ],
   "source": [
    "import matplotlib.pyplot as plt\n",
    "import numpy as np\n",
    "import noise\n",
    "from scipy import stats\n",
    "from scipy.stats.kde import gaussian_kde\n",
    "\n",
    "fig = plt.figure()\n",
    "mse = joblib.load('./mse/new_mse25.pkl')\n",
    "mse = mse.sort_values(ascending=False)\n",
    "\n",
    "noise = mse\n",
    "density = stats.gaussian_kde(mse)\n",
    "n, x, _ = plt.hist(noise, histtype=u'step', density=True)\n",
    "plt.plot(x, density(x), marker=\"o\")\n",
    "plt.title('MSE Distribution 25 Descriptor')\n",
    "plt.ylabel('Frequency')\n",
    "plt.xlabel('MSE')\n",
    "plt.savefig('Model Hasil/MSE Distribution 25 Deskriptor.png', format='png', dpi=1000, bbox_inches=\"tight\")\n",
    "plt.show()"
   ]
  },
  {
   "cell_type": "code",
   "execution_count": 26,
   "metadata": {},
   "outputs": [
    {
     "data": {
      "text/plain": [
       "array([0.27342326, 0.46427968, 0.6551361 , 0.84599252, 1.03684894,\n",
       "       1.22770536, 1.41856178, 1.60941821, 1.80027463, 1.99113105,\n",
       "       2.18198747])"
      ]
     },
     "execution_count": 26,
     "metadata": {},
     "output_type": "execute_result"
    }
   ],
   "source": [
    "x"
   ]
  }
 ],
 "metadata": {
  "kernelspec": {
   "display_name": "Python 3",
   "language": "python",
   "name": "python3"
  },
  "language_info": {
   "codemirror_mode": {
    "name": "ipython",
    "version": 3
   },
   "file_extension": ".py",
   "mimetype": "text/x-python",
   "name": "python",
   "nbconvert_exporter": "python",
   "pygments_lexer": "ipython3",
   "version": "3.7.6"
  }
 },
 "nbformat": 4,
 "nbformat_minor": 4
}
