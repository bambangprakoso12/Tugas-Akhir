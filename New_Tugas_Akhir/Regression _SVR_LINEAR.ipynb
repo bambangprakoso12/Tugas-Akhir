{
 "cells": [
  {
   "cell_type": "code",
   "execution_count": 1,
   "metadata": {},
   "outputs": [],
   "source": [
    "import numpy as np\n",
    "import pandas as pd\n",
    "from sklearn.model_selection import train_test_split\n",
    "from sklearn.model_selection import GridSearchCV\n",
    "from sklearn.preprocessing import MinMaxScaler\n",
    "from sklearn.svm import SVR\n",
    "from sklearn.metrics import r2_score,mean_squared_error\n",
    "import seaborn as sns\n",
    "import matplotlib.pyplot as plt\n",
    "import pickle\n",
    "from joblib import dump, load"
   ]
  },
  {
   "cell_type": "code",
   "execution_count": 2,
   "metadata": {},
   "outputs": [],
   "source": [
    "# Load Data Train csv\n",
    "train = pickle.load(open('data/train_bams.p','rb'))\n",
    "test = pickle.load(open('data/test_bams.p','rb'))"
   ]
  },
  {
   "cell_type": "code",
   "execution_count": 3,
   "metadata": {},
   "outputs": [
    {
     "data": {
      "text/plain": [
       "['VCH-5',\n",
       " 'VCH-6',\n",
       " 'MATS6e',\n",
       " 'maxdsN',\n",
       " 'nHCsats',\n",
       " 'maxdsCH',\n",
       " 'SssssC',\n",
       " 'MDEN-23',\n",
       " 'nssssC',\n",
       " 'nHBAcc_Lipinski',\n",
       " 'AATSC8i',\n",
       " 'RDF30e',\n",
       " 'RDF30e',\n",
       " 'RDF30e',\n",
       " 'maxHCsats',\n",
       " 'GATS6m',\n",
       " 'ATSC2i',\n",
       " 'ATSC6s',\n",
       " 'TDB9v',\n",
       " 'SCH-5',\n",
       " 'maxHBint4',\n",
       " 'n3Ring',\n",
       " 'SRW3',\n",
       " 'maxHBint8',\n",
       " 'SHCsats']"
      ]
     },
     "execution_count": 3,
     "metadata": {},
     "output_type": "execute_result"
    }
   ],
   "source": [
    "# Load Pickle POLY\n",
    "label_25 = pickle.load(open(\"data/desc25.pkl\", \"rb\"))\n",
    "label_25"
   ]
  },
  {
   "cell_type": "code",
   "execution_count": 4,
   "metadata": {},
   "outputs": [],
   "source": [
    "x_train = train.loc[:,label_25]\n",
    "x_test = test.loc[:,label_25]\n",
    "y_train = train.iloc[:,[-1]]\n",
    "y_test = test.iloc[:,[-1]]"
   ]
  },
  {
   "cell_type": "code",
   "execution_count": 5,
   "metadata": {},
   "outputs": [
    {
     "data": {
      "text/plain": [
       "((107, 25),\n",
       " (27, 25),\n",
       "      pIC50\n",
       " 125  5.958\n",
       " 74   5.854\n",
       " 1    6.292\n",
       " 110  7.921\n",
       " 99   5.854\n",
       " ..     ...\n",
       " 68   6.180\n",
       " 95   5.585\n",
       " 32   8.699\n",
       " 124  7.229\n",
       " 131  7.259\n",
       " \n",
       " [107 rows x 1 columns],\n",
       "      pIC50\n",
       " 80   5.252\n",
       " 104  5.367\n",
       " 94   5.319\n",
       " 71   6.666\n",
       " 51   8.569\n",
       " 3    6.310\n",
       " 28   7.824\n",
       " 84   6.114\n",
       " 126  6.958\n",
       " 103  6.292\n",
       " 85   5.886\n",
       " 25   8.398\n",
       " 48   7.921\n",
       " 10   6.393\n",
       " 0    5.842\n",
       " 52   5.009\n",
       " 35   8.000\n",
       " 98   5.444\n",
       " 108  6.244\n",
       " 114  8.108\n",
       " 13   6.224\n",
       " 40   8.432\n",
       " 112  6.409\n",
       " 109  7.081\n",
       " 26   8.495\n",
       " 43   8.456\n",
       " 93   5.721)"
      ]
     },
     "execution_count": 5,
     "metadata": {},
     "output_type": "execute_result"
    }
   ],
   "source": [
    "x_train.shape, x_test.shape, y_train, y_test"
   ]
  },
  {
   "cell_type": "code",
   "execution_count": 6,
   "metadata": {},
   "outputs": [],
   "source": [
    "mmscaler = MinMaxScaler()\n",
    "mmscaler.fit(x_train)\n",
    "sc_x_train = mmscaler.transform(x_train)\n",
    "sc_x_test = mmscaler.transform(x_test)"
   ]
  },
  {
   "cell_type": "code",
   "execution_count": 7,
   "metadata": {},
   "outputs": [],
   "source": [
    "paramgrid = {\n",
    "    'C' : [0.1,1,10,100,1000],\n",
    "    'degree' : [1],\n",
    "    'epsilon' : [0.1,1,10,100,1000]\n",
    "}"
   ]
  },
  {
   "cell_type": "code",
   "execution_count": 8,
   "metadata": {},
   "outputs": [
    {
     "name": "stderr",
     "output_type": "stream",
     "text": [
      "C:\\Users\\Bams\\anaconda3\\lib\\site-packages\\sklearn\\utils\\validation.py:760: DataConversionWarning: A column-vector y was passed when a 1d array was expected. Please change the shape of y to (n_samples, ), for example using ravel().\n",
      "  y = column_or_1d(y, warn=True)\n"
     ]
    },
    {
     "data": {
      "text/plain": [
       "GridSearchCV(cv=5, error_score=nan,\n",
       "             estimator=SVR(C=1.0, cache_size=200, coef0=0.0, degree=3,\n",
       "                           epsilon=0.1, gamma='scale', kernel='linear',\n",
       "                           max_iter=-1, shrinking=True, tol=0.001,\n",
       "                           verbose=False),\n",
       "             iid='deprecated', n_jobs=-1,\n",
       "             param_grid={'C': [0.1, 1, 10, 100, 1000], 'degree': [1],\n",
       "                         'epsilon': [0.1, 1, 10, 100, 1000]},\n",
       "             pre_dispatch='2*n_jobs', refit=True, return_train_score=False,\n",
       "             scoring='neg_mean_squared_error', verbose=0)"
      ]
     },
     "execution_count": 8,
     "metadata": {},
     "output_type": "execute_result"
    }
   ],
   "source": [
    "grid = GridSearchCV(\n",
    "        estimator = SVR(kernel = 'linear'),\n",
    "        param_grid = paramgrid,\n",
    "        cv = 5,\n",
    "        scoring = 'neg_mean_squared_error',\n",
    "        n_jobs = -1\n",
    ")\n",
    "grid.fit(sc_x_train, y_train)"
   ]
  },
  {
   "cell_type": "code",
   "execution_count": 9,
   "metadata": {},
   "outputs": [
    {
     "data": {
      "text/plain": [
       "{'C': 1, 'degree': 1, 'epsilon': 0.1}"
      ]
     },
     "execution_count": 9,
     "metadata": {},
     "output_type": "execute_result"
    }
   ],
   "source": [
    "grid.best_params_"
   ]
  },
  {
   "cell_type": "code",
   "execution_count": 10,
   "metadata": {},
   "outputs": [],
   "source": [
    "pickle.dump(grid.best_params_, open( \"l_data/params_linear_25.p\", \"wb\" ))"
   ]
  },
  {
   "cell_type": "code",
   "execution_count": 11,
   "metadata": {},
   "outputs": [
    {
     "name": "stderr",
     "output_type": "stream",
     "text": [
      "C:\\Users\\Bams\\anaconda3\\lib\\site-packages\\sklearn\\utils\\validation.py:760: DataConversionWarning: A column-vector y was passed when a 1d array was expected. Please change the shape of y to (n_samples, ), for example using ravel().\n",
      "  y = column_or_1d(y, warn=True)\n"
     ]
    },
    {
     "data": {
      "text/plain": [
       "SVR(C=1, cache_size=200, coef0=0.0, degree=1, epsilon=0.1, gamma='scale',\n",
       "    kernel='linear', max_iter=-1, shrinking=True, tol=0.001, verbose=False)"
      ]
     },
     "execution_count": 11,
     "metadata": {},
     "output_type": "execute_result"
    }
   ],
   "source": [
    "# model\n",
    "model = SVR(kernel = 'linear', C = grid.best_params_['C'],\n",
    "           degree = grid.best_params_['degree'],\n",
    "           epsilon = grid.best_params_['epsilon'])\n",
    "model.fit(sc_x_train, y_train)"
   ]
  },
  {
   "cell_type": "code",
   "execution_count": 12,
   "metadata": {},
   "outputs": [],
   "source": [
    "y_train_pred = model.predict(sc_x_train)\n",
    "y_test_pred = model.predict(sc_x_test)"
   ]
  },
  {
   "cell_type": "code",
   "execution_count": 13,
   "metadata": {},
   "outputs": [],
   "source": [
    "train_r2 = r2_score(y_train, y_train_pred)\n",
    "test_r2 = r2_score(y_test, y_test_pred)"
   ]
  },
  {
   "cell_type": "code",
   "execution_count": 14,
   "metadata": {},
   "outputs": [
    {
     "data": {
      "text/plain": [
       "0.7997884582741337"
      ]
     },
     "execution_count": 14,
     "metadata": {},
     "output_type": "execute_result"
    }
   ],
   "source": [
    "train_r2"
   ]
  },
  {
   "cell_type": "code",
   "execution_count": 15,
   "metadata": {},
   "outputs": [],
   "source": [
    "pickle.dump(train_r2, open( \"l_data/train_linear_25.p\", \"wb\" ))"
   ]
  },
  {
   "cell_type": "code",
   "execution_count": 16,
   "metadata": {},
   "outputs": [
    {
     "data": {
      "text/plain": [
       "0.7687164015936204"
      ]
     },
     "execution_count": 16,
     "metadata": {},
     "output_type": "execute_result"
    }
   ],
   "source": [
    "test_r2"
   ]
  },
  {
   "cell_type": "code",
   "execution_count": 17,
   "metadata": {},
   "outputs": [],
   "source": [
    "pickle.dump(test_r2, open( \"l_data/test_linear_25.p\", \"wb\" ))"
   ]
  },
  {
   "cell_type": "code",
   "execution_count": 24,
   "metadata": {},
   "outputs": [],
   "source": [
    "# Load Pickle \n",
    "params5 = pickle.load(open(\"l_data/params_linear_5.p\", \"rb\"))\n",
    "train_linear5 = pickle.load(open(\"l_data/train_linear_5.p\", \"rb\"))\n",
    "test_linear5 = pickle.load(open(\"l_data/test_linear_5.p\", \"rb\"))\n",
    "\n",
    "params10 = pickle.load(open(\"l_data/params_linear_10.p\", \"rb\"))\n",
    "train_linear10 = pickle.load(open(\"l_data/train_linear_10.p\", \"rb\"))\n",
    "test_linear10 = pickle.load(open(\"l_data/test_linear_10.p\", \"rb\"))\n",
    "\n",
    "params15 = pickle.load(open(\"l_data/params_linear_15.p\", \"rb\"))\n",
    "train_linear15 = pickle.load(open(\"l_data/train_linear_15.p\", \"rb\"))\n",
    "test_linear15 = pickle.load(open(\"l_data/test_linear_15.p\", \"rb\"))\n",
    "\n",
    "params20 = pickle.load(open(\"l_data/params_linear_20.p\", \"rb\"))\n",
    "train_linear20 = pickle.load(open(\"l_data/train_linear_20.p\", \"rb\"))\n",
    "test_linear20 = pickle.load(open(\"l_data/test_linear_20.p\", \"rb\"))\n",
    "\n",
    "params25 = pickle.load(open(\"l_data/params_linear_25.p\", \"rb\"))\n",
    "train_linear25 = pickle.load(open(\"l_data/train_linear_25.p\", \"rb\"))\n",
    "test_linear25 = pickle.load(open(\"l_data/test_linear_25.p\", \"rb\"))"
   ]
  },
  {
   "cell_type": "code",
   "execution_count": 25,
   "metadata": {},
   "outputs": [
    {
     "data": {
      "text/plain": [
       "({'C': 1, 'degree': 1, 'epsilon': 0.1}, 0.6563853851632077, 0.5711671919054326)"
      ]
     },
     "execution_count": 25,
     "metadata": {},
     "output_type": "execute_result"
    }
   ],
   "source": [
    "params5, train_linear5, test_linear5"
   ]
  },
  {
   "cell_type": "code",
   "execution_count": 26,
   "metadata": {},
   "outputs": [
    {
     "data": {
      "text/plain": [
       "({'C': 1, 'degree': 1, 'epsilon': 1}, 0.5031028219873592, 0.5648379577661286)"
      ]
     },
     "execution_count": 26,
     "metadata": {},
     "output_type": "execute_result"
    }
   ],
   "source": [
    "params10, train_linear10, test_linear10"
   ]
  },
  {
   "cell_type": "code",
   "execution_count": 27,
   "metadata": {},
   "outputs": [
    {
     "data": {
      "text/plain": [
       "({'C': 1, 'degree': 1, 'epsilon': 0.1}, 0.7370518601195339, 0.7265516038002904)"
      ]
     },
     "execution_count": 27,
     "metadata": {},
     "output_type": "execute_result"
    }
   ],
   "source": [
    "params15, train_linear15, test_linear15"
   ]
  },
  {
   "cell_type": "code",
   "execution_count": 28,
   "metadata": {},
   "outputs": [
    {
     "data": {
      "text/plain": [
       "({'C': 1, 'degree': 1, 'epsilon': 0.1}, 0.6333185716684342, 0.6625033059508034)"
      ]
     },
     "execution_count": 28,
     "metadata": {},
     "output_type": "execute_result"
    }
   ],
   "source": [
    "params20, train_linear20, test_linear20"
   ]
  },
  {
   "cell_type": "code",
   "execution_count": 29,
   "metadata": {},
   "outputs": [
    {
     "data": {
      "text/plain": [
       "({'C': 1, 'degree': 1, 'epsilon': 0.1}, 0.7997884582741337, 0.7687164015936204)"
      ]
     },
     "execution_count": 29,
     "metadata": {},
     "output_type": "execute_result"
    }
   ],
   "source": [
    "params25, train_linear25, test_linear25"
   ]
  },
  {
   "cell_type": "code",
   "execution_count": null,
   "metadata": {},
   "outputs": [],
   "source": []
  }
 ],
 "metadata": {
  "kernelspec": {
   "display_name": "Python 3",
   "language": "python",
   "name": "python3"
  },
  "language_info": {
   "codemirror_mode": {
    "name": "ipython",
    "version": 3
   },
   "file_extension": ".py",
   "mimetype": "text/x-python",
   "name": "python",
   "nbconvert_exporter": "python",
   "pygments_lexer": "ipython3",
   "version": "3.7.6"
  }
 },
 "nbformat": 4,
 "nbformat_minor": 4
}
