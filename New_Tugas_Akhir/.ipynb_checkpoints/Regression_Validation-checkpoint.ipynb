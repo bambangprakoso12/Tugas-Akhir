{
 "cells": [
  {
   "cell_type": "code",
   "execution_count": 1,
   "metadata": {},
   "outputs": [],
   "source": [
    "import copy\n",
    "import numpy as np\n",
    "import pickle\n",
    "import matplotlib.pyplot as plt\n",
    "from sklearn.model_selection import GridSearchCV\n",
    "from sklearn.preprocessing import MinMaxScaler\n",
    "from sklearn.svm import SVR\n",
    "from sklearn.metrics import r2_score,mean_squared_error\n",
    "import seaborn as sns\n",
    "from sklearn.model_selection import LeaveOneOut\n",
    "from sklearn.model_selection import train_test_split\n",
    "from sklearn.model_selection import GridSearchCV\n",
    "from sklearn.preprocessing import MinMaxScaler\n",
    "import pandas as pd\n",
    "\n",
    "import warnings\n",
    "warnings.filterwarnings('ignore')"
   ]
  },
  {
   "cell_type": "code",
   "execution_count": 2,
   "metadata": {},
   "outputs": [],
   "source": [
    "def r2_score(y, y_pred, y_train=None):\n",
    "    sse = 0; sst = 0\n",
    "    if y_train is None:        \n",
    "        y_mean = np.mean(y)\n",
    "    else:\n",
    "        y_mean = np.mean(y_train)\n",
    "    for i in range(len(y)):\n",
    "        sse += (y[i] - y_pred[i]) ** 2\n",
    "        sst += (y[i] - y_mean) ** 2\n",
    "    r2_score = 1 - (sse / sst)\n",
    "    return r2_score"
   ]
  },
  {
   "cell_type": "code",
   "execution_count": 3,
   "metadata": {},
   "outputs": [],
   "source": [
    "def normalize(X):\n",
    "    max_ = np.max(X, axis=0)\n",
    "    min_ = np.min(X, axis=0)\n",
    "    X_norm = (X - min_) / (max_ - min_)\n",
    "    return max_, min_, X_norm"
   ]
  },
  {
   "cell_type": "code",
   "execution_count": 4,
   "metadata": {},
   "outputs": [],
   "source": [
    "def standardize(X):\n",
    "    mean_ = np.mean(X, axis=0)\n",
    "    std_ = np.std(X, axis=0)\n",
    "    X_norm = (X - mean_) / std_\n",
    "    return X_norm, mean_, std_"
   ]
  },
  {
   "cell_type": "code",
   "execution_count": 5,
   "metadata": {},
   "outputs": [],
   "source": [
    "def q2_loo(model, X, y):\n",
    "    loo = LeaveOneOut()\n",
    "    y_pred = []\n",
    "    for train_index, test_index in loo.split(X):\n",
    "        X_train, X_test = X[train_index], X[test_index]\n",
    "        y_train, y_test = y[train_index], y[test_index]\n",
    "        model.fit(X_train, y_train)\n",
    "        tmp = model.predict(X_test)\n",
    "        #tmp = scaler_y.inverse_transform(tmp)\n",
    "        y_pred.append(list(tmp)[0])\n",
    "    r2 = r2_score(y, y_pred)\n",
    "    return r2, y_pred"
   ]
  },
  {
   "cell_type": "code",
   "execution_count": 6,
   "metadata": {},
   "outputs": [],
   "source": [
    "def qsar_param(y, y_pred, d_r2m=True):\n",
    "    results = []\n",
    "    _, _, y = normalize(y)\n",
    "    _, _, y_pred = normalize(y_pred)\n",
    "    y_mean = np.mean(y); y_pred_mean = np.mean(y_pred)\n",
    "    # calculate r2\n",
    "    num = 0; den_1 = 0; den_2 = 0\n",
    "    for i in range(len(y)):\n",
    "        num += (y[i] - y_mean) * (y_pred[i] - y_pred_mean)\n",
    "        den_1 += (y_pred[i] - y_pred_mean) ** 2\n",
    "        den_2 += (y[i] - y_mean) ** 2\n",
    "    r2 = num ** 2 / (den_1 * den_2)\n",
    "    results = {\"r2\": r2}\n",
    "    # calculate k and k_dash\n",
    "    n_data = len(y)\n",
    "    dot_ = 0; y_pred2 = 0; y2 = 0\n",
    "    for i in range(n_data):\n",
    "        dot_ += (y[i] * y_pred[i])\n",
    "        y_pred2 += y_pred[i] ** 2\n",
    "        y2 += y[i] ** 2\n",
    "    k = np.sum(dot_) / np.sum(y_pred2)\n",
    "    k_dash = np.sum(dot_) / np.sum(y2)\n",
    "    results[\"k\"] = k\n",
    "    results[\"k_dash\"] = k_dash\n",
    "    # calculate r2_0 and r2_0_dash\n",
    "    num = 0; num_dash = 0; den = 0; den_dash = 0\n",
    "    for i in range(n_data):\n",
    "        num += (y[i] - (k * y_pred[i])) ** 2\n",
    "        num_dash += (y_pred[i] - (k_dash * y[i])) ** 2\n",
    "        den += (y[i] - y_mean) ** 2\n",
    "        den_dash += (y_pred[i] - y_pred_mean) ** 2\n",
    "    r2_0 = 1 - (num / den)\n",
    "    r2_0_dash = 1 - (num_dash / den_dash)\n",
    "    #results.append(r2_0)\n",
    "    #results.append(r2_0_dash)\n",
    "    r2r0 = (r2 - r2_0)/r2\n",
    "    r2r0_dash = (r2 - r2_0_dash)/r2\n",
    "    results[\"r2r0\"] = r2r0\n",
    "    results[\"r2r0_dash\"] = r2r0_dash\n",
    "    r0r0_dash = np.abs(r2_0 - r2_0_dash)\n",
    "    results[\"r0r0_dash\"] = r0r0_dash\n",
    "    # calculate rm2 and rm2_dash\n",
    "    rm2 = r2 * (1 - np.sqrt(r2 - r2_0))\n",
    "    rm2_dash = r2 * (1 - np.sqrt(r2 - r2_0_dash))\n",
    "    #results.append(rm2)\n",
    "    #results.append(rm2_dash)\n",
    "    # calculate rm2_bar and d_rm2\n",
    "    rm2_bar = (rm2 + rm2_dash) / 2\n",
    "    d_rm2 = np.abs(rm2 - rm2_dash)\n",
    "    results[\"rm2_bar\"] = rm2_bar\n",
    "    results[\"d_rm2\"] = d_rm2\n",
    "    return results"
   ]
  },
  {
   "cell_type": "code",
   "execution_count": 7,
   "metadata": {},
   "outputs": [],
   "source": [
    "def y_random(estimator, X, y, n=10):\n",
    "    # non-random\n",
    "    estimator.fit(X, y)\n",
    "    y_pred = estimator.predict(X)    \n",
    "    r2_nr = r2_score(y, y_pred)\n",
    "    r_nr = np.sqrt(r2_nr)\n",
    "    n_data = X.shape[0]\n",
    "    # random\n",
    "    r2_rand = []\n",
    "    range_ = list(range(n_data))\n",
    "    for i in range(n):\n",
    "        new_range_ = copy.deepcopy(range_)\n",
    "        np.random.shuffle(new_range_)\n",
    "        y_new = []\n",
    "        for i in new_range_:\n",
    "            y_new.append(y[i])\n",
    "        y_new = np.array(y_new)\n",
    "        estimator.fit(X, y_new)\n",
    "        y_pred = estimator.predict(X)\n",
    "        r2_rand.append(r2_score(y_new, y_pred))\n",
    "    r2_rand_avg = np.average(r2_rand)\n",
    "    rp = r_nr * np.sqrt(r2_nr - r2_rand_avg)\n",
    "    return rp"
   ]
  },
  {
   "cell_type": "code",
   "execution_count": 8,
   "metadata": {},
   "outputs": [],
   "source": [
    "def leverage(XtX, X):\n",
    "    levs = []\n",
    "    for i in range(X.shape[0]):\n",
    "        x = X[i,:]\n",
    "        lev = x.dot(XtX).dot(x.T)\n",
    "        levs.append(lev)\n",
    "    return levs"
   ]
  },
  {
   "cell_type": "code",
   "execution_count": 9,
   "metadata": {},
   "outputs": [],
   "source": [
    "def applicability_domain(X_train, X_test, y_train_act, \n",
    "                         y_train_pred, y_test_act, y_test_pred):\n",
    "    # using wilson map\n",
    "    X_train, _, _ = standardize(X_train)\n",
    "    X_test, _, _ = standardize(X_test)\n",
    "    n, p = X_train.shape\n",
    "    # calculate standardized residuals\n",
    "    err_train = []; res_train = []\n",
    "    for i in range(len(y_train_pred)):\n",
    "        err_train.append(y_train_act[i] - y_train_pred[i])\n",
    "    rmse_train = np.sqrt(r2_score(y_train_act, y_train_pred))\n",
    "    for i in range(len(y_train_pred)):\n",
    "        tmp = err_train[i]/rmse_train\n",
    "        res_train.append(tmp)\n",
    "    err_test = []; res_test = []\n",
    "    for i in range(len(y_test_pred)):\n",
    "        err_test.append(y_test_act[i] - y_test_pred[i])\n",
    "    rmse_test = np.sqrt(r2_score(y_test_act, y_test_pred))\n",
    "    for i in range(len(y_test_pred)):\n",
    "        tmp = err_test[i]/rmse_test\n",
    "        res_test.append(tmp)    \n",
    "    #res_test = [a/rmse_test for a in err_test]\n",
    "    # calculate leverage\n",
    "    XtX = X_train.T.dot(X_train)\n",
    "    XtX = np.linalg.pinv(XtX)\n",
    "    lev_train = leverage(XtX, X_train)\n",
    "    lev_test = leverage(XtX, X_test)\n",
    "    h_star = (3 * (p + 1)) / n\n",
    "    print(h_star)\n",
    "    #return (lev_train, res_train, lev_test, res_test, h_star)\n",
    "    #plotting\n",
    "    plt.scatter(lev_train, res_train, c='b',marker='o', label='training data')\n",
    "    plt.scatter(lev_test, res_test, c='r',marker='^', label='test data')\n",
    "    plt.axhline(y=3, c='k', linewidth=0.8)\n",
    "    plt.axhline(y=-3, c='k', linewidth=0.8)\n",
    "    plt.axvline(x=h_star, c='k', linewidth=0.8)\n",
    "    #plt.xticks([0,0.1,0.2,0.3,0.4,0.5,h_star,0.6],[0,0.1,0.2,0.3,0.4,0.5,\"h$^*$\",0.6])\n",
    "    plt.text(h_star+0.001, 0, \"h$^*$\")\n",
    "    plt.xlim(0, h_star + 0.1)\n",
    "    plt.ylim(-4, 4)\n",
    "    plt.xlabel('leverage')\n",
    "    plt.ylabel('standardized residual')\n",
    "    plt.legend(loc='upper right')\n",
    "    plt.savefig('./app_domain.png', format='png', dpi=1000, bbox_inches=\"tight\")    \n",
    "    plt.show()"
   ]
  },
  {
   "cell_type": "code",
   "execution_count": 43,
   "metadata": {},
   "outputs": [
    {
     "data": {
      "text/plain": [
       "((107, 1876), (27, 1876))"
      ]
     },
     "execution_count": 43,
     "metadata": {},
     "output_type": "execute_result"
    }
   ],
   "source": [
    "# Load Data Train csv\n",
    "train = pickle.load(open('data/train_bams.p','rb'))\n",
    "test = pickle.load(open('data/test_bams.p','rb'))\n",
    "train.shape, test.shape"
   ]
  },
  {
   "cell_type": "markdown",
   "metadata": {},
   "source": [
    "# SVR_RBF"
   ]
  },
  {
   "cell_type": "code",
   "execution_count": 11,
   "metadata": {},
   "outputs": [
    {
     "data": {
      "text/plain": [
       "SVR(C=1, cache_size=200, coef0=0.0, degree=3, epsilon=0.1, gamma='scale',\n",
       "    kernel='rbf', max_iter=-1, shrinking=True, tol=0.001, verbose=False)"
      ]
     },
     "execution_count": 11,
     "metadata": {},
     "output_type": "execute_result"
    }
   ],
   "source": [
    "# Load Pickle rbf\n",
    "params = pickle.load(open(\"r_data/params_rbf_5.p\", \"rb\"))\n",
    "\n",
    "label_5 = pickle.load(open(\"data/desc5.pkl\", \"rb\"))\n",
    "x_train = train.loc[:,label_5].to_numpy()\n",
    "x_test = test.loc[:,label_5].to_numpy()\n",
    "y_train = train.iloc[:,[-1]].to_numpy()\n",
    "y_test = test.iloc[:,[-1]].to_numpy()\n",
    "\n",
    "# minmax rbf\n",
    "mmscaler = MinMaxScaler()\n",
    "mmscaler.fit(x_train)\n",
    "sc_x_train = mmscaler.transform(x_train)\n",
    "sc_x_test = mmscaler.transform(x_test)\n",
    "\n",
    "# model\n",
    "model = SVR(kernel = 'rbf', C = params['C'],\n",
    "           gamma = params['gamma'],\n",
    "           epsilon = params['epsilon'])\n",
    "model.fit(sc_x_train, y_train)"
   ]
  },
  {
   "cell_type": "code",
   "execution_count": 12,
   "metadata": {},
   "outputs": [
    {
     "data": {
      "text/plain": [
       "(array([0.75923476]),\n",
       " [7.180669663817758,\n",
       "  5.6947686360665175,\n",
       "  6.293638674666063,\n",
       "  7.129258789071139,\n",
       "  5.702275103241563,\n",
       "  8.17959408416329,\n",
       "  6.2904157047374945,\n",
       "  8.180449797998897,\n",
       "  5.512010826842191,\n",
       "  7.120259888365734,\n",
       "  8.236464438753963,\n",
       "  6.289562997265208,\n",
       "  8.221290480394655,\n",
       "  6.300657810932886,\n",
       "  8.232523957537564,\n",
       "  5.499674918876849,\n",
       "  7.131277352809455,\n",
       "  6.3195336684303225,\n",
       "  5.618801501973823,\n",
       "  8.61949676532076,\n",
       "  8.225503364768453,\n",
       "  8.525567329931315,\n",
       "  7.202111256196409,\n",
       "  8.230120657634677,\n",
       "  8.446834119567084,\n",
       "  6.294082483332035,\n",
       "  5.549166897402128,\n",
       "  6.3206121998980604,\n",
       "  8.023298091009263,\n",
       "  5.740120382759035,\n",
       "  5.973618339517144,\n",
       "  5.747647689692066,\n",
       "  6.322129977192558,\n",
       "  5.182553606129499,\n",
       "  8.055804495480938,\n",
       "  6.326146758569088,\n",
       "  6.291196108201281,\n",
       "  6.327797550983121,\n",
       "  6.2907699709657,\n",
       "  5.713441331537233,\n",
       "  5.755312201259519,\n",
       "  5.6948606313450565,\n",
       "  6.5567567147787065,\n",
       "  6.32898300080965,\n",
       "  6.295928628351151,\n",
       "  6.111469172133674,\n",
       "  6.017117504255347,\n",
       "  5.714125466259665,\n",
       "  5.757227147833994,\n",
       "  6.005224352823345,\n",
       "  5.559064017328806,\n",
       "  6.34648779735454,\n",
       "  6.044873230750098,\n",
       "  5.349411092204512,\n",
       "  7.10285137189906,\n",
       "  7.206180385087856,\n",
       "  8.228052300311514,\n",
       "  6.2899978140678305,\n",
       "  5.359364616869957,\n",
       "  7.051154828503636,\n",
       "  6.295414025776832,\n",
       "  6.3321247758158705,\n",
       "  5.766745851358682,\n",
       "  8.07334883281275,\n",
       "  5.705318307970624,\n",
       "  5.706110194541406,\n",
       "  8.070903121389843,\n",
       "  7.163608162031028,\n",
       "  6.273047105956973,\n",
       "  8.202697373913882,\n",
       "  6.321723408533429,\n",
       "  6.129075859611048,\n",
       "  5.697000640176474,\n",
       "  6.297851861259601,\n",
       "  7.129567127492389,\n",
       "  5.3381778925201395,\n",
       "  5.749852174052307,\n",
       "  8.17525239496343,\n",
       "  8.708851334413481,\n",
       "  7.152220252342944,\n",
       "  6.1268374757800705,\n",
       "  8.229383747729276,\n",
       "  7.106689240444487,\n",
       "  5.620566403781296,\n",
       "  6.086914912426247,\n",
       "  7.13977074724749,\n",
       "  8.173657916696705,\n",
       "  8.223720206599781,\n",
       "  6.310794407484095,\n",
       "  7.119902782348129,\n",
       "  6.292881654773508,\n",
       "  8.207088318938148,\n",
       "  5.703381281544578,\n",
       "  6.300834812328535,\n",
       "  6.445548433442087,\n",
       "  6.116012653280543,\n",
       "  6.021019550725144,\n",
       "  6.28307287238075,\n",
       "  6.313930654260685,\n",
       "  6.2911578558644035,\n",
       "  7.024481593654992,\n",
       "  7.114184222778798,\n",
       "  6.3301429887730265,\n",
       "  5.520451351343819,\n",
       "  8.179416910459434,\n",
       "  7.1143539210965185,\n",
       "  7.151162998541732])"
      ]
     },
     "execution_count": 12,
     "metadata": {},
     "output_type": "execute_result"
    }
   ],
   "source": [
    "train_rbf = q2_loo(model, sc_x_train, y_train)\n",
    "train_rbf"
   ]
  },
  {
   "cell_type": "code",
   "execution_count": 13,
   "metadata": {},
   "outputs": [
    {
     "data": {
      "text/plain": [
       "array([0.75923476])"
      ]
     },
     "execution_count": 13,
     "metadata": {},
     "output_type": "execute_result"
    }
   ],
   "source": [
    "train_rbf_r2 = r2_score(y_train, train_rbf[1])\n",
    "train_rbf_r2"
   ]
  },
  {
   "cell_type": "code",
   "execution_count": 14,
   "metadata": {},
   "outputs": [
    {
     "data": {
      "text/plain": [
       "((27, 1), 27)"
      ]
     },
     "execution_count": 14,
     "metadata": {},
     "output_type": "execute_result"
    }
   ],
   "source": [
    "y_test.shape, len(model.predict(x_test))"
   ]
  },
  {
   "cell_type": "code",
   "execution_count": 15,
   "metadata": {},
   "outputs": [
    {
     "data": {
      "text/plain": [
       "array([5.72008818, 5.69895333, 5.69647323, 6.02524705, 8.61050648,\n",
       "       8.2335654 , 8.23417698, 5.70276638, 6.62473364, 5.56682627,\n",
       "       5.39434625, 8.22691425, 8.10024521, 6.3063135 , 6.27735355,\n",
       "       6.01138528, 8.72242226, 5.52065902, 6.20904552, 7.1425792 ,\n",
       "       6.28060932, 8.23430222, 7.11523002, 6.32762623, 8.23080095,\n",
       "       8.19789067, 5.69922901])"
      ]
     },
     "execution_count": 15,
     "metadata": {},
     "output_type": "execute_result"
    }
   ],
   "source": [
    "test_pred = model.predict(sc_x_test)\n",
    "test_pred"
   ]
  },
  {
   "cell_type": "code",
   "execution_count": 16,
   "metadata": {},
   "outputs": [
    {
     "data": {
      "text/plain": [
       "{'r2': array([0.76359488]),\n",
       " 'k': 0.9252437472697659,\n",
       " 'k_dash': 1.0001810285653305,\n",
       " 'r2r0': array([0.00780579]),\n",
       " 'r2r0_dash': array([0.0237096]),\n",
       " 'r0r0_dash': array([0.01214407]),\n",
       " 'rm2_bar': array([0.68274657]),\n",
       " 'd_rm2': array([0.04379144])}"
      ]
     },
     "execution_count": 16,
     "metadata": {},
     "output_type": "execute_result"
    }
   ],
   "source": [
    "rbf_qsar = qsar_param(y_train, train_rbf[1], d_r2m=True)\n",
    "rbf_qsar"
   ]
  },
  {
   "cell_type": "code",
   "execution_count": 17,
   "metadata": {},
   "outputs": [
    {
     "data": {
      "text/plain": [
       "{'r2': array([0.74525565]),\n",
       " 'k': 1.0247326598780513,\n",
       " 'k_dash': 0.8788323687942868,\n",
       " 'r2r0': array([0.10077606]),\n",
       " 'r2r0_dash': array([0.00145601]),\n",
       " 'r0r0_dash': array([0.07401883]),\n",
       " 'rm2_bar': array([0.63086198]),\n",
       " 'd_rm2': array([0.17968871])}"
      ]
     },
     "execution_count": 17,
     "metadata": {},
     "output_type": "execute_result"
    }
   ],
   "source": [
    "rbf_qsar = qsar_param(y_test, test_pred, d_r2m=True)\n",
    "rbf_qsar"
   ]
  },
  {
   "cell_type": "code",
   "execution_count": 18,
   "metadata": {
    "scrolled": true
   },
   "outputs": [
    {
     "data": {
      "text/plain": [
       "array([0.76277189])"
      ]
     },
     "execution_count": 18,
     "metadata": {},
     "output_type": "execute_result"
    }
   ],
   "source": [
    "rbf_y = y_random(model, sc_x_train, y_train, n=10)\n",
    "rbf_y"
   ]
  },
  {
   "cell_type": "code",
   "execution_count": 19,
   "metadata": {},
   "outputs": [
    {
     "name": "stdout",
     "output_type": "stream",
     "text": [
      "0.16822429906542055\n"
     ]
    },
    {
     "data": {
      "image/png": "[encoded data removed]",
      "text/plain": [
       "<Figure size 432x288 with 1 Axes>"
      ]
     },
     "metadata": {
      "needs_background": "light"
     },
     "output_type": "display_data"
    }
   ],
   "source": [
    "plt.title('RBF-Applicability domain')\n",
    "rbf_AD = applicability_domain(sc_x_train, sc_x_test, y_train, train_rbf[1], y_test, test_pred)\n",
    "rbf_AD"
   ]
  },
  {
   "cell_type": "code",
   "execution_count": 20,
   "metadata": {},
   "outputs": [
    {
     "data": {
      "image/png": "[encoded data removed]",
      "text/plain": [
       "<Figure size 432x288 with 1 Axes>"
      ]
     },
     "metadata": {
      "needs_background": "light"
     },
     "output_type": "display_data"
    }
   ],
   "source": [
    "fig, ax = plt.subplots()\n",
    "ax.scatter(y_train, train_rbf[1], c='b',marker='o', label='training data')\n",
    "ax.scatter(y_test, test_pred, c='r',marker='^', label='test data')\n",
    "ax.plot([0, 1], [0, 1], color=\"black\",transform=ax.transAxes)\n",
    "plt.title('RBF-Actual vs Predict')\n",
    "ax.set_xlabel('Predicted pIC50')\n",
    "ax.set_ylabel('Experimental pIC50')\n",
    "plt.show()"
   ]
  },
  {
   "cell_type": "code",
   "execution_count": 21,
   "metadata": {},
   "outputs": [
    {
     "data": {
      "text/plain": [
       "Text(0, 0.5, 'Residual')"
      ]
     },
     "execution_count": 21,
     "metadata": {},
     "output_type": "execute_result"
    },
    {
     "data": {
      "image/png": "[encoded data removed]",
      "text/plain": [
       "<Figure size 432x288 with 1 Axes>"
      ]
     },
     "metadata": {
      "needs_background": "light"
     },
     "output_type": "display_data"
    }
   ],
   "source": [
    "#dataframe to list\n",
    "r_train = pd.DataFrame(y_train).to_numpy()\n",
    "r_train_pred = pd.DataFrame(train_rbf[1]).to_numpy()\n",
    "r_test = pd.DataFrame(y_test).to_numpy()\n",
    "r_test_pred = pd.DataFrame(test_pred).to_numpy()\n",
    "\n",
    "train = r_train-r_train_pred\n",
    "test = r_test-r_test_pred\n",
    "plt.axhline(y=0, c='k', linewidth=0.8, linestyle='--')\n",
    "plt.scatter(r_train, train, c='b',marker='o', label='training data')\n",
    "plt.scatter(r_test, test, c='r',marker='^', label='test data')\n",
    "plt.title(\"RBF-Actual vs Residual\")\n",
    "plt.xlabel(\"Predict Values\")\n",
    "plt.ylabel(\"Residual\")"
   ]
  },
  {
   "cell_type": "markdown",
   "metadata": {},
   "source": [
    "# SVR_Poly"
   ]
  },
  {
   "cell_type": "code",
   "execution_count": 44,
   "metadata": {},
   "outputs": [
    {
     "data": {
      "text/plain": [
       "SVR(C=1, cache_size=200, coef0=0.0, degree=2, epsilon=0.1, gamma='scale',\n",
       "    kernel='poly', max_iter=-1, shrinking=True, tol=0.001, verbose=False)"
      ]
     },
     "execution_count": 44,
     "metadata": {},
     "output_type": "execute_result"
    }
   ],
   "source": [
    "# Load Pickle poly\n",
    "params = pickle.load(open(\"p_data/params_poly_5.p\", \"rb\"))\n",
    "\n",
    "poly_desc5 = pickle.load(open(\"data/desc5.pkl\", \"rb\"))\n",
    "x_train = train.loc[:,poly_desc5].to_numpy()\n",
    "x_test = test.loc[:,poly_desc5].to_numpy()\n",
    "y_train = train.iloc[:,[-1]].to_numpy()\n",
    "y_test = test.iloc[:,[-1]].to_numpy()\n",
    "\n",
    "# minmax poly\n",
    "mmscaler = MinMaxScaler()\n",
    "mmscaler.fit(x_train)\n",
    "sc_x_train = mmscaler.transform(x_train)\n",
    "sc_x_test = mmscaler.transform(x_test)\n",
    "\n",
    "# model\n",
    "model = SVR(kernel = 'poly', C = params['C'],\n",
    "           degree = params['degree'],\n",
    "           epsilon = params['epsilon'])\n",
    "model.fit(sc_x_train, y_train)\n"
   ]
  },
  {
   "cell_type": "code",
   "execution_count": 45,
   "metadata": {},
   "outputs": [
    {
     "data": {
      "text/plain": [
       "(array([0.66128284]),\n",
       " [7.14476062950844,\n",
       "  5.571476561062382,\n",
       "  6.388092191838009,\n",
       "  7.111041454955984,\n",
       "  5.709688088751654,\n",
       "  7.635675988393135,\n",
       "  6.398704906023607,\n",
       "  7.634966895232909,\n",
       "  5.5323294552382904,\n",
       "  7.25213387648342,\n",
       "  7.637340134833529,\n",
       "  6.403712492672814,\n",
       "  7.6411195800376985,\n",
       "  6.58719752627889,\n",
       "  7.63211815485602,\n",
       "  5.551963007057761,\n",
       "  7.2365629942625205,\n",
       "  6.3792808390349744,\n",
       "  5.7681608635888875,\n",
       "  8.176677538595538,\n",
       "  7.617815286622078,\n",
       "  9.181217590709501,\n",
       "  7.202063853169705,\n",
       "  7.6610536411452435,\n",
       "  9.566204842824874,\n",
       "  6.390204636574895,\n",
       "  5.557569524668433,\n",
       "  6.389991429676791,\n",
       "  7.5239765614058856,\n",
       "  5.778168475112681,\n",
       "  4.903183630929584,\n",
       "  5.702150088354353,\n",
       "  6.406827359578931,\n",
       "  5.069890469375505,\n",
       "  7.48684052644033,\n",
       "  6.4464665554402,\n",
       "  6.392467762521933,\n",
       "  6.459314361197478,\n",
       "  6.384156446173058,\n",
       "  5.7798835753531,\n",
       "  5.746825625734693,\n",
       "  5.641798021709846,\n",
       "  6.547100562461874,\n",
       "  6.479703388679902,\n",
       "  6.403895166886938,\n",
       "  6.282278800466532,\n",
       "  6.279355678064618,\n",
       "  5.784443854418176,\n",
       "  5.756735509692014,\n",
       "  6.266102166307474,\n",
       "  5.629450070133561,\n",
       "  6.649695278696349,\n",
       "  6.210838283246268,\n",
       "  5.321515475955046,\n",
       "  7.214525381726226,\n",
       "  7.185052857872163,\n",
       "  7.638749101303458,\n",
       "  6.400893765309814,\n",
       "  5.35275377027616,\n",
       "  7.143255658878522,\n",
       "  6.449012358898425,\n",
       "  6.631345091519012,\n",
       "  5.805955057799793,\n",
       "  7.503883750945209,\n",
       "  5.731972279892325,\n",
       "  5.72607171198679,\n",
       "  7.554077253168564,\n",
       "  7.259961940259963,\n",
       "  6.265117956453272,\n",
       "  7.596431069348923,\n",
       "  6.3994453525870805,\n",
       "  4.315054645226322,\n",
       "  5.656531876191525,\n",
       "  6.642545942623734,\n",
       "  7.229502355327863,\n",
       "  4.873582355622674,\n",
       "  5.717862370525656,\n",
       "  7.621740626495728,\n",
       "  9.311125412979322,\n",
       "  7.13623040251677,\n",
       "  6.247923707530251,\n",
       "  7.638048783460104,\n",
       "  7.164436655807597,\n",
       "  5.637413590171022,\n",
       "  5.463213038287812,\n",
       "  7.242670281822569,\n",
       "  7.6399334633439615,\n",
       "  7.615698836887104,\n",
       "  6.292219201990055,\n",
       "  7.227718761331632,\n",
       "  6.4518071153948995,\n",
       "  7.599672815185164,\n",
       "  5.721122687127574,\n",
       "  6.6193253049717455,\n",
       "  6.475255163323447,\n",
       "  6.273139669481809,\n",
       "  6.282287459834292,\n",
       "  6.3113753811064175,\n",
       "  6.3258976736818315,\n",
       "  6.390181089988682,\n",
       "  7.1501883624658324,\n",
       "  7.093733605812712,\n",
       "  6.49161223493617,\n",
       "  5.543879668700963,\n",
       "  7.636896346480339,\n",
       "  7.0924295854566335,\n",
       "  7.210159256398942])"
      ]
     },
     "execution_count": 45,
     "metadata": {},
     "output_type": "execute_result"
    }
   ],
   "source": [
    "train_q2_poly = q2_loo(model, sc_x_train, y_train)\n",
    "train_q2_poly"
   ]
  },
  {
   "cell_type": "code",
   "execution_count": 46,
   "metadata": {},
   "outputs": [
    {
     "data": {
      "text/plain": [
       "array([0.66128284])"
      ]
     },
     "execution_count": 46,
     "metadata": {},
     "output_type": "execute_result"
    }
   ],
   "source": [
    "poly = r2_score(y_train, train_q2_poly[1])\n",
    "poly"
   ]
  },
  {
   "cell_type": "code",
   "execution_count": 47,
   "metadata": {},
   "outputs": [
    {
     "data": {
      "text/plain": [
       "array([5.74009181, 5.67543606, 5.66591404, 6.26516707, 8.72865439,\n",
       "       7.64907924, 7.65207108, 5.71254286, 6.60541432, 5.59235713,\n",
       "       5.51889165, 7.66570817, 7.52516453, 6.48994632, 6.28872845,\n",
       "       6.18028802, 9.1082166 , 5.54457756, 4.75925001, 7.15066124,\n",
       "       6.3135409 , 7.65356069, 7.17019666, 4.4601281 , 7.66283423,\n",
       "       7.60402356, 5.68733934])"
      ]
     },
     "execution_count": 47,
     "metadata": {},
     "output_type": "execute_result"
    }
   ],
   "source": [
    "poly_test_pred = model.predict(sc_x_test)\n",
    "poly_test_pred"
   ]
  },
  {
   "cell_type": "code",
   "execution_count": 48,
   "metadata": {},
   "outputs": [
    {
     "data": {
      "text/plain": [
       "{'r2': array([0.66409456]),\n",
       " 'k': 0.9665832979389264,\n",
       " 'k_dash': 0.9144227505293239,\n",
       " 'r2r0': array([0.06242529]),\n",
       " 'r2r0_dash': array([0.77706877]),\n",
       " 'r0r0_dash': array([0.47459084]),\n",
       " 'rm2_bar': array([0.35795613]),\n",
       " 'd_rm2': array([0.34184667])}"
      ]
     },
     "execution_count": 48,
     "metadata": {},
     "output_type": "execute_result"
    }
   ],
   "source": [
    "poly_qsar = qsar_param(y_train, train_q2_poly[1], d_r2m=True)\n",
    "poly_qsar"
   ]
  },
  {
   "cell_type": "code",
   "execution_count": 49,
   "metadata": {},
   "outputs": [
    {
     "data": {
      "text/plain": [
       "{'r2': array([0.54195399]),\n",
       " 'k': 1.0544224077361342,\n",
       " 'k_dash': 0.816265987216336,\n",
       " 'r2r0': array([0.00755498]),\n",
       " 'r2r0_dash': array([0.32286144]),\n",
       " 'r0r0_dash': array([0.17088159]),\n",
       " 'rm2_bar': array([0.41126469]),\n",
       " 'd_rm2': array([0.19202161])}"
      ]
     },
     "execution_count": 49,
     "metadata": {},
     "output_type": "execute_result"
    }
   ],
   "source": [
    "poly_qsar = qsar_param(y_test, poly_test_pred, d_r2m=True)\n",
    "poly_qsar"
   ]
  },
  {
   "cell_type": "code",
   "execution_count": 50,
   "metadata": {
    "scrolled": true
   },
   "outputs": [
    {
     "data": {
      "text/plain": [
       "array([0.72289669])"
      ]
     },
     "execution_count": 50,
     "metadata": {},
     "output_type": "execute_result"
    }
   ],
   "source": [
    "poly_y = y_random(model, sc_x_train, y_train, n=10)\n",
    "poly_y"
   ]
  },
  {
   "cell_type": "code",
   "execution_count": 51,
   "metadata": {},
   "outputs": [
    {
     "name": "stdout",
     "output_type": "stream",
     "text": [
      "0.16822429906542055\n"
     ]
    },
    {
     "data": {
      "image/png": "[encoded data removed]",
      "text/plain": [
       "<Figure size 432x288 with 1 Axes>"
      ]
     },
     "metadata": {
      "needs_background": "light"
     },
     "output_type": "display_data"
    }
   ],
   "source": [
    "plt.title('Poly-Applicability domain')\n",
    "poly_AD = applicability_domain(sc_x_train, sc_x_test, y_train, train_q2_poly[1], y_test, poly_test_pred)\n",
    "poly_AD"
   ]
  },
  {
   "cell_type": "code",
   "execution_count": 52,
   "metadata": {},
   "outputs": [
    {
     "data": {
      "image/png": "[encoded data removed]",
      "text/plain": [
       "<Figure size 432x288 with 1 Axes>"
      ]
     },
     "metadata": {
      "needs_background": "light"
     },
     "output_type": "display_data"
    }
   ],
   "source": [
    "fig, ax = plt.subplots()\n",
    "ax.scatter(y_train, train_q2_poly[1], c='b',marker='o', label='training data')\n",
    "ax.scatter(y_test, poly_test_pred, c='r',marker='^', label='test data')\n",
    "ax.plot([0, 1], [0, 1], color=\"black\",transform=ax.transAxes)\n",
    "plt.title('Poly-Actual vs Predict')\n",
    "ax.set_xlabel('Predicted pIC50')\n",
    "ax.set_ylabel('Experimental pIC50')\n",
    "plt.show()"
   ]
  },
  {
   "cell_type": "code",
   "execution_count": 53,
   "metadata": {},
   "outputs": [
    {
     "data": {
      "text/plain": [
       "Text(0, 0.5, 'Residual')"
      ]
     },
     "execution_count": 53,
     "metadata": {},
     "output_type": "execute_result"
    },
    {
     "data": {
      "image/png": "[encoded data removed]",
      "text/plain": [
       "<Figure size 432x288 with 1 Axes>"
      ]
     },
     "metadata": {
      "needs_background": "light"
     },
     "output_type": "display_data"
    }
   ],
   "source": [
    "#dataframe to list\n",
    "r_train = pd.DataFrame(y_train).to_numpy()\n",
    "r_train_pred = pd.DataFrame(train_q2_poly[1]).to_numpy()\n",
    "r_test = pd.DataFrame(y_test).to_numpy()\n",
    "r_test_pred = pd.DataFrame(poly_test_pred).to_numpy()\n",
    "\n",
    "p_train = r_train-r_train_pred\n",
    "p_test = r_test-r_test_pred\n",
    "\n",
    "plt.axhline(y=0, c='k', linewidth=0.8, linestyle='--')\n",
    "plt.scatter(r_train, p_train, c='b',marker='o', label='training data')\n",
    "plt.scatter(r_test, p_test, c='r',marker='^', label='test data')\n",
    "plt.title(\"Poly-Actual vs Residual\")\n",
    "plt.xlabel(\"Predict Values\")\n",
    "plt.ylabel(\"Residual\")"
   ]
  },
  {
   "cell_type": "markdown",
   "metadata": {},
   "source": [
    "# SVR_Linear"
   ]
  },
  {
   "cell_type": "code",
   "execution_count": 54,
   "metadata": {},
   "outputs": [
    {
     "data": {
      "text/plain": [
       "SVR(C=1, cache_size=200, coef0=0.0, degree=1, epsilon=0.1, gamma='scale',\n",
       "    kernel='linear', max_iter=-1, shrinking=True, tol=0.001, verbose=False)"
      ]
     },
     "execution_count": 54,
     "metadata": {},
     "output_type": "execute_result"
    }
   ],
   "source": [
    "# Load Pickle linear\n",
    "params = pickle.load(open(\"l_data/params_linear_5.p\", \"rb\"))\n",
    "\n",
    "linear_desc5 = pickle.load(open(\"data/desc5.pkl\", \"rb\"))\n",
    "x_train = train.loc[:,linear_desc5].to_numpy()\n",
    "x_test = test.loc[:,linear_desc5].to_numpy()\n",
    "y_train = train.iloc[:,[-1]].to_numpy()\n",
    "y_test = test.iloc[:,[-1]].to_numpy()\n",
    "\n",
    "# minmax linear\n",
    "mmscaler = MinMaxScaler()\n",
    "mmscaler.fit(x_train)\n",
    "sc_x_train = mmscaler.transform(x_train)\n",
    "sc_x_test = mmscaler.transform(x_test)\n",
    "\n",
    "# model\n",
    "model = SVR(kernel = 'linear', C = params['C'],\n",
    "           degree = params['degree'],\n",
    "           epsilon = params['epsilon'])\n",
    "model.fit(sc_x_train, y_train)\n"
   ]
  },
  {
   "cell_type": "code",
   "execution_count": 55,
   "metadata": {},
   "outputs": [
    {
     "data": {
      "text/plain": [
       "(array([0.62755977]),\n",
       " [7.283979152023457,\n",
       "  5.958225570948217,\n",
       "  6.358316101281507,\n",
       "  7.222670938065232,\n",
       "  5.801439526037544,\n",
       "  7.650608916377179,\n",
       "  6.351358483170882,\n",
       "  7.652381426078563,\n",
       "  5.484023676875692,\n",
       "  7.487873943209535,\n",
       "  7.698266876711299,\n",
       "  6.353383923606027,\n",
       "  7.639186570611048,\n",
       "  6.417805200927994,\n",
       "  7.656898681374806,\n",
       "  5.469405526913698,\n",
       "  7.4853141049562275,\n",
       "  6.378355292912139,\n",
       "  5.838158090609617,\n",
       "  8.007848378620281,\n",
       "  7.67538578909539,\n",
       "  8.480559151749562,\n",
       "  7.219587100833342,\n",
       "  7.702248144996194,\n",
       "  8.679602041194535,\n",
       "  6.358765448691107,\n",
       "  5.503177739755573,\n",
       "  6.380371703426708,\n",
       "  7.7128021009993795,\n",
       "  5.623465722939555,\n",
       "  4.867932705908759,\n",
       "  5.820935292186754,\n",
       "  6.384248945433242,\n",
       "  5.349536576667663,\n",
       "  7.794583198344366,\n",
       "  6.394395108200092,\n",
       "  6.350285100016566,\n",
       "  6.399820524070666,\n",
       "  6.347942502629754,\n",
       "  5.780460886486665,\n",
       "  5.796200702337218,\n",
       "  5.822589069872323,\n",
       "  4.807799708916618,\n",
       "  6.4098433632102845,\n",
       "  6.3621598783063105,\n",
       "  6.133170432159492,\n",
       "  6.080606264218847,\n",
       "  5.7721738411708,\n",
       "  5.7910992489780035,\n",
       "  6.074808004591512,\n",
       "  5.506698441882668,\n",
       "  6.479924203299579,\n",
       "  6.106539697582483,\n",
       "  5.451749769062765,\n",
       "  7.480713510644273,\n",
       "  7.270075248425294,\n",
       "  7.644975765356183,\n",
       "  6.352520450777909,\n",
       "  5.444922836959332,\n",
       "  7.4705292203684355,\n",
       "  6.365604216206192,\n",
       "  6.469822963034117,\n",
       "  5.787678560846636,\n",
       "  7.786126213684985,\n",
       "  5.80232085647373,\n",
       "  5.8156641289367,\n",
       "  7.702325996937622,\n",
       "  7.489199764332222,\n",
       "  6.33893866641853,\n",
       "  7.691660117624191,\n",
       "  6.3827745046769975,\n",
       "  6.097090599363875,\n",
       "  5.816664041351931,\n",
       "  6.431549387194165,\n",
       "  7.369281674665245,\n",
       "  5.315442574110891,\n",
       "  5.810587760068872,\n",
       "  7.669931654013839,\n",
       "  8.715014498885756,\n",
       "  7.16327204584832,\n",
       "  6.103476896582894,\n",
       "  7.646943159089923,\n",
       "  7.485932707151072,\n",
       "  5.542373947630006,\n",
       "  5.846960028089549,\n",
       "  7.485845783755693,\n",
       "  7.642494210670277,\n",
       "  7.676905496000073,\n",
       "  6.358838460268761,\n",
       "  7.483617051574492,\n",
       "  6.374406600873948,\n",
       "  7.689799086080976,\n",
       "  5.78204976999411,\n",
       "  6.4154791460144205,\n",
       "  4.959065822068947,\n",
       "  6.122714766114756,\n",
       "  6.0983101140263525,\n",
       "  6.340871384435586,\n",
       "  6.365769700201878,\n",
       "  6.349767153025439,\n",
       "  7.483604571068781,\n",
       "  7.223162923905699,\n",
       "  6.416028772915929,\n",
       "  5.451234526640977,\n",
       "  7.6489978070932025,\n",
       "  7.259952152679798,\n",
       "  7.195881099837403])"
      ]
     },
     "execution_count": 55,
     "metadata": {},
     "output_type": "execute_result"
    }
   ],
   "source": [
    "train_q2_linear = q2_loo(model, sc_x_train, y_train)\n",
    "train_q2_linear"
   ]
  },
  {
   "cell_type": "code",
   "execution_count": 56,
   "metadata": {},
   "outputs": [],
   "source": [
    "# test_q2_linear = q2_loo(model, sc_x_test, y_train)\n",
    "# test_q2_linear"
   ]
  },
  {
   "cell_type": "code",
   "execution_count": 57,
   "metadata": {},
   "outputs": [
    {
     "data": {
      "text/plain": [
       "array([0.62755977])"
      ]
     },
     "execution_count": 57,
     "metadata": {},
     "output_type": "execute_result"
    }
   ],
   "source": [
    "linear = r2_score(y_train, train_q2_linear[1])\n",
    "linear"
   ]
  },
  {
   "cell_type": "code",
   "execution_count": 58,
   "metadata": {},
   "outputs": [
    {
     "data": {
      "text/plain": [
       "array([5.88912392, 5.80724508, 5.78931695, 6.10941954, 8.5940573 ,\n",
       "       7.69044567, 7.68773212, 5.78637447, 4.87985922, 5.52240921,\n",
       "       5.41415396, 7.67082355, 7.75078109, 6.38537514, 6.33641935,\n",
       "       6.07564181, 8.51737172, 5.47201485, 6.14046196, 7.27318865,\n",
       "       6.34162078, 7.68629982, 7.4704004 , 5.92777283, 7.67544984,\n",
       "       7.71905132, 5.78787853])"
      ]
     },
     "execution_count": 58,
     "metadata": {},
     "output_type": "execute_result"
    }
   ],
   "source": [
    "linear_test_pred = model.predict(sc_x_test)\n",
    "linear_test_pred"
   ]
  },
  {
   "cell_type": "code",
   "execution_count": 59,
   "metadata": {},
   "outputs": [
    {
     "data": {
      "text/plain": [
       "{'r2': array([0.62983193]),\n",
       " 'k': 0.884317277127801,\n",
       " 'k_dash': 1.0010096468291219,\n",
       " 'r2r0': array([0.00448586]),\n",
       " 'r2r0_dash': array([0.35456053]),\n",
       " 'r0r0_dash': array([0.22048821]),\n",
       " 'rm2_bar': array([0.46427602]),\n",
       " 'd_rm2': array([0.26415573])}"
      ]
     },
     "execution_count": 59,
     "metadata": {},
     "output_type": "execute_result"
    }
   ],
   "source": [
    "linear_qsar = qsar_param(y_train, train_q2_linear[1], d_r2m=True)\n",
    "linear_qsar"
   ]
  },
  {
   "cell_type": "code",
   "execution_count": 60,
   "metadata": {},
   "outputs": [
    {
     "data": {
      "text/plain": [
       "{'r2': array([0.59631513]),\n",
       " 'k': 1.0059902838410635,\n",
       " 'k_dash': 0.8701561733111568,\n",
       " 'r2r0': array([0.01636514]),\n",
       " 'r2r0_dash': array([0.14827825]),\n",
       " 'r0r0_dash': array([0.07866178]),\n",
       " 'rm2_bar': array([0.47820225]),\n",
       " 'd_rm2': array([0.11840994])}"
      ]
     },
     "execution_count": 60,
     "metadata": {},
     "output_type": "execute_result"
    }
   ],
   "source": [
    "linear_qsar = qsar_param(y_test, linear_test_pred, d_r2m=True)\n",
    "linear_qsar"
   ]
  },
  {
   "cell_type": "code",
   "execution_count": 61,
   "metadata": {
    "scrolled": true
   },
   "outputs": [
    {
     "data": {
      "text/plain": [
       "array([0.66067062])"
      ]
     },
     "execution_count": 61,
     "metadata": {},
     "output_type": "execute_result"
    }
   ],
   "source": [
    "linear_y = y_random(model, sc_x_train, y_train, n=10)\n",
    "linear_y"
   ]
  },
  {
   "cell_type": "code",
   "execution_count": 62,
   "metadata": {},
   "outputs": [
    {
     "name": "stdout",
     "output_type": "stream",
     "text": [
      "0.16822429906542055\n"
     ]
    },
    {
     "data": {
      "image/png": "[encoded data removed]",
      "text/plain": [
       "<Figure size 432x288 with 1 Axes>"
      ]
     },
     "metadata": {
      "needs_background": "light"
     },
     "output_type": "display_data"
    }
   ],
   "source": [
    "plt.title('Linear-Applicability domain')\n",
    "linear_AD = applicability_domain(sc_x_train, sc_x_test, y_train, train_q2_linear[1], y_test, linear_test_pred)\n",
    "linear_AD"
   ]
  },
  {
   "cell_type": "code",
   "execution_count": 63,
   "metadata": {},
   "outputs": [
    {
     "data": {
      "image/png": "[encoded data removed]",
      "text/plain": [
       "<Figure size 432x288 with 1 Axes>"
      ]
     },
     "metadata": {
      "needs_background": "light"
     },
     "output_type": "display_data"
    }
   ],
   "source": [
    "fig, ax = plt.subplots()\n",
    "ax.scatter(y_train, train_q2_linear[1], c='b',marker='o', label='training data')\n",
    "ax.scatter(y_test, linear_test_pred, c='r',marker='^', label='test data')\n",
    "ax.plot([0, 1], [0, 1], color=\"black\",transform=ax.transAxes)\n",
    "plt.title('Linear-Actual vs Predict')\n",
    "ax.set_xlabel('Predicted pIC50')\n",
    "ax.set_ylabel('Experimental pIC50')\n",
    "plt.show()"
   ]
  },
  {
   "cell_type": "code",
   "execution_count": 64,
   "metadata": {},
   "outputs": [
    {
     "data": {
      "text/plain": [
       "Text(0, 0.5, 'Residual')"
      ]
     },
     "execution_count": 64,
     "metadata": {},
     "output_type": "execute_result"
    },
    {
     "data": {
      "image/png": "[encoded data removed]",
      "text/plain": [
       "<Figure size 432x288 with 1 Axes>"
      ]
     },
     "metadata": {
      "needs_background": "light"
     },
     "output_type": "display_data"
    }
   ],
   "source": [
    "#dataframe to list\n",
    "r_train = pd.DataFrame(y_train).to_numpy()\n",
    "r_train_pred = pd.DataFrame(train_q2_linear[1]).to_numpy()\n",
    "r_test = pd.DataFrame(y_test).to_numpy()\n",
    "r_test_pred = pd.DataFrame(linear_test_pred).to_numpy()\n",
    "\n",
    "l_train = r_train-r_train_pred\n",
    "l_test = r_test-r_test_pred\n",
    "\n",
    "plt.axhline(y=0, c='k', linewidth=0.8, linestyle='--')\n",
    "plt.scatter(r_train, l_train, c='b',marker='o', label='training data')\n",
    "plt.scatter(r_test, l_test, c='r',marker='^', label='test data')\n",
    "plt.title(\"Linear-Actual vs Residual\")\n",
    "plt.xlabel(\"Predict Values\")\n",
    "plt.ylabel(\"Residual\")"
   ]
  }
 ],
 "metadata": {
  "kernelspec": {
   "display_name": "Python 3",
   "language": "python",
   "name": "python3"
  },
  "language_info": {
   "codemirror_mode": {
    "name": "ipython",
    "version": 3
   },
   "file_extension": ".py",
   "mimetype": "text/x-python",
   "name": "python",
   "nbconvert_exporter": "python",
   "pygments_lexer": "ipython3",
   "version": "3.7.6"
  }
 },
 "nbformat": 4,
 "nbformat_minor": 4
}
