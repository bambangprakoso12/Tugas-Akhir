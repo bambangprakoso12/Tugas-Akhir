{
 "cells": [
  {
   "cell_type": "code",
   "execution_count": 1,
   "metadata": {},
   "outputs": [],
   "source": [
    "import numpy as np\n",
    "import pandas as pd\n",
    "from sklearn.model_selection import train_test_split\n",
    "from sklearn.model_selection import GridSearchCV\n",
    "from sklearn.preprocessing import MinMaxScaler\n",
    "from sklearn.svm import SVR\n",
    "from sklearn.metrics import r2_score,mean_squared_error\n",
    "import seaborn as sns\n",
    "import matplotlib.pyplot as plt\n",
    "import pickle"
   ]
  },
  {
   "cell_type": "code",
   "execution_count": 2,
   "metadata": {},
   "outputs": [],
   "source": [
    "# Load Data Train csv\n",
    "train = pd.read_csv(r'data/new_train.csv')\n",
    "test = pd.read_csv(r'data/new_test.csv')"
   ]
  },
  {
   "cell_type": "code",
   "execution_count": 3,
   "metadata": {},
   "outputs": [],
   "source": [
    "# Load Pickle \n",
    "label_10 = pickle.load(open(\"data/desc_10.pkl\", \"rb\"))"
   ]
  },
  {
   "cell_type": "code",
   "execution_count": 4,
   "metadata": {},
   "outputs": [
    {
     "data": {
      "text/plain": [
       "['MATS8i',\n",
       " 'GATS7i',\n",
       " 'VCH-6',\n",
       " 'nssAsH',\n",
       " 'SdssC',\n",
       " 'SddsAs',\n",
       " 'minssssBem',\n",
       " 'maxsPH2',\n",
       " 'nAtomLAC',\n",
       " 'TDB6e']"
      ]
     },
     "execution_count": 4,
     "metadata": {},
     "output_type": "execute_result"
    }
   ],
   "source": [
    "label_10"
   ]
  },
  {
   "cell_type": "code",
   "execution_count": 5,
   "metadata": {},
   "outputs": [],
   "source": [
    "x_train = train.loc[:,label_10]\n",
    "x_test = test.loc[:,label_10]\n",
    "y_train = train.iloc[:,[-1]]\n",
    "y_test = test.iloc[:,[-1]]"
   ]
  },
  {
   "cell_type": "code",
   "execution_count": 6,
   "metadata": {
    "scrolled": true
   },
   "outputs": [
    {
     "data": {
      "text/plain": [
       "((107, 10),\n",
       " (27, 10),\n",
       "      pIC50\n",
       " 0    6.374\n",
       " 1    5.678\n",
       " 2    8.000\n",
       " 3    6.824\n",
       " 4    8.108\n",
       " ..     ...\n",
       " 102  7.387\n",
       " 103  6.821\n",
       " 104  6.652\n",
       " 105  5.958\n",
       " 106  5.509\n",
       " \n",
       " [107 rows x 1 columns],\n",
       "     pIC50\n",
       " 0   6.228\n",
       " 1   7.569\n",
       " 2   8.201\n",
       " 3   7.081\n",
       " 4   7.796\n",
       " 5   5.602\n",
       " 6   6.167\n",
       " 7   7.026\n",
       " 8   6.358\n",
       " 9   8.319\n",
       " 10  5.469\n",
       " 11  7.921\n",
       " 12  5.051\n",
       " 13  6.066\n",
       " 14  8.658\n",
       " 15  6.292\n",
       " 16  5.886\n",
       " 17  7.301\n",
       " 18  6.393\n",
       " 19  8.167\n",
       " 20  6.114\n",
       " 21  5.745\n",
       " 22  6.215\n",
       " 23  7.221\n",
       " 24  8.495\n",
       " 25  8.456\n",
       " 26  6.541)"
      ]
     },
     "execution_count": 6,
     "metadata": {},
     "output_type": "execute_result"
    }
   ],
   "source": [
    "x_train.shape, x_test.shape, y_train, y_test"
   ]
  },
  {
   "cell_type": "code",
   "execution_count": 7,
   "metadata": {},
   "outputs": [],
   "source": [
    "mmscaler = MinMaxScaler()\n",
    "mmscaler.fit(x_train)\n",
    "sc_x_train = mmscaler.transform(x_train)\n",
    "sc_x_test = mmscaler.transform(x_test)"
   ]
  },
  {
   "cell_type": "code",
   "execution_count": 8,
   "metadata": {},
   "outputs": [],
   "source": [
    "paramgrid = {\n",
    "    'C' : [0.1,1,10,100,1000],\n",
    "    'gamma' : ['auto','scale'],\n",
    "    'epsilon' : [0.1,1,10,100,1000]\n",
    "}"
   ]
  },
  {
   "cell_type": "code",
   "execution_count": 9,
   "metadata": {},
   "outputs": [
    {
     "name": "stderr",
     "output_type": "stream",
     "text": [
      "C:\\Users\\Bams\\anaconda3\\lib\\site-packages\\sklearn\\utils\\validation.py:760: DataConversionWarning: A column-vector y was passed when a 1d array was expected. Please change the shape of y to (n_samples, ), for example using ravel().\n",
      "  y = column_or_1d(y, warn=True)\n"
     ]
    },
    {
     "data": {
      "text/plain": [
       "GridSearchCV(cv=5, error_score=nan,\n",
       "             estimator=SVR(C=1.0, cache_size=200, coef0=0.0, degree=3,\n",
       "                           epsilon=0.1, gamma='scale', kernel='rbf',\n",
       "                           max_iter=-1, shrinking=True, tol=0.001,\n",
       "                           verbose=False),\n",
       "             iid='deprecated', n_jobs=-1,\n",
       "             param_grid={'C': [0.1, 1, 10, 100, 1000],\n",
       "                         'epsilon': [0.1, 1, 10, 100, 1000],\n",
       "                         'gamma': ['auto', 'scale']},\n",
       "             pre_dispatch='2*n_jobs', refit=True, return_train_score=False,\n",
       "             scoring='neg_mean_squared_error', verbose=0)"
      ]
     },
     "execution_count": 9,
     "metadata": {},
     "output_type": "execute_result"
    }
   ],
   "source": [
    "grid = GridSearchCV(\n",
    "        estimator = SVR(kernel = 'rbf'),\n",
    "        param_grid = paramgrid,\n",
    "        cv = 5,\n",
    "        scoring = 'neg_mean_squared_error',\n",
    "        n_jobs = -1\n",
    ")\n",
    "grid.fit(sc_x_train, y_train)"
   ]
  },
  {
   "cell_type": "code",
   "execution_count": 10,
   "metadata": {},
   "outputs": [
    {
     "data": {
      "text/plain": [
       "{'C': 1, 'epsilon': 0.1, 'gamma': 'scale'}"
      ]
     },
     "execution_count": 10,
     "metadata": {},
     "output_type": "execute_result"
    }
   ],
   "source": [
    "grid.best_params_"
   ]
  },
  {
   "cell_type": "code",
   "execution_count": 11,
   "metadata": {},
   "outputs": [],
   "source": [
    "pickle.dump(grid.best_params_, open( \"r_data/rbf_params_desc_10.p\", \"wb\" ))"
   ]
  },
  {
   "cell_type": "code",
   "execution_count": 12,
   "metadata": {},
   "outputs": [
    {
     "name": "stderr",
     "output_type": "stream",
     "text": [
      "C:\\Users\\Bams\\anaconda3\\lib\\site-packages\\sklearn\\utils\\validation.py:760: DataConversionWarning: A column-vector y was passed when a 1d array was expected. Please change the shape of y to (n_samples, ), for example using ravel().\n",
      "  y = column_or_1d(y, warn=True)\n"
     ]
    },
    {
     "data": {
      "text/plain": [
       "SVR(C=1, cache_size=200, coef0=0.0, degree=3, epsilon=0.1, gamma='scale',\n",
       "    kernel='rbf', max_iter=-1, shrinking=True, tol=0.001, verbose=False)"
      ]
     },
     "execution_count": 12,
     "metadata": {},
     "output_type": "execute_result"
    }
   ],
   "source": [
    "# model\n",
    "model = SVR(kernel = 'rbf', C = grid.best_params_['C'],\n",
    "           gamma = grid.best_params_['gamma'],\n",
    "           epsilon = grid.best_params_['epsilon'])\n",
    "model.fit(sc_x_train, y_train)"
   ]
  },
  {
   "cell_type": "code",
   "execution_count": 13,
   "metadata": {},
   "outputs": [],
   "source": [
    "y_train_pred = model.predict(sc_x_train)\n",
    "y_test_pred = model.predict(sc_x_test)"
   ]
  },
  {
   "cell_type": "code",
   "execution_count": 14,
   "metadata": {},
   "outputs": [],
   "source": [
    "train_r2 = r2_score(y_train, y_train_pred)\n",
    "test_r2 = r2_score(y_test, y_test_pred)"
   ]
  },
  {
   "cell_type": "code",
   "execution_count": 15,
   "metadata": {},
   "outputs": [
    {
     "data": {
      "text/plain": [
       "0.7216140059673426"
      ]
     },
     "execution_count": 15,
     "metadata": {},
     "output_type": "execute_result"
    }
   ],
   "source": [
    "train_r2"
   ]
  },
  {
   "cell_type": "code",
   "execution_count": 16,
   "metadata": {},
   "outputs": [],
   "source": [
    "pickle.dump(train_r2, open( \"r_data/train_rbf_10.p\", \"wb\" ))"
   ]
  },
  {
   "cell_type": "code",
   "execution_count": 17,
   "metadata": {},
   "outputs": [
    {
     "data": {
      "text/plain": [
       "0.6717825216851132"
      ]
     },
     "execution_count": 17,
     "metadata": {},
     "output_type": "execute_result"
    }
   ],
   "source": [
    "test_r2"
   ]
  },
  {
   "cell_type": "code",
   "execution_count": 18,
   "metadata": {},
   "outputs": [],
   "source": [
    "pickle.dump(test_r2, open( \"r_data/test_rbf_10.p\", \"wb\" ))"
   ]
  },
  {
   "cell_type": "code",
   "execution_count": 19,
   "metadata": {},
   "outputs": [],
   "source": [
    "# Load Pickle \n",
    "params5 = pickle.load(open(\"r_data/rbf_params_desc_5.p\", \"rb\"))\n",
    "train_rbf5 = pickle.load(open(\"r_data/train_rbf_5.p\", \"rb\"))\n",
    "test_rbf5 = pickle.load(open(\"r_data/test_rbf_5.p\", \"rb\"))\n",
    "\n",
    "params10 = pickle.load(open(\"r_data/rbf_params_desc_10.p\", \"rb\"))\n",
    "train_rbf10 = pickle.load(open(\"r_data/train_rbf_10.p\", \"rb\"))\n",
    "test_rbf10 = pickle.load(open(\"r_data/test_rbf_10.p\", \"rb\"))\n",
    "\n",
    "params15 = pickle.load(open(\"r_data/rbf_params_desc_15.p\", \"rb\"))\n",
    "train_rbf15 = pickle.load(open(\"r_data/train_rbf_15.p\", \"rb\"))\n",
    "test_rbf15 = pickle.load(open(\"r_data/test_rbf_15.p\", \"rb\"))\n",
    "\n",
    "params20 = pickle.load(open(\"r_data/rbf_params_desc_20.p\", \"rb\"))\n",
    "train_rbf20 = pickle.load(open(\"r_data/train_rbf_20.p\", \"rb\"))\n",
    "test_rbf20 = pickle.load(open(\"r_data/test_rbf_20.p\", \"rb\"))\n",
    "\n",
    "params25 = pickle.load(open(\"r_data/rbf_params_desc_25.p\", \"rb\"))\n",
    "train_rbf25 = pickle.load(open(\"r_data/train_rbf_25.p\", \"rb\"))\n",
    "test_rbf25 = pickle.load(open(\"r_data/test_rbf_25.p\", \"rb\"))"
   ]
  },
  {
   "cell_type": "code",
   "execution_count": 20,
   "metadata": {},
   "outputs": [
    {
     "data": {
      "text/plain": [
       "({'C': 10, 'epsilon': 0.1, 'gamma': 'auto'},\n",
       " 0.529229479726216,\n",
       " 0.5311655328369775)"
      ]
     },
     "execution_count": 20,
     "metadata": {},
     "output_type": "execute_result"
    }
   ],
   "source": [
    "params5, train_rbf5, test_rbf5"
   ]
  },
  {
   "cell_type": "code",
   "execution_count": 21,
   "metadata": {},
   "outputs": [
    {
     "data": {
      "text/plain": [
       "({'C': 1, 'epsilon': 0.1, 'gamma': 'scale'},\n",
       " 0.7216140059673426,\n",
       " 0.6717825216851132)"
      ]
     },
     "execution_count": 21,
     "metadata": {},
     "output_type": "execute_result"
    }
   ],
   "source": [
    "params10, train_rbf10, test_rbf10"
   ]
  },
  {
   "cell_type": "code",
   "execution_count": 22,
   "metadata": {},
   "outputs": [
    {
     "data": {
      "text/plain": [
       "({'C': 1, 'epsilon': 0.1, 'gamma': 'scale'},\n",
       " 0.8417824578187709,\n",
       " 0.8364965167789107)"
      ]
     },
     "execution_count": 22,
     "metadata": {},
     "output_type": "execute_result"
    }
   ],
   "source": [
    "params15, train_rbf15, test_rbf15"
   ]
  },
  {
   "cell_type": "code",
   "execution_count": 23,
   "metadata": {},
   "outputs": [
    {
     "data": {
      "text/plain": [
       "({'C': 10, 'epsilon': 0.1, 'gamma': 'scale'},\n",
       " 0.92175931352501,\n",
       " 0.7564997260630253)"
      ]
     },
     "execution_count": 23,
     "metadata": {},
     "output_type": "execute_result"
    }
   ],
   "source": [
    "params20, train_rbf20, test_rbf20"
   ]
  },
  {
   "cell_type": "code",
   "execution_count": 24,
   "metadata": {},
   "outputs": [
    {
     "data": {
      "text/plain": [
       "({'C': 1, 'epsilon': 0.1, 'gamma': 'scale'},\n",
       " 0.7597027991621441,\n",
       " 0.7566834406821884)"
      ]
     },
     "execution_count": 24,
     "metadata": {},
     "output_type": "execute_result"
    }
   ],
   "source": [
    "params25, train_rbf25, test_rbf25"
   ]
  }
 ],
 "metadata": {
  "kernelspec": {
   "display_name": "Python 3",
   "language": "python",
   "name": "python3"
  },
  "language_info": {
   "codemirror_mode": {
    "name": "ipython",
    "version": 3
   },
   "file_extension": ".py",
   "mimetype": "text/x-python",
   "name": "python",
   "nbconvert_exporter": "python",
   "pygments_lexer": "ipython3",
   "version": "3.7.6"
  }
 },
 "nbformat": 4,
 "nbformat_minor": 4
}
